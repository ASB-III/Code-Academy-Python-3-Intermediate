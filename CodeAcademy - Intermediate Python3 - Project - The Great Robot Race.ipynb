{
 "cells": [
  {
   "cell_type": "markdown",
   "metadata": {},
   "source": [
    "# The Great Robot Race\n",
    "The brushless motors are roaring, and the race is about to begin! In this project, we will be using some of the advanced containers in Python to command, track, and score simple robots which are trying to traverse different mazes. Your job will be to fill in the missing code from the robot_race.py file. A lot of background code has been provided in the robot_race_functions.py file which we will be using, but the primary focus of this project is to use advanced collections in a meaningful way. Click start to begin!"
   ]
  },
  {
   "cell_type": "markdown",
   "metadata": {},
   "source": [
    "## Tasks\n",
    "\n",
    "#### 1. Let’s start by taking a look at what the mazes files look like!\n",
    "\n",
    "This one is maze_data_1.csv:"
   ]
  },
  {
   "cell_type": "code",
   "execution_count": null,
   "metadata": {},
   "outputs": [],
   "source": [
    "#,#,#,#,#,#,#,#,#,#\n",
    "#,_,_,_,#,_,_,_,$,#\n",
    "#,_,A,_,_,_,#,_,_,#\n",
    "#,B,_,_,#,_,#,_,_,#\n",
    "#,_,C,_,#,_,_,_,_,#\n",
    "#,#,#,#,#,#,#,#,#,#"
   ]
  },
  {
   "cell_type": "markdown",
   "metadata": {},
   "source": [
    "The mazes are csv files which contain different characters that represent different objects in the robot race. Any letter represents a robot, the # character represents a wall which the robots can collide with, and the $ is the goal which the robots are racing towards. Robots can traverse into any empty space (shown by an _) and they can even occupy the same space as another robot (shown as a +). At any point during this project, feel free to create your own csv maze and use it in the code instead of the example ones.\n",
    "\n",
    "\n",
    "<b>Hint</b><br>\n",
    "To add files, select the folder icon in the code then select the file add icon. New map data csv files can be created. Remember to replace the name of the file which is loaded at the beginning of the robot_race.py code.\n",
    "\n",
    "### 2. Now take a look at the robot_race.py file. After importing the required modules and classes, there are some values to take note of at the top of the file. The maze_file_name can be changed to any csv file which follows the maze structure (as defined earlier). The seconds_between_turns value will determine how much time passes between updating the visualized maze in the console (which we will be coding during the project). Finally, the max_turns value determines how many turns the robots have before the race ends. The race will end if the max turns are reached or if all of the robots reach the goal.\n",
    "\n",
    "The robots will be scored based on the amount of moves they make plus the number of collisions they have with the walls. The robot with the lowest score wins.\n",
    "\n",
    "\n",
    "<B>Hint</b><br>\n",
    "To view the other files, select the folder icon in the code editor and select which file you want to view.\n",
    "\n",
    "### 3. Throughout this project, run the code in the terminal by using the command: python3 robot_race.py"
   ]
  },
  {
   "cell_type": "markdown",
   "metadata": {},
   "source": [
    "4.\n",
    "To begin, we are going to use the provided compute_robot_logic function from robot_race_functions.py to calculate every move for every robot which has not finished the maze yet. This function accepts the walls, goal, and robots variables in that order and returns a tuple containing the robot name, selected action, and if the robot has collided.\n",
    "\n",
    "5.\n",
    "The first while loop iterates until the race is over. Inside of this, loop through every bot which has not finished the race yet (bot.has_finished == False). Pass the walls, goal, and robot to the compute_robot_logic function in that order. This will return the robot’s decision given its position in the map in the form of a tuple containing (robot_name, action, has_collided). Append the robot’s decision to the robot_moves deque.\n",
    "\n",
    "\n",
    "Hint\n",
    "Within the for loop which iterates through every robot which has not finished the maze yet, appending the computed command to the deque could look like:"
   ]
  },
  {
   "cell_type": "code",
   "execution_count": null,
   "metadata": {},
   "outputs": [],
   "source": [
    "robot_moves.append(rr.compute_robot_logic(walls, goal, bot))"
   ]
  },
  {
   "cell_type": "markdown",
   "metadata": {},
   "source": [
    "Scoring the Bots\n",
    "6.\n",
    "Now that all robots’ moves have been calculated, we can use that data and the Counter container to find the exact number of moves that each robot makes using one line of code! This should count every name (the first element in the move tuple) for every move in the deque.\n",
    "\n",
    "\n",
    "Hint\n",
    "In order to automatically count the number of moves based on the robot names, we can count based on number of occurances of each robot name in the robot_moves deque.\n",
    "\n",
    "The Counter constructor could look like:"
   ]
  },
  {
   "cell_type": "code",
   "execution_count": null,
   "metadata": {},
   "outputs": [],
   "source": [
    "Counter(move[0] for move in robot_moves)"
   ]
  },
  {
   "cell_type": "markdown",
   "metadata": {},
   "source": [
    "7.\n",
    "We can use the Counter container to count how many collisions each robot made as well. To do this, make sure to only count the robot name when has_collided is True in each move tuple within the robot_moves deque.\n",
    "\n",
    "\n",
    "Hint\n",
    "To count while checking if a collision occurred, we need to test if the third element of the move tuple is True. This is similar to the last step, but it includes a conditional statement as well:\n",
    "\n",
    "The constructor could look like:"
   ]
  },
  {
   "cell_type": "code",
   "execution_count": null,
   "metadata": {},
   "outputs": [],
   "source": [
    "Counter(move[0] for move in robot_moves if move[2] == True)"
   ]
  },
  {
   "cell_type": "markdown",
   "metadata": {},
   "source": [
    "8.\n",
    "Since we have the move and collision count for each robot, we can now calculate the final scores for each bot. In order to make it easier to read, let’s create a namedtuple to keep track of our bot score data. Create a namedtuple subclass called BotScoreData which contains the field names: 'name', 'num_moves', 'num_collisions', and 'score'.\n",
    "\n",
    "\n",
    "Hint\n",
    "Remember, in order to create a namedtuple subclass, we use the constructor: `namedtuple(‘typename’, [‘field_name_1’, ‘field_name_2’, etc.])\n",
    "\n",
    "9.\n",
    "Loop through each of the robots in bots, and for every robot, create a new BotScoreData object containing all the correct data. Append this new object to the bot_scores list. Remember that the score for each robot is found by adding the number of moves and the number of collisions. Try calling the print_results function using the bot_scores and see what’s printed to the console. You should see the final results of the race in the terminal, but now let’s watch them actively move through the maze!\n",
    "\n",
    "\n",
    "Hint\n",
    "Remember to calculate the score for each robot by adding each bot’s collisions and number of movements. Create a new object of the robot scoring namedtuple subclass which was created and append it to the bot_scores list.\n",
    "\n",
    "This could look like:"
   ]
  },
  {
   "cell_type": "code",
   "execution_count": null,
   "metadata": {},
   "outputs": [],
   "source": [
    "bot_scores.append(BotScoreData(bot.name, move_count, collision_count, move_count + collision_count))"
   ]
  },
  {
   "cell_type": "markdown",
   "metadata": {},
   "source": [
    "Displaying the Live Race\n",
    "10.\n",
    "To watch the robots travel through the maze, let’s start by creating a dict which allow us to easily access each robot object by its name when looking at the different moves in the deque. Loop through every robot in bots and add it to bot_data using the robot name as the key and the robot object as the value.\n",
    "\n",
    "\n",
    "Hint\n",
    "Use a for loop to iterate through each bot in bots. Inside of this loop, the robot can be added to the dictionary by name using:"
   ]
  },
  {
   "cell_type": "code",
   "execution_count": null,
   "metadata": {},
   "outputs": [],
   "source": [
    "bot_data[bot.name] = bot"
   ]
  },
  {
   "cell_type": "markdown",
   "metadata": {},
   "source": [
    "11.\n",
    "Create a loop which continues while moves still exist in the robot_moves deque. For every iteration, pop the move from the front of the deque and call the process_move method on the bot accessed from the bot_data. The process_move accepts a string which represents an action. This is found in the second element of each move tuple from the robot_moves deque (move[1]).\n",
    "\n",
    "The next three lines of code update the character maze with the new robot positions, prints the maze, and pauses the program briefly based on the settings from the top of the script.\n",
    "\n",
    "\n",
    "Hint\n",
    "Use a while loop which continues as long as the length of robot_moves is greater than 0. In this loop, pop the next move from the front of the moves deque and use the bot name (move[0]) to access the bot and .process() the action (move[1]).\n",
    "\n",
    "This could look like:"
   ]
  },
  {
   "cell_type": "code",
   "execution_count": null,
   "metadata": {},
   "outputs": [],
   "source": [
    "bot_name, direction, has_collided = robot_moves.popleft()\n",
    "bot_data[bot_name].process_move(direction)"
   ]
  },
  {
   "cell_type": "markdown",
   "metadata": {},
   "source": [
    "12.\n",
    "Finally, remove the call to rr.print_results(bot_scores) from earlier in the code and place it at the end of the code to see the final results after the race!\n",
    "\n",
    "13.\n",
    "In the terminal, type python3 robot_race.py in order to watch the robots race and see the final results. Try the other mazes, make some new ones, and change the settings at the top of robot_race.py Great job completing the project!\n",
    "\n"
   ]
  },
  {
   "cell_type": "markdown",
   "metadata": {},
   "source": [
    "# maze_data_1.csv"
   ]
  },
  {
   "cell_type": "code",
   "execution_count": 3,
   "metadata": {},
   "outputs": [],
   "source": [
    "#,#,#,#,#,#,#,#,#,#\n",
    "#,_,_,_,#,_,_,_,$,#\n",
    "#,_,A,_,_,_,#,_,_,#\n",
    "#,B,_,_,#,_,#,_,_,#\n",
    "#,_,C,_,#,_,_,_,_,#\n",
    "#,#,#,#,#,#,#,#,#,#"
   ]
  },
  {
   "cell_type": "markdown",
   "metadata": {},
   "source": [
    "# robot_race_functions.py"
   ]
  },
  {
   "cell_type": "code",
   "execution_count": 4,
   "metadata": {},
   "outputs": [],
   "source": [
    "import csv\n",
    "import random as rand\n",
    "\n",
    "\n",
    "def read_maze(name):\n",
    "    maze_chars = []\n",
    "    with open(name, 'r') as csvfile:\n",
    "        r = csv.reader(csvfile)\n",
    "        for row in r:\n",
    "            maze_chars.append(row)\n",
    "    return maze_chars\n",
    "\n",
    "\n",
    "def print_maze(maze_data):\n",
    "    for row in maze_data:\n",
    "        printed_row = ''\n",
    "        for col in row:\n",
    "            printed_row += col + '  '\n",
    "        print(printed_row)\n",
    "    print('\\n')\n",
    "\n",
    "def is_race_over(bots):\n",
    "    done = True\n",
    "    for bot in bots:\n",
    "        if not bot.has_finished:\n",
    "            done = False\n",
    "    return done\n",
    "\n",
    "\n",
    "def print_results(bot_score_data):\n",
    "    bot_score_data.sort(key=lambda b: b.score)\n",
    "    place = 1\n",
    "    print(\"----- RESULTS -----\")\n",
    "    for score_data in bot_score_data:\n",
    "        print(str(place) + '. Robot: ' + str(score_data.name))\n",
    "        print('  ' +  'Score: ' + str(score_data.score) + ' Moves: ' + str(score_data.num_moves) + ' Collisions: ' + str(score_data.num_collisions))\n",
    "        place += 1\n",
    "\n",
    "\n",
    "def process_maze_init(maze_data):\n",
    "    walls = []\n",
    "    goal = None\n",
    "    bots = []\n",
    "    for r, row in enumerate(maze_data):\n",
    "        for c, col in enumerate(row):\n",
    "            if col == '#':\n",
    "                walls.append(Wall(c,r))\n",
    "            elif col == '$':\n",
    "                goal = Goal(c,r)\n",
    "            elif col.isalpha():\n",
    "                bots.append(Robot(c,r, col))\n",
    "    return [walls, goal, bots]\n",
    "\n",
    "\n",
    "def compute_robot_logic(walls, goal, bot):\n",
    "    moves = [(-1, 0), (1, 0), (0, -1), (0, 1)]\n",
    "    move_names = {(-1, 0): 'left', (1, 0): 'right', (0, -1): 'down', (0, 1): 'up', (0, 0): 'nothing'}\n",
    "\n",
    "    selected_move = moves[rand.randint(0,3)]\n",
    "    move_dist = []\n",
    "    for m, move in enumerate(moves):\n",
    "        dist = calc_manhattan_dist(bot.calc_x + move[0], bot.calc_y + move[1], goal.x, goal.y)\n",
    "        move_dist.append([m,dist])\n",
    "    move_dist.sort(key=lambda x: x[1])\n",
    "    if rand.random() < 0.45:\n",
    "        selected_move = moves[move_dist[0][0]]\n",
    "\n",
    "    hit_wall = False\n",
    "    for wall in walls:\n",
    "        if bot.calc_x + selected_move[0] == wall.x and bot.calc_y + selected_move[1] == wall.y:\n",
    "            hit_wall = True\n",
    "\n",
    "    found_alternate_move = False\n",
    "    if hit_wall:\n",
    "        for next_move in move_dist:\n",
    "            move = moves[next_move[0]]\n",
    "            hit_wall_move = False\n",
    "            for wall in walls:\n",
    "                if bot.calc_x + move[0] == wall.x and bot.calc_y + move[1] == wall.y:\n",
    "                    hit_wall_move = True\n",
    "\n",
    "            if not hit_wall_move:\n",
    "                selected_move = move\n",
    "                found_alternate_move = True\n",
    "                break\n",
    "\n",
    "        if not found_alternate_move:\n",
    "            selected_move = (0,0)\n",
    "\n",
    "    if bot.calc_x + selected_move[0] == goal.x and bot.calc_y + selected_move[1] == goal.y:\n",
    "        bot.has_finished = True\n",
    "        bot.calc_x += selected_move[0]\n",
    "        bot.calc_y += selected_move[1]\n",
    "        return bot.name, 'finished', hit_wall\n",
    "\n",
    "    bot.calc_x += selected_move[0]\n",
    "    bot.calc_y += selected_move[1]\n",
    "    return bot.name, move_names[selected_move], hit_wall\n",
    "\n",
    "\n",
    "def update_maze_characters(old_maze_chars, bots):\n",
    "    to_replace = []\n",
    "    for r, row in enumerate(old_maze_chars):\n",
    "        for c, col in enumerate(row):\n",
    "            if col.isalpha() or col == '+':\n",
    "                to_replace.append((c,r))\n",
    "    for elem in to_replace:\n",
    "        old_maze_chars[elem[1]][elem[0]] = '_'\n",
    "    for bot in bots:\n",
    "        if not bot.remove:\n",
    "            if old_maze_chars[bot.y][bot.x].isalpha():\n",
    "                old_maze_chars[bot.y][bot.x] = '+'\n",
    "            else:\n",
    "                old_maze_chars[bot.y][bot.x] = bot.name\n",
    "\n",
    "\n",
    "def calc_manhattan_dist(x1, y1, x2, y2):\n",
    "    return abs(x1 - x2) + abs(y1 - y2)\n",
    "\n",
    "\n",
    "class Robot:\n",
    "    def __init__(self, x, y, name):\n",
    "        self.x = x\n",
    "        self.calc_x = x\n",
    "        self.y = y\n",
    "        self.calc_y = y\n",
    "        self.has_finished = False\n",
    "        self.remove = False\n",
    "        self.name = name\n",
    "\n",
    "    def process_move(self, direction):\n",
    "        if direction == 'left':\n",
    "            self.x += -1\n",
    "        if direction == 'right':\n",
    "            self.x += 1\n",
    "        if direction == 'up':\n",
    "            self.y += 1\n",
    "        if direction == 'down':\n",
    "            self.y += -1\n",
    "        if direction == 'finished':\n",
    "            self.remove = True\n",
    "\n",
    "\n",
    "class Wall:\n",
    "    def __init__(self, x, y):\n",
    "        self.x = x\n",
    "        self.y = y\n",
    "\n",
    "\n",
    "class Goal:\n",
    "    def __init__(self, x, y):\n",
    "        self.x = x\n",
    "        self.y = y"
   ]
  },
  {
   "cell_type": "markdown",
   "metadata": {},
   "source": [
    "# robot_race.py"
   ]
  },
  {
   "cell_type": "code",
   "execution_count": 6,
   "metadata": {},
   "outputs": [
    {
     "ename": "ModuleNotFoundError",
     "evalue": "No module named 'robot_race_functions'",
     "output_type": "error",
     "traceback": [
      "\u001b[1;31m---------------------------------------------------------------------------\u001b[0m",
      "\u001b[1;31mModuleNotFoundError\u001b[0m                       Traceback (most recent call last)",
      "\u001b[1;32m~\\AppData\\Local\\Temp/ipykernel_21580/1322803369.py\u001b[0m in \u001b[0;36m<module>\u001b[1;34m\u001b[0m\n\u001b[1;32m----> 1\u001b[1;33m \u001b[1;32mimport\u001b[0m \u001b[0mrobot_race_functions\u001b[0m \u001b[1;32mas\u001b[0m \u001b[0mrr\u001b[0m\u001b[1;33m\u001b[0m\u001b[1;33m\u001b[0m\u001b[0m\n\u001b[0m\u001b[0;32m      2\u001b[0m \u001b[1;32mfrom\u001b[0m \u001b[0mcollections\u001b[0m \u001b[1;32mimport\u001b[0m \u001b[0mdeque\u001b[0m\u001b[1;33m,\u001b[0m \u001b[0mCounter\u001b[0m\u001b[1;33m,\u001b[0m \u001b[0mnamedtuple\u001b[0m\u001b[1;33m\u001b[0m\u001b[1;33m\u001b[0m\u001b[0m\n\u001b[0;32m      3\u001b[0m \u001b[1;32mfrom\u001b[0m \u001b[0mtime\u001b[0m \u001b[1;32mimport\u001b[0m \u001b[0mtime\u001b[0m\u001b[1;33m,\u001b[0m \u001b[0msleep\u001b[0m\u001b[1;33m\u001b[0m\u001b[1;33m\u001b[0m\u001b[0m\n\u001b[0;32m      4\u001b[0m \u001b[1;33m\u001b[0m\u001b[0m\n\u001b[0;32m      5\u001b[0m \u001b[0mmaze_file_name\u001b[0m \u001b[1;33m=\u001b[0m \u001b[1;34m'maze_data_1.csv'\u001b[0m\u001b[1;33m\u001b[0m\u001b[1;33m\u001b[0m\u001b[0m\n",
      "\u001b[1;31mModuleNotFoundError\u001b[0m: No module named 'robot_race_functions'"
     ]
    }
   ],
   "source": [
    "import robot_race_functions as rr\n",
    "from collections import deque, Counter, namedtuple\n",
    "from time import time, sleep\n",
    "\n",
    "maze_file_name = 'maze_data_1.csv'\n",
    "seconds_between_turns = 0.3\n",
    "max_turns = 35\n",
    "\n",
    "# Initialize the robot race\n",
    "maze_data = rr.read_maze(maze_file_name)\n",
    "rr.print_maze(maze_data)\n",
    "walls, goal, bots = rr.process_maze_init(maze_data)\n",
    "\n",
    "# Populate a deque of all robot commands for the provided maze\n",
    "robot_moves = deque()\n",
    "num_of_turns = 0\n",
    "while not rr.is_race_over(bots) and num_of_turns < max_turns:\n",
    "  # For every bot in the list of bots, if the bot has not reached the end, add a new move to the robot_moves deque\n",
    "  # Add your code below!\n",
    "  for bot in bots:\n",
    "    if bot.has_finished == False:\n",
    "      robot_moves.append(rr.compute_robot_logic(walls, goal, bot))\n",
    "\n",
    "  num_of_turns += 1\n",
    "\n",
    "# Count the number of moves based on the robot names\n",
    "# Add your code below!\n",
    "num_of_moves = Counter(move[0] for move in robot_moves)\n",
    "\n",
    "# Count the number of collisions by robot name\n",
    "# Add your code below!\n",
    "num_of_collisions = Counter(move[0] for move in robot_moves if move[2] == True)\n",
    "\n",
    "# Create a namedtuple to keep track of our robots' points\n",
    "# Add your code below!\n",
    "BotScoreData = namedtuple('BotScoreData', ['name', 'num_moves', 'num_collisons', 'score'])\n",
    "\n",
    "# Calculate the scores (moves + collisions) for each robot and append it to bot_scores \n",
    "bot_scores = []\n",
    "# Add your code below!\n",
    "for bot in bots:\n",
    "  bot_scores.append(BotScoreData(bot.name, num_of_moves, num_of_collisions, num_of_moves + num_of_collisions))\n",
    "\n",
    "# Populate a dict to keep track of the robot movements\n",
    "bot_data = {}\n",
    "# Add your code below!\n",
    "for bot in bots:\n",
    "  bot_data[bot.name] = bot\n",
    "\n",
    "# Move the robots and update the map based on the moves deque\n",
    "while len(robot_moves) > 0:\n",
    "  # Make sure to pop moves from the front of the deque\n",
    "  # Add your code below!\n",
    "  bot_name, direction, has_collided = robot_moves.popleft()\n",
    "  bot_data[bot_name].process_move(direction)\n",
    "\n",
    "\n",
    "  # Update the maze characters based on the robot positions and print it to the console\n",
    "  rr.update_maze_characters(maze_data, bots)\n",
    "  rr.print_maze(maze_data)\n",
    "  sleep(seconds_between_turns - time() % seconds_between_turns)\n",
    "\n",
    "# Print out the results!\n",
    "rr.print_results(bot_scores)"
   ]
  }
 ],
 "metadata": {
  "interpreter": {
   "hash": "126de395fc5ab05c9b404d5156ac230f2dc2d73638f7037ba66d30fa539ce6ef"
  },
  "kernelspec": {
   "display_name": "Python 3.10.1 64-bit",
   "language": "python",
   "name": "python3"
  },
  "language_info": {
   "codemirror_mode": {
    "name": "ipython",
    "version": 3
   },
   "file_extension": ".py",
   "mimetype": "text/x-python",
   "name": "python",
   "nbconvert_exporter": "python",
   "pygments_lexer": "ipython3",
   "version": "3.10.1"
  },
  "orig_nbformat": 4
 },
 "nbformat": 4,
 "nbformat_minor": 2
}
