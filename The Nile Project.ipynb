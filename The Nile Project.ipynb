{
 "cells": [
  {
   "cell_type": "markdown",
   "metadata": {},
   "source": [
    "# The Nile\n",
    "The Nile fullfilment agency brings everything you could possibly want straight to your door! Use your knowledge of Python functions and how to manipulate arguments to help automate practices for the biggest world-changing company.\n",
    "\n",
    "If you need help during this project, check out the project walkthrough video which can be found in the Get Unstuck menu.\n",
    "\n",
    "# Tasks\n",
    "\n",
    "## Not Just A River In Egypt\n",
    "#### 1. At The Nile our biggest concern is our consumers, and our biggest cost is delivering their goods to them. We want to develop a program that will help us minimize these costs so we can continue making everyone happy.\n",
    "\n",
    "First we’ll need to calculate these costs using a function that you’re going to write called calculate_shipping_cost().\n",
    "\n",
    "Give calculate_shipping_cost three parameters: from_coords, to_coords, and shipping_type.\n",
    "\n",
    "<b>Hint</b><br>\n",
    "Create a function using the def keyword and give it the three given parameters."
   ]
  },
  {
   "cell_type": "markdown",
   "metadata": {},
   "source": [
    "#### 2. Both from_coords and to_coords are tuples, containing first the latitude and then the longitude. Since our get_distance() function looks for all four as separate arguments, we’ll need to separate these variables out.\n",
    "\n",
    "Inside calculate_shipping_cost unpack those tuples into from_lat, from_long, to_lat, and to_long.\n",
    "\n",
    "\n",
    "<b>Hint</b><br>\n",
    "Unpack the tuple arguments in the function using variable unpacking:"
   ]
  },
  {
   "cell_type": "code",
   "execution_count": null,
   "metadata": {},
   "outputs": [],
   "source": [
    "# if you have two tuples in variables\n",
    "first_coord  = (0, 1)\n",
    "second_coord = (2, 3)\n",
    " \n",
    "# you can unpack them with commas\n",
    "first_x, first_y   = first_coord\n",
    "second_x, second_y = second_coord"
   ]
  },
  {
   "cell_type": "markdown",
   "metadata": {},
   "source": [
    "#### 3. Now call get_distance(from_lat, from_long, to_lat, to_long) and save the result as distance.\n",
    "\n",
    "There’s other ways to separate those two coordinates when calling this function, how would you have done it?\n",
    "\n",
    "\n",
    "<b>Hint</b><br>\n",
    "One way is to use the * spread operator, which would unpack those coordinates in the function call."
   ]
  },
  {
   "cell_type": "code",
   "execution_count": null,
   "metadata": {},
   "outputs": [],
   "source": [
    "distance = get_distance(*from_coords, *to_coords)"
   ]
  },
  {
   "cell_type": "markdown",
   "metadata": {},
   "source": [
    "#### 4. Next, get the shipping_rate by using the provided SHIPPING_PRICES dictionary and fetching the key passed in as shipping_type.\n",
    "\n",
    "\n",
    "<b>Hint</b><br>\n",
    "You can use the [] to retrieve the key from SHIPPING_PRICES:"
   ]
  },
  {
   "cell_type": "code",
   "execution_count": null,
   "metadata": {},
   "outputs": [],
   "source": [
    "SHIPPING_PRICES[shipping_type]"
   ]
  },
  {
   "cell_type": "markdown",
   "metadata": {},
   "source": [
    "#### 5. Calculate the price by multiplying the distance by the shipping_rate.\n",
    "\n",
    "#### 6. Finally, return the formatted price, created by calling the provided format_price() on the price itself.\n",
    "\n",
    "\n",
    "<b>Hint</b><br>\n",
    "Make sure to return the results of format_price()!\n",
    "\n",
    "#### 7. What about our shoppers who hastily purchase goods without indicating their shipping type? Let’s give our function a default argument for shipping_type. Since they’re in such a hurry let’s make the default argument 'Overnight'. They’ll be happier to get what they ordered earlier, and we’ll be happier because they paid more money for it. It’s a win-win!\n",
    "\n",
    "#### 8. Want to make sure you wrote the function correctly? Try calling test_function(calculate_shipping_cost) after your function definition.\n",
    "\n",
    "## Careers At The Nile\n",
    "#### 9. At The Nile, we have a joke. Without our fantastic drivers, who fulfill orders every day, we’d just be sitting with millions of toys, electronics, and clothing in warehouses to ourselves.\n",
    "\n",
    "Our team is important, and we want to make sure the hardest workers find their home in our careers. In order to do that, we need to figure out who the best person is for each job.\n",
    "\n",
    "Write a function called calculate_driver_cost() with distance as the first parameter, and as many drivers as are available as positional arguments after that, as drivers.\n",
    "\n",
    "\n",
    "<b>Hint</b><br>\n",
    "Remember to define this function to take an arbitrary number of positional variables, the function definition will look like this:"
   ]
  },
  {
   "cell_type": "code",
   "execution_count": null,
   "metadata": {},
   "outputs": [],
   "source": [
    "def calculate_driver_cost(variable1, *list_of_variables):\n",
    "  pass"
   ]
  },
  {
   "cell_type": "markdown",
   "metadata": {},
   "source": [
    "#### 10. In order to find the best person, we need to calculate how much it would cost for any of the drivers to fulfill this order.\n",
    "\n",
    "Create two new variables, cheapest_driver and cheapest_driver_price. Set them both to None.\n",
    "\n",
    "#### 11. Now let’s iterate over every driver in drivers. Use a for loop.\n",
    "\n",
    "\n",
    "<B>Hint</b><br>\n",
    "Remember a for loop over fun_list would look like:"
   ]
  },
  {
   "cell_type": "code",
   "execution_count": null,
   "metadata": {},
   "outputs": [],
   "source": [
    "for fun_item in fun_list:\n",
    "  pass"
   ]
  },
  {
   "cell_type": "markdown",
   "metadata": {},
   "source": [
    "#### 12. First calculate the driver_time for each driver by multiplying driver.speed by distance.\n",
    "\n",
    "#### 13. Next calculate the price_for_driver by multiplying driver.salary by driver_time.\n",
    "\n",
    "#### 14. Now we want to check if the current driver is the cheapest driver we’ve looked at.\n",
    "\n",
    "First, we’ll check if cheapest_driver is None, this likely means this is the first driver we’ve looked at.\n",
    "\n",
    "In that case, set cheapest_driver equal to driver and then set cheapest_driver_price equal to price_for_driver.\n",
    "\n",
    "#### 15. In an elif statment, check if price_for_driver is less than cheapest_driver_price. This means that our current driver is cheaper than the driver stored in cheapest_driver.\n",
    "\n",
    "Update cheapest_driver to be equal to driver and update cheapest_driver_price to be equal to price_for_driver.\n",
    "\n",
    "#### 16. After outdenting out of our elif statement and the for loop, return cheapest_driver_price and cheapest_driver.\n",
    "\n",
    "\n",
    "<B>Hint</b><br>\n",
    "Return them both by separating with a comma."
   ]
  },
  {
   "cell_type": "code",
   "execution_count": null,
   "metadata": {},
   "outputs": [],
   "source": [
    "def cool_function():\n",
    "  return 10, \"cool\""
   ]
  },
  {
   "cell_type": "markdown",
   "metadata": {},
   "source": [
    "## The Nile Exclusive\n",
    "#### 17. Great first day, friend! Let’s try and figure out all the money you’ve saved us today.\n",
    "\n",
    "Let’s define a function called calculate_money_made().\n",
    "\n",
    "This function will be passed a number of Trip IDs with corresponding trip information as arguments, so let’s just take any keyword arguments passed into it. Store them all as trips!\n",
    "\n",
    "\n",
    "<B>Hint</b><br>\n",
    "Define calculate_money_made() with trips as an arbitrary keyword argument."
   ]
  },
  {
   "cell_type": "markdown",
   "metadata": {},
   "source": [
    "def calculate_money_made(**trips):\n",
    "  pass"
   ]
  },
  {
   "cell_type": "markdown",
   "metadata": {},
   "source": [
    "#### 18. Let’s start a counter at 0. Create a variable called total_money_made that will count up for us.\n",
    "\n",
    "#### 19. Iterate through every trip_id and trip in the trips dictionary.\n",
    "\n",
    "<B>Hint</b><br>\n",
    "Use .items() to iterate over pairs in a dictionary:"
   ]
  },
  {
   "cell_type": "code",
   "execution_count": null,
   "metadata": {},
   "outputs": [],
   "source": [
    "for trip_id, trip in trips.items():\n",
    "  pass"
   ]
  },
  {
   "cell_type": "markdown",
   "metadata": {},
   "source": [
    "#### 20. Calculate the trip revenue into the variable trip_revenue by calculating trip.cost minus trip.driver.cost.\n",
    "\n",
    "#### 21. Add up that sweet revenue by incrementing total_money_made by trip_revenue.\n",
    "\n",
    "\n",
    "<B>Hint</b><br>\n",
    "You can use += to do this:"
   ]
  },
  {
   "cell_type": "code",
   "execution_count": null,
   "metadata": {},
   "outputs": [],
   "source": [
    "total_money_made += trip_revenue"
   ]
  },
  {
   "cell_type": "markdown",
   "metadata": {},
   "source": [
    "#### 22. Outside your for loop, return the total!\n",
    "\n",
    "#### 23. Congratulations! You’ve been a real life-saver around these parts. We broke up functions using arbitrary and default parameters! Remember you can test your function by calling test_function(calculate_money_made) afterwards!"
   ]
  },
  {
   "cell_type": "code",
   "execution_count": null,
   "metadata": {},
   "outputs": [],
   "source": [
    "from nile import get_distance, format_price, SHIPPING_PRICES\n",
    "from test import test_function\n",
    "\n",
    "#task 1 & 7 Define calculate_shipping_cost() here:\n",
    "def calculate_shipping_cost(from_coords, to_coords, shipping_type = 'Overnight'):\n",
    " #task 2, 3, 4, 5, 6, \n",
    " from_lat, from_long = from_coords\n",
    " to_lat, to_long = to_coords\n",
    " distance = get_distance(*from_coords, *to_coords)\n",
    " shipping_rate = SHIPPING_PRICES[shipping_type]\n",
    " price = distance * shipping_rate\n",
    " return format_price(price)\n",
    "#task 8 Test the function by calling \n",
    "test_function(calculate_shipping_cost)\n",
    "\n",
    "# task 8 - 16 Define calculate_driver_cost() here\n",
    "def calculate_driver_cost(distance, *drivers):\n",
    "  cheapest_driver = None\n",
    "  cheapest_driver_price = None\n",
    "  for driver in drivers:\n",
    "    driver_time = driver.speed * distance\n",
    "    price_for_driver = driver.salary * driver_time\n",
    "    if cheapest_driver is None:\n",
    "      cheapest_driver = driver\n",
    "      cheapest_driver_price = price_for_driver\n",
    "    elif price_for_driver < cheapest_driver_price:\n",
    "      cheapest_driver = driver\n",
    "      cheapest_driver_price = price_for_driver\n",
    "  return cheapest_driver_price, cheapest_driver\n",
    "  \n",
    "\n",
    "# Test the function by calling \n",
    "test_function(calculate_driver_cost)\n",
    "\n",
    "# Define calculate_money_made() here\n",
    "def calculate_money_made(**trips):\n",
    "  total_money_made = 0\n",
    "  for trip_id, trip in trips.items():\n",
    "    trip_revenue = trip.cost - trip.driver.cost\n",
    "    total_money_made += trip_revenue\n",
    "  return total_money_made\n",
    "\n",
    "# Test the function by calling \n",
    "test_function(calculate_money_made)"
   ]
  }
 ],
 "metadata": {
  "interpreter": {
   "hash": "79435cfcbd76b1528bba00a84eb046d19295a161f953d7f2d2d8d04ffa2592c8"
  },
  "kernelspec": {
   "display_name": "Python 3.10.0 64-bit (windows store)",
   "language": "python",
   "name": "python3"
  },
  "language_info": {
   "name": "python",
   "version": "3.10.0"
  },
  "orig_nbformat": 4
 },
 "nbformat": 4,
 "nbformat_minor": 2
}
