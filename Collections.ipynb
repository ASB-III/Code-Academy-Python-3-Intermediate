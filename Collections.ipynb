{
 "cells": [
  {
   "cell_type": "markdown",
   "metadata": {},
   "source": [
    "# COLLECTIONS\n",
    "## Recap: Python Containers\n",
    "In Python, there are many ways to store and organize data. So far, we have experienced adding elements to a list, writing key-value pairs to a dictionary, or even accessing data within tuples.\n",
    "\n",
    "Any object which stores data is called a container. If you have written code in Python, you have likely been using containers this whole time!\n",
    "\n",
    "We are familiar with Python’s built-in containers (such as lists or dictionaries), but there are many other containers that exist in Python. These containers each specialize in a specific job and can be imported into your code from other modules or even be custom-made! In this lesson, we will be looking at these specialized containers from the Python collections module.\n",
    "\n",
    "We will start to dive deeper in the next exercises, but for now, let’s take some time to review some of the common built-in containers we are most familiar with:\n",
    "\n",
    "<B>Lists</b>\n",
    "\n",
    "Lists are an ordered group of elements. Elements can be added, removed, accessed, and modified."
   ]
  },
  {
   "cell_type": "code",
   "execution_count": null,
   "metadata": {},
   "outputs": [],
   "source": [
    "products = ['t-shirt', 'pants', 'shoes', 'dress', 'blouse']\n",
    " \n",
    "products.append('jacket')\n",
    "products.sort()\n",
    "products.remove('shoes')"
   ]
  },
  {
   "cell_type": "markdown",
   "metadata": {},
   "source": [
    "Tuples\n",
    "\n",
    "Tuples are immutable objects which group multiple elements together. They are similar to lists, except that they cannot be modified once created."
   ]
  },
  {
   "cell_type": "code",
   "execution_count": null,
   "metadata": {},
   "outputs": [],
   "source": [
    "searched_terms = ('clothes', 'phone', 'app', 'purchase', 'clothes', 'store', 'app', 'clothes')\n",
    " \n",
    "term = searched_terms[2]\n",
    "num_of_occurrences = searched_terms.count('clothes')"
   ]
  },
  {
   "cell_type": "markdown",
   "metadata": {},
   "source": [
    "Dictionaries\n",
    "\n",
    "Dictionaries are unordered groups of key-value pairs."
   ]
  },
  {
   "cell_type": "code",
   "execution_count": null,
   "metadata": {},
   "outputs": [],
   "source": [
    "orders = {'order_4829': {'type': 't-shirt', 'size': 'large', 'price': 9.99}, \n",
    "          'order_6184': {'type': 'pants', 'size': 'medium', 'price': 14.99}\n",
    "         }\n",
    " \n",
    "order_4829_price = orders['order_4829']['price']\n",
    "order_6184_size = orders['order_4829']['size']\n",
    "orders['order_4829']['size'] = 'x-large'\n",
    "num_of_orders = len(orders)"
   ]
  },
  {
   "cell_type": "markdown",
   "metadata": {},
   "source": [
    "Sets\n",
    "\n",
    "Sets are unordered groups of elements that cannot contain duplicates, elements cannot be modified."
   ]
  },
  {
   "cell_type": "code",
   "execution_count": null,
   "metadata": {},
   "outputs": [],
   "source": [
    "old_products_set = {'t-shirt', 'pants', 'shoes'}\n",
    "new_products_set = {'t-shirt', 'pants', 'blouse', 'dress'}\n",
    "updated_products = new_products_set | old_products_set\n",
    "removed_products = old_products_set - new_products_set"
   ]
  },
  {
   "cell_type": "markdown",
   "metadata": {},
   "source": [
    "You can learn more about these built-in containers in earlier lessons or in the Python Documentation.\n",
    "\n",
    "Now that we have reviewed the most common containers in Python, let’s practice using them, and then move on to exploring the specialized containers we mentioned earlier!"
   ]
  },
  {
   "cell_type": "markdown",
   "metadata": {},
   "source": [
    "## Instructions\n",
    "### 1. We’ve decided to make an application in Python to help our friend’s clothing company. To begin, let’s use some of Python’s built-in containers to set up our company info!\n",
    "\n",
    "First, create a variable called company_name which contains a string representing our clothing company’s name. Come up with something creative!\n",
    "\n",
    "\n",
    "<b>Hint</b><br>\n",
    "Remember to create a string by setting a variable equal to some text between double or single quotations. Here is an example:"
   ]
  },
  {
   "cell_type": "code",
   "execution_count": null,
   "metadata": {},
   "outputs": [],
   "source": [
    "my_string = \"Some String\"\n",
    "# Or\n",
    "my_string_single = 'Some String'"
   ]
  },
  {
   "cell_type": "markdown",
   "metadata": {},
   "source": [
    "### 2. Next, create a tuple called company_location which contains two decimal values for latitude and longitude. Feel free to use any coordinates.\n",
    "\n",
    "\n",
    "<b>Hint</b><br>\n",
    "Remember to create a tuple of decimal values, you set a variable equal to some values in between parenthesis and separated by commas.\n",
    "\n",
    "### 3. Create a list of strings called company_products representing which products we will be selling in our store. Make sure there are at least 5 products.\n",
    "\n",
    "\n",
    "<B>Hint</B><BR>\n",
    "Remember to create a list by setting a variable equal to some values in between brackets and separated by commas.\n",
    "\n",
    "### 4. Finally, create a dictionary that will store all of the previous values we created into a variable called company_data.\n",
    "\n",
    "Use the keys name, location, and products with the values being the respective variables we created in the last steps.\n",
    "\n",
    "\n",
    "<B>Hint</B><br>\n",
    "Remember to create a dictionary by placing keys and values in between curly braces in the format of key:value and storing them in a variable.\n",
    "\n",
    "In this case, you need to set each key to the corresponding variable which you created earlier. For example: {'name': company_name}"
   ]
  },
  {
   "cell_type": "code",
   "execution_count": null,
   "metadata": {},
   "outputs": [],
   "source": [
    "# Write your code below!\n",
    "company_name = 'My Clothing Company'\n",
    "\n",
    "company_location = (39.7284945, -121.8374777)\n",
    "\n",
    "company_products = ['boots', 'winter_jacket', 'rain_jacket', 'jeans', 'button_up']\n",
    "\n",
    "company_data = {'name':company_name, 'location':company_location, 'products':company_products}"
   ]
  },
  {
   "cell_type": "markdown",
   "metadata": {},
   "source": [
    "# Introduction to Specialized Containers\n",
    "Now that we’ve had a refresher on some of the built-in containers Python provides, let’s dive into the collections module.\n",
    "\n",
    "The classes from the collections module are very similar to the built-in containers we’ve been already using, but they contain new methods and utilities. Each of these specialized containers focuses on a certain improvement to its built-in counterpart such as optimizing performance, better organization, fewer steps for performing tasks, and more!\n",
    "\n",
    "In order to use classes from the collections module, we will first need to import the module into our code. This is different than the previous containers we’ve seen because they were built-in and did not require an import.\n",
    "\n",
    "Here are some of the various ways importing will look like:"
   ]
  },
  {
   "cell_type": "code",
   "execution_count": null,
   "metadata": {},
   "outputs": [],
   "source": [
    "# To import a single class or multiple classes\n",
    "from collections import name_of_class, name_of_another_class\n",
    " \n",
    "# To import all classes in the collections module\n",
    "from collections import *\n",
    " \n",
    "# Another way to import all classes in a module\n",
    "import collections"
   ]
  },
  {
   "cell_type": "markdown",
   "metadata": {},
   "source": [
    "For a more specific example, here is what importing the OrderedDict (one of the specialized containers) would look like. We will dive deeper into the details of this particular container later on in this lesson but for now just observe the syntax:"
   ]
  },
  {
   "cell_type": "code",
   "execution_count": null,
   "metadata": {},
   "outputs": [],
   "source": [
    "from collections import OrderedDict\n",
    " \n",
    "orders = OrderedDict({'order_4829': {'type': 't-shirt', 'size': 'large', 'price': 9.99},\n",
    "          'order_6184': {'type': 'pants', 'size': 'medium', 'price': 14.99},\n",
    "          'order_2905': {'type': 'shoes', 'size': 12, 'price': 22.50}})\n",
    " \n",
    "orders.move_to_end('order_4829')\n",
    "orders.popitem()"
   ]
  },
  {
   "cell_type": "markdown",
   "metadata": {},
   "source": [
    "You might have noticed that this is a similar example to the dictionary review in the last exercise, but there are some new methods that provide even more functionality to the traditional dictionary.\n",
    "\n",
    "Here is a list of all of the advanced containers we will be looking at in this lesson:\n",
    "\n",
    "Advanced Containers\n",
    "\n",
    "- deque\n",
    "- namedtuple\n",
    "- Counter\n",
    "- defaultdict\n",
    "- OrderedDict\n",
    "- ChainMap\n",
    "- Container Wrappers\n",
    "\n",
    "- UserDict\n",
    "- UserList\n",
    "- UserString\n",
    "\n",
    "\n",
    "Instructions\n",
    "\n",
    "\n",
    "Play around with the provided specialized OrderedDict collection. Click Next to move on!"
   ]
  },
  {
   "cell_type": "code",
   "execution_count": null,
   "metadata": {},
   "outputs": [],
   "source": [
    "from collections import OrderedDict\n",
    " \n",
    "orders = OrderedDict({'order_4829': {'type': 't-shirt', 'size': 'large', 'price': 9.99},\n",
    "          'order_6184': {'type': 'pants', 'size': 'medium', 'price': 14.99},\n",
    "          'order_2905': {'type': 'shoes', 'size': 12, 'price': 22.50}})\n",
    " \n",
    "orders.move_to_end('order_4829')\n",
    "orders.popitem()\n",
    "print(orders)"
   ]
  },
  {
   "cell_type": "markdown",
   "metadata": {},
   "source": [
    "# Deque\n",
    "In Python, lists are one of the most common containers we use to work with data. Unfortunately, there are certain situations where they perform poorly.\n",
    "\n",
    "Let’s imagine a situation where we are processing a large document containing bug reports for an application. In order to prioritize the most important bugs, we want any normal bug reports to be appended to the end of the list and higher priority bugs to be at the front of the list (kind of like a priority list). As we fix the bugs, they can be removed from the front of the list.\n",
    "\n",
    "The program below is an example of what our implementation might look like using lists. Take some time to understand what the code is doing."
   ]
  },
  {
   "cell_type": "code",
   "execution_count": null,
   "metadata": {},
   "outputs": [],
   "source": [
    "bug_data = []\n",
    " \n",
    "loaded_bug_reports = get_all_bug_reports()\n",
    " \n",
    "for bug in loaded_bug_reports:\n",
    "    if bug['priority'] == 'high':\n",
    "        # A list uses the insert method to append to the front\n",
    "        bug_data.insert(0, bug)\n",
    "    else:\n",
    "        bug_data.append(bug)\n",
    " \n",
    "# A list must provide an index to pop\n",
    "next_bug_to_fix = bug_data.pop(0)"
   ]
  },
  {
   "cell_type": "markdown",
   "metadata": {},
   "source": [
    "The problem with this implementation is that lists are not optimized for appending and popping large amounts of data, although they are great at accessing data at any index which you provide.\n",
    "\n",
    "To solve this problem, we can use deque containers. These are similar to lists, but they are optimized for appending and popping to the front and back, rather than having optimized accessing. Because of this, they are great for working with data where you don’t need to access elements in the middle very often or at all.\n",
    "\n",
    "Let’s observe our same program but implemented with a deque:"
   ]
  },
  {
   "cell_type": "code",
   "execution_count": null,
   "metadata": {},
   "outputs": [],
   "source": [
    "from collections import deque\n",
    " \n",
    "bug_data = deque()\n",
    " \n",
    "loaded_bug_reports = get_all_bug_reports()\n",
    " \n",
    "for bug in loaded_bug_reports:\n",
    "    if bug['priority'] == 'high':\n",
    "        # With a deque, we can append to the front directly\n",
    "        bug_data.appendleft(bug)\n",
    "    else:\n",
    "        bug_data.append(bug)\n",
    " \n",
    "# With a deque, we can pop from the front directly\n",
    "next_bug_to_fix = bug_data.popleft()"
   ]
  },
  {
   "cell_type": "markdown",
   "metadata": {},
   "source": [
    "More information about the deque container can be found in the Python Documentation\n",
    "\n",
    "Now let’s try working with a larger amount of data where a deque is more beneficial!\n",
    "\n",
    "\n",
    "## Instructions\n",
    "### 1. We need to order a large number of supplies for our clothing company. A CSV file has been given to us by our team which lists each of the material’s names, the quantity, and the importance of that material.\n",
    "\n",
    "\n",
    "A function is provided which reads the CSV file and returns a list of lists containing the data in the format of [[material, number_of_pallets, importance], [material, number_of_pallets, importance], ...].\n",
    "\n",
    "\n",
    "We’ll need to use a deque to separate the data into important and non-important items using our new trusty deque collection. First, create an empty deque called supplies_deque.\n",
    "\n",
    "\n",
    "<B>Hint</B><br>\n",
    "Remember to create an empty deque with the constructor deque().\n",
    "\n",
    "### 2. Using a for loop, read each item from csv_data. On each iteration, if the item is marked as important, append it to the front of supplies_deque, otherwise append it to the end.\n",
    "\n",
    "\n",
    "<B>Hint</B><br>\n",
    "Use a for loop to iterate through every element in the csv_data list. With each list from csv_data, check if the element at index 2 is equal to the string 'important'. If it is, append it to the front of supplies_deque using .appendleft(), otherwise .append() the element to the end. Make sure to convert the data to a tuple when appending using tuple().\n",
    "\n",
    "### 3. Your accountant let you know that you have enough of a budget to order 25 important materials and 10 unimportant materials.\n",
    "\n",
    "For this step, create a new deque called ordered_important_supplies. Remove the 25 important items from your supplies_deque and append them to ordered_important_supplies.\n",
    "\n",
    "\n",
    "<B>Hint</B><br>\n",
    "To solve this, you could create a loop which iterates 25 times. After each iteration, use .popleft() to pop from the front of supplies_deque and .append() the popped element into ordered_important_items.\n",
    "\n",
    "### 4. Now that you have completed the orders for the 25 important items, repeat the same process for 10 unimportant items.\n",
    "\n",
    "Create a new deque called ordered_unimportant_supplies. Remove 10 low important items from your supplies_deque and append them to ordered_unimportant_supplies.\n",
    "\n",
    "\n",
    "<B>Hint</B><br>\n",
    "To solve this, you could create a loop which iterates 10 times. After each iteration, use .pop() to pop from the back of supplies_deque and .append() the popped element into ordered_unimportant_supplies."
   ]
  },
  {
   "cell_type": "code",
   "execution_count": null,
   "metadata": {},
   "outputs": [],
   "source": [
    "from helper_functions import process_csv_supplies\n",
    "from collections import deque\n",
    "\n",
    "# The first row is skipped since it only contains labels\n",
    "csv_data = process_csv_supplies()[1:]\n",
    "\n",
    "# Here is a sample of 2 elements in csv_data:\n",
    "# [ ['nylon', '10', 'unimportant'], ['wool', '1', 'important'] ]\n",
    "\n",
    "# Write your code below!\n",
    "\n",
    "# Checkpoint #1\n",
    "supplies_deque = deque()\n",
    "\n",
    "# Checkpoint #2\n",
    "for row in csv_data:\n",
    "    if row[2] == 'important':\n",
    "        supplies_deque.appendleft(tuple(row))\n",
    "    else:\n",
    "        supplies_deque.append(tuple(row))\n",
    "\n",
    "# Checkpoint #3\n",
    "ordered_important_supplies = deque()\n",
    "for supplies_important in range(25):\n",
    "    ordered_important_supplies.append(supplies_deque.popleft())\n",
    "\n",
    "ordered_unimportant_supplies = deque()\n",
    "for supplies_unimportant in range(10):\n",
    "  ordered_unimportant_supplies.append(supplies_deque.pop())"
   ]
  },
  {
   "cell_type": "markdown",
   "metadata": {},
   "source": [
    "# Named Tuple\n",
    "Tuples, another common built-in container, are very useful for grouping together data that does not need to be modified in the future. Tuples do however run into an issue when they host various data and even nested data. Let’s examine a tuple containing actor data:"
   ]
  },
  {
   "cell_type": "code",
   "execution_count": null,
   "metadata": {},
   "outputs": [],
   "source": [
    "actor_data_tuple = ('Leonardo DiCaprio', 1974, 'Titanic', 1997)"
   ]
  },
  {
   "cell_type": "markdown",
   "metadata": {},
   "source": [
    "In this example, we are storing details about an actor that is unlikely to change (we can assume for now the actor’s name will not change). While the tuple does a great job of creating a container that can keep ordered immutable data, it can become quite confusing to represent properties using numerical indices. For example:"
   ]
  },
  {
   "cell_type": "code",
   "execution_count": null,
   "metadata": {},
   "outputs": [],
   "source": [
    "actor_data_tuple[3]"
   ]
  },
  {
   "cell_type": "markdown",
   "metadata": {},
   "source": [
    "Unless we explicitly define a variable name that describes what the third index represents, it’s very hard to tell what data we are talking about. We would also need to make separate variables for each property! Thanks to the collections module, we have a solution to this problem.\n",
    "\n",
    "The namedtuple collection allows us to have an immutable tuple object, but every element becomes self-documented. Let’s examine our actor example but now refactored to use a namedtuple:"
   ]
  },
  {
   "cell_type": "code",
   "execution_count": null,
   "metadata": {},
   "outputs": [],
   "source": [
    "from collections import namedtuple\n",
    " \n",
    "# General Structure: namedtuple(typename, field_names, *, rename=False, defaults=None, module=None)\n",
    " \n",
    "ActorData = namedtuple('ActorData', ['name', 'birth_year', 'movie', 'movie_release_date'])"
   ]
  },
  {
   "cell_type": "markdown",
   "metadata": {},
   "source": [
    "In this example, we are defining an instance of the namedtuple collection with a typename called 'ActorData' and a sequence of strings called field_names that represent the labels for the data we want to store.\n",
    "\n",
    "We are saying we want our namedtuple to be called 'ActorData' and for it to have name, birth_year, movie, and movie_release_date properties. It’s like creating a label system for the type of data inside of the tuple!\n",
    "\n",
    "We can then define an instance of our ActorData:"
   ]
  },
  {
   "cell_type": "code",
   "execution_count": null,
   "metadata": {},
   "outputs": [],
   "source": [
    "actor_data = ActorData('Leonardo DiCaprio', 1974, 'Titanic', 1997)"
   ]
  },
  {
   "cell_type": "markdown",
   "metadata": {},
   "source": [
    "This then allows us to access the mapped property value to its associated name from before using the . notation:"
   ]
  },
  {
   "cell_type": "code",
   "execution_count": null,
   "metadata": {},
   "outputs": [],
   "source": [
    "print(actor_data.name)"
   ]
  },
  {
   "cell_type": "markdown",
   "metadata": {},
   "source": [
    "Would return:"
   ]
  },
  {
   "cell_type": "code",
   "execution_count": null,
   "metadata": {},
   "outputs": [],
   "source": [
    "Leonardo DiCaprio"
   ]
  },
  {
   "cell_type": "markdown",
   "metadata": {},
   "source": [
    "Some things to note about namedtuples:\n",
    "\n",
    "\n",
    "- You may have noticed we use a CapWords convention when defining our namedtuple. This is because namedtuple actually returns a subclass and thus falls under the conventions we use for classes.\n",
    "\n",
    "- The field_names argument can alternatively be a single string with each fieldname separated by whitespace and/or commas, for example, 'x y' or 'x, y'.\n",
    "\n",
    "- At first glance, namedtuples might seem like it is trying to replicate a dictionary. While the key idea of labeling properties is the same in both structures, namedtuples have some key advantages over a regular dictionary:\n",
    "\n",
    "\n",
    "\n",
    "\n",
    "    - They are immutable and maintain their order, while a dictionary does not.\n",
    "    - They are more lightweight than dictionaries and take no more memory than a regular tuple.\n",
    "\n",
    "\n",
    "There are other useful methods that a namedtuple uses such as converting from a namedtuple to a dict, replacing elements and field names, and even setting default values for attributes. More information about namedtuple containers can be found in the Python Documentation.\n",
    "\n",
    "Let’s now practice using the namedtuple container!"
   ]
  },
  {
   "cell_type": "markdown",
   "metadata": {},
   "source": [
    "## Instructions\n",
    "### 1. We want to continue building out our clothing store application. We want a standardized way to store clothing type, color, size, and price. To do this, we can use a namedtuple!\n",
    "\n",
    "Import the container and create a namedtuple subclass called ClothingItem with a typename of 'ClothingItem' and the field_name consisting of: 'type', 'color', 'size', and 'price' in that specific order.\n",
    "\n",
    "\n",
    "<B>Hint</B><br>\n",
    "To create a subclass of namedtuple, you can use the constructor with this format:"
   ]
  },
  {
   "cell_type": "code",
   "execution_count": null,
   "metadata": {},
   "outputs": [],
   "source": [
    "subclass_name = namedtuple(type_name, [field_name1, field_name2, field_name3, ...])`"
   ]
  },
  {
   "cell_type": "markdown",
   "metadata": {},
   "source": [
    "2. Let’s test out our new ClothingItem namedtuple subclass!\n",
    "\n",
    "For this checkpoint, create a new object from the subclass ClothingItem called new_coat.\n",
    "\n",
    "The new_coat should have a type of 'coat', a color of 'black', a size of 'small', and a price of 14.99.\n",
    "\n",
    "\n",
    "<B>Hint</B><br>\n",
    "Remember that a new object from the ClothingItem subclass can be created by passing the parameters into the constructor in the correct order. The parameters are defined by the field names which were provided when the namedtuple was created. For example:"
   ]
  },
  {
   "cell_type": "code",
   "execution_count": null,
   "metadata": {},
   "outputs": [],
   "source": [
    "new_clothes_item = ClothingItem('t-shirt', 'green', 'large', 9.99)"
   ]
  },
  {
   "cell_type": "markdown",
   "metadata": {},
   "source": [
    "3. Now that the new_coat object has been created, access the price of this namedtuple object and store it in a variable called coat_cost.\n",
    "\n",
    "\n",
    "<B>Hint</B><br>\n",
    "In order to get a certain value from a namedtuple object, the attribute stored in the object has the same name as the field name which the namedtuple was created with. For example:"
   ]
  },
  {
   "cell_type": "code",
   "execution_count": null,
   "metadata": {},
   "outputs": [],
   "source": [
    "stored_color = clothing_item_object.color"
   ]
  },
  {
   "cell_type": "markdown",
   "metadata": {},
   "source": [
    "4. There is too much manual work when creating the namedtuple objects one at a time, so lets use a loop!\n",
    "\n",
    "We have a list of tuples containing clothing information called clothes.\n",
    "\n",
    "First, create a new empty list called updated_clothes_data and then for every piece of clothes data in the list of tuples, append a new ClothingItem object to updated_clothes_data while passing the data from the tuple into the new ClothingItem object.\n",
    "\n",
    "Print out updated_clothes_data to see the result!\n",
    "\n",
    "\n",
    "<B>Hint</B><br>\n",
    "Iterate through each of the tuples in clothes using a for loop. Access each element in the tuple using each index. When appending to updated_clothes_data, create a new ClothingItem object using this format:"
   ]
  },
  {
   "cell_type": "code",
   "execution_count": null,
   "metadata": {},
   "outputs": [],
   "source": [
    "updated_clothes_data.append(ClothingItem(old_tuple[0], old_tuple[1], old_tuple[2], old_tuple[3]))"
   ]
  },
  {
   "cell_type": "code",
   "execution_count": null,
   "metadata": {},
   "outputs": [],
   "source": [
    "from collections import namedtuple\n",
    "clothes = [('t-shirt', 'green', 'large', 9.99),\n",
    "           ('jeans', 'blue', 'medium', 14.99),\n",
    "           ('jacket', 'black', 'x-large', 19.99),\n",
    "           ('t-shirt', 'grey', 'small', 8.99),\n",
    "           ('shoes', 'white', '12', 24.99),\n",
    "           ('t-shirt', 'grey', 'small', 8.99)]\n",
    "\n",
    "# Write your code below!\n",
    "\n",
    "ClothingItem = namedtuple('ClothingItem', ['type', 'color', 'size', 'price'])\n",
    "\n",
    "new_coat = ClothingItem('coat', 'black', 'small', 14.99)\n",
    "\n",
    "coat_cost = new_coat.price\n",
    "\n",
    "\n",
    "updated_clothes_data = []\n",
    "for clothing_Element in clothes:\n",
    "  updated_clothes_data.append(ClothingItem(clothing_Element[0], clothing_Element[1], clothing_Element[2], clothing_Element[3]))\n",
    "\n",
    "\n",
    "print(updated_clothes_data)"
   ]
  },
  {
   "cell_type": "markdown",
   "metadata": {},
   "source": [
    "# DefaultDict\n",
    "Dictionaries are another popular type of collection we use in our programs. Although they are great for a lot of situations, applications that rely heavily on them always run into a common issue. This issue deals with how to handle missing keys!\n",
    "\n",
    "When we try to access a key-value pair in a dictionary, but the key does not exist, a dictionary will normally throw a KeyError. Take a look at this example of accessing an invalid key from a normal dictionary:"
   ]
  },
  {
   "cell_type": "code",
   "execution_count": null,
   "metadata": {},
   "outputs": [],
   "source": [
    "prices = {'jeans': 19.99, 'shoes': 24.99, 't-shirt': 9.99, 'blouse': 19.99}\n",
    " \n",
    "print(prices['jacket'])"
   ]
  },
  {
   "cell_type": "markdown",
   "metadata": {},
   "source": [
    "Would output:"
   ]
  },
  {
   "cell_type": "code",
   "execution_count": null,
   "metadata": {},
   "outputs": [],
   "source": [
    "KeyError: 'jacket'"
   ]
  },
  {
   "cell_type": "markdown",
   "metadata": {},
   "source": [
    "Dealing with frequent KeyError exceptions can be quite cumbersome and in certain cases, it might be better to avoid throwing an error. One of the ways Python offers to deal with this issue is by having a default missing value in the dictionary, and this is exactly what the defaultdict collection does. Let’s explore this new collection together!\n",
    "\n",
    "\n",
    "First, we import the class and set the default value:"
   ]
  },
  {
   "cell_type": "code",
   "execution_count": null,
   "metadata": {},
   "outputs": [],
   "source": [
    "from collections import defaultdict\n",
    " \n",
    "validate_prices = defaultdict(lambda: 'No Price Assigned')"
   ]
  },
  {
   "cell_type": "markdown",
   "metadata": {},
   "source": [
    "Next, we can set the keys and values like a regular dict:"
   ]
  },
  {
   "cell_type": "code",
   "execution_count": null,
   "metadata": {},
   "outputs": [],
   "source": [
    "validate_prices['jeans'] = 19.99\n",
    "validate_prices['shoes'] = 24.99\n",
    "validate_prices['t-shirt'] = 9.99\n",
    "validate_prices['blouse'] = 19.99"
   ]
  },
  {
   "cell_type": "markdown",
   "metadata": {},
   "source": [
    "Finally, we access an invalid key to observe the result:"
   ]
  },
  {
   "cell_type": "code",
   "execution_count": null,
   "metadata": {},
   "outputs": [],
   "source": [
    "print(validate_prices['jacket'])"
   ]
  },
  {
   "cell_type": "markdown",
   "metadata": {},
   "source": [
    "Would output:"
   ]
  },
  {
   "cell_type": "code",
   "execution_count": null,
   "metadata": {},
   "outputs": [],
   "source": [
    "No Price Assigned"
   ]
  },
  {
   "cell_type": "markdown",
   "metadata": {},
   "source": [
    "Notice the following:\n",
    "\n",
    "- We set the default value using a lambda expression.\n",
    "- Any time we try to access a key that does not exist, it automatically updates our defaultdict object by creating the new key-value pair using the missing key and the default value.\n",
    "To read more about the defaultdict container, take a look at the Python Documentation\n",
    "\n",
    "Now let’s try using a defaultdict to validate new content on our clothing store website!"
   ]
  },
  {
   "cell_type": "markdown",
   "metadata": {},
   "source": [
    "## Instructions\n",
    "### 1. We are updating an old version of our website to include new products that we have for sale. We have a dictionary of all of the previous products and locations on our site. The team has provided a list of all products our company sells including the new additions which are randomly placed within the list. Use a defaultdict to validate which products are on the site and to automatically label those which are missing. For products which are missing, their values should default to 'TODO: Add to website'.\n",
    "\n",
    "For this first checkpoint, import the defaultdict class from the collections module and create a new variable called validated_locations. Use the defaultdict constructor to create a new defaultdict object in validated_locations which defaults missing keys to have a value of 'TODO: Add to website'.\n",
    "\n",
    "\n",
    "<B>Hint</B><br>\n",
    "Remember that you can set the default value using a lambda expression or other function which returns a value within the defaultdict constructor. The format looks like this: validated = defaultdict(lambda: 'default string')\n",
    "\n",
    "### 2. not only can we create a defaultdict from scratch, but we can also create one from an existing dictionary. To do this, we can use the .update() method from the defaultdict class. This behaves the same way as the .update() method from the dict class.\n",
    "\n",
    "Take a look at the Python documentation for a refresher on the .update() method.\n",
    "\n",
    "site_locations represents where each product exists on the clothing store website.\n",
    "\n",
    "Use the .update() method to move all of the site_location data into validated_locations.\n",
    "\n",
    "\n",
    "<B>Hint</B><br>\n",
    "Remember to update a defaultdict with data from another dictionary using the .update() method.\n",
    "\n",
    "### 3. We need to update the original dictionary with the new information. Iterate through every item in the updated_products list and update the site_locations dictionary with the values from validated_locations.\n",
    "\n",
    "print out site_locations to see the result!\n",
    "\n",
    "\n",
    "<B>Hint</B><br>\n",
    "In order to have the defaultdict automatically add a missing key and value, you only need to try and access a missing key: validated_locations['missing_key_name']. To update the original dictionary, write the result of accessing the dictionarydict value into the original dictionary at the given key: original_dictionary[key_data] = default_dict_data[key_data]."
   ]
  },
  {
   "cell_type": "code",
   "execution_count": null,
   "metadata": {},
   "outputs": [],
   "source": [
    "from collections import defaultdict\n",
    "site_locations = {'t-shirt': 'Shirts',\n",
    "                  'dress shirt': 'Shirts',\n",
    "                  'flannel shirt': 'Shirts',\n",
    "                  'sweatshirt': 'Shirts',\n",
    "                  'jeans': 'Pants',\n",
    "                  'dress pants': 'Pants',\n",
    "                  'cropped pants': 'Pants',\n",
    "                  'leggings': 'Pants'\n",
    "                  }\n",
    "updated_products = ['draped blouse', 'leggings', 'undershirt', 'dress shirt', 'jeans', 'sun dress', 'flannel shirt', 'cropped pants', 'dress pants', 't-shirt', 'camisole top', 'sweatshirt']\n",
    "\n",
    "# Write your code below!\n",
    "\n",
    "# Checkpoint #1\n",
    "validated_locations = defaultdict(lambda: 'TODO: Add to website')\n",
    "\n",
    "# Checkpoint #2\n",
    "validated_locations.update(site_locations)\n",
    "\n",
    "# Checkpoint #3\n",
    "for product in updated_products:\n",
    "    site_locations[product] = validated_locations[product]\n",
    "\n",
    "print(site_locations)"
   ]
  },
  {
   "cell_type": "markdown",
   "metadata": {},
   "source": [
    "# OrderedDict\n",
    "When keeping track of many different dictionaries with the built-in Python containers, we could try storing dictionaries in a list, or even a dictionary of dictionaries. This may work in some cases, but there are a few problems which might come up.\n",
    "\n",
    "When storing dictionaries in a list, the order is preserved, but we have to access the elements by their index before we can access the dictionary:"
   ]
  },
  {
   "cell_type": "code",
   "execution_count": null,
   "metadata": {},
   "outputs": [],
   "source": [
    "first_order = {'order_2905': {'type': 'shoes', 'size': 12, 'price': 22.50}}\n",
    "second_order = {'order_6184': {'type': 'pants', 'size': 'medium', 'price': 14.99}}\n",
    "third_order = {'order_4829': {'type': 't-shirt', 'size': 'large', 'price': 9.99}}\n",
    " \n",
    "list_of_dicts = [first_order, second_order, third_order]"
   ]
  },
  {
   "cell_type": "markdown",
   "metadata": {},
   "source": [
    "In order to get the price of a specific order, we must know the index of it already before we can access the dictionary data stored inside:"
   ]
  },
  {
   "cell_type": "code",
   "execution_count": null,
   "metadata": {},
   "outputs": [],
   "source": [
    "print(list_of_dicts[1]['order_6184']['price'])\n",
    " \n",
    "# Output\n",
    "# 14.99"
   ]
  },
  {
   "cell_type": "markdown",
   "metadata": {},
   "source": [
    "On the other hand, depending on the Python version, the dict container can preserve the order, but it is difficult to move elements around:"
   ]
  },
  {
   "cell_type": "code",
   "execution_count": null,
   "metadata": {},
   "outputs": [],
   "source": [
    "dict_of_dicts = {}\n",
    "dict_of_dicts.update(first_order)\n",
    "dict_of_dicts.update(second_order)\n",
    "dict_of_dicts.update(third_order)\n",
    " \n",
    "print(list_of_dicts[1]['order_6184']['price'])\n",
    " \n",
    "# Output\n",
    "# 14.99"
   ]
  },
  {
   "cell_type": "markdown",
   "metadata": {},
   "source": [
    "Note: The dict class is unordered in earlier versions of python, so implementing it this way must have version 3.6 or greater.\n",
    "\n",
    "To solve these issues, we can use an OrderedDict!\n",
    "\n",
    "The OrderedDict container allows us to access values using keys, but it also preserves the order of the elements inside of it. Let’s take a closer look at the example of processing customer orders from earlier in the lesson:\n",
    "\n",
    "Import and create an OrderedDict."
   ]
  },
  {
   "cell_type": "code",
   "execution_count": null,
   "metadata": {},
   "outputs": [],
   "source": [
    "from collections import OrderedDict\n",
    " \n",
    "orders = OrderedDict()"
   ]
  },
  {
   "cell_type": "markdown",
   "metadata": {},
   "source": [
    "The order of the data is preserved when adding it to the OrderedDict:"
   ]
  },
  {
   "cell_type": "code",
   "execution_count": null,
   "metadata": {},
   "outputs": [],
   "source": [
    "orders.update({'order_2905': {'type': 'shoes', 'size': 12, 'price': 22.50}})\n",
    "orders.update({'order_6184': {'type': 'pants', 'size': 'medium', 'price': 14.99}})\n",
    "orders.update({'order_4829': {'type': 't-shirt', 'size': 'large', 'price': 9.99}})"
   ]
  },
  {
   "cell_type": "markdown",
   "metadata": {},
   "source": [
    "Data can be accessed using keys like a normal dictionary:"
   ]
  },
  {
   "cell_type": "code",
   "execution_count": null,
   "metadata": {},
   "outputs": [],
   "source": [
    "# Get a specific order\n",
    "find_order = orders['order_2905']"
   ]
  },
  {
   "cell_type": "markdown",
   "metadata": {},
   "source": [
    "The order can be retrieved by converting it to a list then accessing by index:"
   ]
  },
  {
   "cell_type": "code",
   "execution_count": null,
   "metadata": {},
   "outputs": [],
   "source": [
    "# Get the data in a list format\n",
    "orders_list = list(orders.items())\n",
    "third_order = orders_list[2]"
   ]
  },
  {
   "cell_type": "markdown",
   "metadata": {},
   "source": [
    "When using an OrderedDict, we are able to use its methods for moving the data around. We can move an element to the back or front and pop the data from the back or front of the OrderedDict:"
   ]
  },
  {
   "cell_type": "code",
   "execution_count": null,
   "metadata": {},
   "outputs": [],
   "source": [
    "# Move an item to the end of the OrderedDict\n",
    "orders.move_to_end('order_4829')\n",
    " \n",
    "# Pop the last item in the dictionary\n",
    "last_order = orders.popitem()"
   ]
  },
  {
   "cell_type": "markdown",
   "metadata": {},
   "source": [
    "Note: These two methods also accept boolean arguments which determine if the element is moved / popped from the front or back of the OrderedDict.\n",
    "\n",
    "For more information about the OrderedDict container, take a look at the Python Documentation.\n",
    "\n",
    "Now let’s try using an OrderedDict in our clothes app!\n",
    "\n",
    "## Instructions\n",
    "### 1. We want to add some logic to our application which will organize orders by their status. A list of orders is provided which includes the order number and the status. The status of an order can be purchased, returned, or canceled. To make things more organized, we want to remove the canceled orders and push the returned orders to the end. In order to do this, we can use an OrderedDict!\n",
    "\n",
    "For this first checkpoint, import the OrderedDict class and create a new object from that class called orders. Use the constructor to automatically convert the order_data into an OrderedDict.\n",
    "\n",
    "\n",
    "<B>Hint</B><br>\n",
    "\n",
    "To create a new OrderedDict from existing data, you can pass it as an argument to the constructor. In the case of the order_data you can use: OrderedDict(order_data).\n",
    "\n",
    "### 2. We need to keep track of which orders to remove and which ones to push back. To do this, create two new lists called to_move and to_remove. Iterate through each item in orders and check what the status is. If the status is 'returned' then add the key (order number string) to the to_move list. Otherwise, if the status is 'canceled' then add it to the to_remove list.\n",
    "\n",
    "\n",
    "<B>Hint</B><br>\n",
    "In order to loop through the OrderedDict while keeping track of the index, you can use a counter variable or you can enumerate the items in orders. This looks like: for i, (k, v) in enumerate(orders.items()):. Remember to break once you reach far enough. Also, you can modify the OrderedDict by setting the value after accessing it using a key: orders[key_value] = 'completed purchase'\n",
    "\n",
    "### 3. Now that we have the list of items to remove from orders, for every item in the to_remove list, .pop() the element from orders.\n",
    "\n",
    "\n",
    "<B>Hint</B><br>\n",
    "Use a for loop to iterate through each element in to_remove. Inside of the loop, use the .pop() method to remove every key found in the list from orders. Here is the format for popping: orders.pop(key_name).\n",
    "\n",
    "### 4. Now that all of the canceled orders have been removed, use another loop to push back any of the 'returned' orders from to_move to the end of orders. This will be similar to the last step, but this time we are using the .move_to_end() method.\n",
    "\n",
    "\n",
    "<B>Hint</B><br>\n",
    "Use a for loop to iterate through each element in to_move. Inside of the loop, use the .move_to_end() method to push back every key found in the list. Here is the format for moving the data: orders.move_to_end(key_name).\n",
    "\n",
    "### 5. Finally, use print to output the orders to the console!"
   ]
  },
  {
   "cell_type": "code",
   "execution_count": null,
   "metadata": {},
   "outputs": [],
   "source": [
    "from collections import OrderedDict\n",
    "\n",
    "# The first 15 orders are provided\n",
    "order_data = [['Order: 1', 'purchased'],\n",
    "              ['Order: 2', 'purchased'],\n",
    "              ['Order: 3', 'purchased'],\n",
    "              ['Order: 4', 'returned'],\n",
    "              ['Order: 5', 'purchased'],\n",
    "              ['Order: 6', 'canceled'],\n",
    "              ['Order: 7', 'returned'],\n",
    "              ['Order: 8', 'purchased'],\n",
    "              ['Order: 9', 'returned'],\n",
    "              ['Order: 10', 'canceled'],\n",
    "              ['Order: 11', 'purchased'],\n",
    "              ['Order: 12', 'returned'],\n",
    "              ['Order: 13', 'purchased'],\n",
    "              ['Order: 14', 'canceled'],\n",
    "              ['Order: 15', 'purchased']]\n",
    "\n",
    "# Write your code below!\n",
    "\n",
    "orders = OrderedDict(order_data)\n",
    "\n",
    "to_move = []\n",
    "to_remove = []\n",
    "\n",
    "for key, val in orders.items():\n",
    "  if val == 'returned':\n",
    "    to_move.append(key)\n",
    "  elif val == 'canceled':\n",
    "    to_remove.append(key)\n",
    "\n",
    "for item in to_remove:\n",
    "  orders.pop(item)\n",
    "\n",
    "for item in to_move:\n",
    "  orders.move_to_end(item)\n",
    "\n",
    "print(orders)"
   ]
  },
  {
   "cell_type": "markdown",
   "metadata": {},
   "source": [
    "# ChainMap\n",
    "There is another way to store dictionaries or other mappings in Python. We have looked at the defaultdict and OrderedDict so far and they handle a lot of situations so what else could we possibly need?\n",
    "\n",
    "Well, the ChainMap container allows us to store many mappings in an ordered group, but lookups (accessing the value using a key) are repeated for every mapping inside of the ChainMap until something is found or the end is reached. If we try to modify the data in any way, then only the first mapping in the ChainMap will receive the changes. When accessing data, one way to think of the ChainMap is that it treats all of the stored dictionaries as one large dictionary, where if there are repeated keys, then the first found result is returned. Let’s see what this looks like with an example using a customer’s clothing dimensions!\n",
    "\n",
    "First, we import the ChainMap container and set up our data."
   ]
  },
  {
   "cell_type": "code",
   "execution_count": null,
   "metadata": {},
   "outputs": [],
   "source": [
    "from collections import ChainMap\n",
    " \n",
    "customer_info = {'name': 'Dmitri Buyer', 'age': '31', 'address': '123 Python Lane', 'phone_number': '5552930183'}\n",
    " \n",
    "shirt_dimensions = {'shoulder': 20, 'chest': 42, 'torso_length': 29}\n",
    " \n",
    "pants_dimensions = {'waist': 36, 'leg_length': 42.5, 'hip': 21.5, 'thigh': 25, 'bottom': 18}"
   ]
  },
  {
   "cell_type": "markdown",
   "metadata": {},
   "source": [
    "Next, we initialize a ChainMap with the mappings which we want to use. In this case, the mappings are the dimensions dictionaries."
   ]
  },
  {
   "cell_type": "code",
   "execution_count": null,
   "metadata": {},
   "outputs": [],
   "source": [
    "customer_data = ChainMap(customer_info, shirt_dimensions, pants_dimensions)"
   ]
  },
  {
   "cell_type": "markdown",
   "metadata": {},
   "source": [
    "Now we can access values from any of the stored mappings."
   ]
  },
  {
   "cell_type": "code",
   "execution_count": null,
   "metadata": {},
   "outputs": [],
   "source": [
    "customer_leg_length = customer_data['leg_length']"
   ]
  },
  {
   "cell_type": "markdown",
   "metadata": {},
   "source": [
    "The parents property skips the first mapping and returns everything else (all of the parents of the first mapping)."
   ]
  },
  {
   "cell_type": "code",
   "execution_count": null,
   "metadata": {},
   "outputs": [],
   "source": [
    "customer_size_data = customer_data.parents"
   ]
  },
  {
   "cell_type": "markdown",
   "metadata": {},
   "source": [
    "We can directly modify the data only in the first dictionary."
   ]
  },
  {
   "cell_type": "code",
   "execution_count": null,
   "metadata": {},
   "outputs": [],
   "source": [
    "customer_data['address'] = '456 ChainMap Drive'"
   ]
  },
  {
   "cell_type": "markdown",
   "metadata": {},
   "source": [
    "Note: In order to modify data from dictionaries which are deeper in the ChainMap, we will need to iterate through the dictionaries which are stored inside of it.\n",
    "\n",
    "As we can see in this example, we create a new ChainMap using three different dictionaries. This allows us to access any of the key:value pairs stored inside.\n",
    "\n",
    "Another interesting concept that the ChainMap uses is the concept of a parent mappings. If we use the .parents property, all mappings except the first one will be returned. This is because those mappings are considered to be the parent mappings to the first one. You can add a new “child” mapping to the front of the list of mappings using the .new_child() method.\n",
    "\n",
    "To find out more about this container, check out the Python Documentation.\n",
    "\n",
    "Now let’s use a ChainMap to keep track of our clothes business profits for the last 12 months!"
   ]
  },
  {
   "cell_type": "markdown",
   "metadata": {},
   "source": [
    "## Instructions\n",
    "#### 1. Our business has been doing well over the past year and we have been provided with a list of dictionaries representing the amount of profit per month as well as additional profit from holidays when applicable. We want an easy way to monitor our profit over the most recent 12 month period. To do this, we can use the ChainMap class. This will allow us to conserve historical data while also allowing us to retrieve the most recent data. It will even allow us to work with additional keys within dictionary updates.\n",
    "\n",
    "First, remember to import ChainMap. Then create a new ChainMap called profit_map using the year_profit_data list. Remember that a ChainMap accepts a variable number of arguments so we need to expand the list (*) so the constructor will read them as individual arguments instead of one single argument.\n",
    "\n",
    "\n",
    "<b>Hint</b><br>\n",
    "Remember to expand a list in python using an asterisk. This will look like: ChainMap(*year_profit_data).\n",
    "\n",
    "#### 2. For the next step, we need logic which will be able to calculate the normal profits and the holiday profits separately. Create a function called get_profits which calculates the sum of the standard profits (keys not containing 'holiday') and the holiday profits (keys containing 'holiday') in two different variables. Make this function return the two variables: the standard profit first and the holiday profit second. Additionally, call the function using the profit_map and store the results in variables called last_year_standard_profit and last_year_holiday_profit.\n",
    "\n",
    "\n",
    "<b>Hint</b><br>\n",
    "When creating this function, you can loop through each of the keys in the ChainMap since it is treated like one big dictionary. If 'holiday' is in the key, then add the value to the total count for the holiday profit, otherwise add the value to the standard profit. remember to return both values.\n",
    "\n",
    "#### \n",
    "3. It has been three months and our accountant has sent three more months worth of profit data in the form of a list of dictionaries called new_months_data. Add the new mappings to the profit_map so that the old January - March months are still in the ChainMap, but accessing those keys will return data for the most recent three months. Call the get_profits function on the profit_map again and store the results in current_year_standard_profit and current_year_holiday_profit to calculate the sum of the most recent 12 months of profit data.\n",
    "\n",
    "\n",
    "<b>Hint</b><br>\n",
    "Remember to add new dictionaries to the profit_map instead of updating the first dictionary in the group of mappings. To do this you can use .new_child(new_dictionary). Keep in mind that this method returns a new ChainMap object, so you will need to replace the old version of profit_map.\n",
    "\n",
    "4.\n",
    "Finally, we want to take a look at the difference in the last 12 month period compared to the current 12 month period. Calculate the difference for the standard and holiday profits and store them in variables called year_diff_standard_profit and year_diff_holiday_profit. Print out the results to see the difference in profit for the current 12 month period.\n",
    "\n",
    "\n",
    "<b>Hint</b><br>\n",
    "In order to calculate the difference between total profits, subtract last year’s total profit from the current year’s total profit for each type of profit. Don’t forget to store the two answers in year_diff_standard_profit and year_diff_holiday_profit."
   ]
  },
  {
   "cell_type": "code",
   "execution_count": null,
   "metadata": {},
   "outputs": [],
   "source": [
    "from collections import ChainMap\n",
    "year_profit_data = [\n",
    "    {'jan_profit': 15492.30, 'jan_holiday_profit': 2589.12},\n",
    "    {'feb_profit': 17018.05, 'feb_holiday_profit': 3701.88},\n",
    "    {'mar_profit': 11849.13},\n",
    "    {'apr_profit': 9870.68},\n",
    "    {'may_profit': 13662.34},\n",
    "    {'jun_profit': 12903.54},\n",
    "    {'jul_profit': 16965.08, 'jul_holiday_profit': 4360.21},\n",
    "    {'aug_profit': 17685.69},\n",
    "    {'sep_profit': 9815.57},\n",
    "    {'oct_profit': 10318.28},\n",
    "    {'nov_profit': 23295.43, 'nov_holiday_profit': 9896.55},\n",
    "    {'dec_profit': 21920.19, 'dec_holiday_profit': 8060.79}\n",
    "]\n",
    "\n",
    "new_months_data = [\n",
    "    {'jan_profit': 13977.85, 'jan_holiday_profit': 2176.43},\n",
    "    {'feb_profit': 16692.15, 'feb_holiday_profit': 3239.74},\n",
    "    {'mar_profit': 17524.35, 'mar_holiday_profit': 4301.92}\n",
    "]\n",
    "\n",
    "# Write your code below!\n",
    "\n",
    "# Checkpoint #1\n",
    "profit_map = ChainMap(*year_profit_data)\n",
    "\n",
    "# Checkpoint #2\n",
    "def get_profits(input_map):\n",
    "    total_standard_profit = 0.0\n",
    "    total_holiday_profit = 0.0\n",
    "\n",
    "    for key in input_map.keys():\n",
    "        if 'holiday' in key:\n",
    "            total_holiday_profit += input_map[key]\n",
    "        else:\n",
    "            total_standard_profit += input_map[key]\n",
    "\n",
    "    return total_standard_profit, total_holiday_profit\n",
    "\n",
    "# Checkpoint #3\n",
    "last_year_standard_profit, last_year_holiday_profit = get_profits(profit_map)\n",
    "\n",
    "# Checkpoint #3\n",
    "for item in new_months_data:\n",
    "  profit_map = profit_map.new_child(item)\n",
    "\n",
    "current_year_standard_profit, current_year_holiday_profit = get_profits(profit_map)\n",
    " \n",
    "year_diff_standard_profit = current_year_standard_profit - last_year_standard_profit\n",
    "\n",
    "year_diff_holiday_profit = current_year_holiday_profit - last_year_holiday_profit\n"
   ]
  },
  {
   "cell_type": "markdown",
   "metadata": {},
   "source": [
    "# Counter\n",
    "One of the most common tasks we might have to do in a program is to count instances of an element in a collection. Below, we will examine a Python list and look at one particular way we count elements, and then see how the collections module allows us to improve upon our implementation using the Counter collection.\n",
    "\n",
    "First, lets define a list of items. Since we have been working on a application for our clothing store, lets stick with clothing items:"
   ]
  },
  {
   "cell_type": "code",
   "execution_count": null,
   "metadata": {},
   "outputs": [],
   "source": [
    "clothes_list = ['skirt', 'hoodie', 'dress', 'blouse', 'jeans', 'shoes', 'skirt', 'skirt', 'jeans', 'hoodie', 'boots', 'jeans', 'jacket', 't-shirt', 'skirt', 'skirt', 'dress', 'shoes', 'blouse', 'hoodie', 'skirt', 'boots', 'shoes', 'boots', 'jeans', 'hoodie', 'blouse', 'hoodie', 'shoes', 'shoes', 'blouse', 'boots', 'blouse', 'hoodie', 't-shirt', 'jeans', 'dress', 'skirt', 'jacket', 'boots', 'skirt', 'dress', 'jeans', 'jeans', 'jacket', 'jeans', 'shoes', 'dress', 'hoodie', 'blouse']"
   ]
  },
  {
   "cell_type": "markdown",
   "metadata": {},
   "source": [
    "If we wanted to create a representation of how many of each item exist in our collection, we could use a loop and a dictionary. Here is what it might look like:"
   ]
  },
  {
   "cell_type": "code",
   "execution_count": null,
   "metadata": {},
   "outputs": [],
   "source": [
    "counted_items = {}\n",
    "for item in clothes_list:\n",
    "   if item not in counted_items:\n",
    "       counted_items[item] = 1\n",
    "   else:\n",
    "       counted_items[item] += 1\n",
    " \n",
    "print(counted_items)"
   ]
  },
  {
   "cell_type": "markdown",
   "metadata": {},
   "source": [
    "This would output (in no particular order):"
   ]
  },
  {
   "cell_type": "code",
   "execution_count": null,
   "metadata": {},
   "outputs": [],
   "source": [
    "{'skirt': 8, 'hoodie': 7, 'dress': 5, 'blouse': 6, 'jeans': 8, 'shoes': 6, 'boots': 5, 'jacket': 3, 't-shirt': 2}"
   ]
  },
  {
   "cell_type": "markdown",
   "metadata": {},
   "source": [
    "While this is a perfectly sound solution to our counting problem, we can actually accomplish this goal much quicker using the Counter container!\n",
    "\n",
    "The Counter container instantly counts elements for any hashable object. It stores the data as a dictionary where the keys are the elements and the values are the number of occurrences. Here is what the same problem looks like, but with the Counter container:"
   ]
  },
  {
   "cell_type": "code",
   "execution_count": null,
   "metadata": {},
   "outputs": [],
   "source": [
    "from collections import Counter\n",
    " \n",
    "counted_items = Counter(clothes_list)\n",
    "print(counted_items)"
   ]
  },
  {
   "cell_type": "markdown",
   "metadata": {},
   "source": [
    "Would Output:"
   ]
  },
  {
   "cell_type": "code",
   "execution_count": null,
   "metadata": {},
   "outputs": [],
   "source": [
    "Counter({'skirt': 8, 'jeans': 8, 'hoodie': 7, 'blouse': 6, 'shoes': 6, 'dress': 5, 'boots': 5, 'jacket': 3, 't-shirt': 2})"
   ]
  },
  {
   "cell_type": "markdown",
   "metadata": {},
   "source": [
    "This allows us to create a much more elegant solution without many lines of code. Additionally, the Counter class has methods that provide further utility when working with our data. These methods include mathematical operations for subtracting one count dictionary from another, finding the most common elements, and even generating a new list of elements based on the number of occurrences.\n",
    "\n",
    "For more information about the Counter class, take a look at the Python documentation.\n",
    "\n",
    "Let’s now practice using the Counter class!"
   ]
  },
  {
   "cell_type": "markdown",
   "metadata": {},
   "source": [
    "## Instructions\n",
    "### 1. We have decided to add some more logic to our clothing store application to automatically calculate how much of each product has been sold based on our inventory at the start of the day vs the end of the day.\n",
    "\n",
    "First, let’s define a function called find_amount_sold. Our function will need three parameters: opening, closing, and item. For now, inside of the function, simply add the keyword return. Also, don’t forget to import the Counter class as we will be using it throughout the checkpoints.\n",
    "\n",
    "\n",
    "<B>Hint</b><br>\n",
    "Remember to define a function using the keyword def and to include the three arguments inside a parenthesis.\n",
    "\n",
    "### 2. At this point, we could create two loops to meticulously count every item in each list, but instead, let’s create two Counter objects to calculate a count of items in our opening and closing inventory.\n",
    "\n",
    "Inside of our new function, and before it returns, create a variable called opening_count and store a Counter object passing in the opening parameter as the counter’s input.\n",
    "\n",
    "Then, create a variable called closing_count which stores a Counter object and passes in the closing parameter into the Counter.\n",
    "\n",
    "\n",
    "<b>Hint</b><br>\n",
    "When creating a Counter object, remember to pass the container to count as an argument into its constructor. The format looks like this:\n",
    "answer = find_amount_sold(list1, list2, 'item to search for string')"
   ]
  },
  {
   "cell_type": "code",
   "execution_count": null,
   "metadata": {},
   "outputs": [],
   "source": [
    "from collections import Counter\n",
    "opening_inventory = ['shoes', 'shoes', 'skirt', 'jeans', 'blouse', 'shoes', 't-shirt', 'dress', 'jeans', 'blouse', 'skirt', 'skirt', 'shorts', 'jeans', 'dress', 't-shirt', 'dress', 'blouse', 't-shirt', 'dress', 'dress', 'dress', 'jeans', 'dress', 'blouse']\n",
    "\n",
    "closing_inventory = ['shoes', 'skirt', 'jeans', 'blouse', 'dress', 'skirt', 'shorts', 'jeans', 'dress', 'dress', 'jeans', 'dress', 'blouse']\n",
    "\n",
    "# Write your code below!\n",
    "\n",
    "def find_amount_sold(opening, closing, item):\n",
    "  opening_count = Counter(opening)\n",
    "  closing_count = Counter(closing) \n",
    "  opening_count.subtract(closing_count)\n",
    "  return opening_count[item]\n",
    "\n",
    "tshirts_sold = find_amount_sold(opening_inventory, closing_inventory, 't-shirt')\n",
    "\n",
    "print(tshirts_sold)"
   ]
  },
  {
   "cell_type": "markdown",
   "metadata": {},
   "source": [
    "# Container Wrappers\n",
    "In Python, wrappers are modifications to functions or classes which change the behavior in some way. They are called wrappers because they “wrap” around the existing code to modify it. This is most commonly used with function wrapping, but we can also wrap classes. Let’s take a look at an example of a class wrapper:\n",
    "\n",
    "First, we need a class to wrap around."
   ]
  },
  {
   "cell_type": "code",
   "execution_count": null,
   "metadata": {},
   "outputs": [],
   "source": [
    "class Customer:\n",
    " \n",
    "  def __init__(self, name, age, address, phone_number):\n",
    "    self.name = name\n",
    "    self.age = age\n",
    "    self.address = address\n",
    "    self.phone_number = phone_number"
   ]
  },
  {
   "cell_type": "markdown",
   "metadata": {},
   "source": [
    "Next, we create a wrapper class which stores an object of the class we are wrapping around. It also includes some additional functionality."
   ]
  },
  {
   "cell_type": "code",
   "execution_count": null,
   "metadata": {},
   "outputs": [],
   "source": [
    "class CustomerWrap(Customer):\n",
    " \n",
    "  def __init__(self, name, age, address, phone_number):\n",
    "    self.customer = Customer(name, age, address, phone_number)\n",
    " \n",
    "  def display_customer_info(self):\n",
    "    print('Name: ' + self.customer.name)\n",
    "    print('Age: ' + str(self.customer.age))\n",
    "    print('Address: ' + self.customer.address)\n",
    "    print('Phone Number: ' + self.customer.phone_number)"
   ]
  },
  {
   "cell_type": "markdown",
   "metadata": {},
   "source": [
    "Finally, we can create an object from the wrapper class to access the new functionality and the wrapped class contained inside."
   ]
  },
  {
   "cell_type": "code",
   "execution_count": null,
   "metadata": {},
   "outputs": [],
   "source": [
    "customer = CustomerWrap('Dmitri Buyer', 38, '123 Python Avenue', '5557098603')\n",
    "customer.display_customer_info()\n",
    " \n",
    "# Output\n",
    "# Name: Dmitri Buyer\n",
    "# Age: 38\n",
    "# Address: 123 Python Avenue\n",
    "# Phone Number: 5557098603"
   ]
  },
  {
   "cell_type": "markdown",
   "metadata": {},
   "source": [
    "Wrapper classes allow us to create different variations of classes with different purposes while avoiding duplicate code. Since we use an instance of the wrapped class inside of it, it preserves all of the attributes and methods from the wrapped class and keeps us from having to re-type all of the code.\n",
    "\n",
    "In the case of containers, the collections class has three different wrapper classes set up for us to modify! Because of this, we can refer to them as wrapper containers. The advanced containers which we have already been looking at are variations of the standard built-in containers, so using wrapper containers allows us to create our own versions as well.\n",
    "\n",
    "The three wrapper containers we will be looking at are:\n",
    "\n",
    "- UserDict\n",
    "- UserList\n",
    "- UserString\n",
    "## Instructions\n",
    "Take a look at the provided CustomerWrap class. Play around with the code and then click Next to move on!"
   ]
  },
  {
   "cell_type": "code",
   "execution_count": null,
   "metadata": {},
   "outputs": [],
   "source": [
    "class Customer:\n",
    " \n",
    "  def __init__(self, name, age, address, phone_number):\n",
    "    self.name = name\n",
    "    self.age = age\n",
    "    self.address = address\n",
    "    self.phone_number = phone_number\n",
    "\n",
    "\n",
    "class CustomerWrap(Customer):\n",
    " \n",
    "  def __init__(self, name, age, address, phone_number):\n",
    "    self.customer = Customer(name, age, address, phone_number)\n",
    " \n",
    "  def display_customer_info(self):\n",
    "    print('Name: ' + self.customer.name)\n",
    "    print('Age: ' + str(self.customer.age))\n",
    "    print('Address: ' + self.customer.address)\n",
    "    print('Phone Number: ' + self.customer.phone_number)\n",
    "\n",
    "\n",
    "customer = CustomerWrap('Dmitri Buyer', 38, '123 Python Avenue', '5557098603')\n",
    "customer.display_customer_info()"
   ]
  },
  {
   "cell_type": "markdown",
   "metadata": {},
   "source": [
    "# UserDict\n",
    "In this lesson, we have seen advanced containers which modify the functionality of a dictionary such as the defaultdict and OrderedDict. The UserDict container wrapper lets us create our own version of a dictionary. This class contains all of the functionality of a normal dict, except that we can access the dictionary data through the data property. Here’s an example of creating a modified dictionary:"
   ]
  },
  {
   "cell_type": "code",
   "execution_count": null,
   "metadata": {},
   "outputs": [],
   "source": [
    "from collections import UserDict\n",
    " \n",
    "# Create a class which inherits from the UserDict class\n",
    "class DisplayDict(UserDict):\n",
    "    # A new method to increase the dictionary's functionality\n",
    "    def display_info(self):\n",
    "        print(\"Number of Keys: \" + str(len(self.keys())))\n",
    "        print(\"Keys: \" + str(list(self.keys())))\n",
    "        print(\"Number of Values: \" + str(len(self.values())))\n",
    "        print(\"Keys: \" + str(list(self.values())))\n",
    " \n",
    "    # We can also overwrite a method from the dictionary class\n",
    "    def clear(self):\n",
    "        print(\"Deleting all items from the dictionary!\")\n",
    "        super().clear()\n",
    " \n",
    "disp_dict = DisplayDict({'user': 'Mark', 'device': 'desktop', 'num_visits': 37})\n",
    " \n",
    "disp_dict.display_info()\n",
    " \n",
    "disp_dict.clear()"
   ]
  },
  {
   "cell_type": "markdown",
   "metadata": {},
   "source": [
    "As shown in this code example, we can add additional methods and overwrite methods from the UserDictclass. This is the same as inheriting from regular classes in Python.\n",
    "\n",
    "Now let’s create our own dict class!"
   ]
  },
  {
   "cell_type": "markdown",
   "metadata": {},
   "source": [
    "# Instructions\n",
    "#### 1. Let’s try creating a new dictionary which is able to clear orders which are already processed when the method .clean_orders() is called. Import the UserDict class and create a new class which inherits from it called OrderProcessingDict. The .clean_orders() method should search for any keys called ‘order_status’ and if value is equal to 'complete', remove the entire order from the dictionary.\n",
    "\n",
    "\n",
    "<B>Hint</b><br>\n",
    "Remember to inherit from the UserDict class using: class OrderProcessingDict(UserDict):. The dictionary data inside of the OrderProcessingDict class can be accessed with self.data. Try iterating through each item in the dictionary and testing the dictionary stored in the value. You could keep a list of the keys to delete and iterate through those at the end of the method to del any keys which need to be removed.\n",
    "\n",
    "#### 2. Now that you have created your own class, try creating an instance of it called process_dict while passing data into the constructor. Afterwards, call the .clean_orders() method to automatically clean the orders inside. You can also print your custom dictionary to see the results."
   ]
  },
  {
   "cell_type": "code",
   "execution_count": null,
   "metadata": {},
   "outputs": [],
   "source": [
    "from collections import UserDict\n",
    "data = {'order_4829': {'type': 't-shirt', 'size': 'large', 'price': 9.99, 'order_status': 'processing'},\n",
    "        'order_6184': {'type': 'pants', 'size': 'medium', 'price': 14.99, 'order_status': 'complete'},\n",
    "        'order_2905': {'type': 'shoes', 'size': 12, 'price': 22.50, 'order_status': 'complete'},\n",
    "        'order_7378': {'type': 'jacket', 'size': 'large', 'price': 24.99, 'order_status': 'processing'}}\n",
    "\n",
    "# Write your code below!\n",
    "class OrderProcessingDict(UserDict):\n",
    "\n",
    "  def clean_orders(self):\n",
    "    to_del = []\n",
    "\n",
    "    for key, val in self.data.items():\n",
    "      if val['order_status'] == 'complete':\n",
    "        to_del.append(key)\n",
    "\n",
    "    for item in to_del:\n",
    "      del self.data[item]\n",
    "\n",
    "\n",
    "process_dict = OrderProcessingDict(data)\n",
    "process_dict.clean_orders()\n",
    "print(process_dict)"
   ]
  },
  {
   "cell_type": "markdown",
   "metadata": {},
   "source": [
    "# UserList\n",
    "Not only can we create our own version of a dictionary, the UserList wrapper container lets us create our own list as well! This class contains all of the functionality of a regular list, but it also has a property called data which allows us to access the list contents directly. Here is an example of a modified list using the container wrapper:"
   ]
  },
  {
   "cell_type": "code",
   "execution_count": null,
   "metadata": {},
   "outputs": [],
   "source": [
    "from collections import UserList\n",
    " \n",
    "# Create a class which inherits from the UserList class\n",
    "class CondenseList(UserList):\n",
    " \n",
    "    # A new method to remove duplicate items from the list\n",
    "    def condense(self):\n",
    "        self.data = list(set(self.data))\n",
    "        print(self.data)\n",
    " \n",
    " \n",
    "    # We can also overwrite a method from the list class\n",
    "    def clear(self):\n",
    "        print(\"Deleting all items from the list!\")\n",
    "        super().clear()\n",
    " \n",
    "condense_list = CondenseList(['t-shirt', 'jeans', 'jeans', 't-shirt', 'shoes'])\n",
    " \n",
    "condense_list.condense()\n",
    " \n",
    "condense_list.clear()"
   ]
  },
  {
   "cell_type": "markdown",
   "metadata": {},
   "source": [
    "As shown in this code example, we can add additional methods and overwrite methods from the UserList class. This is the same as inheriting from regular classes in Python.\n",
    "\n",
    "Let’s try creating our own list class!"
   ]
  },
  {
   "cell_type": "markdown",
   "metadata": {},
   "source": [
    "## Instructions\n",
    "### 1. Now, let’s try creating a custom list class using UserList. Create a new class called ListSorter which inherits from the UserList class. Inside of this class, overwrite the .append() method to sort the list after appending the value to it.\n",
    "\n",
    "\n",
    "<B>Hint</b><br>\n",
    "You can inherit from the UserList class using the format: class ListSorter(UserList):. In order to overwrite the .append() method, redefine the method with the same name inside of the class with the same number of arguments (self, and the value which is being appended). Make sure to call .append() before .sort().\n",
    "\n",
    "### 2. Now that we have created our own list class, try creating an object using it’s constructor. Create an object called sorted_list and pass data into the ListSorter constructor. Afterwards, append the value 2 to the new object and print out the results.\n",
    "\n",
    "\n",
    "<B>Hint</b><br>\n",
    "In order to create a new instance of the ListSorter class while passing data into the constructor, you can use: sorted_list = ListSorter(data). In order to append to your object, you can use: sorted_list.append(2)."
   ]
  },
  {
   "cell_type": "code",
   "execution_count": null,
   "metadata": {},
   "outputs": [],
   "source": [
    "from collections import UserList\n",
    "data = [4, 6, 8, 9, 5, 7, 3, 1, 0]\n",
    "\n",
    "# Write your code below!\n",
    "\n",
    "# Checkpoint #1\n",
    "class ListSorter(UserList):\n",
    "\n",
    "    def append(self, item):\n",
    "        self.data.append(item)\n",
    "        self.data.sort()\n",
    "\n",
    "# Checkpoint #2\n",
    "sorted_list = ListSorter(data)\n",
    "sorted_list.append(2)\n",
    "print(sorted_list)"
   ]
  },
  {
   "cell_type": "markdown",
   "metadata": {},
   "source": [
    "# UserString\n",
    "Since strings are also considered containers, the collections module also provides a container wrapper for the string class. This contains all of the functionality of a regular string, but it includes the string’s data inside of a property called data. Inheriting from this class allows us to create our own version of a string! Here is an example:"
   ]
  },
  {
   "cell_type": "code",
   "execution_count": null,
   "metadata": {},
   "outputs": [],
   "source": [
    "from collections import UserString\n",
    " \n",
    "# Create a class which inherits from the UserString class\n",
    "class IntenseString(UserString):\n",
    " \n",
    "    # A new method to capitalize and add exclamation points to our string\n",
    "    def exclaim(self):\n",
    "        self.data = self.data.upper() + '!!!'\n",
    "        return self.data\n",
    " \n",
    " \n",
    "    # Overwrite the count method to only count a certain letter\n",
    "    def count(self, sub=None, start=0, end=0):\n",
    "        num = 0\n",
    "        for let in self.data:\n",
    "            if let == 'P':\n",
    "                num+=1\n",
    "        return num\n",
    " \n",
    " \n",
    "intense_string = IntenseString(\"python rules\")\n",
    " \n",
    "print(intense_string.exclaim())\n",
    "print(intense_string.count())"
   ]
  },
  {
   "cell_type": "markdown",
   "metadata": {},
   "source": [
    "This shows how we can add additional methods to the original container’s class or even overwrite existing methods. This is the same as inheriting from regular classes in Python.\n",
    "\n",
    "Now let’s create our own string class!"
   ]
  },
  {
   "cell_type": "markdown",
   "metadata": {},
   "source": [
    "## Instructions\n",
    "### 1. Let’s create a new string class using UserString. Import the UserString class and create a new class called SubtractString which inherits from it. In this class, overwrite the - operator to remove the string on the right side of the operator from the string stored in the object. Another way to think about this is to replace the substring on the right side of the operator with an empty string.\n",
    "\n",
    "\n",
    "<B>Hint</b><br>\n",
    "In order to inherit from the UserString class you can use: class SubtractString(UserString):. In order to overwrite the - operator you can use: def __sub__(self, other):. Inside of this method, to remove the substring, you can check if it is in self.data and if it is, .replace() the substring with ''.\n",
    "\n",
    "### 2. Now that we have created our new string class, create a new object from that class called subtract_string while passing str_name in as the argument to the constructor. Next, use the - operator to subtract the substring str_word from subtract_string."
   ]
  },
  {
   "cell_type": "code",
   "execution_count": null,
   "metadata": {},
   "outputs": [],
   "source": [
    "from collections import UserString\n",
    "str_name = 'python powered patterned products'\n",
    "str_word = 'patterned '\n",
    "\n",
    "# Write your code below!\n",
    "\n",
    "# Checkpoint #1\n",
    "class SubtractString(UserString):\n",
    "\n",
    "    def __sub__(self, other):\n",
    "        if other in self.data:\n",
    "            self.data = self.data.replace(other, '')\n",
    "\n",
    "# Checkpoint #2\n",
    "subtract_string = SubtractString(str_name)\n",
    "subtract_string - str_word\n",
    "print(subtract_string)"
   ]
  },
  {
   "cell_type": "markdown",
   "metadata": {},
   "source": [
    "# Review of Specialized Containers\n",
    "Nice work! We have learned about all sorts of advanced containers which can help make programming easier, more organized, and more optimized! We even learned how to make our own advanced containers using container wrappers. Let’s review the use case for each of the advanced containers from the collections class:\n",
    "\n",
    "- deque\n",
    "    - An advanced container which is optimized for appending and popping items from the front and back. For accessing many elements positioned elsewhere, it is better to use a list.\n",
    "- namedtuple\n",
    "    - The namedtuple lets us create an immutable data structure similar to a tuple, but we don’t have to access the stored data using indices. Instead, we can create instances of our namedtuple with named attributes. We can then use the . operator to retrieve data by the attribute names.\n",
    "- Counter\n",
    "    - This advanced container automatically counts the data within a hashable object which we pass into it’s constructor. It stores it as a dictionary where the keys are the elements and the values are the number of occurrences.\n",
    "- defaultdict\n",
    "    - An advanced container which behaves like a regular dictionary, except that it does not throw an error when trying to access a key which does not exist. Instead, it creates a new key:value pair where the value defaults to what we provide in the constrictor for the defaultdict.\n",
    "- OrderedDict\n",
    "    - The OrderedDict combines the functionality of a list and a dict by preserving the order of elements, but also allowing us to access values using keys without having to provide an index for the position of stored dictionaries.\n",
    "- ChainMap\n",
    "    - This interesting container combines multiple mappings into a single container. When accessing a value using a key, it will search through every mapping contained within until a match is found or the end is reached. It also provides some useful methods for grouping parent and child mappings.\n",
    "- UserDict\n",
    "    - This is a container wrapper which lets us create our own version of a dictionary\n",
    "- UserList\n",
    "    - This is a container wrapper which lets us create our own version of a list\n",
    "- UserString\n",
    "    - This is a container wrapper which lets us create our own version of a string\n",
    "\n",
    "\n",
    "Let’s try combining some of these concepts by adding one last addition to our clothes store app!"
   ]
  },
  {
   "cell_type": "markdown",
   "metadata": {},
   "source": [
    "# Instructions\n",
    "### 1. The final addition to our clothes store app will be some logic for bundling overstocked items into groups to sell at once. We would like to split our items by price and then pick three cheaper items and two more expensive items per bundle. Finally, we are going to promote the bundles which have a value greater than 100 dollars.\n",
    "\n",
    "For the first step, import the deque and namedtuple classes from the collections module and create a new deque called split_prices.\n",
    "\n",
    "\n",
    "<B>Hint</b><br>\n",
    "Remember to create a new deque using its constructor: deque().\n",
    "\n",
    "### 2. Now that the deque has been created, for every clothes item in the overstock_items list, if the price if greater than 20 dollars than append the item to the front of split_prices, otherwise append it to the back of split_prices.\n",
    "\n",
    "\n",
    "<B>Hint</b><br>\n",
    "Remember to append to the front of a deque using .appendleft() and append to the back using .append().\n",
    "\n",
    "### 3. To make the data easier to read and work with, create a namedtuple subclass called ClothesBundle. Set the typename to ClothesBundle and the field_names to bundle_items and bundle_price.\n",
    "\n",
    "\n",
    "<B>Hint</b><br>\n",
    "Remember to create a namedtuple subclass using this format: subclass_name = namedtuple(typename, [field_name_1, field_name_2, ...]).\n",
    "\n",
    "### 4. This next step is a bit tricky. First, create an empty list called bundles. Use a loop to continue iterating as long as there are at least 5 elements left in split_prices.\n",
    "\n",
    "On each iteration, append a new ClothesBundle object to the bundles list. The ClothesBundle object will be created by making a bundle of three cheap items and two expensive items. This can be accomplished using list of items by popping from the back of split_prices three times and the popping from the front of split_prices two times.\n",
    "\n",
    "Use that list of clothes items as the bundle_items in theClothesBundle. Calculate the sum of the prices for the bundle and store that as the bundle_price in the ClothesBundle.\n",
    "\n",
    "\n",
    "<B>Hint</b><br>\n",
    "To create the bundle of items from the three cheaper items and two expensive items we can pop three times from the back and two times from the front. This could look something like: bundle_list = [split_prices.pop(), split_prices.pop(), split_prices.pop(), split_prices.popleft(), split_prices.popleft()]. In order to calculate the sum of the new bundle list, we can use a loop. This could look like: calc_price = sum(b[1] for b in bundle_list). Pass these two values into the ClothesBundle constructor and append it to the bundles list.\n",
    "\n",
    "### 5. Use the bundles list to find out which bundles should be promoted. Create a new list called promoted_bundles. For every bundle in bundles which has a total value of over 100 dollars, add that bundle to promoted_bundles.\n",
    "\n",
    "\n",
    "<B>Hint</b><br>\n",
    "Use a for loop to iterate over each ClothesBundle object in bundles. Use the bundle_price attribute of each object to determine if it is greater than or less than 100 dollars.\n",
    "\n",
    "### 6. Finally, print out the list of promoted_bundles to see the result!\n",
    "\n",
    "\n",
    "<B>Hint</b><br>\n",
    "Use the print() function on promoted_bundles."
   ]
  },
  {
   "cell_type": "code",
   "execution_count": null,
   "metadata": {},
   "outputs": [],
   "source": [
    "from collections import *\n",
    "\n",
    "overstock_items = [['shirt_103985', 15.99],\n",
    "                    ['pants_906841', 19.99],\n",
    "                    ['pants_765321', 15.99],\n",
    "                    ['shoes_948059', 29.99],\n",
    "                    ['shoes_356864', 9.99],\n",
    "                    ['shirt_865327', 10.99],\n",
    "                    ['shorts_086853', 9.99],\n",
    "                    ['pants_267953', 21.99],\n",
    "                    ['dress_976264', 32.99],\n",
    "                    ['shoes_135786', 17.99],\n",
    "                    ['skirt_196543', 12.99],\n",
    "                    ['jacket_976535', 26.99],\n",
    "                    ['pants_086367', 30.99],\n",
    "                    ['dress_357896', 29.99],\n",
    "                    ['shoes_157895', 14.99]]\n",
    "\n",
    "# Write your code below!\n",
    "\n",
    "# Checkpoint #1\n",
    "split_prices = deque()\n",
    "\n",
    "#Checkpoint #2\n",
    "for item in overstock_items:\n",
    "    if item[1] > 20.0:\n",
    "        split_prices.appendleft(item)\n",
    "    else:\n",
    "        split_prices.append(item)\n",
    "\n",
    "# Checkpoint #3\n",
    "ClothesBundle = namedtuple('ClothesBundle', ['bundle_items', 'bundle_price'])\n",
    "\n",
    "# Checkpoint #4\n",
    "bundles = []\n",
    "while len(split_prices) >= 5:\n",
    "    bundle_list = [split_prices.pop(), split_prices.pop(), split_prices.pop(), split_prices.popleft(),\n",
    "                   split_prices.popleft()]\n",
    "    calc_price = sum(b[1] for b in bundle_list)\n",
    "    bundles.append(ClothesBundle(bundle_list, calc_price))\n",
    "\n",
    "# Checkpoint #5\n",
    "promoted_bundles = []\n",
    "for bundle in bundles:\n",
    "    if bundle.bundle_price > 100:\n",
    "        promoted_bundles.append(bundle)\n",
    "\n",
    "# Checkpoint #6\n",
    "print(promoted_bundles)\n",
    "\n",
    "# for bundle in promoted_bundles:\n",
    "#     print(bundle)  "
   ]
  }
 ],
 "metadata": {
  "interpreter": {
   "hash": "126de395fc5ab05c9b404d5156ac230f2dc2d73638f7037ba66d30fa539ce6ef"
  },
  "kernelspec": {
   "display_name": "Python 3.10.1 64-bit",
   "language": "python",
   "name": "python3"
  },
  "language_info": {
   "name": "python",
   "version": "3.10.1"
  },
  "orig_nbformat": 4
 },
 "nbformat": 4,
 "nbformat_minor": 2
}
