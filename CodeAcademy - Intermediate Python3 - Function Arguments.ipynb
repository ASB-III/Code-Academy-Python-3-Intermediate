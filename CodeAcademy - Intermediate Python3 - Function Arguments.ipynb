{
 "cells": [
  {
   "cell_type": "markdown",
   "metadata": {},
   "source": [
    "# FUNCTION ARGUMENTS\n",
    "## Function Arguments: A Recap\n",
    "In Python, there are three common types of function arguments:\n",
    "\n",
    "- Positional arguments: arguments that are called by their position in the function definition.\n",
    "- Keyword arguments: arguments that are called by their name.\n",
    "- Default arguments: arguments that are given default values.\n",
    "To recap, here is what each of these argument types looks like:\n",
    "- Positional Arguments"
   ]
  },
  {
   "cell_type": "code",
   "execution_count": null,
   "metadata": {},
   "outputs": [],
   "source": [
    "def print_name(first_name, last_name): \n",
    "  print(first_name, last_name)\n",
    " \n",
    "print_name('Jiho', 'Baggins')"
   ]
  },
  {
   "cell_type": "markdown",
   "metadata": {},
   "source": [
    "Here, first_name will be mapped to 'Jiho' while last_name will be mapped to 'Baggins' due to the position of the arguments when calling the function.\n",
    "\n",
    "- Keyword Arguments"
   ]
  },
  {
   "cell_type": "code",
   "execution_count": null,
   "metadata": {},
   "outputs": [],
   "source": [
    "def print_name(first_name, last_name): \n",
    "  print(first_name, last_name)\n",
    " \n",
    "print_name(last_name='Baggins', first_name='Jiho')"
   ]
  },
  {
   "cell_type": "markdown",
   "metadata": {},
   "source": [
    "Here, we are using the parameter names first_name and last_name as keyword arguments in the function call. Notice the order of the arguments does not matter since they are assigned a specific name.\n",
    "\n",
    "- Default arguments"
   ]
  },
  {
   "cell_type": "code",
   "execution_count": null,
   "metadata": {},
   "outputs": [],
   "source": [
    "def print_name(first_name='Jiho', last_name='Baggins'): \n",
    "  print(first_name, last_name)\n",
    " \n",
    "print_name()"
   ]
  },
  {
   "cell_type": "markdown",
   "metadata": {},
   "source": [
    "Here, in the function definition, we assign default values to the parameters. This means we can call our function without providing any arguments because they will have a value to fall back onto.\n",
    "\n",
    "While these are the most common argument types, in this lesson, we will explore what happens when we want to make our function arguments more flexible by taking a varying number of arguments.\n",
    "\n",
    "Before we jump into learning more about variable argument types, let’s review the most common types to get warmed up.\n",
    "\n",
    "Instructions\n",
    "#### 1. Our friend Jiho is trying to get into the restaurant business. They asked us to build a simple table assignment program to help manage which customer is assigned to each table in the restaurant. Jiho wants to store not only the name of the customer for the table but also if they hold a VIP status (earned by visiting the restaurant frequently).\n",
    "\n",
    "Our table information will be stored in a dictionary called tables (already defined in our editor) that is structured in the following format:\n",
    "\n",
    "tablenumber: [name, vip_status]\n",
    "Take a second to examine the dictionary and run the code to move on!\n",
    "\n",
    "#### 2. Jiho needs a way to assign new customers to the existing tables as they come in for their reservations. Define a new function called assign_table that will take three arguments (in this exact order):\n",
    "\n",
    "1. table_number\n",
    "2. name\n",
    "3. vip_status<br>\n",
    "Our function assign_table should then use the following arguments to assign a new customer to a table in our dictionary tables. Use the table_number as the key and a list containing name and vip_status as the value.\n",
    "\n",
    "\n",
    "Hint\n",
    "There are two ways to update a dictionary:\n",
    "\n",
    "Use the square bracket notation ([])"
   ]
  },
  {
   "cell_type": "code",
   "execution_count": null,
   "metadata": {},
   "outputs": [],
   "source": [
    "my_dict = {}\n",
    "my_dict['key'] = 'value'"
   ]
  },
  {
   "cell_type": "markdown",
   "metadata": {},
   "source": [
    "Use the update() method"
   ]
  },
  {
   "cell_type": "code",
   "execution_count": null,
   "metadata": {},
   "outputs": [],
   "source": [
    "my_dict = {}\n",
    "my_dict.update({'key': 'value'})"
   ]
  },
  {
   "cell_type": "markdown",
   "metadata": {},
   "source": [
    "#### 3. Looks like our first reservation just came in!\n",
    "\n",
    "Call our function assign_table using positional arguments for a customer with the name of 'Yoni' to the table 6. Yoni does not have VIP status and thus should have the value False.\n",
    "\n",
    "\n",
    "Optionally, print tables to check that the assignment was successful.\n",
    "\n",
    "\n",
    "<b>Hint</b><br>\n",
    "Since we are using positional arguments, make sure to pass the arguments in the exact order they are listed in the function definition!\n",
    "\n",
    "#### 4. Looks like another customer came in.\n",
    "\n",
    "Call assign_table using keyword arguments (in any order) to add the new customer with the following details:\n",
    "\n",
    "- Name: 'Martha'\n",
    "- Table: 3\n",
    "- VIP Status: True<br>\n",
    "Make sure to include the keywords in your call to the function!\n",
    "\n",
    "Optionally, print tables to check that the assignment was successful.\n",
    "\n",
    "\n",
    "<b>Hint</b><br>\n",
    "To assign a keyword argument, use the following syntax:\n",
    "\n",
    "``` functioncall( argumentname = value ) ``\n",
    "\n",
    "#### 5. Since most customers are new at the restaurant, we want to use a default value of False for any new table assignment.\n",
    "\n",
    "Modify the function definition of assign_table and give the parameter vip_status a default value of False.\n",
    "\n",
    "\n",
    "<b>Hint</b><br>\n",
    "To assign a function parameter a default value, declare the value in the function definition:"
   ]
  },
  {
   "cell_type": "code",
   "execution_count": null,
   "metadata": {},
   "outputs": [],
   "source": [
    "def function(arg1=\"Default Value\", arg2=False)\n",
    "  # function code...."
   ]
  },
  {
   "cell_type": "markdown",
   "metadata": {},
   "source": [
    "Here the parameter at the first position will have a default value of \"Default Value\" and the parameter at position two will have a default value of False.\n",
    "\n",
    "#### 6. A new customer just arrived. Add the customer to a table using the following information via positional arguments:\n",
    "\n",
    "Name: 'Karla'\n",
    "Table Number: 4\n",
    "Karla is not a VIP, so we do not need to provide an additional argument since we already have a default value of False in our function definition.\n",
    "\n",
    "Lastly, print the tables dictionary, to see the final table assignments.\n",
    "\n",
    "\n",
    "<b>Hint</b><br>\n",
    "When working with a function with a default argument value, we can omit the value in our function call assuming we want the default value to be assigned. For example:"
   ]
  },
  {
   "cell_type": "code",
   "execution_count": null,
   "metadata": {},
   "outputs": [],
   "source": [
    "Hdef add(num1, num2 = 5):\n",
    "  print(num1 + num2)\n",
    " \n",
    "add(5)\n",
    "# Will output:\n",
    "\n",
    "10"
   ]
  },
  {
   "cell_type": "code",
   "execution_count": null,
   "metadata": {},
   "outputs": [],
   "source": [
    "tables = {\n",
    "  1: ['Jiho', False],\n",
    "  2: [],\n",
    "  3: [],\n",
    "  4: [],\n",
    "  5: [],\n",
    "  6: [],\n",
    "  7: [],\n",
    "}\n",
    "print(tables)\n",
    "\n",
    "# Checkpoint 2 & 5\n",
    "def assign_table(table_number, name, vip_status=False): \n",
    "  tables[table_number] =  [name, vip_status]\n",
    "\n",
    "# Checkpoint 3\n",
    "assign_table(6, 'Yoni', False)\n",
    "print(tables)\n",
    "\n",
    "# Checkpoint 4\n",
    "assign_table(table_number=3, name='Martha', vip_status=True)\n",
    "print(tables)\n",
    "\n",
    "# Checkpoint 6\n",
    "assign_table(4, 'Karla')\n",
    "print(tables)\n"
   ]
  },
  {
   "cell_type": "markdown",
   "metadata": {},
   "source": [
    "## Variable number of arguments: *args\n",
    "To start exploring variable argument lengths in Python functions, let’s take a look at a familiar function we have been using for a long time:"
   ]
  },
  {
   "cell_type": "code",
   "execution_count": null,
   "metadata": {},
   "outputs": [],
   "source": [
    "print('This', 'is', 'the', 'print', 'function')"
   ]
  },
  {
   "cell_type": "markdown",
   "metadata": {},
   "source": [
    "Notice how the print() function does not care how many arguments we pass to it. It has no expectation that we are going to pass in one argument or even a million! So the question is, how does print() accomplish this?\n",
    "\n",
    "Well, in Python, there is an additional operator called the unpacking operator (*). The unpacking operator allows us to give our functions a variable number of arguments by performing what’s known as positional argument packing.\n",
    "\n",
    "Let’s explore how it works by examining a basic function that utilizes the unpacking operator:"
   ]
  },
  {
   "cell_type": "code",
   "execution_count": null,
   "metadata": {},
   "outputs": [],
   "source": [
    "def my_function(*args):\n",
    "  print(args)"
   ]
  },
  {
   "cell_type": "markdown",
   "metadata": {},
   "source": [
    "If we called this function with random arguments:"
   ]
  },
  {
   "cell_type": "code",
   "execution_count": null,
   "metadata": {},
   "outputs": [],
   "source": [
    "my_function('Arg1', 245, False)"
   ]
  },
  {
   "cell_type": "markdown",
   "metadata": {},
   "source": [
    "- Our output would show us what is inside of *args:\n",
    "\n",
    "('Arg1', 245, False)\n",
    "Notice two things:\n",
    "\n",
    "In our print() call, we simply use the name of args with the unpacking operator omitted. The name of args is completely arbitrary, and this example works just the same:"
   ]
  },
  {
   "cell_type": "code",
   "execution_count": null,
   "metadata": {},
   "outputs": [],
   "source": [
    "def my_function(*randomname):\n",
    "  print(randomname)"
   ]
  },
  {
   "cell_type": "markdown",
   "metadata": {},
   "source": [
    "- Whatever name follows the unpacking operator (*) will store the arguments passed into the function in the form of a tuple. This allows our functions to accept any number of arguments just like the print() function we examined earlier. In this case, args has three values inside, but it can have many more (or fewer).\n",
    "\n",
    "Let’s practice using the unpacking operator for positional arguments in a function!\n",
    "\n",
    "Instructions\n",
    "#### 1. Jiho wants to expand our restaurant application to also take orders from customers. This is the perfect time to use the unpacking operator since we never know how many items customers are going to order.\n",
    "\n",
    "To start, we want to build a function that will compile a list of all the items a customer wants to order and then print it out. This will help our kitchen know what to cook.\n",
    "\n",
    "Define a function called print_order() that will take in a variable number of arguments using a parameter called order_items. The function should simply print order_items.\n",
    "\n",
    "\n",
    "<b>Hint</b><br>\n",
    "For a function to take in a variable number of arguments, we use the unpacking operator (*). Here is an example function utilizing it with a parameter called args:"
   ]
  },
  {
   "cell_type": "markdown",
   "metadata": {},
   "source": [
    "def my_function(*args):\n",
    "  print(args)"
   ]
  },
  {
   "cell_type": "markdown",
   "metadata": {},
   "source": [
    "#### 2. Looks like our first order came in! Call our function print_order() with the following order items:\n",
    "\n",
    "'Orange Juice'\n",
    "'Apple Juice'\n",
    "'Scrambled Eggs'\n",
    "'Pancakes'\n",
    "\n",
    "<b>Hint</b><br>\n",
    "When using the unpacking operator (*) we can pass arguments in any order!\n",
    "\n"
   ]
  },
  {
   "cell_type": "code",
   "execution_count": null,
   "metadata": {},
   "outputs": [],
   "source": [
    "# Write your code below: \n",
    "def print_order(*order_items):\n",
    "  print(order_items)\n",
    "\n",
    "print_order('Orange Juice', 'Apple Juice', 'Scrambled Eggs', 'Pancakes')"
   ]
  },
  {
   "cell_type": "markdown",
   "metadata": {},
   "source": [
    "## Working with *args\n",
    "Now that we have seen the basics of working with positional argument unpacking let’s examine how to use it in a more meaningful way.\n",
    "\n",
    "Say we wanted to build a function that works similarly to our trusty print() statement but instead prints all of the arguments in uppercase form. Using our knowledge of iteration, combined with the power of the unpacking operator, our solution might look like this:"
   ]
  },
  {
   "cell_type": "code",
   "execution_count": null,
   "metadata": {},
   "outputs": [],
   "source": [
    "def shout_strings(*args):\n",
    "  for argument in args:\n",
    "    print(argument.upper())\n",
    " \n",
    "shout_strings('Working on', 'learning', 'argument unpacking!')"
   ]
  },
  {
   "cell_type": "markdown",
   "metadata": {},
   "source": [
    "Would output:\n",
    "\n",
    "WORKING ON\n",
    "LEARNING\n",
    "ARGUMENT UNPACKING!\n",
    "In our function shout_strings(), we use a for loop (although we could use any iterator) to iterate through each element of the tuple that exists inside of args. Then we use the built-in function .upper() to capitalize each argument.\n",
    "\n",
    "The unpacking operator is not limited to being used alone, but rather it can be combined with other positional arguments. Let’s examine a function that truncates (cuts off) sentences based on a provided length:"
   ]
  },
  {
   "cell_type": "code",
   "execution_count": null,
   "metadata": {},
   "outputs": [],
   "source": [
    "def truncate_sentences(length, *sentences):\n",
    "  for sentence in sentences:\n",
    "    print(sentence[:length])\n",
    " \n",
    "truncate_sentences(8, \"What's going on here\", \"Looks like we've been cut off\")"
   ]
  },
  {
   "cell_type": "markdown",
   "metadata": {},
   "source": [
    "Would output:\n",
    "\n",
    "\n",
    "What's g<br>\n",
    "Looks li\n",
    "\n",
    "\n",
    "Let’s break this down:\n",
    "\n",
    "\n",
    "- We have two parameters that our function truncate_sentences() defines. The first is a length parameter that will specify how many characters we want to keep. The second is a parameter called sentences that is paired with the unpacking operator, signifying it will take a variable number of arguments.\n",
    "\n",
    "\n",
    "- On each iteration of the function, we are looping through the tuple created by the sentences argument (because it is paired with the unpacking operator) and perform a slice on the sentence based on the provided length argument. This forces every value in the sentences tuple to be cut down in length.\n",
    "\n",
    "\n",
    "Utilizing iteration and other positional arguments are two common ways we can increase the utility of our functions when using the unpacking operator (*). Let’s practice using these techniques to see how powerful they are!\n",
    "\n",
    "Instructions\n",
    "#### 1. Jiho is having a lot of success with our restaurant application. Unfortunately, our original design did not account for storing orders for each specific table. Jiho asked us to adjust our application to be able to store the orders that come in for each specific table and also be able to print out the order for the kitchen staff.\n",
    "\n",
    "Take some time to review the adjusted structure of the program we created earlier. Note that tables is now dictionary with the table numbers as the keys. It also accounts for a new property called order. The assign_table function has also been adjusted to account for the changes.\n",
    "\n",
    "Run the code to move onto the next checkpoint.\n",
    "\n",
    "#### 2. To help Jiho implement the ability to store the order in a specific table, let’s implement a function called assign_and_print_order().\n",
    "\n",
    "The function should have two parameters called table_number and order_items. The parameter of order_items should be grouped with an unpacking operator (*) so we can capture a variable number of order items per table.\n",
    "\n",
    "For now, our program will error out if we run it. Don’t worry we will fill in the function in the next step!\n",
    "\n",
    "worry we will fill in the function in the next step!\n",
    "\n",
    "<b>Hint</b><br>\n",
    "We can combine the use of a *args parameter with a positional parameter. Here is an example function that utilizes both:"
   ]
  },
  {
   "cell_type": "code",
   "execution_count": null,
   "metadata": {},
   "outputs": [],
   "source": [
    "def example_func(positional, *args): \n",
    "  # some function code"
   ]
  },
  {
   "cell_type": "markdown",
   "metadata": {},
   "source": [
    "Note: a positional argument must always precede a variable argument such as *args in this example.\n",
    "\n",
    "#### 3. Our function assign_and_print_order() should then assign an order to a table. Inside of our function access the nested order key for the specific table (using the table_number argument) from tables and set it to the order_items parameter.\n",
    "\n",
    "\n",
    "<b>Hint</b><br>\n",
    "Refer to assign_table() for an example syntax of accessing nested keys.\n",
    "\n",
    "#### 4. In addition to assigning the order to our tables dictionary, we also want to print every ordered item so the kitchen knows what to cook!\n",
    "\n",
    "Inside of assign_and_print_order() use a for loop to iterate through order_items and print each individual order item.\n",
    "\n",
    "\n",
    "<b>Hint</b><br>\n",
    "Here is an example of a for loop in Python:"
   ]
  },
  {
   "cell_type": "code",
   "execution_count": null,
   "metadata": {},
   "outputs": [],
   "source": [
    "for item in items:\n",
    "  print(item)"
   ]
  },
  {
   "cell_type": "markdown",
   "metadata": {},
   "source": [
    "#### 5. Lastly, let’s see our function in action. Luckily we just had a new customer come in for their reservation. Use the assign_table() function to add a new customer named 'Arwa' to table 2 with a VIP status set to True.\n",
    "\n",
    "\n",
    "<b>Hint</b><br>\n",
    "Call assign_table() with the arguments:\n",
    "\n",
    "- 2\n",
    "- 'Arwa'\n",
    "- True\n",
    "\n",
    "\n",
    "#### 6. Now that Arwa is seated and ready to order, call our assign_and_print_order() function for table 2 with the order items of 'Steak', 'Seabass', and 'Wine Bottle'.\n",
    "\n",
    "Print tables to see the result!\n",
    "\n",
    "\n",
    "<b>Hint</b><br>\n",
    "Call assign_and_print_order() with the arguments:\n",
    "\n",
    "- 2\n",
    "- 'Steak'\n",
    "- 'Seabass'\n",
    "- 'Wine Bottle'\n"
   ]
  },
  {
   "cell_type": "code",
   "execution_count": null,
   "metadata": {},
   "outputs": [],
   "source": [
    "# Checkpoint 1 \n",
    "tables = {\n",
    "  1: {\n",
    "    'name': 'Jiho',\n",
    "    'vip_status': False,\n",
    "    'order': 'Orange Juice, Apple Juice'\n",
    "  },\n",
    "  2: {},\n",
    "  3: {},\n",
    "  4: {},\n",
    "  5: {},\n",
    "  6: {},\n",
    "  7: {},\n",
    "}\n",
    "print(tables)\n",
    "\n",
    "def assign_table(table_number, name, vip_status=False): \n",
    "  tables[table_number]['name'] = name\n",
    "  tables[table_number]['vip_status'] = vip_status\n",
    "  tables[table_number]['order'] = ''\n",
    "\n",
    "# Checkpoint 2 \n",
    "def assign_and_print_order(table_number, *order_items):\n",
    "   # Checkpoint 3\n",
    "  tables[table_number]['order'] = order_items\n",
    "  # Checkpoint 4\n",
    "  for order_item in order_items:\n",
    "    print(order_item)\n",
    "\n",
    "\n",
    "# Checkpoint 5\n",
    "assign_table(2, 'Arwa', True)\n",
    "\n",
    "# Checkpoint 6\n",
    "assign_and_print_order(2, 'Steak', 'Seabass', 'Wine Bottle')\n",
    "print(tables)"
   ]
  },
  {
   "cell_type": "markdown",
   "metadata": {},
   "source": [
    "## Variable number of arguments: **kwargs\n",
    "Python doesn’t stop at allowing us to accept unlimited positional arguments; it also gives us the power to define functions with unlimited keyword arguments. The syntax is very similar but uses two asterisks ** instead of one. We typically call these kwargs as a shorthand for keyword arguments.\n",
    "\n",
    "Let’s examine a function that prints out some useful information about kwargs to see it in action:"
   ]
  },
  {
   "cell_type": "code",
   "execution_count": null,
   "metadata": {},
   "outputs": [],
   "source": [
    "def arbitrary_keyword_args(**kwargs):\n",
    "  print(type(kwargs))\n",
    "  print(kwargs)\n",
    "  # See if there's an 'anything_goes' keyword arg and print it\n",
    "  print(kwargs.get('anything_goes'))\n",
    " \n",
    "arbitrary_keyword_args(this_arg='wowzers', anything_goes=101)"
   ]
  },
  {
   "cell_type": "markdown",
   "metadata": {},
   "source": [
    "Would output:\n",
    "\n",
    "<class 'dict'>\n",
    "{'this_arg': 'wowzers', 'anything_goes': 101}\n",
    "101\n",
    "We can observe two things:\n",
    "\n",
    "- **kwargs takes the form of a dictionary with all the keyword argument values passed to arbitrary_keyword_args. Since **kwargs is a dictionary, we can use standard dictionary functions like .get() to retrieve values.\n",
    "\n",
    "- Just as we saw with *args, the name of kwargs is completely arbitrary, and this example works exactly the same with the name becoming data:"
   ]
  },
  {
   "cell_type": "code",
   "execution_count": null,
   "metadata": {},
   "outputs": [],
   "source": [
    "def arbitrary_keyword_args(**data):\n",
    "  # ..."
   ]
  },
  {
   "cell_type": "markdown",
   "metadata": {},
   "source": [
    "Let’s practice using **kwargs to get a feel of how it works in a function!\n",
    "\n",
    "Instructions\n",
    "#### 1. Jiho is pleased with how we can store orders for our tables. However, the staff now wants to distinguish between food items and drinks.\n",
    "\n",
    "\n",
    "Since food items get prepared in the kitchen and drinks are prepared at the bar, it’s important to distinguish between the two in our application.\n",
    "\n",
    "\n",
    "The tables dictionary has been changed to support the staff’s requests. Take some time to examine the changed structure.\n",
    "\n",
    "\n",
    "Run the code to move on to the next checkpoint!\n",
    "\n",
    "#### 2. Since our program now requires a distinction between food items and drinks, this is a great place to utilize the power of **kwargs.\n",
    "\n",
    "\n",
    "Define a function called assign_food_items() that has one parameter, order_items. Pair this parameter with a ** operator to handle any keyword arguments.\n",
    "\n",
    "\n",
    "For now, just have the function print order_items.\n",
    "\n",
    "Checkpoint 3 Passed\n",
    "\n",
    "<b>Hint</b><br>\n",
    "For a function to take in a variable number of arguments, we use the ** operator. Here is an example function utilizing it with a parameter called kwargs:\n"
   ]
  },
  {
   "cell_type": "code",
   "execution_count": null,
   "metadata": {},
   "outputs": [],
   "source": [
    "def my_function(**kwargs):\n",
    "  print(kwargs)"
   ]
  },
  {
   "cell_type": "markdown",
   "metadata": {},
   "source": [
    "#### 3. Now we want to capture the food items and drinks in order_items. Use the .get() method to do the following:\n",
    "\n",
    "- Capture the values from a keyword argument called food and assign it to a variable called food\n",
    "- Capture the values from a keyword argument called drinks and assign it to a variable called drinks\n",
    "\n",
    "\n",
    "Refer to the commented example call at the bottom of the script for a reference on how we will call this function later on.\n",
    "\n",
    "\n",
    "<b>Hint</b><br>\n",
    "The .get() method allows us to capture the arguments used when working with **kwargs. Here is an example:"
   ]
  },
  {
   "cell_type": "code",
   "execution_count": null,
   "metadata": {},
   "outputs": [],
   "source": [
    "def keyword_args(**kwargs):\n",
    "  test_value = kwargs.get('test')\n",
    "  print(test_value)\n",
    " \n",
    "keyword_args(test=\"This is one value\")"
   ]
  },
  {
   "cell_type": "markdown",
   "metadata": {},
   "source": [
    "Would output:\n",
    "\n",
    "\n",
    "This is one value\n",
    "\n",
    "\n",
    "#### 4. Lastly, inside of our function use print() to output the food variable and another print() to output the drinks variable.\n",
    "\n",
    "\n",
    "<b>Hint</b><br>\n",
    "Call print() twice as follows:"
   ]
  },
  {
   "cell_type": "code",
   "execution_count": null,
   "metadata": {},
   "outputs": [],
   "source": [
    "print(variable1)\n",
    "print(variable2)"
   ]
  },
  {
   "cell_type": "markdown",
   "metadata": {},
   "source": [
    "\n",
    "#### 5. Uncomment the example call provided to test our function!\n",
    "\n",
    "\n",
    "<b>Hint</b><br>\n",
    "Our output should be:\n",
    "\n",
    "\n",
    "{'food': 'Pancakes, Poached Egg', 'drinks': 'Water'}\n",
    "Pancakes, Poached Egg\n",
    "Water\n",
    "\n"
   ]
  },
  {
   "cell_type": "code",
   "execution_count": null,
   "metadata": {},
   "outputs": [],
   "source": [
    "# Checkpoint 1 \n",
    "# Example Structure\n",
    "tables = {\n",
    "  1: {\n",
    "    'name': 'Chioma',\n",
    "    'vip_status': False,\n",
    "    'order': {\n",
    "      'drinks': 'Orange Juice, Apple Juice',\n",
    "      'food_items': 'Pancakes'\n",
    "    }\n",
    "  },\n",
    "  2: {},\n",
    "  3: {},\n",
    "  4: {},\n",
    "  5: {},\n",
    "  6: {},\n",
    "  7: {},\n",
    "}\n",
    "print(tables)\n",
    "\n",
    "#Checkpoint 2\n",
    "def assign_food_items(**order_items):\n",
    "  print(order_items)\n",
    "  # Checkpoint 3\n",
    "  food = order_items.get('food')\n",
    "  drinks = order_items.get('drinks')\n",
    "  # Checkpoint 4\n",
    "  print(food)\n",
    "  print(drinks)\n",
    "  \n",
    "# Checkpoint 5\n",
    "# Example Call\n",
    "assign_food_items(food='Pancakes, Poached Egg', drinks='Water')"
   ]
  },
  {
   "cell_type": "markdown",
   "metadata": {},
   "source": [
    "## Working with **kwargs\n",
    "Working with **kwargs looks very similar to its *args counterpart. Since ** generates a standard dictionary, we can use iteration just like we did earlier by taking advantage of the .values() method. Here is an example:"
   ]
  },
  {
   "cell_type": "code",
   "execution_count": null,
   "metadata": {},
   "outputs": [],
   "source": [
    "def print_data(**data):\n",
    "  for arg in data.values():\n",
    "    print(arg)\n",
    " \n",
    "print_data(a='arg1', b=True, c=100)"
   ]
  },
  {
   "cell_type": "markdown",
   "metadata": {},
   "source": [
    "Would output:\n",
    "\n",
    "arg1<br>\n",
    "True<br>\n",
    "100<br>\n",
    "\n",
    "\n",
    "We can also combine our use of ** with regular positional arguments. However, Python requires that all positional arguments come first in our function definition. Let’s examine how this works:"
   ]
  },
  {
   "cell_type": "code",
   "execution_count": null,
   "metadata": {},
   "outputs": [],
   "source": [
    "def print_data(positional_arg, **data):\n",
    "  print(positional_arg)\n",
    "  for arg in data.values():\n",
    "    print(arg)\n",
    " \n",
    "print_data('position 1', a='arg1', b=True, c=100)"
   ]
  },
  {
   "cell_type": "markdown",
   "metadata": {},
   "source": [
    "Would output:\n",
    "\n",
    "position 1<br>\n",
    "arg1<br>\n",
    "True<br>\n",
    "100<br>\n",
    "If we were to switch the position of positional_arg to come after **data, we would be met with a SyntaxError.\n",
    "\n",
    "\n",
    "Let’s expand our restaurant application from the previous exercises to apply the flexibility of using **kwargs in our functions.\n",
    "\n",
    "Instructions\n",
    "#### 1. In the last exercise, we saw how using ** allowed us to capture different food items that a table will order. In the next few checkpoints, we will finish implementing the functionality of our assign_food_items() function.\n",
    "\n",
    "Take some time to get reacquainted with the program. Note the changes in the assign_food_items() function.\n",
    "\n",
    "Run the code to move on!\n",
    "\n",
    "#### 2. Unfortunately, when we originally implemented assign_food_items we did not assign the values we capture into our tables dictionary.\n",
    "\n",
    "Adjust the function definition of assign_food_items():\n",
    "\n",
    "- Add a positional parameter called table_number followed by the **order_items parameter we already defined.\n",
    "\n",
    "\n",
    "- Uncomment the 2 lines inside the function.\n",
    "\n",
    "\n",
    "Adding the parameter and uncommenting the lines will now allow us to assign the food to a specific table.\n",
    "\n",
    "\n",
    "<b>Hint</b><br>\n",
    "If we want to use positional arguments in combination with **kwargs, we have to make sure the positional argument comes first in the function definition:"
   ]
  },
  {
   "cell_type": "code",
   "execution_count": null,
   "metadata": {},
   "outputs": [],
   "source": [
    "def example(positional_arg, **kwargs): \n",
    "  # some function code..."
   ]
  },
  {
   "cell_type": "markdown",
   "metadata": {},
   "source": [
    "#### 3. Great! Now that we have the base functionality set up, let’s give it a test run. Luckily a new customer named Douglas just came in and is ready to place an order.\n",
    "\n",
    "Under print('\\n --- tables after update --- \\n'), call the assign_food_items() function with the following arguments:\n",
    "\n",
    "1. A positional argument table_number with the value 2\n",
    "2. A keyword argument food with the value 'Seabass, Gnocchi, Pizza'\n",
    "3. A keyword argument drinks with the value 'Margarita, Water'\n",
    "Print tables to see the change!\n",
    "\n",
    "\n",
    "<b>Hint</b><br>\n",
    "To call a function that takes both positional and variable number of keyword arguments, we can use the following syntax:\n",
    "\n"
   ]
  },
  {
   "cell_type": "code",
   "execution_count": null,
   "metadata": {},
   "outputs": [],
   "source": [
    "def func(positional_arg, **kwargs):\n",
    "  # some code...\n",
    " \n",
    "func('Postional Value', keyword_one = 'Value1', keyword_two = 'Value2')"
   ]
  },
  {
   "cell_type": "code",
   "execution_count": null,
   "metadata": {},
   "outputs": [],
   "source": [
    "# Checkpoint 1\n",
    "tables = {\n",
    "  1: {\n",
    "    'name': 'Chioma',\n",
    "    'vip_status': False,\n",
    "    'order': {\n",
    "      'drinks': 'Orange Juice, Apple Juice',\n",
    "      'food_items': 'Pancakes'\n",
    "    }\n",
    "  },\n",
    "  2: {},\n",
    "  3: {},\n",
    "  4: {},\n",
    "  5: {},\n",
    "  6: {},\n",
    "  7: {},\n",
    "}\n",
    "\n",
    "def assign_table(table_number, name, vip_status=False): \n",
    "  tables[table_number]['name'] = name\n",
    "  tables[table_number]['vip_status'] = vip_status\n",
    "  tables[table_number]['order'] = {}\n",
    "\n",
    "assign_table(2, 'Douglas', True)\n",
    "print('--- tables with Douglas --- \\n', tables)\n",
    "\n",
    "# Checkpoint 2\n",
    "def assign_food_items(table_number, **order_items):\n",
    "  food = order_items.get('food')\n",
    "  drinks = order_items.get('drinks')\n",
    "  tables[table_number]['order']['food_items'] = food\n",
    "  tables[table_number]['order']['drinks'] = drinks\n",
    "\n",
    "#Checkpoint 3\n",
    "print('\\n --- tables after update --- \\n',)\n",
    "assign_food_items(2, food='Seabass, Gnocchi, Pizza', drinks='Margarita, Water')\n",
    "print(tables)"
   ]
  },
  {
   "cell_type": "markdown",
   "metadata": {},
   "source": [
    "All together now!\n",
    "So far we have seen how both *args and **kwargs can be combined with standard arguments. This is useful, but in some cases, we may want to use all three types together! Thankfully Python allows us to do so as long as we follow the correct order in our function definition. The order is as follows:\n",
    "\n",
    "1. Standard positional arguments\n",
    "2. *args\n",
    "3. Standard keyword arguments\n",
    "4. **kwargs<br>\n",
    "\n",
    "\n",
    "As an example, this is what our function definition might look like if we wanted a function that printed animals utilizing all three types:"
   ]
  },
  {
   "cell_type": "code",
   "execution_count": null,
   "metadata": {},
   "outputs": [],
   "source": [
    "def print_animals(animal1, animal2, *args, animal4, **kwargs):\n",
    "  print(animal1, animal2)\n",
    "  print(args)\n",
    "  print(animal4)\n",
    "  print(kwargs)"
   ]
  },
  {
   "cell_type": "markdown",
   "metadata": {},
   "source": [
    "We could call our function like so:"
   ]
  },
  {
   "cell_type": "code",
   "execution_count": null,
   "metadata": {},
   "outputs": [],
   "source": [
    "print_animals('Snake', 'Fish', 'Guinea Pig', 'Owl', animal4='Cat', animal5='Dog')"
   ]
  },
  {
   "cell_type": "markdown",
   "metadata": {},
   "source": [
    "And our result would be:\n",
    "\n",
    "\n",
    "Snake Fish\n",
    "('Guinea Pig', 'Owl')\n",
    "Cat\n",
    "{'animal5': 'Dog'}\n",
    "\n",
    "\n",
    "That is a whole lot of arguments! Let’s break it down:\n",
    "\n",
    "- The first two arguments that our function accepts will take the form of standard positional arguments. When we call the function, the first two values provided will map to animal1 and animal2. Thus, the first line of output is Snake Fish\n",
    "\n",
    "- The non-keyword arguments that follow after Snake and Fish in our function call are all mapped to the args tuple. Thus, our result is ('Guinea Pig', 'Owl')\n",
    "\n",
    "- Then we transition to regular keyword arguments. Since we called animal4 as a keyword, our result for the print statement is Cat\n",
    "\n",
    "- Lastly, we have one more keyword argument that is mapped to **kwargs. Thus, our last line of output is {'animal_5': 'Dog'}\n",
    "\n",
    "\n",
    "Let’s practice putting it all together in our restaurant application for Jiho!\n",
    "\n",
    "\n",
    "Instructions\n",
    "#### 1. For an upcoming holiday, Jiho plans on making a prix fixe menu for the restaurant. Customers at the restaurant will be able to choose the following:\n",
    "\n",
    "- 1 Appetizer\n",
    "- 2 Entrees\n",
    "- 1 Side dish\n",
    "- 2 Scoops of different ice cream flavors for dessert.\n",
    "\n",
    "To accomplish all these choices, we are going to utilize the different types of arguments that we have learned so far. Now that we’ve set up our goals, hit “Run” to move on to the next step.\n",
    "\n",
    "#### 2. Let’s start by defining a function called single_prix_fixe_order() which will define four parameters to accept the full order:\n",
    "\n",
    "1. A parameter named appetizer\n",
    "2. A parameter named entrees paired with a * operator\n",
    "3. A parameter named sides\n",
    "4. A parameter named dessert_scoops paired with a ** operator\n",
    "\n",
    "\n",
    "Our function should simply have four print() statements that print each individual parameter.\n",
    "\n",
    "\n",
    "<b>Hint</b><br>\n",
    "Our function should take this base form:"
   ]
  },
  {
   "cell_type": "code",
   "execution_count": null,
   "metadata": {},
   "outputs": [],
   "source": [
    "def func(param1, *param, param2, **keyword_param): \n",
    "  # some code..."
   ]
  },
  {
   "cell_type": "markdown",
   "metadata": {},
   "source": [
    "#### 3. We got our first prix fixe order in! The customer wants the following:\n",
    "\n",
    "1. 'Baby Beets' as an appetizer\n",
    "2. 'Salmon' and 'Scallops' as entrees\n",
    "3. 'Mashed Potatoes' as a side\n",
    "4. A scoop of 'Vanilla' ice cream and a scoop of 'Cookies and Cream' for dessert\n",
    "\n",
    "\n",
    "Utilize our function single_prix_fixe_order() to print out all of the customers order.\n",
    "\n",
    "\n",
    "<b>Hint</b><br>\n",
    "Call single_prix_fixe_order() with arguments in this order:\n",
    "\n",
    "- standard positional\n",
    "- *args\n",
    "- standard keyword\n",
    "- **kwargs arguments The keyword names for dessert_scoops can be arbitrary but we do have to define a keyword argument called sides!"
   ]
  },
  {
   "cell_type": "code",
   "execution_count": null,
   "metadata": {},
   "outputs": [],
   "source": [
    "# Write your code below: \n",
    "# Checkpoint 1 & 2\n",
    "def single_prix_fixe_order(appetizer, *entrees, sides, **dessert_scoops):\n",
    "    print(appetizer)\n",
    "    print(entrees)\n",
    "    print(sides)\n",
    "    print(dessert_scoops)\n",
    "\n",
    "\n",
    "# Checkpoint 3 (keyword names are arbitrary for desert_scoops)\n",
    "single_prix_fixe_order('Baby Beets', 'Salmon', 'Scallops', sides='Mashed Potatoes', ice_cream_scoop1='Vanilla', ice_cream_scoop2='Cookies and Cream' )"
   ]
  },
  {
   "cell_type": "markdown",
   "metadata": {},
   "source": [
    "## Function Call Unpacking & Beyond\n",
    "Hopefully, by now, we have started to see the power of using the * and ** operators in our function definitions. However, Python doesn’t stop there! Not only can we use the operators when defining parameters, but we can also use them in function calls.\n",
    "\n",
    "\n",
    "Let’s imagine we want to sum a few numbers together:"
   ]
  },
  {
   "cell_type": "code",
   "execution_count": null,
   "metadata": {},
   "outputs": [],
   "source": [
    "def sum(num1, num2, num3):\n",
    "  print(num1 + num2 + num3)"
   ]
  },
  {
   "cell_type": "markdown",
   "metadata": {},
   "source": [
    "Right now, our function forces us to pass in an individual argument for num1, num2, and num3. This isn’t a big issue if we have separate variables or know our numbers in advance. However, what if we wanted to use a list like [3, 6, 9] instead? Well, that is where the unpacking operator comes to the rescue.\n",
    "\n",
    "\n",
    "Let’s observe:"
   ]
  },
  {
   "cell_type": "code",
   "execution_count": null,
   "metadata": {},
   "outputs": [],
   "source": [
    "my_num_list = [3, 6, 9]\n",
    " \n",
    "def sum(num1, num2, num3):\n",
    "  print(num1 + num2 + num3)\n",
    " \n",
    "sum(*my_num_list)"
   ]
  },
  {
   "cell_type": "markdown",
   "metadata": {},
   "source": [
    "Would output:\n",
    "\n",
    "18\n",
    "So what’s happening here? Well, by using the unpacking operator (*) we are spreading the contents of our list my_num_list into the individual arguments in our function definition. We are immediately saved the hassle of writing loops and are given the flexibility to use any iterable with three elements.\n",
    "\n",
    "\n",
    "This way of using the * in a function call also applies to our keyword operator **. As long as the keywords match the function parameter names, we can accomplish the same goal:"
   ]
  },
  {
   "cell_type": "code",
   "execution_count": null,
   "metadata": {},
   "outputs": [],
   "source": [
    "numbers  = {'num1': 3, 'num2': 6, 'num3': 9}\n",
    " \n",
    "def sum(num1, num2, num3):\n",
    "  print(num1 + num2 + num3)\n",
    " \n",
    "sum(**numbers)"
   ]
  },
  {
   "cell_type": "markdown",
   "metadata": {},
   "source": [
    "Would output:\n",
    "\n",
    "\n",
    "18\n",
    "\n",
    "\n",
    "We can even use the operators inside of built-in functions. For example, instead of manually providing the range() built-in function with a start and stop value, we can unpack a list directly into it. Let’s take a look:"
   ]
  },
  {
   "cell_type": "code",
   "execution_count": null,
   "metadata": {},
   "outputs": [],
   "source": [
    "start_and_stop = [3, 6]\n",
    " \n",
    "range_values = range(*start_and_stop)\n",
    "print(list(range_values))"
   ]
  },
  {
   "cell_type": "markdown",
   "metadata": {},
   "source": [
    "Would output:\n",
    "\n",
    "\n",
    "[3, 4, 5]\n",
    "\n",
    "\n",
    "The possibilities of using the * and ** operators are endless. Observe some more clever use cases:\n",
    "\n",
    "\n",
    "- Unpacking parts of an iterable"
   ]
  },
  {
   "cell_type": "code",
   "execution_count": null,
   "metadata": {},
   "outputs": [],
   "source": [
    " a, *b, c = [3, 6, 9, 12, 15]\n",
    " print(b)"
   ]
  },
  {
   "cell_type": "markdown",
   "metadata": {},
   "source": [
    "Would output:\n",
    "\n",
    "\n",
    "[6, 9, 12]\n",
    "\n",
    "\n",
    "- Merging iterables"
   ]
  },
  {
   "cell_type": "code",
   "execution_count": null,
   "metadata": {},
   "outputs": [],
   "source": [
    "my_tuple = (3, 6, 9)\n",
    "merged_tuple = (0, *my_tuple, 12)\n",
    "print(merged_tuple)"
   ]
  },
  {
   "cell_type": "markdown",
   "metadata": {},
   "source": [
    "Would output:\n",
    "\n",
    "\n",
    "(0, 3, 6, 9, 12)\n",
    "\n",
    "\n",
    "- Combining unpacking and packing"
   ]
  },
  {
   "cell_type": "code",
   "execution_count": null,
   "metadata": {},
   "outputs": [],
   "source": [
    "num_collection = [3, 6, 9]\n",
    " \n",
    "def power_two(*nums): \n",
    "  for num in nums:\n",
    "    print(num**2)\n",
    " \n",
    "power_two(*num_collection)"
   ]
  },
  {
   "cell_type": "markdown",
   "metadata": {},
   "source": [
    "Would output:\n",
    "\n",
    "\n",
    "9 \n",
    "36\n",
    "81\n",
    "\n",
    "\n",
    "Let’s see how we can apply some of these use cases to make Jiho’s restaurant application better!"
   ]
  },
  {
   "cell_type": "markdown",
   "metadata": {},
   "source": [
    "Instructions\n",
    "#### 1. Jiho thinks our restaurant application is missing one really important feature. Jiho would like for the application to be able to calculate the total bill of a table (including tip) and split it based on the number of people at the table.\n",
    "\n",
    "\n",
    "Thankfully, we had an existing function called calculate_price_per_person() from our last restaurant project that we can reuse. Take some time to examine the function and its inner workings.\n",
    "\n",
    "\n",
    "Run the code to move onto the next checkpoint. Don’t worry we shouldn’t see any output just yet."
   ]
  },
  {
   "cell_type": "markdown",
   "metadata": {},
   "source": [
    "#### 2. Looks like we are ready to give our function a test run! Luckily, table seven at Jiho’s restaurant is ready to pay.\n",
    "\n",
    "Define a list called table_7_total that has the following values in order:\n",
    "\n",
    "1. 534.50 (Representing the total bill cost)\n",
    "2. 20.0 (Representing the tip percentage)\n",
    "3. 5 (Representing the number of people to split the bill for)\n",
    "\n",
    "\n",
    "<b>Hint</b><br>\n",
    "Define table_7_total and assign it a list of numbers. Use the following syntax:"
   ]
  },
  {
   "cell_type": "code",
   "execution_count": null,
   "metadata": {},
   "outputs": [],
   "source": [
    "list_var = [num1, num2, num3]"
   ]
  },
  {
   "cell_type": "markdown",
   "metadata": {},
   "source": [
    "#### 3. Using the unpacking operator, call calculate_price_per_person() with the list table_7_total.\n",
    "\n",
    "<b>Hint</b><br>\n",
    "We can use the unpacking operator in a function call like so:"
   ]
  },
  {
   "cell_type": "code",
   "execution_count": null,
   "metadata": {},
   "outputs": [],
   "source": [
    "iterable = [1, 2]\n",
    "def example(param1, param2): \n",
    "  # some code...\n",
    " \n",
    "example(*iterable)"
   ]
  },
  {
   "cell_type": "code",
   "execution_count": null,
   "metadata": {},
   "outputs": [],
   "source": [
    "# Checkpoint 1\n",
    "def calculate_price_per_person(total, tip, split):\n",
    "  total_tip = total * (tip/100)\n",
    "  split_price = (total + total_tip) / split\n",
    "  print(split_price)\n",
    "\n",
    "# Checkpoint 2\n",
    "table_7_total = [534.50, 20.0, 5]\n",
    "\n",
    "# Checkpoint 3\n",
    "calculate_price_per_person(*table_7_total)\n"
   ]
  },
  {
   "cell_type": "markdown",
   "metadata": {},
   "source": [
    "Review\n",
    "We covered a lot of ground in this lesson! We learned all about how functions can accept different arguments and different styles in which we can pass those arguments in. We learned:\n",
    "\n",
    "- How to pack positional arguments in a function with *args.\n",
    "- How to work with *args using iteration and other positional arguments.\n",
    "- How to pack keyword arguments in a function with **kwargs.\n",
    "- How to work with **kwargs using iteration and other keyword arguments.\n",
    "- How to combine all different types of arguments to gain the most flexibility in our function declarations.\n",
    "- How to use an unpacking operator (* or **) to unpack arguments in a function call.\n",
    "- How to use an unpacking operator (* or **) on iterables.\n",
    "- We should now be able to read many different styles of function writing in Python and come up with ways to call those functions with style and clarity.\n",
    "\n",
    "Instructions\n",
    "Take some time to examine the application we built for Jiho. The program has been adjusted to account for the payment calculation from the previous step!\n",
    "\n",
    "Play around and have fun with our new knowledge of function arguments. Here is some additional functionality that Jiho might like:\n",
    "\n",
    "- The ability to remove a table’s guests when they leave the restaurant.\n",
    "- An adjustment to the calculate_price_per_person() function to access a tables 'total' and return the result.\n",
    "- The ability to add and remove order items for both food and drinks if there is ever a mistake.\n",
    "- The ability to queue reservations for later times for specific tables."
   ]
  }
 ],
 "metadata": {
  "interpreter": {
   "hash": "79435cfcbd76b1528bba00a84eb046d19295a161f953d7f2d2d8d04ffa2592c8"
  },
  "kernelspec": {
   "display_name": "Python 3.10.0 64-bit (windows store)",
   "language": "python",
   "name": "python3"
  },
  "language_info": {
   "name": "python",
   "version": "3.10.0"
  },
  "orig_nbformat": 4
 },
 "nbformat": 4,
 "nbformat_minor": 2
}
