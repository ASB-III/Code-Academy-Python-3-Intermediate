{
 "cells": [
  {
   "cell_type": "markdown",
   "metadata": {},
   "source": [
    "## School Catalogue\n",
    "Let’s put your knowledge of classes to the test by creating a digital school catalog for the New York City Department of Education. The Department of Education wants the catalog to hold quick reference material for each school in the city.\n",
    "\n",
    "We need to create classes for primary and high schools. Because these classes share properties and methods, each will inherit from a parent School class. Our parent and three child classes have the following properties, getters, setters, and methods:\n",
    "\n",
    "### School\n",
    "- Properties: name (string), level (one of three strings: 'primary', 'middle', or 'high'), and numberOfStudents (integer)\n",
    "- Getters: all properties have getters\n",
    "- Setters: the numberOfStudents property has a setter\n",
    "- Methods: A __repr__ method that displays information about the school.\n",
    "### Primary\n",
    "- Includes everything in the School class, plus one additional property\n",
    "- Properties: pickupPolicy (string, like \"Pickup after 3pm\")\n",
    "### Middle\n",
    "- Does not include any additional properties or methods\n",
    "### High\n",
    "- Includes everything in the School class, plus one additional property\n",
    "- Properties: sportsTeams (list of strings, like ['basketball', 'tennis'])"
   ]
  },
  {
   "cell_type": "markdown",
   "metadata": {},
   "source": [
    "### Create the School Class\n",
    "1. Let’s start by making a parent class for Primary, Middle, and High classes.\n",
    "\n",
    "Create an empty class named School.\n",
    "\n",
    "\n",
    "<B>Hint</b></br>\n",
    "Use the following syntax to create a new class:"
   ]
  },
  {
   "cell_type": "code",
   "execution_count": null,
   "metadata": {},
   "outputs": [],
   "source": [
    "class myNewClass:"
   ]
  },
  {
   "cell_type": "markdown",
   "metadata": {},
   "source": [
    "#### 2. Inside the School class, create a constructor that accepts three parameters in addition to self. The names of these parameters should match the properties listed in the narrative above.\n",
    "\n",
    "\n",
    "<B>Hint</b><br>\n",
    "A constructor is created using __init__(self, paramater1, parameter2, ...)\n",
    "\n",
    "#### 3. Inside the constructor, set the School properties equal to the values passed into the constructor. Remember to use the self keyword when setting these properties.\n",
    "\n",
    "\n",
    "<B>Hint</b><br>\n",
    "For example, we used self.name = name to create a property named self.name and set it equal to the value passed into the constructor.\n",
    "\n",
    "#### 4. Create getters for the name, level, and numberOfStudents properties. Each getter should return the value saved to the property.\n",
    "\n",
    "\n",
    "<B>Hint</b><br>\n",
    "For example, here is our getter for the name property:"
   ]
  },
  {
   "cell_type": "code",
   "execution_count": null,
   "metadata": {},
   "outputs": [],
   "source": [
    "def getName(self):\n",
    "  return self.name"
   ]
  },
  {
   "cell_type": "markdown",
   "metadata": {},
   "source": [
    "#### 5. Create a setter for numberOfStudents. This method should take one parameter (in addition to self) and set self.numberOfStudents equal to the value passed into the method.\n",
    "\n",
    "\n",
    "<B>Hint</b><br>\n",
    "We called our parameter newNumberOfStudents and set self.numberOfStudents = newNumberOfStudents.\n",
    "\n",
    "#### 6. Create a __repr__() method so when a School is printed, it displays relevant information about the object. You can choose what you want displayed, but we printed:\n",
    "\n",
    "A {level} school named {name} with {numberOfStudents} students\n",
    "\n",
    "\n",
    "<B>Hint</b><br>\n",
    "Recall that the __repr__() method should return the string that you want to be displayed when you print an object of the class.\n",
    "\n",
    "#### 7. At this point, it’s probably a good idea to test your code if you haven’t already. Try creating a School object, use the getter and setter methods you created, and print that object\n",
    "\n",
    "\n",
    "<B>Hint</b><br>\n",
    "Our code looked like this:"
   ]
  },
  {
   "cell_type": "code",
   "execution_count": null,
   "metadata": {},
   "outputs": [],
   "source": [
    "mySchool = School(\"Codecademy\", \"high\", 100)\n",
    "print(mySchool)\n",
    "print(mySchool.getName())\n",
    "print(mySchool.getLevel())\n",
    "mySchool.setNumberOfStudents(200)\n",
    "print(mySchool.getNumberOfStudents())"
   ]
  },
  {
   "cell_type": "markdown",
   "metadata": {},
   "source": [
    "### Create the PrimarySchool class\n",
    "#### 8. Next, we’ll build a PrimarySchool class that inherits from School. If you feel comfortable building the PrimarySchool class on your own, give it a shot. If not, use the steps below to help you along the way.\n",
    "\n",
    "Whether you want to follow the steps or not, it’s important to note, the PrimarySchool class only has one additional property, pickupPolicy.\n",
    "\n",
    "Create an empty PrimarySchool class that inherits from School.\n",
    "\n",
    "\n",
    "<B>Hint</b><br>\n",
    "The following code creates a class named A that inherits from B:"
   ]
  },
  {
   "cell_type": "code",
   "execution_count": null,
   "metadata": {},
   "outputs": [],
   "source": [
    "class A(B):"
   ]
  },
  {
   "cell_type": "markdown",
   "metadata": {},
   "source": [
    "#### 9. Inside the PrimarySchool class, create a constructor that accepts three arguments in addition to self. Think about which three properties we’ll need arguments for.\n",
    "\n",
    "\n",
    "<B>Hint</b><br>\n",
    "We need arguments for name, numberOfStudents, and pickupPolicy. The level of a PrimarySchoool will automatically be set to primary.\n",
    "\n",
    "#### 10. Call super().__init__() on the first line of the PrimarySchool‘s constructor. Pass it any arguments that the parent constructor uses.\n",
    "\n",
    "Since this is the PrimarySchool class, pass 'primary' as the argument for the level parameter in the parent constructor.\n",
    "\n",
    "\n",
    "<B>Hint</b><br>\n",
    "The arguments for the call to the superclass’ constructor should look like name, \"primary\", numberOfStudents.\n",
    "\n",
    "#### 11. You've used two of the arguments you’ve passed to the PrimarySchool constructor. Now use the third argument to set the value of a new property named self.pickupPolicy.\n",
    "\n",
    "\n",
    "<B>Hint</b><br>\n",
    "Because we named that argument pickupPolicy, we have self.pickupPolicy = pickupPolicy.\n",
    "\n",
    "#### 12. Since our PrimarySchool class inherits Schools‘s properties and getters, we only need to create one new getter in the PrimarySchool class. Add this getter to the PrimarySchool class. Each getter should return the value saved to that property.\n",
    "\n",
    "\n",
    "<B>Hint</b><br>\n",
    "We want to create a getPickupPolicy() method that returns self.pickupPolicy.\n",
    "\n",
    "#### 13. Finally, we probably want the __repr__() method for a PrimarySchool to display information about the pickupPolicy variable. Override the __repr__() method so when a PrimarySchool is printed, information about the pickup policy is displayed in addition to the other information about the school.\n",
    "\n",
    "You can call super().__repr__() to avoid repeating some code.\n",
    "\n",
    "\n",
    "<B>Hint</b><br>\n",
    "This is what our overridden __repr__() method looks like. Notice we call the parent class’ __repr__() method so we don’t repeat work."
   ]
  },
  {
   "cell_type": "code",
   "execution_count": null,
   "metadata": {},
   "outputs": [],
   "source": [
    "def __repr__(self):\n",
    "  parentRepr = super().__repr__()\n",
    "  return parentRepr + \"The pickup polity is {pickupPolicy}\".format(pickupPolicy = self.pickupPolicy)"
   ]
  },
  {
   "cell_type": "markdown",
   "metadata": {},
   "source": [
    "#### 4. Create a PrimarySchool object and verify your new constructor, getter method, and __repr__() method work as expected.\n",
    "\n",
    "\n",
    "<B>Hint</b><br>\n",
    "Our test code looked like this:"
   ]
  },
  {
   "cell_type": "code",
   "execution_count": null,
   "metadata": {},
   "outputs": [],
   "source": [
    "testSchool = PrimarySchool(\"Codecademy\", 300, \"Pickup Allowed\")\n",
    "print(testSchool.getPickupPolicy())\n",
    "print(testSchool)"
   ]
  },
  {
   "cell_type": "markdown",
   "metadata": {},
   "source": [
    "### Create the HighSchool class\n",
    "#### 15. In this task, you will create a HighSchool class that inherits from the School class. In addition to the properties, getters, and methods in School, the HighSchool includes the following:\n",
    "\n",
    "Properties: sportsTeams (list of strings)\n",
    "Getters: A getter for the sportsTeams array. The getter should return the list of the sports teams.\n",
    "Override the __repr__() method to display information about sportsTeams.\n",
    "Take a look at the Hint for step-by-step instructions.\n",
    "\n",
    "\n",
    "<B>Hint</b><br>\n",
    "Follow these steps to complete the task:\n",
    "\n",
    "- Create an empty HighSchool class that inherits from School.\n",
    "- Create a constructor that accepts arguments for name, numberOfStudents, and sportsTeams.\n",
    "- On the first line of the constructor, call super().__init__() and pass it name, 'high', and numberOfStudents as arugments.\n",
    "- On the next line, set the sportsTeams property using self.sportsTeams = sportsTeams\n",
    "- Under the constructor, create a getter for sportsTeams.\n",
    "- Override the __repr__() method to display information about sportsTeams.\n",
    "#### 16. Once again, let’s test our code to make sure it works correctly. Create a High School object and verify your new constructor, getter method, and __repr__() method work as expected.\n",
    "\n",
    "\n",
    "<B>Hint</b><br>\n",
    "Our test code looked like this:"
   ]
  },
  {
   "cell_type": "code",
   "execution_count": null,
   "metadata": {},
   "outputs": [],
   "source": [
    "c = HighSchool(\"Codecademy High\", 500, [\"Tennis\", \"Basketball\"])\n",
    "print(c.getSportsTeams())\n",
    "print(c)"
   ]
  },
  {
   "cell_type": "code",
   "execution_count": 1,
   "metadata": {},
   "outputs": [
    {
     "name": "stdout",
     "output_type": "stream",
     "text": [
      "A high school name Codecademy with 100 students.\n",
      "Codecademy\n",
      "high\n",
      "200\n",
      "Pickup Allowed\n",
      "A Primary school name Codecademy with 300 students.The pickup polity is: Pickup Allowed.\n",
      "['Tennis', 'Basketball']\n",
      "A High school name Codecademy High with 500 students.Games happening this weekend are: ['Tennis', 'Basketball'].\n"
     ]
    }
   ],
   "source": [
    "class School:\n",
    "  def __init__(self, Name, Level, NumberOfStudents):\n",
    "    self.Name = Name\n",
    "    self.Level = Level\n",
    "    self.NumberOfStudents = NumberOfStudents\n",
    "\n",
    "  def get_Name(self):\n",
    "    return self.Name\n",
    "\n",
    "  def get_Level(self):\n",
    "    return self.Level\n",
    "\n",
    "  def get_NumberOfStudents(self):\n",
    "    return self.NumberOfStudents\n",
    "\n",
    "  def set_NumberOfStudents(self, NewNumberOfStudents):\n",
    "    self.NumberOfStudents = NewNumberOfStudents\n",
    "  \n",
    "  def __repr__(self):\n",
    "    return f\"A {self.Level} school name {self.Name} with {self.NumberOfStudents} students.\"\n",
    "\n",
    "mySchool = School(\"Codecademy\", \"high\", 100)\n",
    "print(mySchool)\n",
    "print(mySchool.get_Name())\n",
    "print(mySchool.get_Level())\n",
    "mySchool.set_NumberOfStudents(200)\n",
    "print(mySchool.get_NumberOfStudents())\n",
    "\n",
    "class PrimarySchool(School):\n",
    "  def __init__(self, Name, NumberOfStudents, PickupPolicy):\n",
    "    super().__init__(Name, \"Primary\", NumberOfStudents)\n",
    "    self.PickupPolicy = PickupPolicy\n",
    "\n",
    "  def get_PickupPolicy(self):\n",
    "    return self.PickupPolicy\n",
    "\n",
    "  def __repr__(self):\n",
    "    ParentRepr = super().__repr__()\n",
    "    return ParentRepr + \"The pickup polity is: {PickupPolicy}.\".format(PickupPolicy = self.PickupPolicy)\n",
    "\n",
    "testSchool = PrimarySchool(\"Codecademy\", 300, \"Pickup Allowed\")\n",
    "print(testSchool.get_PickupPolicy())\n",
    "print(testSchool)\n",
    "\n",
    "class HighSchool(School):\n",
    "  def __init__(self, Name, NumberOfStudents, SportsTeams):\n",
    "    super().__init__(Name, \"High\", NumberOfStudents)\n",
    "    self.SportsTeams = SportsTeams\n",
    "\n",
    "  def get_SportsTeams(self):\n",
    "    return self.SportsTeams\n",
    "\n",
    "  def __repr__(self):\n",
    "    SportRepr = super().__repr__()\n",
    "    return SportRepr + \"Games happening this weekend are: {SportsTeams}.\".format(SportsTeams = self.SportsTeams)\n",
    "\n",
    "c = HighSchool(\"Codecademy High\", 500, [\"Tennis\", \"Basketball\"])\n",
    "print(c.get_SportsTeams())\n",
    "print(c)"
   ]
  }
 ],
 "metadata": {
  "interpreter": {
   "hash": "126de395fc5ab05c9b404d5156ac230f2dc2d73638f7037ba66d30fa539ce6ef"
  },
  "kernelspec": {
   "display_name": "Python 3.10.1 64-bit",
   "language": "python",
   "name": "python3"
  },
  "language_info": {
   "codemirror_mode": {
    "name": "ipython",
    "version": 3
   },
   "file_extension": ".py",
   "mimetype": "text/x-python",
   "name": "python",
   "nbconvert_exporter": "python",
   "pygments_lexer": "ipython3",
   "version": "3.10.1"
  },
  "orig_nbformat": 4
 },
 "nbformat": 4,
 "nbformat_minor": 2
}
