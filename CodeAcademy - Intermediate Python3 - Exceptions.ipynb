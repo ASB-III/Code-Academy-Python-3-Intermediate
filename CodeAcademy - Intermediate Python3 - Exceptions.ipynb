{
 "cells": [
  {
   "cell_type": "markdown",
   "metadata": {},
   "source": [
    "# EXCEPTIONS\n",
    "## Introduction to Exceptions\n",
    "It is truly an amazing feeling when our code works exactly the way we want it to. On the other hand, it can be equally frustrating when our code runs into errors. Since errors are such an integral part of working with Python, it’s important to know how to control errors and use them to our advantage effectively. In this lesson, we will explore a specific type of error, an exception.\n",
    "\n",
    "At this point, we are probably very familiar with the most common type of error: a syntax error. Syntax errors are mistakes in the structure of Python code. They are caught during a special parsing stage before a program is executed. They always prevent the entire program from running. For example, here is the error output of a syntax error:"
   ]
  },
  {
   "cell_type": "code",
   "execution_count": null,
   "metadata": {},
   "outputs": [],
   "source": [
    "File \"script.py\", line 1\n",
    "    def print_five\n",
    "                 ^\n",
    "SyntaxError: invalid syntax"
   ]
  },
  {
   "cell_type": "markdown",
   "metadata": {},
   "source": [
    "As opposed to a syntax error, an exception is a different kind of error that can occur with syntactically correct code. Exceptions are runtime errors because they occur during program execution, only when the offending code (the code causing the error) is reached. An example of an exception, and one we have probably seen before, is a NameError:"
   ]
  },
  {
   "cell_type": "code",
   "execution_count": null,
   "metadata": {},
   "outputs": [],
   "source": [
    "Traceback (most recent call last):\n",
    "  File \"script.py\", line 1, in <module>\n",
    "    print(five)\n",
    "NameError: name 'five' is not defined"
   ]
  },
  {
   "cell_type": "markdown",
   "metadata": {},
   "source": [
    "Although the NameError has a similar output to a SyntaxError (both end with Error), it falls under the category of exceptions. Exceptions and syntax errors make up the two core categories for any error we will run into.\n",
    "\n"
   ]
  },
  {
   "cell_type": "markdown",
   "metadata": {},
   "source": [
    "We’ll encounter many different kinds of exceptions, some of which will be unfamiliar. Luckily, as we saw in the example above, Python gives us a tool for gaining insight into exceptions - the traceback. A traceback is a summary that includes the exception type, a message, and the series of function calls preceding the exception, along with file names and line numbers. Here is another example of a traceback for a small program:"
   ]
  },
  {
   "cell_type": "code",
   "execution_count": null,
   "metadata": {},
   "outputs": [],
   "source": [
    "# Imaginary file script.py\n",
    "print(1/0)"
   ]
  },
  {
   "cell_type": "markdown",
   "metadata": {},
   "source": [
    "Would output:"
   ]
  },
  {
   "cell_type": "code",
   "execution_count": null,
   "metadata": {},
   "outputs": [],
   "source": [
    "Traceback (most recent call last):\n",
    "  File \"script.py\", line 1, in <module>\n",
    "    print(1/0)\n",
    "ZeroDivisionError: division by zero"
   ]
  },
  {
   "cell_type": "markdown",
   "metadata": {},
   "source": [
    "In the traceback above, reading from the bottom line, we see the exception type (ZeroDivisionError) followed by a message (division by zero). Going up, we see that the exception originated on line 1 of a file called script.py while calling print(1/0). We’ll be using tracebacks throughout the rest of the lesson to track and identify why and where our exceptions are occurring.\n",
    "\n",
    "Let’s get some practice debugging syntax errors and exceptions. For this lesson, let’s imagine we are hired by Instrument World, a musical instrument company with retail and online stores.\n",
    "\n",
    "### Instructions\n",
    "#### 1. Take a look at the code in welcome.py. There is a syntax error on line 3 (the extra closing parenthesis).\n",
    "\n",
    "Will any of the previous code be executed? Press “Run” to find out.\n",
    "\n",
    "\n",
    "<B>Hint</b><br>\n",
    "A SyntaxError will always prevent the entire program from running!\n",
    "\n",
    "#### 2. Fix the error from the extra closing parenthesis from line 3. Run the code to see what happens.\n",
    "\n",
    "\n",
    "<B>Hint</b><br>\n",
    "Remove the extra parenthesis to solve the error!\n",
    "\n",
    "#### 3. We hit an exception on line 3 because of the misspelled variable name! However, the previous lines of code were executed (observe Welcome to in the output) because exceptions occur at runtime.\n",
    "\n",
    "Fix the variable name on line 3 to continue!\n",
    "\n",
    "\n",
    "<B>Hint</b><br>\n",
    "The variable store is misspelled on line 3!"
   ]
  },
  {
   "cell_type": "code",
   "execution_count": null,
   "metadata": {},
   "outputs": [],
   "source": [
    "print('Welcome to')\n",
    "store = 'Instrument World!'\n",
    "print(store)"
   ]
  },
  {
   "cell_type": "markdown",
   "metadata": {},
   "source": [
    "## Built-in Exceptions\n",
    "In the previous exercise (and probably many times before), we saw one type of exception called the NameError. The NameError is just one of the many built-in exceptions - exceptions that are built into the Python language. Other built-in exceptions cover fields ranging from mathematical errors all the way to operating system errors. We don’t need to memorize them all, but it’s helpful to be familiar with some common ones and, more importantly, understand where they come from inside Python.\n",
    "\n",
    "Exceptions are objects just like anything else. Most exceptions inherit directly from a class called Exception; however, they all are derived directly or indirectly from the BaseException class. We can examine the base classes by using the __bases__ attribute on any specific exception:"
   ]
  },
  {
   "cell_type": "code",
   "execution_count": null,
   "metadata": {},
   "outputs": [],
   "source": [
    "print(NameError.__bases__)"
   ]
  },
  {
   "cell_type": "markdown",
   "metadata": {},
   "source": [
    "Will output:"
   ]
  },
  {
   "cell_type": "code",
   "execution_count": null,
   "metadata": {},
   "outputs": [],
   "source": [
    "<class 'Exception'>"
   ]
  },
  {
   "cell_type": "markdown",
   "metadata": {},
   "source": [
    "We can even call __bases__ on the Exception class to see its origins:"
   ]
  },
  {
   "cell_type": "code",
   "execution_count": null,
   "metadata": {},
   "outputs": [],
   "source": [
    "print(Exception.__bases__)"
   ]
  },
  {
   "cell_type": "markdown",
   "metadata": {},
   "source": [
    "Will output:"
   ]
  },
  {
   "cell_type": "code",
   "execution_count": null,
   "metadata": {},
   "outputs": [],
   "source": [
    "<class 'BaseException'>"
   ]
  },
  {
   "cell_type": "markdown",
   "metadata": {},
   "source": [
    "The full hierarchy of built-in exceptions is the following:"
   ]
  },
  {
   "cell_type": "code",
   "execution_count": null,
   "metadata": {},
   "outputs": [],
   "source": [
    "BaseException\n",
    " +-- Exception\n",
    "      +-- StopIteration\n",
    "      +-- StopAsyncIteration\n",
    "      +-- ArithmeticError\n",
    "      |    +-- FloatingPointError\n",
    "      |    +-- OverflowError\n",
    "      |    +-- ZeroDivisionError\n",
    "      +-- AssertionError\n",
    "      +-- AttributeError\n",
    "      +-- BufferError\n",
    "      +-- EOFError\n",
    "      +-- ImportError\n",
    "      |    +-- ModuleNotFoundError\n",
    "      +-- LookupError\n",
    "      |    +-- IndexError\n",
    "      |    +-- KeyError\n",
    "      +-- MemoryError\n",
    "      +-- NameError\n",
    "      |    +-- UnboundLocalError\n",
    "      +-- OSError\n",
    "      |    +-- BlockingIOError\n",
    "      |    +-- ChildProcessError\n",
    "      |    +-- ConnectionError\n",
    "      |    |    +-- BrokenPipeError\n",
    "      |    |    +-- ConnectionAbortedError\n",
    "      |    |    +-- ConnectionRefusedError\n",
    "      |    |    +-- ConnectionResetError\n",
    "      |    +-- FileExistsError\n",
    "      |    +-- FileNotFoundError\n",
    "      |    +-- InterruptedError\n",
    "      |    +-- IsADirectoryError\n",
    "      |    +-- NotADirectoryError\n",
    "      |    +-- PermissionError\n",
    "      |    +-- ProcessLookupError\n",
    "      |    +-- TimeoutError\n",
    "      +-- ReferenceError\n",
    "      +-- RuntimeError\n",
    "      |    +-- NotImplementedError\n",
    "      |    +-- RecursionError\n",
    "      +-- SyntaxError\n",
    "      |    +-- IndentationError\n",
    "      |         +-- TabError\n",
    "      +-- SystemError\n",
    "      +-- TypeError\n",
    "      +-- ValueError\n",
    "      |    +-- UnicodeError\n",
    "      |         +-- UnicodeDecodeError\n",
    "      |         +-- UnicodeEncodeError\n",
    "      |         +-- UnicodeTranslateError"
   ]
  },
  {
   "cell_type": "markdown",
   "metadata": {},
   "source": [
    "Note that there is a lot of exceptions built into the language of Python. Again, we don’t need to memorize all of them, but at some point, we may see them pop up in our programs. We can find details on each of the exceptions listed above in the Python documentation.\n",
    "\n",
    "Later in this lesson, we’ll be using the Exception base class to create custom exceptions. For now, let’s get some practice encountering built-in exceptions and reading their tracebacks."
   ]
  },
  {
   "cell_type": "markdown",
   "metadata": {},
   "source": [
    "Instructions\n",
    "1. Instrument World has a program that prints some of the most popular instruments it has on sale.\n",
    "\n",
    "Take some time to look over the program, and then run the code in instruments.py. We’ll encounter another exception that we might not have seen before. What might this exception be telling us?\n",
    "\n",
    "\n",
    "<b>Hint</b><br>\n",
    "A TypeError can sometimes occur when we try to concatenate a string and an integer.\n",
    "\n",
    "2. Take a look over traceback - it ends with the exception type and a brief message. Above that is the exact line that caused the exception.\n",
    "\n",
    "Fix this line so that the exception no longer occurs and then re-run the code.\n",
    "\n",
    "\n",
    "<b>Hint</b><br>\n",
    "The len() function returns an integer type, which cannot be concatenated with strings. Use the str() built-in function to convert integers into a string.\n",
    "\n",
    "3. Looks like the exception we saw in the previous step was a TypeError. Let’s confirm which base class it is derived from.\n",
    "\n",
    "Use print() to output a TypeError.__bases__.\n",
    "\n",
    "\n",
    "<b>Hint</b><br>\n",
    "The .__bases__ property can be examined on any error that occurs. To examine it, we simply attach it to the end of an exception:\n",
    "\n",
    "\n",
    "Exception.__bases__\n",
    "\n",
    "\n",
    "4. There is another exception that gets hit - once again, read the traceback, fix the exception, and re-run the code.\n",
    "\n",
    "\n",
    "<b>Hint</b><br>\n",
    "An IndexError commonly occurs when trying to access an index that does not exist. The index of the last element in sale_instruments is 2."
   ]
  },
  {
   "cell_type": "code",
   "execution_count": null,
   "metadata": {},
   "outputs": [],
   "source": [
    "sale_instruments = ['Violin', 'Conga', 'Clavinet']\n",
    "\n",
    "print('The following ' + str(len(sale_instruments)) + ' instruments are on sale:')\n",
    "print(sale_instruments[0])\n",
    "print(sale_instruments[1])\n",
    "print(sale_instruments[2])\n",
    "\n",
    "print(TypeError.__bases__)"
   ]
  },
  {
   "cell_type": "markdown",
   "metadata": {},
   "source": [
    "## Raising Exceptions\n",
    "Encountering exceptions isn’t always an accident. We can throw an exception at any time by using the raise keyword, even when Python would not normally throw it.\n",
    "\n",
    "We might want to raise an exception anytime we think a mistake has or will occur in our program. This lets us stop program execution immediately and provide a useful error message instead of allowing mistakes to occur that may be difficult to diagnose at a later point.\n",
    "\n",
    "One way to use the raise keyword is by pairing it with a specific exception class name. We can either call the class by itself or call a constructor and provide a specific error message. So for example we could do:"
   ]
  },
  {
   "cell_type": "code",
   "execution_count": null,
   "metadata": {},
   "outputs": [],
   "source": [
    "raise NameError\n",
    "# or \n",
    "raise NameError('Custom Message')"
   ]
  },
  {
   "cell_type": "markdown",
   "metadata": {},
   "source": [
    "When only the class name is provided (as in the first example), Python calls the constructor method for us without any arguments (and thus no custom message will come up).\n",
    "\n",
    "For a more concrete example, let’s examine raising a TypeError for a function that checks if an employee tries to open the cash register but does not have the correct access:"
   ]
  },
  {
   "cell_type": "code",
   "execution_count": null,
   "metadata": {},
   "outputs": [],
   "source": [
    "def open_register(employee_status):\n",
    "  if employee_status == 'Authorized':\n",
    "    print('Successfully opened cash register')\n",
    "  else:\n",
    "    # Alternatives: raise TypeError() or TypeError('Message')\n",
    "    raise TypeError"
   ]
  },
  {
   "cell_type": "markdown",
   "metadata": {},
   "source": [
    "When an employee_status is not 'Authorized', the function open_register() will throw a TypeError and stop program execution.\n",
    "\n",
    "Alternatively, when no built-in exception makes sense for the type of error our program might experience, it might be better to use a generic exception with a specific message. This is where we can use the base Exception class and provide a single argument that serves as the error message. Let’s modify the previous example, this time raising an Exception object with a message:"
   ]
  },
  {
   "cell_type": "code",
   "execution_count": null,
   "metadata": {},
   "outputs": [],
   "source": [
    "def open_register(employee_status):\n",
    "  if employee_status == 'Authorized':\n",
    "    print('Successfully opened cash register')\n",
    "  else:\n",
    "    raise Exception('Employee does not have access!')"
   ]
  },
  {
   "cell_type": "markdown",
   "metadata": {},
   "source": [
    "As a general rule of thumb, use an exception that provides the best explanation for the expected error for both the user and anyone that will read the code.\n",
    "\n",
    "Later in this lesson, we’ll explore how to customize our exceptions further by creating user-defined exceptions. For now, let’s practice using the raise keyword.\n",
    "\n",
    "Instructions\n",
    "#### 1. Instrument World has a program that attempts to print the price of several instruments. Take some time to examine the program and then run the code and observe the output!\n",
    "\n",
    "What do we expect to happen?\n",
    "\n",
    "\n",
    "<b>Hint</b><br>\n",
    "What kind of exception would happen if we try to access a key that does not exist in the instrument_catalog dictionary?\n",
    "\n",
    "#### 2. We hit a KeyError since 'Piano' is not a key in the instrument_catalog dictionary.\n",
    "\n",
    "Let’s provide a custom message by raising the exception ourselves. To accomplish this goal we will use a simple conditional.\n",
    "\n",
    "First, inside of print_instrument_price, add an if statement that checks whether or not the instrument parameter is found in instrument_catalog. If it is, use the provided pre-written print statement to print the price.\n",
    "\n",
    "\n",
    "<b>Hint</b><br>\n",
    "The in keyword can be used to check if a key is found in a dictionary.\n",
    "\n",
    "#### 3. Finally, let’s add an else block where we will print our custom KeyError exception if the key does not exist. Inside, it should raise a KeyError with the message instrument + ' is not found in instrument catalog!'.\n",
    "\n",
    "\n",
    "<b>Hint</b><br>\n",
    "When instantiating an exception, the first argument passed to the constructor method is the message. Here is an example using TypeError:"
   ]
  },
  {
   "cell_type": "code",
   "execution_count": null,
   "metadata": {},
   "outputs": [],
   "source": [
    "raise TypeError('Custom TypeError Message')"
   ]
  },
  {
   "cell_type": "code",
   "execution_count": null,
   "metadata": {},
   "outputs": [],
   "source": [
    "instrument_catalog = {\n",
    "  'Marimba': 1999,\n",
    "  'Kora': 499,\n",
    "  'Flute': 899\n",
    "}\n",
    "\n",
    "def print_instrument_price(instrument):\n",
    "  # Write your code below:\n",
    "  if instrument in instrument_catalog:\n",
    "    print('The price of a ' + instrument + ' is ' + str(instrument_catalog[instrument]))\n",
    "  else:\n",
    "    raise KeyError(instrument + ' is not found in instrument catalog!')\n",
    "\n",
    "print_instrument_price('Marimba')\n",
    "print_instrument_price('Flute')\n",
    "print_instrument_price('Piano')\n"
   ]
  },
  {
   "cell_type": "markdown",
   "metadata": {},
   "source": [
    "## Try / Except\n",
    "So far, the exceptions we’ve encountered have caused our programs to stop executing. However, it is possible for programs to continue executing even after encountering an exception. This process is known as exception handling and is accomplished using the Python try/except clauses.\n",
    "\n",
    "The following flow chart demonstrates the mechanics of try/except:\n",
    "\n",
    "\n",
    "Let’s break it down:\n",
    "\n",
    "- Python will first attempt to execute code inside the try clause code block.\n",
    "- If no exception is encountered in the code, the except clause is skipped and the program continues normally.\n",
    "- If an exception does occur inside of the try code block, Python will immediately stop executing the code and begin executing the code inside the except code block (sometimes called a handler).\n",
    "\n",
    "\n",
    "Let’s see this in action in a small program that prints colors:"
   ]
  },
  {
   "cell_type": "code",
   "execution_count": null,
   "metadata": {},
   "outputs": [],
   "source": [
    "colors = {\n",
    "    'red': '#FF0000',\n",
    "    'blue': '#0000FF',\n",
    "    'yellow': '#FFFF00',\n",
    "}\n",
    " \n",
    "for color in ('red', 'green', 'yellow'):\n",
    "  try:\n",
    "    print('The hex value of ' + color + ' is ' + colors[color])\n",
    "  except:\n",
    "    print('An exception occurred! Color does not exist.')\n",
    "  print('Loop continues...')"
   ]
  },
  {
   "cell_type": "markdown",
   "metadata": {},
   "source": [
    "We get the following output:"
   ]
  },
  {
   "cell_type": "code",
   "execution_count": null,
   "metadata": {},
   "outputs": [],
   "source": [
    "The hex value of red is #FF0000\n",
    "Loop continues...\n",
    "An exception occurred! Color does not exist.\n",
    "Loop continues...\n",
    "The hex value of yellow is #FFFF00\n",
    "Loop continues..."
   ]
  },
  {
   "cell_type": "markdown",
   "metadata": {},
   "source": [
    "In the above code, the try block runs until it hit an exception. The hex value of the color red was successfully printed before it tried to access the hex value of green, which caused a KeyError since green is not in our colors dictionary and ran the code in the except block. However, the exception was handled so Python continued executing our code and went onto print the hex value of yellow.\n",
    "\n",
    "Exception handling is a powerful tool that lets us gain more flexibility in dealing with errors in our applications. We can use it to perform an action multiple times until it succeeds, or perhaps simply print a message when a non-critical part of our program doesn’t work properly.\n",
    "\n",
    "Let’s try performing some exception handling!"
   ]
  },
  {
   "cell_type": "markdown",
   "metadata": {},
   "source": [
    "Instructions\n",
    "#### 1. Instrument World has a program that prints a staff report for all of the Instrument World locations in the staff dictionary.\n",
    "\n",
    "Take some time to review the code. Spot any issues?\n",
    "\n",
    "\n",
    "<b>Hint</b><br>\n",
    "What error might happen when we try to calculate the staff ratio in the Melbourne location?\n",
    "\n",
    "#### 2. We successfully printed the staff report for Austin, but we hit an exception (ZeroDivisionError) when trying to print out the ratio for Melbourne since we attempted to divide 8 by 0.\n",
    "\n",
    "Let’s use exception handling to manage this error and keep our program running. First, wrap the function call print_staff_report() in a try clause.\n",
    "\n",
    "\n",
    "<b>Hint</b><br>\n",
    "A try clause starts with try: followed by an indented code block.\n",
    "\n",
    "#### 3. Immediately after the try clause, add an except clause which prints 'Could not print sales report for ' + location.\n",
    "\n",
    "Run the code and observe our exception handling!\n",
    "\n",
    "\n",
    "<b>Hint</b><br>\n",
    "An except clause starts with except: followed by an indented code block. The exception handling will look like this when completed:"
   ]
  },
  {
   "cell_type": "code",
   "execution_count": null,
   "metadata": {},
   "outputs": [],
   "source": [
    "try: \n",
    "  # Some code to try\n",
    "except: \n",
    "  # Some code to run when an exception occurs"
   ]
  },
  {
   "cell_type": "code",
   "execution_count": null,
   "metadata": {},
   "outputs": [],
   "source": [
    "staff = {\n",
    "  'Austin': {\n",
    "      'floor managers': 1,\n",
    "      'sales associates': 5\n",
    "  },\n",
    "  'Melbourne': {\n",
    "      'floor managers': 0,\n",
    "      'sales associates': 8\n",
    "  },\n",
    "  'Beijing': {\n",
    "      'floor managers': 2,\n",
    "      'sales associates': 5\n",
    "  },\n",
    "}\n",
    "\n",
    "def print_staff_report(location, staff_dict):\n",
    "  managers = staff_dict['floor managers']\n",
    "  sales_people = staff_dict['sales associates']\n",
    "  ratio = sales_people / managers\n",
    "  print('Instrument World ' + location + ' has:')\n",
    "  print(str(sales_people) + ' sales employees')\n",
    "  print(str(managers) + ' floor managers')\n",
    "  print('The ratio of sales people to managers is ' + str(ratio))\n",
    "  print()\n",
    "\n",
    "for location, staff in staff.items():\n",
    "  # Write your code below:\n",
    "  try:\n",
    "    print_staff_report(location, staff)\n",
    "  except:\n",
    "    print('Could not print sales report for ' + location)\n"
   ]
  },
  {
   "cell_type": "markdown",
   "metadata": {},
   "source": [
    "Catching Specific Exceptions\n",
    "The exception handlers from the previous exercise handled any exception hit during the try clause. However, in most cases, we will have an idea of the types of exceptions that might occur within our code. It is generally considered best practice to be as specific as possible with the exceptions we want to raise unless there is a specific reason for catching any type of exception.\n",
    "\n",
    "We can catch a specific exception by listing it after the except keyword, as in the example below:"
   ]
  },
  {
   "cell_type": "code",
   "execution_count": null,
   "metadata": {},
   "outputs": [],
   "source": [
    "try:\n",
    "    print(undefined_var)\n",
    "except NameError:\n",
    "    print('We hit a NameError')"
   ]
  },
  {
   "cell_type": "markdown",
   "metadata": {},
   "source": [
    "In this case, the except block is only executed if a NameError is encountered (in the try block) rather than any exception. If any other exception occurs, it is unhandled, and the program terminates.\n",
    "\n",
    "When we specify exception types, Python also allows us to capture the exception object using the as keyword. The exception object hosts information about the specific error that occurred. Examine our previous function but now capturing the exception object as errorObject:"
   ]
  },
  {
   "cell_type": "code",
   "execution_count": null,
   "metadata": {},
   "outputs": [],
   "source": [
    "try:\n",
    "    print(undefined_var)\n",
    "except NameError as errorObject:\n",
    "    print('We hit a NameError')\n",
    "    print(errorObject)"
   ]
  },
  {
   "cell_type": "markdown",
   "metadata": {},
   "source": [
    "Would output:"
   ]
  },
  {
   "cell_type": "code",
   "execution_count": null,
   "metadata": {},
   "outputs": [],
   "source": [
    "We hit a NameError\n",
    "name 'undefined_var' is not defined"
   ]
  },
  {
   "cell_type": "markdown",
   "metadata": {},
   "source": [
    "Its worth noting errorObject is an arbitrary name and can be replaced with any name we see fit. The following code would work exactly the same:"
   ]
  },
  {
   "cell_type": "code",
   "execution_count": null,
   "metadata": {},
   "outputs": [],
   "source": [
    "try:\n",
    "    print(undefined_var)\n",
    "except NameError as e:\n",
    "    print('We hit a NameError')\n",
    "    print(e)"
   ]
  },
  {
   "cell_type": "markdown",
   "metadata": {},
   "source": [
    "Let’s get some practice capturing specific exceptions.\n",
    "\n",
    "Instructions\n",
    "#### 1. Let’s improve upon the exception handler we built in the previous exercise.\n",
    "\n",
    "Change the except clause so that it only handles a ZeroDivisionError. Store the ZeroDivisionError we intend to capture into a variable called e.\n",
    "\n",
    "\n",
    "<B>Hint</b><br>\n",
    "The except keyword can be followed by a specific exception type, the as keyword, and then a variable name. Take a look at an example:"
   ]
  },
  {
   "cell_type": "code",
   "execution_count": null,
   "metadata": {},
   "outputs": [],
   "source": [
    "try:\n",
    "    # Some code to try\n",
    "except specificException as e: \n",
    "    # Some code to run after exception"
   ]
  },
  {
   "cell_type": "markdown",
   "metadata": {},
   "source": [
    "#### 2. Print e as the second print() statement in the except block."
   ]
  },
  {
   "cell_type": "code",
   "execution_count": null,
   "metadata": {},
   "outputs": [],
   "source": [
    "staff = {\n",
    "  'Austin': {\n",
    "    'floor managers': 1,\n",
    "    'sales associates': 5\n",
    "  },\n",
    "  'Melbourne': {\n",
    "    'floor managers': 0,\n",
    "    'sales associates': 8\n",
    "  },\n",
    "  'Beijing': {\n",
    "    'floor managers': 2,\n",
    "    'sales associates': 5\n",
    "  },\n",
    "}\n",
    "\n",
    "def print_staff_report(location, staff_dict):\n",
    "  managers = staff_dict['floor managers']\n",
    "  sales_people = staff_dict['sales associates']\n",
    "  ratio = sales_people / managers\n",
    "  print('Instrument World ' + location + ' has:')\n",
    "  print(str(sales_people) + ' sales employees')\n",
    "  print(str(managers) + ' floor managers')\n",
    "  print('The ratio of sales people to managers is ' + str(ratio))\n",
    "  print()\n",
    "\n",
    "for location, staff in staff.items():\n",
    "  try:\n",
    "      print_staff_report(location, staff)\n",
    "  # Write your code below:\n",
    "  except ZeroDivisionError as e:\n",
    "      print('Could not print sales report for ' + location)\n",
    "      print(e)"
   ]
  },
  {
   "cell_type": "markdown",
   "metadata": {},
   "source": [
    "## Handling Multiple Exceptions\n",
    "While handling a single exception is useful, Python also gives us the ability to handle multiple exceptions at once. We can list more than one exception type in a tuple with a single except clause. Here is what the syntax would look like:"
   ]
  },
  {
   "cell_type": "code",
   "execution_count": null,
   "metadata": {},
   "outputs": [],
   "source": [
    "try:\n",
    "    # Some code to try!\n",
    "except (NameError, ZeroDivisionError) as e:\n",
    "    print('We hit an Exception!')\n",
    "    print(e)"
   ]
  },
  {
   "cell_type": "markdown",
   "metadata": {},
   "source": [
    "In the above example, we expect to encounter either a NameError or a ZeroDivisionError. We can list any number of exceptions in this tuple format as long as it makes sense for the code in our try block. This is where we can see the benefit of capturing our exception object (via the as clause) since it enables us to print (or operate on) the specific exception that is caught.\n",
    "\n",
    "In addition to catching multiple exceptions, we can also pair multiple except clauses with a single try clause, enabling specific exceptions to be handled differently. For example:"
   ]
  },
  {
   "cell_type": "code",
   "execution_count": null,
   "metadata": {},
   "outputs": [],
   "source": [
    "try:\n",
    "    # Some code to try!\n",
    "except NameError:\n",
    "    print('We hit a NameError Exception!')\n",
    "except KeyError:\n",
    "    print('We hit a TypeError Exception!')\n",
    "except Exception:\n",
    "    print('We hit an exception that is not a NameError or TypeError!')"
   ]
  },
  {
   "cell_type": "markdown",
   "metadata": {},
   "source": [
    "In the above program, a NameError or KeyError will trigger one of the first two exception handlers. Any other exception will trigger the third handler. Note that the order of handlers is important here - if an exception is encountered, Python will execute the first one that matches its type. In this case, and a valid strategy for exception handling, we use the last except clause as a generic Exception as a backup if no other specific exception gets caught.\n",
    "\n",
    "Let’s now practice handling multiple exceptions!"
   ]
  },
  {
   "cell_type": "markdown",
   "metadata": {},
   "source": [
    "Instructions\n",
    "#### 1. Instrument World has a program that allows the user to apply a discount to an instrument price.\n",
    "\n",
    "Take some time to look over the program. Spot any issues? Run the code to find out!\n",
    "\n",
    "\n",
    "<B>Hint</b><br>\n",
    "What exception gets thrown when we try to access a key that does not exist in a dictionary?\n",
    "\n",
    "#### 2. Looks like we hit a KeyError! Let’s apply some exception handling to handle this exception!\n",
    "\n",
    "Wrap the display_discounted_price() function call in a try clause. In addition, add an except clause which handles a KeyError exception. Inside the except clause, print 'An invalid instrument was entered!'.\n",
    "\n",
    "\n",
    "<B>Hint</b><br>\n",
    "The structure for catching a specific exception looks like this:"
   ]
  },
  {
   "cell_type": "code",
   "execution_count": null,
   "metadata": {},
   "outputs": [],
   "source": [
    "try: \n",
    "    # Some code to try! \n",
    "except SpecificException: \n",
    "    # Some code to run if the exception is hit!"
   ]
  },
  {
   "cell_type": "markdown",
   "metadata": {},
   "source": [
    "#### 3. Awesome! Now our program can account for any KeyError we encounter. Let’s see what happens when we use a key that does exist in our instrument_prices dictionary.\n",
    "\n",
    "\n",
    "Change instrument = 'Clarinet' so that instrument is equal to 'Banjo'. Before you run the code, take some time to ponder if our program will run into any error.\n",
    "\n",
    "\n",
    "<B>Hint</b><br>\n",
    "Take a look at the data type of the discount variable. What would happen when our display_discounted_price() reaches the line where we calculate discount percentage?\n",
    "\n",
    "#### 4. We hit a TypeError!\n",
    "\n",
    "This happened because the discount variable was set to a string, not a number. Let’s adjust our exception handling to also account for a TypeError.\n",
    "\n",
    "After the exception handler for KeyError, add another except clause which catches a TypeError. Inside the except clause, print 'Discount percentage must be a number!'.\n",
    "\n",
    "\n",
    "<B>Hint</b><br>\n",
    "A single try clause can be followed by multiple except clauses. Here is an example:"
   ]
  },
  {
   "cell_type": "code",
   "execution_count": null,
   "metadata": {},
   "outputs": [],
   "source": [
    "try: \n",
    "    # Some code to try! \n",
    "except SpecificException: \n",
    "    # Some code to run if the exception is hit!\n",
    "except SomeOtherSpecificException: \n",
    "    # Some code to run if the exception is hit!"
   ]
  },
  {
   "cell_type": "markdown",
   "metadata": {},
   "source": [
    "#### 5. We now have exception handlers for when we hit a KeyError or TypeError, but what if some other unexpected exception occurs?\n",
    "\n",
    "Add a final exception handler which will catch any Exception object. Inside, print 'Hit an exception other than KeyError or TypeError!'"
   ]
  },
  {
   "cell_type": "code",
   "execution_count": null,
   "metadata": {},
   "outputs": [],
   "source": [
    "instrument_prices = {\n",
    "  'Banjo': 200,\n",
    "  'Cello': 1000,\n",
    "  'Flute': 100,\n",
    "}\n",
    "\n",
    "def display_discounted_price(instrument, discount):\n",
    "  full_price = instrument_prices[instrument]\n",
    "  discount_percentage = discount / 100\n",
    "  discounted_price = full_price - (full_price * discount_percentage)\n",
    "  print(\"The instrument's discounted price is: \" + str(discounted_price))\n",
    "\n",
    "instrument = 'Banjo'\n",
    "discount = '20'\n",
    "\n",
    "# Write your code below:\n",
    "try:\n",
    "  display_discounted_price(instrument, discount)\n",
    "except KeyError: \n",
    "  print('An invalid instrument was entered!')\n",
    "except TypeError:\n",
    "  print('Discount percentage must be a number!')\n",
    "except Exception:\n",
    "  print('Hit an exception other than KeyError or TypeError!')"
   ]
  },
  {
   "cell_type": "markdown",
   "metadata": {},
   "source": [
    "## The else Clause\n",
    "We’ve seen how exception handlers get executed when we encounter exceptions during a try clause - but what if we want to run some code only if we do not encounter an exception? Python provides us a way to do this as well - the else clause.\n",
    "\n",
    "Our updated flow chart shows what happens when an else clause is added to the mix:\n",
    "\n",
    "\n",
    "Python will only execute the else clause if no exception was encountered in the try clause.\n",
    "\n",
    "Let’s examine a hypothetical program that authenticates a user. For now, we will use two imaginary functions check_password() and login_user(). Here is what the program looks like:"
   ]
  },
  {
   "cell_type": "code",
   "execution_count": null,
   "metadata": {},
   "outputs": [],
   "source": [
    "try:\n",
    "  check_password()\n",
    "except ValueError:\n",
    "  print('Wrong Password! Try again!')\n",
    "else:\n",
    "  login_user()\n",
    "  # 20 other lines of imaginary code"
   ]
  },
  {
   "cell_type": "markdown",
   "metadata": {},
   "source": [
    "In this program, we can assume if our function check_password() fails, it will return a ValueError. Thankfully, our exception handler takes care of this scenario. However, if our function doesn’t fail, the else clause allows us to log the user in!\n",
    "\n",
    "Now, one could argue, we could have written our program a different way to achieve a similar outcome:"
   ]
  },
  {
   "cell_type": "code",
   "execution_count": null,
   "metadata": {},
   "outputs": [],
   "source": [
    "try:\n",
    "  check_password()\n",
    "  login_user()\n",
    "  # 20 other lines of imaginary code\n",
    "except ValueError:\n",
    "  print('Wrong Password! Try again!')"
   ]
  },
  {
   "cell_type": "markdown",
   "metadata": {},
   "source": [
    "Here, if our check_password() ever fails, we will be able to catch the exception just like before. Python does offer a bit of insight on this scenario in the official documentation:\n",
    "\n",
    "The use of the else clause is better than adding additional code to the try clause because it avoids accidentally catching an exception that wasn’t raised by the code being protected by the try … except statement.\n",
    "\n",
    "This suggestion is valid in this case since in the alternative style, the ValueError could occur in any of the other lines of code other than check_password(), and it would be challenging to tell where it came from.\n",
    "\n",
    "Let’s give the else clause a try!\n",
    "\n",
    "Instructions\n",
    "#### 1. Our Instrument World stores have a customer rewards program. Examine the code which displays a customer’s account number. Spot any issues? Run the code to find out!\n",
    "\n",
    "\n",
    "<B>Hint</b><br>\n",
    "What happens when we try to access a key that does not exist in a dictionary?\n",
    "\n",
    "#### 2. Looks like our pesky KeyError is back! Let’s try to account for this scenario by using exception handling.\n",
    "\n",
    "Wrap rewards_number = customer_rewards[customer] inside of a try clause. Add an except clause which catches a KeyError and prints 'Customer was not found in rewards program!'.\n",
    "\n",
    "\n",
    "<B>Hint</b><br>\n",
    "This is the standard syntax for a try/except for a specific exception:"
   ]
  },
  {
   "cell_type": "code",
   "execution_count": null,
   "metadata": {},
   "outputs": [],
   "source": [
    "try:\n",
    "    # Some code to try!\n",
    "except SpecificException: \n",
    "    # Some code to run if we hit an exception! "
   ]
  },
  {
   "cell_type": "markdown",
   "metadata": {},
   "source": [
    "#### 3. Lastly, add an else clause and move print('Rewards account number is: ' + str(rewards_number)) so that it is inside of the else clause.\n",
    "\n",
    "\n",
    "<b>Hint</b><br>\n",
    "This is the standard syntax for a try/except/else for a specific exception:"
   ]
  },
  {
   "cell_type": "code",
   "execution_count": null,
   "metadata": {},
   "outputs": [],
   "source": [
    "try:\n",
    "    # Some code to try!\n",
    "except SpecificException: \n",
    "    # Some code to run if we hit an exception! \n",
    "else: \n",
    "    # Some code to run if we don't hit an exception"
   ]
  },
  {
   "cell_type": "markdown",
   "metadata": {},
   "source": [
    "#### 4. Change the value of the customer variable so that it is equal to 'Mario'.\n",
    "\n",
    "What we should expect from our output given our new exception handling structure? Ponder the question and then run the code to find out!\n",
    "\n",
    "Checkpoint 5 Passed\n",
    "\n",
    "<b>Hint</b><br>\n",
    "Which clause would be hit in our try/except/else structure?"
   ]
  },
  {
   "cell_type": "code",
   "execution_count": null,
   "metadata": {},
   "outputs": [],
   "source": [
    "customer_rewards = {\n",
    "  'Zoltan': 82570,\n",
    "  'Guadalupe': 29850,\n",
    "  'Mario': 17849\n",
    "}\n",
    "\n",
    "def display_rewards_account(customer):\n",
    "  # Write your code below:\n",
    "  try:\n",
    "    rewards_number = customer_rewards[customer]\n",
    "  except KeyError:\n",
    "    print('Customer was not found in rewards program!')\n",
    "  else:\n",
    "    print('Rewards account number is: ' + str(rewards_number))\n",
    "\n",
    "\n",
    "customer = 'Mario'\n",
    "display_rewards_account(customer)\n"
   ]
  },
  {
   "cell_type": "markdown",
   "metadata": {},
   "source": [
    "## The finally Clause\n",
    "With try/except/else, we’ve seen how to run certain code when an exception occurs and other code when it does not. There is also a way to execute code regardless of whether an exception occurs - the finally clause.\n",
    "\n",
    "Here is our final flow chart demonstrating try/except/else/finally:\n",
    "\n",
    "Try/Except/Else/Finally\n",
    "\n",
    "Let’s return to our fictional login program from earlier and examine a use case for the finally clause:"
   ]
  },
  {
   "cell_type": "code",
   "execution_count": null,
   "metadata": {},
   "outputs": [],
   "source": [
    "try:\n",
    "  check_password()\n",
    "except ValueError:\n",
    "  print('Wrong Password! Try again!')\n",
    "else:\n",
    "  login_user()\n",
    "  # 20 other lines of imaginary code\n",
    "finally:\n",
    "  load_footer()"
   ]
  },
  {
   "cell_type": "markdown",
   "metadata": {},
   "source": [
    "In the above program, most of our code stayed the same. The one change we made was we added the finally clause to execute no matter if the user fails to login or not. In either case, we use an imaginary function called load_footer() to load the page’s footer. Since the footer area of our imaginary application stays the same for both states, we always want to load it, and thus call it inside of the finally clause.\n",
    "\n",
    "Note that the finally clause can be used independently (without an except or else clause). This is a convenient way to guarantee that a behavior will occur, regardless of whether an exception occurs:"
   ]
  },
  {
   "cell_type": "code",
   "execution_count": null,
   "metadata": {},
   "outputs": [],
   "source": [
    "try:\n",
    "    check_password()\n",
    "finally:\n",
    "    load_footer()\n",
    "    # Other code we always want to run "
   ]
  },
  {
   "cell_type": "markdown",
   "metadata": {},
   "source": [
    "Let’s put the finally clause into practice for our Instrument World application!\n",
    "\n",
    "### Instructions\n",
    "#### 1. Instrument World maintains a database (in this case a large dictionary) with instrument information that any store can access.\n",
    "\n",
    "The current program displays information from the database for a particular instrument. Take some time to look over database.py and instrument.py to get better acquainted with the program.\n",
    "\n",
    "Run the code to examine the output!\n",
    "\n",
    "#### 2. Since the database server Instrument World uses can only have a limited number of users connected to it, we want to make sure that we disconnect from it after attempting to retrieve information, even if an exception occurs.\n",
    "\n",
    "Add a finally clause that calls database.disconnect_from_database(). Observe the output of the exception handling when we hit an exception by running the code!\n",
    "\n",
    "\n",
    "<b>Hint</b><br>\n",
    "The finally clause comes last in our exception handling structure.\n",
    "\n",
    "#### 3. Change instrument to have a value of 'Kora'. Run the code to observe the finally clause executing even when we don’t hit an exception."
   ]
  },
  {
   "cell_type": "code",
   "execution_count": null,
   "metadata": {},
   "outputs": [],
   "source": [
    "import database\n",
    "\n",
    "instrument = 'Kora'\n",
    "database.connect_to_database()\n",
    "\n",
    "try:\n",
    "  database.display_instrument_info(instrument)\n",
    "except KeyError:\n",
    "  print('Oh no! This instrument does not exist.')\n",
    "else:\n",
    "  print(instrument)\n",
    "# Write your code below: \n",
    "finally:\n",
    "  database.disconnect_from_database()"
   ]
  },
  {
   "cell_type": "markdown",
   "metadata": {},
   "source": [
    "## User-defined Exceptions\n",
    "So far we have seen how to raise and manage built-in exceptions. In most programs, using built-in exceptions won’t always be the most detailed way to describe an error occurring. What if we could create custom exceptions that are more specific to a program or module? Well, Python gives us the ability to create user-defined exceptions.\n",
    "\n",
    "User-defined exceptions are exceptions that we create to allow for better readability in our program’s errors. The core syntax looks like this:"
   ]
  },
  {
   "cell_type": "code",
   "execution_count": null,
   "metadata": {},
   "outputs": [],
   "source": [
    "class CustomError(Exception):\n",
    "    pass"
   ]
  },
  {
   "cell_type": "markdown",
   "metadata": {},
   "source": [
    "All we have to do to create a custom exception is to derive a subclass from the built-in Exception class. Although not required, most custom exceptions end in “Error” similar to the naming of the built-in exceptions. We’ll learn how to customize these exceptions in the next exercise, but for now, let’s see how a simple custom exception helps us better document our errors.\n",
    "\n",
    "Let’s imagine that Instrument World has an optional delivery service for instruments. If someone tries to schedule a delivery but their address is too far, we want to raise a custom LocationTooFarError exception. This isn’t a type of exception that is built into Python, but rather one that is specific to our program and use case. Here is what our program might look like utilizing this custom exception:"
   ]
  },
  {
   "cell_type": "code",
   "execution_count": null,
   "metadata": {},
   "outputs": [],
   "source": [
    "class LocationTooFarError(Exception):\n",
    "   pass\n",
    " \n",
    "def schedule_delivery(distance_from_store):\n",
    "    if distance_from_store > 10:\n",
    "        raise LocationTooFarError\n",
    "    else:\n",
    "        print('Scheduling the delivery...')"
   ]
  },
  {
   "cell_type": "markdown",
   "metadata": {},
   "source": [
    "Here, we have a class called LocationTooFarError that inherits from the Exception class. By doing so, we are telling Python that we would like to be able to use the class as our own custom exception.\n",
    "\n",
    "Now, if we call schedule_delivery(20), we get the following output:"
   ]
  },
  {
   "cell_type": "code",
   "execution_count": null,
   "metadata": {},
   "outputs": [],
   "source": [
    "Traceback (most recent call last):\n",
    "  File \"inventory.py\", line 10, in <module>\n",
    "    schedule_delivery(20)\n",
    "  File \"inventory.py\", line 6, in schedule_delivery\n",
    "    raise LocationTooFarError\n",
    "__main__.LocationTooFarError"
   ]
  },
  {
   "cell_type": "markdown",
   "metadata": {},
   "source": [
    "Since our class name populates into the traceback, even this simple class proves to be more useful than a generic Exception object or any built-in types! Users and developers alike will appreciate having specific exception details to work with.\n",
    "\n",
    "Let’s practice creating our own simple custom exceptions!\n",
    "\n",
    "### Instructions\n",
    "#### 1. Instrument World has a program for submitting an online order for an instrument and then updating the inventory. Take some time to look over the current state of the program.\n",
    "\n",
    "Can we imagine any specific errors occurring? Run the code to see what happens!\n",
    "\n",
    "\n",
    "<b>Hint</b><br>\n",
    "What would happen if a customer requested to buy a quantity greater than the current quantity in inventory?\n",
    "\n",
    "#### 2. Sometimes we will receive orders that can’t be fulfilled because there is not enough inventory for a specific instrument. Let’s add some custom exception handling to the program to handle this specific situation.\n",
    "\n",
    "Create a class called InventoryError, which inherits from Exception. The body of the class should be a single pass statement.\n",
    "\n",
    "\n",
    "<b>Hint</b><br>\n",
    "A simple custom expression looks like this:"
   ]
  },
  {
   "cell_type": "code",
   "execution_count": null,
   "metadata": {},
   "outputs": [],
   "source": [
    "class CustomExceptionName(Exception):\n",
    "    pass"
   ]
  },
  {
   "cell_type": "markdown",
   "metadata": {},
   "source": [
    "#### 3. Now, let’s deal with the logic of capturing if an exception occurs. Inside of submit_order(), add an if statement after the supply variable is assigned.\n",
    "\n",
    "The if statement should check if quantity is greater than supply. If it is, then we want to raise our custom InventoryError exception.\n",
    "\n",
    "\n",
    "<b>Hint</b><br>\n",
    "Here is the pseudocode for using if block with an exception:"
   ]
  },
  {
   "cell_type": "code",
   "execution_count": null,
   "metadata": {},
   "outputs": [],
   "source": [
    "if <A conditional statement> :\n",
    "    raise <An exception>"
   ]
  },
  {
   "cell_type": "markdown",
   "metadata": {},
   "source": [
    "#### 4. Lastly, add an else clause after the if clause, and move the remainder of the function inside of it. This will make sure we execute the rest of the function if the exception is not hit.\n",
    "\n",
    "\n",
    "<b>Hint</b><br>\n",
    "Here is the pseudocode for using if/else block with an exception:"
   ]
  },
  {
   "cell_type": "code",
   "execution_count": null,
   "metadata": {},
   "outputs": [],
   "source": [
    "if <A conditional statement> :\n",
    "    raise <An exception>\n",
    "else\n",
    "   <Some other code to run> "
   ]
  },
  {
   "cell_type": "code",
   "execution_count": null,
   "metadata": {},
   "outputs": [],
   "source": [
    "inventory = {\n",
    "  'Piano': 3,\n",
    "  'Lute': 1,\n",
    "  'Sitar': 2\n",
    "}\n",
    "\n",
    "\n",
    "#Write your code below (Checkpoint 2):\n",
    "class InventoryError(Exception):\n",
    "  pass\n",
    "\n",
    "\n",
    "def submit_order(instrument, quantity):\n",
    "  supply = inventory[instrument]\n",
    "  \n",
    "  # Write your code below (Checkpoint 3 & 4): \n",
    "  if quantity > supply:\n",
    "    raise InventoryError\n",
    "  else:\n",
    "    inventory[instrument] -= quantity\n",
    "    print('Successfully placed order!  Remaining supply: ' + str(inventory[instrument]))\n",
    "\n",
    "instrument = 'Piano'\n",
    "quantity = 5\n",
    "submit_order(instrument, quantity)"
   ]
  },
  {
   "cell_type": "markdown",
   "metadata": {},
   "source": [
    "## Customizing User-defined Exceptions\n",
    "We’ve just seen how defining a simple exception class can provide a more specific and useful error to users. Defining a simple class is just the first step to creating better exceptions in our programs. Python does not stop us from customizing our custom exception classes even further.\n",
    "\n",
    "Let’s say we wanted to expand our LocationTooFarError exception from earlier to also provide a custom error message. Here is what the custom class might look like:"
   ]
  },
  {
   "cell_type": "code",
   "execution_count": null,
   "metadata": {},
   "outputs": [],
   "source": [
    "class LocationTooFarError(Exception):\n",
    "   def __init__(self, distance):\n",
    "       self.distance = distance\n",
    " \n",
    "   def __str__(self):\n",
    "        return 'Location is not within 10 km: ' + str(self.distance)"
   ]
  },
  {
   "cell_type": "markdown",
   "metadata": {},
   "source": [
    "Let’s break this down:\n",
    "\n",
    "- Our class definition doesn’t look much different from before. We have a class named LocationTooFarError that still inherits from the built-in Exception class.\n",
    "- We have added a constructor that is going to take in a distance argument when we instantiate our exception class. Here, we have overridden the constructor of the Exception class to accept our own custom argument of distance. The reason for taking in a distance is to use it in our __str__ method that will return a custom error message when the exception is hit!\n",
    "- The __str__ method provides our exception a custom message by returning a string with the distance property from the constructor.\n",
    "\n",
    "\n",
    "If we now ran it using our script from earlier:"
   ]
  },
  {
   "cell_type": "code",
   "execution_count": null,
   "metadata": {},
   "outputs": [],
   "source": [
    "def schedule_delivery(distance_from_store):\n",
    "    if distance_from_store > 10:\n",
    "        raise LocationTooFarError(distance_from_store)\n",
    "    else:\n",
    "        print('Scheduling the delivery...')"
   ]
  },
  {
   "cell_type": "markdown",
   "metadata": {},
   "source": [
    "We would see our expanded custom exception in action:"
   ]
  },
  {
   "cell_type": "code",
   "execution_count": null,
   "metadata": {},
   "outputs": [],
   "source": [
    "Traceback (most recent call last):\n",
    "  File \"inventory.py\", line 14, in <module>\n",
    "    schedule_delivery(20)\n",
    "  File \"inventory.py\", line 11, in schedule_delivery\n",
    "    raise LocationTooFarError(distance_from_store)\n",
    "__main__.LocationTooFarError: Location is not within 10 km: 20"
   ]
  },
  {
   "cell_type": "markdown",
   "metadata": {},
   "source": [
    "Let’s practice customizing our exceptions even further!\n",
    "\n",
    "\n",
    "Instructions\n",
    "#### 1. Let’s customize the InventoryError from our previous exercise to return a custom error message. Inside the class, replace the pass statement with an __init__ method which takes two arguments: self, and supply.\n",
    "\n",
    "Inside the method, store supply into the variable self.supply.\n",
    "\n",
    "#### 2. Define a __str__ method which returns, 'Available supply is only ' + str(self.supply).\n",
    "\n",
    "#### 3. Modify raise InventoryError by passing in supply to the exception’s constructor method."
   ]
  },
  {
   "cell_type": "code",
   "execution_count": null,
   "metadata": {},
   "outputs": [],
   "source": [
    "class InventoryError(Exception):\n",
    "  def __init__(self, supply):\n",
    "    self.supply = supply\n",
    "\n",
    "  def __str__(self):\n",
    "    return 'Available supply is only ' + str(self.supply)\n",
    "\n",
    "inventory = {\n",
    "  'Piano': 3,\n",
    "  'Lute': 1,\n",
    "  'Sitar': 2\n",
    "}\n",
    "\n",
    "def submit_order(instrument, quantity):\n",
    "  supply = inventory[instrument]\n",
    "  if quantity > supply:\n",
    "    raise InventoryError(supply)\n",
    "  else:\n",
    "    inventory[instrument] -= quantity\n",
    "    print('Successfully placed order! Remaining supply: ' + str(inventory[instrument]))\n",
    "\n",
    "instrument = 'Piano'\n",
    "quantity = 5\n",
    "submit_order(instrument, quantity)\n"
   ]
  },
  {
   "cell_type": "markdown",
   "metadata": {},
   "source": [
    "## Review\n",
    "Congratulations, you have now mastered many techniques for interacting with exceptions in Python! We learned:\n",
    "\n",
    "- How exceptions differ from syntax errors\n",
    "- How to read tracebacks\n",
    "- How try/except/else/finally provides us with a powerful control flow for handling exceptions\n",
    "- How to create and raise custom exceptions to provide more helpful errors to users of our code\n",
    "\n",
    "\n",
    "These tools will get you very far as a Python developer!\n",
    "\n",
    "\n",
    "#### 1. The code in families.py prints some instruments and the instrument families they belong to. It has some bugs in it. Can you find and fix the bugs? Consider adding some exception handlers so that you can print custom error messages the next time someone runs into these bugs!"
   ]
  },
  {
   "cell_type": "code",
   "execution_count": null,
   "metadata": {},
   "outputs": [],
   "source": [
    "instrument_familes = {\n",
    "  'Strings': ['Guitar', 'Banjo', 'Sitar'],\n",
    "  'Percussion': ['Conga', 'Cymbal', 'Cajon'],\n",
    "  'woodwinds': ['Flute', 'Oboe', 'Clarinet']\n",
    "}\n",
    "\n",
    "def print_instrument_families():\n",
    "  for family in ['Strings', 'Percussion', 'woodwinds']:\n",
    "    print('Some instruments in the ' + family + 'family are: ' + str(instrument_familes[family]))\n",
    "\n",
    "try:\n",
    "  print_instrument_families()\n",
    "except KeyError:\n",
    "  print('Attempted to print an invalid instrument family!')\n",
    "except TypeError: \n",
    "  print('Attempted to concatenate a list! Use str() to fix')"
   ]
  }
 ],
 "metadata": {
  "interpreter": {
   "hash": "126de395fc5ab05c9b404d5156ac230f2dc2d73638f7037ba66d30fa539ce6ef"
  },
  "kernelspec": {
   "display_name": "Python 3.10.1 64-bit",
   "language": "python",
   "name": "python3"
  },
  "language_info": {
   "name": "python",
   "version": "3.10.1"
  },
  "orig_nbformat": 4
 },
 "nbformat": 4,
 "nbformat_minor": 2
}
