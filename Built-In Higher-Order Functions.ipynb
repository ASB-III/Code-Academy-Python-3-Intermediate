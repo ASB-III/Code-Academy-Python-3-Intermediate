{
 "cells": [
  {
   "cell_type": "markdown",
   "metadata": {},
   "source": [
    "# Built-In Higher-Order Functions\n",
    "In this article, you’ll learn about three useful higher-order functions that are built-in to Python.\n",
    "\n",
    "## What You’ll Be Learning\n",
    "We’ve already learned about what defines higher-order functions, how to use them, and why they are useful. Now, we will get acquainted with Python’s built-in high-order functions. We will take a look at three distinct higher-order functions:\n",
    "\n",
    "1. map()\n",
    "2. filter()\n",
    "3. reduce()\n",
    "Together, these three functions are some of the most used and powerful higher-order functions in Python and will help us elevate our Python programs!\n",
    "\n",
    "\n",
    "## Map\n",
    "The map() higher-order function has the following base structure:"
   ]
  },
  {
   "cell_type": "code",
   "execution_count": null,
   "metadata": {},
   "outputs": [],
   "source": [
    "returned_map_object = map(function, iterable)"
   ]
  },
  {
   "cell_type": "markdown",
   "metadata": {},
   "source": [
    "When called, map() applies the passed function to each and every element in the iterable and returns a map object. The returned map object holds the results from applying the mapping function to each element in the passed iterable. We will usually convert the map into a list to enable viewing and further use.\n",
    "\n",
    "\n",
    "Let’s see what this looks like in practice if we wanted to double every value in a list of numbers:"
   ]
  },
  {
   "cell_type": "code",
   "execution_count": null,
   "metadata": {},
   "outputs": [],
   "source": [
    "def double(x):\n",
    " return x*2\n",
    " \n",
    "int_list = [3, 6, 9]\n",
    " \n",
    "doubled = map(double, int_list)\n",
    " \n",
    "print(doubled)"
   ]
  },
  {
   "cell_type": "markdown",
   "metadata": {},
   "source": [
    "Would output:"
   ]
  },
  {
   "cell_type": "code",
   "execution_count": null,
   "metadata": {},
   "outputs": [],
   "source": [
    "<map at 0x7f1ca0f58090>"
   ]
  },
  {
   "cell_type": "markdown",
   "metadata": {},
   "source": [
    "In our example:\n",
    "\n",
    "1. We defined a function called double() that takes in a value and returns the value doubled. This function can be used anywhere in our program—not only with map().\n",
    "2. We also defined an iterable (int_list) that we wanted to apply the function to.\n",
    "3. We then passed the function reference double as the function argument and int_list as the iterable to map()\n",
    "4. The map() function proceeded to apply double() onto each element in int_list.\n",
    "5. When we printed the result, we could see that the output of the map() function was a specific type of object called a map object.\n",
    "If we want to see the actual results of mapping double() to the elements of int_list, we need to convert the map object to a list using the built-in list() function:"
   ]
  },
  {
   "cell_type": "code",
   "execution_count": null,
   "metadata": {},
   "outputs": [],
   "source": [
    "print(list(doubled))"
   ]
  },
  {
   "cell_type": "markdown",
   "metadata": {},
   "source": [
    "This would output:"
   ]
  },
  {
   "cell_type": "code",
   "execution_count": null,
   "metadata": {},
   "outputs": [],
   "source": [
    "[6, 12, 18]"
   ]
  },
  {
   "cell_type": "markdown",
   "metadata": {},
   "source": [
    "Higher-order functions like map() work especially well with lambda functions. Because lambda functions are anonymous, we don’t need to define a new named function for map() if that function won’t be used again elsewhere. In this case, if we don’t plan on reusing double() somewhere else in our program, we can rewrite the double() function from the previous example with a lambda function like so:"
   ]
  },
  {
   "cell_type": "code",
   "execution_count": null,
   "metadata": {},
   "outputs": [],
   "source": [
    "doubled = map(lambda input: input*2, int_list)\n",
    " \n",
    "print(list(doubled))"
   ]
  },
  {
   "cell_type": "markdown",
   "metadata": {},
   "source": [
    "This would output:"
   ]
  },
  {
   "cell_type": "code",
   "execution_count": null,
   "metadata": {},
   "outputs": [],
   "source": [
    "[6, 12, 18]"
   ]
  },
  {
   "cell_type": "markdown",
   "metadata": {},
   "source": [
    "Using a lambda function with map() produced the same output as when the custom double() function was passed to map(), but it only required one line of code instead of three. Now let’s practice using map() to apply a lambda function to each element in a list."
   ]
  },
  {
   "cell_type": "markdown",
   "metadata": {},
   "source": [
    "### Code Challenge\n",
    "Say we stored our course grades in a list, but some of the grades were on a four-point scale and others were on a 100-point scale. To get all the grades on the same scale, try using a lambda function with the map() function to multiply just the grades on the four-point scale by 25 to get all of the grades on the same 100-point-scale.\n",
    "\n",
    "<b>Hint</B><br>\n",
    "The format for including an if/else statement within a lambda function is:\n",
    "lambda arguments : (return value if condition is True) if (condition) else (return value if condition is False)"
   ]
  },
  {
   "cell_type": "code",
   "execution_count": null,
   "metadata": {},
   "outputs": [],
   "source": [
    "grade_list = [3.5, 3.7, 2.6, 95, 87]\n",
    "\n",
    "# Your code below:\n",
    "\n",
    "# assign the result of your map function to the variable grades_100scale\n",
    "grades_100scale = map(lambda grade: grade * 25 if grade <= 4.0 else grade, grade_list)\n",
    "# convert grades_100scale to a list and save it as updated_grade_list \n",
    "updated_grade_list = list(grades_100scale)\n",
    "# print updated_grade_list\n",
    "print(updated_grade_list)"
   ]
  },
  {
   "cell_type": "code",
   "execution_count": null,
   "metadata": {},
   "outputs": [],
   "source": [
    "[87.5, 92.5, 65.0, 95, 87]"
   ]
  },
  {
   "cell_type": "markdown",
   "metadata": {},
   "source": [
    "## Filter\n",
    "Similar to map(), the filter() function takes a function and an iterable as arguments. Just as the name suggests, the goal of the filter() function is to “filter” values out of an iterable.\n",
    "\n",
    "The filter() function accomplishes this goal by applying a passed filtering function to each element in the passed iterable. The filtering function should be a function that returns a boolean value: True or False. The returned filter object will hold only those elements of the passed iterable for which the filtering function returned True.\n",
    "\n",
    "\n",
    "Let’s see what this looks like in practice with a function that filters a collection of names and returns only the names that start with the letter M or m:"
   ]
  },
  {
   "cell_type": "code",
   "execution_count": null,
   "metadata": {},
   "outputs": [],
   "source": [
    "names = [\"margarita\", \"Linda\", \"Masako\", \"Maki\", \"Angela\"]\n",
    " \n",
    "M_names = filter(lambda name: name[0] == \"M\" or name[0] == \"m\", names) \n",
    " \n",
    "print(list(M_names))"
   ]
  },
  {
   "cell_type": "markdown",
   "metadata": {},
   "source": [
    "This would output:"
   ]
  },
  {
   "cell_type": "code",
   "execution_count": null,
   "metadata": {},
   "outputs": [],
   "source": [
    "['margarita', 'Masako', 'Maki']"
   ]
  },
  {
   "cell_type": "markdown",
   "metadata": {},
   "source": [
    "In this example:\n",
    "\n",
    "1. filter() takes two parameters: the lambda filtering function and the list, names.\n",
    "2. The filter() function then iterates through names and applies the lambda function to each item in the list.\n",
    "3. For each item in the list, if the condition in the lambda function evaluates to True, the item is added to a filter object.\n",
    "4. The filter object is returned and when converted to a list and printed, we saw that it contained [‘margarita’, ‘Masako’, ‘Maki’]—only M-names!\n",
    "\n",
    "\n",
    "Let’s get some more practice using filter() with a lambda function.\n",
    "\n",
    "Code Challenge\n",
    "We were given a list of lists, where each sublist holds the title of a famous book that has a year as its title and the last name of the author that wrote the book. Unfortunately, when this list was made, each of the books was accidentally entered twice—once with the title as a numeric value and once with the title as a string. Use the filter() function to deduplicate the list and keep only the sublists that have the book title stored as a string:\n",
    "\n",
    "<b>Hint</B><br>\n",
    "Remember you can select an element in a list by its location, e.g. list[0], and you can check whether a value is a string, integer, or float with the type() function."
   ]
  },
  {
   "cell_type": "code",
   "execution_count": null,
   "metadata": {},
   "outputs": [],
   "source": [
    "books = [[\"Burgess\", 1985],\n",
    " [\"Orwell\", \"Nineteen Eighty-four\"],\n",
    "  [\"Murakami\", \"1Q85\"],\n",
    "   [\"Orwell\", 1984],\n",
    "    [\"Burgess\", \"Nineteen Eighty-five\"],\n",
    "     [\"Murakami\", 1985]]\n",
    "\n",
    "# Your code below: \n",
    "\n",
    "# assign the result of your filter function to the variable  string_titles\n",
    "string_titles = filter(lambda value: type(value[1]) == str, books)\n",
    "# convert your filter object to a list stored in the variable string_titles_list\n",
    "string_titles_list = list(string_titles)\n",
    "\n",
    "# print the list string_titles_list\n",
    "print(list(string_titles_list))"
   ]
  },
  {
   "cell_type": "markdown",
   "metadata": {},
   "source": [
    "## Reduce\n",
    "Lastly, we have the reduce() function, which has two distinct differences from the built-in higher-order functions that we have learned so far.\n",
    "\n",
    "1. In contrast to the map() and filter() functions that are always available, the reduce() function must be imported from the functools module to use it.\n",
    "2. Rather than returning a reduce object as might be expected after learning about map() and filter(), reduce() returns a single value. To get to this single value, reduce() cumulatively applies a passed function to each sequential pair of elements in an iterable.\n",
    "Reduce Python Function\n",
    "\n",
    "Let’s see what this looks like in practice by using reduce() to multiply together all the values in a list:"
   ]
  },
  {
   "cell_type": "code",
   "execution_count": null,
   "metadata": {},
   "outputs": [],
   "source": [
    "from functools import reduce\n",
    " \n",
    "int_list = [3, 6, 9, 12]\n",
    " \n",
    "reduced_int_list = reduce(lambda x,y: x*y, int_list)\n",
    " \n",
    "print(reduced_int_list)"
   ]
  },
  {
   "cell_type": "markdown",
   "metadata": {},
   "source": [
    "This would output:"
   ]
  },
  {
   "cell_type": "code",
   "execution_count": null,
   "metadata": {},
   "outputs": [],
   "source": [
    "1944"
   ]
  },
  {
   "cell_type": "markdown",
   "metadata": {},
   "source": [
    "In this example:\n",
    "\n",
    "1. The reduce() function takes 2 arguments: a lambda function and a list of integers.\n",
    "2. The lambda function takes 2 numbers, x and y and multiplies them together.\n",
    "3. The reduce() function applies the lambda function to the first two elements in the list, 3 and 6, to get a product of 18.\n",
    "4. Next, 18 was multiplied by the following element in the list, 9, to get 162.\n",
    "5. Continuing on, 162 was multiplied by the next element, 12, to get 1944.\n",
    "6. This last, final value—1944—is what was returned by reduce().\n",
    "This process was essentially the same as multiplying 3*6*9*12.\n",
    "\n",
    "Let’s get some more practice using the reduce() function with a lambda function but with a list of strings this time.\n",
    "\n",
    "Code Challenge\n",
    "Given a list of letters, use the reduce() higher-order function with a lambda function to combine the letters into a single word:"
   ]
  },
  {
   "cell_type": "code",
   "execution_count": null,
   "metadata": {},
   "outputs": [],
   "source": [
    "letters = ['r', 'e', 'd', 'u', 'c', 'e']\n",
    "\n",
    "# your code below:\n",
    "\n",
    "# remember to import the reduce function\n",
    "from functools import reduce\n",
    "# store the result of your reduce function in the variable word\n",
    "word = reduce(lambda x,y: x+y, letters)\n",
    "\n",
    "# print word\n",
    "print(word)"
   ]
  },
  {
   "cell_type": "markdown",
   "metadata": {},
   "source": [
    "## Wrap Up\n",
    "Great Job! We learned all about three really important built-in higher-order functions in Python! To summarize, we learned:\n",
    "\n",
    "1. The map() function applies a passed function to each element in an iterable and returns a map object.\n",
    "2. The filter() function applies a filtering function (a function that returns a boolean) to each element in an iterable. filter() returns a filter object with only the elements for which the filtering function returned True.\n",
    "3. reduce() must be imported from the functools module. It reduces an iterable to a single value by cumulatively applying a passed function to the first pair of elements in the iterable and then each sequential element with the return value.\n",
    "4. These three functions streamline code on their own, but they are even easier to read when they are used in conjunction with lambda functions.\n",
    "\n",
    "\n",
    "As we keep practicing and writing more code, these higher-order functions will make our code faster, more flexible, and easier to understand."
   ]
  },
  {
   "cell_type": "markdown",
   "metadata": {},
   "source": []
  }
 ],
 "metadata": {
  "interpreter": {
   "hash": "79435cfcbd76b1528bba00a84eb046d19295a161f953d7f2d2d8d04ffa2592c8"
  },
  "kernelspec": {
   "display_name": "Python 3.10.0 64-bit (windows store)",
   "language": "python",
   "name": "python3"
  },
  "language_info": {
   "name": "python",
   "version": "3.10.1"
  },
  "orig_nbformat": 4
 },
 "nbformat": 4,
 "nbformat_minor": 2
}
