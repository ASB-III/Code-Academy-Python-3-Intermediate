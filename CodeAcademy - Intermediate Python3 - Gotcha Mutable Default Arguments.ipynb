{
 "cells": [
  {
   "cell_type": "markdown",
   "metadata": {},
   "source": [
    "# Python Gotcha: Mutable Default Arguments\n",
    "<b>Learn about a common Python gotcha when using mutable default arguments in functions!</b>\n",
    "\n",
    "## A Python Gotcha!\n",
    "When writing a function with default arguments, it can sometimes be tempting to include an empty list as a default argument to that function.\n",
    "\n",
    "Let imagine for instance we were building an application for a school. We want to have a function that can generate new students and return a dictionary of the student’s name, age, and grades. Since most students enter the school without any grades, it’s plausible to assume we can store an empty list for the property. Here is what our function might look like:"
   ]
  },
  {
   "cell_type": "code",
   "execution_count": null,
   "metadata": {},
   "outputs": [],
   "source": [
    "def createStudent(name, age, grades=[]):\n",
    "    return {\n",
    "        'name': name,\n",
    "        'age': age,\n",
    "        'grades': grades\n",
    "    }"
   ]
  },
  {
   "cell_type": "markdown",
   "metadata": {},
   "source": [
    "Looks good so far! We can create two new students based off this code (assuming they have no grades yet):"
   ]
  },
  {
   "cell_type": "code",
   "execution_count": null,
   "metadata": {},
   "outputs": [],
   "source": [
    "chrisley = createStudent('Chrisley', 15)\n",
    "dallas = createStudent('Dallas', 16)"
   ]
  },
  {
   "cell_type": "markdown",
   "metadata": {},
   "source": [
    "Realistically, as both Chrisley and Dallas progress in school, there should be a way for us to add new grades. Something like this method:"
   ]
  },
  {
   "cell_type": "code",
   "execution_count": null,
   "metadata": {},
   "outputs": [],
   "source": [
    "def addGrade(student, grade):\n",
    "    student['grades'].append(grade)\n",
    "    # To help visualize the grades we have added a print statement\n",
    "    print(student['grades'])"
   ]
  },
  {
   "cell_type": "markdown",
   "metadata": {},
   "source": [
    "Alright! Let’s give Chrisley and Dallas some grades:"
   ]
  },
  {
   "cell_type": "code",
   "execution_count": null,
   "metadata": {},
   "outputs": [],
   "source": [
    "addGrade(chrisley, 90)\n",
    "addGrade(dallas, 100)"
   ]
  },
  {
   "cell_type": "markdown",
   "metadata": {},
   "source": [
    "Here, we expect that the output probably would be :"
   ]
  },
  {
   "cell_type": "code",
   "execution_count": null,
   "metadata": {},
   "outputs": [],
   "source": [
    "[90]\n",
    "[100]"
   ]
  },
  {
   "cell_type": "markdown",
   "metadata": {},
   "source": [
    "That would make sense since we want each student to have an individual grades list. Surprisingly (or maybe not so much), the actual output is :"
   ]
  },
  {
   "cell_type": "code",
   "execution_count": null,
   "metadata": {},
   "outputs": [],
   "source": [
    "[90]\n",
    "[90, 100]"
   ]
  },
  {
   "cell_type": "markdown",
   "metadata": {},
   "source": [
    "\n",
    "Uh oh! That doesn’t look right. Why does Dallas have the 90 grade that we added to Chrisley, when they should only have the 100 we intended to add? This is known as a gotcha - a counterintuitive feature of a programming language that often leads to mistakes in programs. Let’s practice catching this gotcha and then dive a bit deeper to understand why this phenomenon occurs.\n",
    "\n",
    "\n",
    "<b>Multiple Choice Question</b><br>\n",
    "\n",
    "What is the output of the following code?"
   ]
  },
  {
   "cell_type": "code",
   "execution_count": null,
   "metadata": {},
   "outputs": [],
   "source": [
    "def update_order(new_item, current_order=[]):\n",
    "  current_order.append(new_item)\n",
    "  return current_order\n",
    " \n",
    "# First order, burger\n",
    "order1 = update_order({'item': 'burger', 'cost': '3.50'})\n",
    " \n",
    "# Second order, just a soda\n",
    "order2 = update_order({'item': 'soda', 'cost': '1.50'})\n",
    " \n",
    "# What's in that second order again?\n",
    "print(order2)"
   ]
  },
  {
   "cell_type": "code",
   "execution_count": null,
   "metadata": {},
   "outputs": [],
   "source": [
    "[{'item': 'burger', 'cost': '3.50'}, {'item': 'soda', 'cost': '1.50'}]"
   ]
  },
  {
   "cell_type": "markdown",
   "metadata": {},
   "source": [
    "Good Job! You got it right! This is a common Python gotcha with mutable default arguments."
   ]
  },
  {
   "cell_type": "markdown",
   "metadata": {},
   "source": [
    "## Mutables and Functions\n",
    "To understand this gotcha, we must first establish what Python classifies as mutable. A mutable object refers to various containers in Python that are intended to be changed. A list for example has append and remove operations that change the elements of the list. Sets and dictionaries are also two other mutable objects in Python as they can be changed on the fly.\n",
    "\n",
    "\n",
    "It might be helpful to note some of the objects in Python that are not mutable (and therefore OK to use as default arguments). int, float, and other numbers can’t be mutated (arithmetic operations will return a new number). Tuples are a kind of immutable list, and strings are also immutable since operations that update a string will all return a completely new string.\n",
    "\n",
    "\n",
    "When using a mutable in function arguments, it’s important to note the following (from the offical documentation):\n",
    "\n",
    "\n",
    "<b>Default parameter values are evaluated from left to right when the function definition is executed.</b> This means that the expression is evaluated once, when the function is defined, and that the same “pre-computed” value is used for each call.\n",
    "\n",
    "\n",
    "This means that when we call a function, the default values we provide for parameters are only created once, and used for each subsequent call of the function. This means our grades=[] from our earlier function was only created once and anytime we tried to access it, the same list was being modified. We can even see that the memory id of the grades property for both students is the same (using the built-in id() function):"
   ]
  },
  {
   "cell_type": "code",
   "execution_count": null,
   "metadata": {},
   "outputs": [],
   "source": [
    "# The ids printed will vary depending on the computer we are using. \n",
    "print(id(chrisley['grades']))\n",
    "print(id(dallas['grades']))"
   ]
  },
  {
   "cell_type": "markdown",
   "metadata": {},
   "source": [
    "Would output:"
   ]
  },
  {
   "cell_type": "code",
   "execution_count": null,
   "metadata": {},
   "outputs": [],
   "source": [
    "139828567365696\n",
    "139828567365696"
   ]
  },
  {
   "cell_type": "markdown",
   "metadata": {},
   "source": [
    "Note: The ids printed will vary depending on the computer we are using but they will always be the same!\n",
    "\n",
    "While this may seem like a bit of a headscratcher, and even a point of contention amongst Python enthusiasts there is one specific solution that helps us get around this gotcha if we ever do want to use a mutable default argument. Let’s take a look at a solution that uses the value None to get around this gotcha.\n",
    "\n",
    "## The None Workaround\n",
    "If we want an empty list as a potential default argument value, we can use None as a special value to indicate we did not receive anything. After we check whether an argument was provided, we can instantiate a new list if it wasn’t. Here is what the solution looks like for our program from earlier:"
   ]
  },
  {
   "cell_type": "code",
   "execution_count": null,
   "metadata": {},
   "outputs": [],
   "source": [
    "def createStudent(name, age, grades=None):\n",
    "  if grades is None:\n",
    "    grades = []\n",
    "  return {\n",
    "    'name': name,\n",
    "    'age': age,\n",
    "    'grades': grades\n",
    "  }\n",
    " \n",
    "def addGrade(student, grade):\n",
    "    student['grades'].append(grade)\n",
    "    # To help visualize the grades we have added a print statement\n",
    "    print(student['grades'])"
   ]
  },
  {
   "cell_type": "markdown",
   "metadata": {},
   "source": [
    "Now if we create our students again and add grades to them:"
   ]
  },
  {
   "cell_type": "code",
   "execution_count": null,
   "metadata": {},
   "outputs": [],
   "source": [
    "chrisley = createStudent('Chrisley', 15)\n",
    "dallas = createStudent('Dallas', 16)\n",
    " \n",
    "addGrade(chrisley, 90)\n",
    "addGrade(dallas, 100)"
   ]
  },
  {
   "cell_type": "markdown",
   "metadata": {},
   "source": [
    "We would get our expected result:"
   ]
  },
  {
   "cell_type": "code",
   "execution_count": null,
   "metadata": {},
   "outputs": [],
   "source": [
    "[90]\n",
    "[100]"
   ]
  },
  {
   "cell_type": "markdown",
   "metadata": {},
   "source": [
    "While it may seem more cumbersome to write the if clause, this is one of the most common (and flexible) ways to avoid running into issues with mutable default arguments. Let’s practice by refactoring the last assessment code.\n",
    "\n",
    "Fill in the Code\n",
    "Fill in the following code to account for the mutable default arguments Python gotcha.\n",
    "\n",
    "The expected output of the solution is:"
   ]
  },
  {
   "cell_type": "code",
   "execution_count": null,
   "metadata": {},
   "outputs": [],
   "source": [
    "[{'item': 'soda', 'cost': '1.50'}]"
   ]
  },
  {
   "cell_type": "code",
   "execution_count": null,
   "metadata": {},
   "outputs": [],
   "source": [
    "def update_order(new_item, current_order=None):\n",
    "  if current_order is None:\n",
    "    current_order = []\n",
    " \n",
    "  current_order.append(new_item)\n",
    "  return current_order\n",
    " \n",
    "# First order, burger\n",
    "order1 = update_order({'item': 'burger', 'cost': '3.50'})\n",
    " \n",
    "# Second order, just a soda\n",
    "order2 = update_order({'item': 'soda', 'cost': '1.50'})\n",
    " \n",
    "print(order2)"
   ]
  },
  {
   "cell_type": "markdown",
   "metadata": {},
   "source": [
    "## Wrap up\n",
    "To summarize, we learned:\n",
    "\n",
    "- What a Python gotcha is.\n",
    "- What mutable objects are in Python.\n",
    "- A common gotcha that occurs when using mutable default arguments.\n",
    "- A workaround for mutable default arguments by using None paired with a conditional statement.\n",
    "Keep this gotcha in mind whenever deciding to use a mutable object as a default argument. While most developers recommend staying away from this approach, there are notable use cases for this syntax that may be worth looking into!"
   ]
  }
 ],
 "metadata": {
  "interpreter": {
   "hash": "79435cfcbd76b1528bba00a84eb046d19295a161f953d7f2d2d8d04ffa2592c8"
  },
  "kernelspec": {
   "display_name": "Python 3.10.0 64-bit (windows store)",
   "language": "python",
   "name": "python3"
  },
  "language_info": {
   "name": "python",
   "version": "3.10.0"
  },
  "orig_nbformat": 4
 },
 "nbformat": 4,
 "nbformat_minor": 2
}
