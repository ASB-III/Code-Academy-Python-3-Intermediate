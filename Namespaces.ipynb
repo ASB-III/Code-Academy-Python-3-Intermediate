{
 "cells": [
  {
   "cell_type": "markdown",
   "metadata": {},
   "source": [
    "# NAMESPACES\n",
    "## Introduction to Names and Namespaces\n",
    "\n",
    "\n",
    "In Python, a name (sometimes also called a symbolic name) is an identifier for an object. In the programs we have written so far, we have been using the concept of naming all along! Let’s take a look at an example:"
   ]
  },
  {
   "cell_type": "markdown",
   "metadata": {},
   "source": [
    "color = \"cyan\""
   ]
  },
  {
   "cell_type": "markdown",
   "metadata": {},
   "source": [
    "Here, we assign color as the name of the string \"cyan\".\n",
    "\n",
    "\n",
    "Python uses the system of names so that it can differentiate between each distinct object (such as a string or a function) that we define. In most programs, Python has to keep track of the hundreds and sometimes even thousands of names. So, how exactly does Python store all of this information? Well, it creates what is called a namespace.\n",
    "\n",
    "\n",
    "A namespace is a collection of names and the objects that they reference. Python will host a dictionary where the keys are the names that have been defined and the mapped values are the objects that they reference.\n",
    "\n",
    "\n",
    "In the example above, the namespace Python creates would look something like this:"
   ]
  },
  {
   "cell_type": "code",
   "execution_count": null,
   "metadata": {},
   "outputs": [],
   "source": [
    "{'color': 'cyan'}"
   ]
  },
  {
   "cell_type": "markdown",
   "metadata": {},
   "source": [
    "Here, we assign color as the name of the string \"cyan\".\n",
    "\n",
    "Python uses the system of names so that it can differentiate between each distinct object (such as a string or a function) that we define. In most programs, Python has to keep track of the hundreds and sometimes even thousands of names. So, how exactly does Python store all of this information? Well, it creates what is called a namespace.\n",
    "\n",
    "A namespace is a collection of names and the objects that they reference. Python will host a dictionary where the keys are the names that have been defined and the mapped values are the objects that they reference.\n",
    "\n",
    "In the example above, the namespace Python creates would look something like this:"
   ]
  },
  {
   "cell_type": "code",
   "execution_count": null,
   "metadata": {},
   "outputs": [],
   "source": [
    "{'color': 'cyan'}"
   ]
  },
  {
   "cell_type": "markdown",
   "metadata": {},
   "source": [
    "So, in this case, if we tried to print the variable color:"
   ]
  },
  {
   "cell_type": "code",
   "execution_count": null,
   "metadata": {},
   "outputs": [],
   "source": [
    "print(color)"
   ]
  },
  {
   "cell_type": "markdown",
   "metadata": {},
   "source": [
    "Python would search the namespace defined above for a key named color and provide the value to be run in our program. Thus we would see the output of 'cyan'.\n",
    "\n",
    "In the next exercises we will explore the four distinct types of namespaces that Python generates:\n",
    "\n",
    "1. Built-In\n",
    "2. Global\n",
    "3. Local\n",
    "4. Enclosing\n",
    "We’ll learn all about the different types and how they are generated and managed. For now, let’s examine a visual representation of how namespaces get generated.\n",
    "\n",
    "Instructions\n",
    "Take some time to look over the provided visualization of namespaces. Notice that different scripts will generate different namespaces."
   ]
  },
  {
   "cell_type": "markdown",
   "metadata": {},
   "source": [
    "## Built-in Namespace\n",
    "Python Built-in Namespace\n",
    "\n",
    "One of the four main types of namespaces that exist in Python is the built-in namespace.\n",
    "\n",
    "Ever wonder why functions like print() and str() are available to us in all our programs? Well, Python knows these function names because they exist in the highest level of namespaces and thus can be called in any program we write.\n",
    "\n",
    "Whenever we run a Python application, we are provided a built-in namespace that is created when the interpreter is started and has a lifetime until the interpreter terminates (usually when our program is finished running). Since Python provides the namespace, these objects are accessible without the need to import a separate module.\n",
    "\n",
    "Let’s take a look together at the standard built-in namespace! In order to see it, we can use the following statement:"
   ]
  },
  {
   "cell_type": "code",
   "execution_count": null,
   "metadata": {},
   "outputs": [],
   "source": [
    "print(dir(__builtins__))"
   ]
  },
  {
   "cell_type": "markdown",
   "metadata": {},
   "source": [
    "This allows us to access the builtins module that Python provides for us. Our output would give us:"
   ]
  },
  {
   "cell_type": "markdown",
   "metadata": {},
   "source": [
    "['ArithmeticError', 'AssertionError', 'AttributeError', 'BaseException', 'BlockingIOError', 'BrokenPipeError', 'BufferError', 'BytesWarning', 'ChildProcessError', 'ConnectionAbortedError', 'ConnectionError', 'ConnectionRefusedError', 'ConnectionResetError', 'DeprecationWarning', 'EOFError', 'Ellipsis', 'EnvironmentError', 'Exception', 'False', 'FileExistsError', 'FileNotFoundError', 'FloatingPointError', 'FutureWarning', 'GeneratorExit', 'IOError', 'ImportError', 'ImportWarning', 'IndentationError', 'IndexError', 'InterruptedError', 'IsADirectoryError', 'KeyError', 'KeyboardInterrupt', 'LookupError', 'MemoryError', 'ModuleNotFoundError', 'NameError', 'None', 'NotADirectoryError', 'NotImplemented', 'NotImplementedError', 'OSError', 'OverflowError', 'PendingDeprecationWarning', 'PermissionError', 'ProcessLookupError', 'RecursionError', 'ReferenceError', 'ResourceWarning', 'RuntimeError', 'RuntimeWarning', 'StopAsyncIteration', 'StopIteration', 'SyntaxError', 'SyntaxWarning', 'SystemError', 'SystemExit', 'TabError', 'TimeoutError', 'True', 'TypeError', 'UnboundLocalError', 'UnicodeDecodeError', 'UnicodeEncodeError', 'UnicodeError', 'UnicodeTranslateError', 'UnicodeWarning', 'UserWarning', 'ValueError', 'Warning', 'ZeroDivisionError', '__build_class__', '__debug__', '__doc__', '__import__', '__loader__', '__name__', '__package__', '__spec__', 'abs', 'all', 'any', 'ascii', 'bin', 'bool', 'bytearray', 'bytes', 'callable', 'chr', 'classmethod', 'compile', 'complex', 'copyright', 'credits', 'delattr', 'dict', 'dir', 'divmod', 'enumerate', 'eval', 'exec', 'exit', 'filter', 'float', 'format', 'frozenset', 'getattr', 'globals', 'hasattr', 'hash', 'help', 'hex', 'id', 'input', 'int', 'isinstance', 'issubclass', 'iter', 'len', 'license', 'list', 'locals', 'map', 'max', 'memoryview', 'min', 'next', 'object', 'oct', 'open', 'ord', 'pow', 'print', 'property', 'quit', 'range', 'repr', 'reversed', 'round', 'set', 'setattr', 'slice', 'sorted', 'staticmethod', 'str', 'sum', 'super', 'tuple', 'type', 'vars', 'zip']"
   ]
  },
  {
   "cell_type": "markdown",
   "metadata": {},
   "source": [
    "Wow! That’s a bit overwhelming. Let’s note a few interesting facts about the objects hosted built-in namespace:\n",
    "\n",
    "- It contains many of the built-in functions we are able to use in our Python programs such as str(), zip(), slice(), sorted(), and many more.\n",
    "- It also hosts many of the exceptions that we may encounter in our programs such as 'ArithmeticError', 'IndexError', 'KeyError', and many more.\n",
    "- There are even constants like True and False!\n",
    "In total there are 152 names that include exceptions, functions, types, special attributes, and other Python built-in objects.\n",
    "\n",
    "### Instructions\n",
    "\n",
    "#### 1. Let’s re-examine everything that exists in the built-in namespace. Use the print() function combined with the dir() function to print out __builtins__.\n",
    "\n",
    "Take some time to examine the contents of the namespace further and even read about the module in the Python documentation."
   ]
  },
  {
   "cell_type": "code",
   "execution_count": null,
   "metadata": {},
   "outputs": [],
   "source": [
    "# Write your code below:\n",
    "print(dir(__builtins__))"
   ]
  },
  {
   "cell_type": "markdown",
   "metadata": {},
   "source": [
    "## Global Namespace\n",
    "Python Global Namespace\n",
    "\n",
    "The global namespace exists one level below the built-in namespace. Generally, it includes all non-nested names in the module (file) we are choosing to run the Python interpreter on. The global namespace is created when we run our main program and has a lifetime until the interpreter terminates (usually when our program is finished running). For example, take this program:"
   ]
  },
  {
   "cell_type": "code",
   "execution_count": null,
   "metadata": {},
   "outputs": [],
   "source": [
    "#Imaginary File: main.py\n",
    "import random\n",
    " \n",
    "first_name = \"Jaya\"\n",
    "last_name = \"Bodegard\" \n",
    " \n",
    "def print_variables():\n",
    "  random_number = random.randint(0,9)\n",
    "  print(first_name)\n",
    "  print(last_name)\n",
    "  print(random_number)"
   ]
  },
  {
   "cell_type": "markdown",
   "metadata": {},
   "source": [
    "Our script consists of a few different variables, a function, and an imported module. Right off the bat, it might not be clear what exists in the global namespace. Thankfully, in order to see what objects exist in the global namespace, Python provides the globals() built-in function.\n",
    "\n",
    "Funny enough, the globals() function actually comes from the built-in namespace (and is thus called a built-in function), and we can access it anywhere in our program (or any program)! Let’s see what it would return if we print the output inside of the program above:"
   ]
  },
  {
   "cell_type": "code",
   "execution_count": null,
   "metadata": {},
   "outputs": [],
   "source": [
    "# ...code from above (omitted for brevity)\n",
    "print(globals())"
   ]
  },
  {
   "cell_type": "markdown",
   "metadata": {},
   "source": [
    "Would output:"
   ]
  },
  {
   "cell_type": "code",
   "execution_count": null,
   "metadata": {},
   "outputs": [],
   "source": [
    "{'__name__': '__main__', '__doc__': None, '__package__': None, '__loader__': <_frozen_importlib_external.SourceFileLoader object at 0x7f224a7ae4c0>, '__spec__': None, '__annotations__': {}, '__builtins__': <module 'builtins' (built-in)>, '__file__': 'main.py', '__cached__': None, 'random': <module 'random' from '/usr/lib/python3.8/random.py'>, 'first_name': 'Jaya', 'last_name': 'Bodegard', 'print_variables': <function print_variables at 0x7f224a76a1f0>}"
   ]
  },
  {
   "cell_type": "markdown",
   "metadata": {},
   "source": [
    "Again, we have a lot of nonsense-looking text. Don’t worry there are only two things we should focus on:\n",
    "\n",
    "1. The global namespace contains all of the non-nested objects of our program. This includes the variables first_name and last_name as well as the function print_variables. However, the random_number variable is not included in the namespace because it is nested inside of our function. Don’t worry we will learn about the namespace that random_number exists inside in the next exercise.\n",
    "\n",
    "2. Anytime we use the import statement to bring in a new module into our program, instead of adding every name from that module (such as all the names in the random module) to our current global namespace, Python will create a new namespace for it. This means there might be potentially multiple global namespaces in a single program. This will be masked away from us in the format seen with the random module (<module 'random' from '/usr/lib/python3.8/random.py'>).\n",
    "\n",
    "Don’t fret over the rest of the namespace we didn’t touch on, it is a lot of behind-the-scenes built-in python objects that are usually present in all scripts. For now, we will focus on the parts we can manipulate.\n",
    "\n",
    "Let’s practice using the globals() function to check out the global namespace in a program!\n",
    "\n",
    "Instructions\n",
    "#### 1. Note: Since we will be printing a lot of namespaces, the current editor has markers for where to write each checkpoint.\n",
    "\n",
    "Let’s start by examining the global namespace when the script is empty.\n",
    "\n",
    "Call globals() inside of a print() function to observe the current global namespace.\n",
    "\n",
    "\n",
    "<b>Hint</b><br>\n",
    "Our expected output should be:"
   ]
  },
  {
   "cell_type": "code",
   "execution_count": null,
   "metadata": {},
   "outputs": [],
   "source": [
    "{'__name__': '__main__', '__doc__': None, '__package__': None, '__loader__': <_frozen_importlib_external.SourceFileLoader object at 0x7fba1790fba8>, '__spec__': None, '__annotations__': {}, '__builtins__': <module 'builtins' (built-in)>, '__file__': 'script.py', '__cached__': None}"
   ]
  },
  {
   "cell_type": "markdown",
   "metadata": {},
   "source": [
    "#### 2. Let’s now add some Python code to see how the namespace changes. Add a variable called global_variable with the value of 'global'.\n",
    "\n",
    "<b>Hint</b><br>\n",
    "Use the following syntax:"
   ]
  },
  {
   "cell_type": "code",
   "execution_count": null,
   "metadata": {},
   "outputs": [],
   "source": [
    "variable = 'string'"
   ]
  },
  {
   "cell_type": "markdown",
   "metadata": {},
   "source": [
    "#### 3. Let’s add some more code to populate the namespace! Add a function called print_global() that does the following:\n",
    "\n",
    "Defines a variable inside called global_variable with the value of 'nested global'.\n",
    "\n",
    "Defines a variable inside called nested_variable with the value of 'nested value'.\n",
    "\n",
    "Checkpoint 4 Passed\n",
    "\n",
    "<b>Hint</b><br>\n",
    "Use the following syntax:"
   ]
  },
  {
   "cell_type": "markdown",
   "metadata": {},
   "source": [
    "#### 4. Let’s examine how the global namespace has changed. Print the globals() function once more.\n",
    "\n",
    "<b>Hint</b><br>\n",
    "Our expected output should be the following:"
   ]
  },
  {
   "cell_type": "code",
   "execution_count": null,
   "metadata": {},
   "outputs": [],
   "source": [
    "{'__name__': '__main__', '__doc__': None, '__package__': None, '__loader__': <_frozen_importlib_external.SourceFileLoader object at 0x7fba1790fba8>, '__spec__': None, '__annotations__': {}, '__builtins__': <module 'builtins' (built-in)>, '__file__': 'script.py', '__cached__': None}\n",
    " \n",
    "{'__name__': '__main__', '__doc__': None, '__package__': None, '__loader__': <_frozen_importlib_external.SourceFileLoader object at 0x7fba1790fba8>, '__spec__': None, '__annotations__': {}, '__builtins__': <module 'builtins' (built-in)>, '__file__': 'script.py', '__cached__': None, 'global_variable': 'global', 'print_global': <function print_global at 0x7fba17936e18>}"
   ]
  },
  {
   "cell_type": "markdown",
   "metadata": {},
   "source": [
    "#### 5. Here are some important takeaways to note from the comparison:\n",
    "\n",
    "- As we saw previously, the global namespace only contains items that are non-nested. In this case, our global namespace does not contain the identical nested name of global_variable.\n",
    "\n",
    "\n",
    "- Depending on where we call globals() we will have a different namespace generated. This means globals() will show the namespace at the time it was executed. Since we called globals() a second time after defining a few items (such as variables and functions), those items now show up in the global namespace.\n",
    "\n",
    "\n",
    "Play around with the code and run it one more time to move onto the next exercise."
   ]
  },
  {
   "cell_type": "markdown",
   "metadata": {},
   "source": [
    "##  Local Namespace\n",
    "Python Local Namespace\n",
    "\n",
    "Now that we have examined the built-in and global namespaces, let’s dive into the deepest level of namespaces - the local namespace. To do so, let’s start by examining this program:"
   ]
  },
  {
   "cell_type": "code",
   "execution_count": null,
   "metadata": {},
   "outputs": [],
   "source": [
    "global_variable = 'global'\n",
    " \n",
    "def add(num1, num2):\n",
    "  nested_value = 'Inside Function'   \n",
    "  print(num1 + num2)\n",
    " \n",
    "add(5, 10) "
   ]
  },
  {
   "cell_type": "markdown",
   "metadata": {},
   "source": [
    "Here, we have defined two values: a global_variable and a add() function. In Python, whenever the interpreter executes a function, it will generate a local namespace for that specific function. This namespace only exists inside of the function and remains in existence until the function terminates.\n",
    "\n",
    "Similar to how we can see the global namespace using a built-in function called globals(), Python provides a function called locals() to see any generated local namespace. Let’s refactor our program just slightly and see what exists inside of a local namespace:"
   ]
  },
  {
   "cell_type": "code",
   "execution_count": null,
   "metadata": {},
   "outputs": [],
   "source": [
    "global_variable = 'global'\n",
    " \n",
    "def add(num1, num2):\n",
    "  nested_value = 'Inside Function'   \n",
    "  print(num1 + num2)\n",
    "  print(locals())\n",
    " \n",
    "add(5, 10) "
   ]
  },
  {
   "cell_type": "markdown",
   "metadata": {},
   "source": [
    "Would output:"
   ]
  },
  {
   "cell_type": "code",
   "execution_count": null,
   "metadata": {},
   "outputs": [],
   "source": [
    "15\n",
    "{'num1': 5, 'num2': 10, 'nested_value': 'Inside Function'}"
   ]
  },
  {
   "cell_type": "markdown",
   "metadata": {},
   "source": [
    "Notice the following:\n",
    "\n",
    "- We called locals() inside the add() function to get the local namespace generated when the function is executed. If we called locals() outside of a function in our program, it behaves the same as globals().\n",
    "\n",
    "- The value printed from calling locals() represents the namespace that only exists inside of the function. Notice even the function parameters num1 and num2 exist alongside the variable name nested_value. The namespace does not include global_variable since it exists outside of the function (in the global namespace).\n",
    "\n",
    "Let’s now practice examining the local namespace!\n"
   ]
  },
  {
   "cell_type": "markdown",
   "metadata": {},
   "source": [
    "Instructions\n",
    "\n",
    "\n",
    "#### 1. Note: Since we will be printing a lot of namespaces, the current editor has markers for where to write each checkpoint.\n",
    "\n",
    "First, let’s look at the differences between the global and local namespaces for a file with one variable defined. In the code editor, write two print statements that:\n",
    "\n",
    "print locals()\n",
    "print globals()\n",
    "Examine the output of both. Notice any similarities?\n",
    "\n",
    "\n",
    "<b>Hint</b><br>\n",
    "In this case, both the locals() and globals() will be equivalent.\n",
    "\n",
    "### 2. Now that we have seen what a local namespace looks like without any other code, let’s add some functions so we can check out local namespaces inside of a function.\n",
    "\n",
    "Create a function called divide() that has two parameters num1 and num2.\n",
    "\n",
    "The function should create a variable called result that is the result of dividing num1 by num2. The function should then also print locals().\n",
    "\n",
    "\n",
    "<b>Hint</b><br>\n",
    "Use the following syntax:"
   ]
  },
  {
   "cell_type": "code",
   "execution_count": null,
   "metadata": {},
   "outputs": [],
   "source": [
    "def function_name(var1, var2):\n",
    "  variable = var1 / var2\n",
    "  print(locals())"
   ]
  },
  {
   "cell_type": "markdown",
   "metadata": {},
   "source": [
    "#### 3. Let’s add some more names! Create a function called multiply() that has two parameters num1 and num2.\n",
    "\n",
    "The function should create a variable called product that is the result of multiplying num1 by num2. This function should also print locals().\n",
    "\n",
    "Checkpoint 4 Passed\n",
    "\n",
    "<b>Hint</b><br>\n",
    "Use the following syntax:"
   ]
  },
  {
   "cell_type": "code",
   "execution_count": null,
   "metadata": {},
   "outputs": [],
   "source": [
    "def function_name(var1, var2):\n",
    "  variable = var1 * var2\n",
    "  print(locals())"
   ]
  },
  {
   "cell_type": "markdown",
   "metadata": {},
   "source": [
    "#### 4. To see our local namespace inside divide(), we need to execute it. Call divide() with the values of 3 & 4. Examine the local namespace it generates.\n",
    "\n",
    "\n",
    "<b>Hint</b><br>\n",
    "The local namespace should have the following value:"
   ]
  },
  {
   "cell_type": "code",
   "execution_count": null,
   "metadata": {},
   "outputs": [],
   "source": [
    "{'result': 0.75, 'num2': 4, 'num1': 3}"
   ]
  },
  {
   "cell_type": "markdown",
   "metadata": {},
   "source": [
    "#### 5. To see our local namespace inside multiply(), we need to execute it. Call multiply() with the values of 4 & 50. Examine the local namespace it generates. Notice any similarities?\n",
    "\n",
    "\n",
    "<b>Hint</b><br>\n",
    "Both function namespaces have a name of num1 and num2 that have unique values.\n",
    "\n",
    "#### 6. Let’s examine how the local namespace called outside of functions has changed. Print locals() once more. Notice any changes?\n",
    "\n",
    "\n",
    "<b>Hint</b><br>\n",
    "Since we defined two new functions, they were added to the global namespace. Remember the local namespace will be exactly the same as the global namespace (and the value of globals()) if we call locals() outside a function."
   ]
  },
  {
   "cell_type": "code",
   "execution_count": null,
   "metadata": {},
   "outputs": [],
   "source": [
    "global_variable = 'global'\n",
    "\n",
    "\n",
    "\n",
    "print(' -- Local and global Namespaces with empty script -- \\n')\n",
    "# Write Checkpoint 1 here:\n",
    "print(locals())\n",
    "print(globals())\n",
    "\n",
    "# Write Checkpoint 2 here:\n",
    "def divide(num1, num2):\n",
    "  result = num1 / num2\n",
    "  print(locals())\n",
    "\n",
    "# Write Checkpoint 3 here:\n",
    "def multiply(num1, num2):\n",
    "  product = num1 * num2\n",
    "  print(locals())\n",
    "\n",
    "\n",
    "\n",
    "\n",
    "print(' \\n -- Local Namespace for divide -- \\n')\n",
    "# Write Checkpoint 4 here:\n",
    "divide(3, 4)\n",
    "\n",
    "print(' \\n -- Local Namespace for multiply -- \\n')\n",
    "# Write Checkpoint 5 here:\n",
    "multiply(4, 50)\n",
    "\n",
    "print(' \\n -- Local Namespace final -- \\n')\n",
    "# Write Checkpoint 6 here:\n",
    "print(locals())"
   ]
  },
  {
   "cell_type": "markdown",
   "metadata": {},
   "source": [
    "## Enclosing Namespace\n",
    "Enclosing Namespace Python\n",
    "\n",
    "There is just one more namespace we need to be aware of in our Python programs. This particular namespace is a special type of local namespace called the enclosing namespace.\n",
    "\n",
    "Enclosing namespaces are created specifically when we work with nested functions and just like with the local namespace, will only exist until the function is done executing. Let’s take a look at an example:"
   ]
  },
  {
   "cell_type": "code",
   "execution_count": null,
   "metadata": {},
   "outputs": [],
   "source": [
    "global_variable = 'global'\n",
    " \n",
    "def outer_function():\n",
    "  outer_value = \"outer\"\n",
    " \n",
    "  def inner_function():\n",
    "    inner_value = \"inner\"\n",
    " \n",
    " inner_function()\n",
    " \n",
    "outer_function()"
   ]
  },
  {
   "cell_type": "markdown",
   "metadata": {},
   "source": [
    "In this program, the following occurs:\n",
    "\n",
    "- We define a function called outer_function() and nest another function inside it called inner_function(). To generate a namespace, functions must be executed, so we are calling both of them.\n",
    "- Here, The outer_function() serves the role of an enclosing function while inner_function is an enclosed function. By creating this structure, we generate an enclosing namespace - a namespace created by an enclosing function and any number of enclosed functions inside it.\n",
    "While Python doesn’t give us any particular function like enclosing() to visualize the namespace, we can use locals() to see when enclosed namespaces are generated. Let’s take a look by modifying our script:"
   ]
  },
  {
   "cell_type": "code",
   "execution_count": null,
   "metadata": {},
   "outputs": [],
   "source": [
    "global_variable = 'global'\n",
    " \n",
    "def outer_function():\n",
    "  outer_value = \"outer\"\n",
    " \n",
    "  def inner_function():\n",
    "    inner_value = \"inner\"\n",
    "  inner_function()\n",
    "  # Added locals output\n",
    "  print(locals())\n",
    " \n",
    "outer_function()"
   ]
  },
  {
   "cell_type": "markdown",
   "metadata": {},
   "source": [
    "Would output:"
   ]
  },
  {
   "cell_type": "code",
   "execution_count": null,
   "metadata": {},
   "outputs": [],
   "source": [
    "{'outer_value': 'outer', 'inner_function': <function outer_function.<locals>.inner_function at 0x7f46b56bc820>}"
   ]
  },
  {
   "cell_type": "markdown",
   "metadata": {},
   "source": [
    "Notice the 'inner_function': <function outer_function.<locals>.inner_function shows that our local namespace inside of outer_function() encloses the local namespace of inner_function().\n",
    "\n",
    "Let’s practice accessing the enclosing namespace in a similar example!\n",
    "\n",
    "Instructions\n",
    "#### 1. Examine the nested functions in the code editor. Let’s try to examine the enclosing namespace.\n",
    "\n",
    "At the line that says # Add locals() call below: print the locals() function.\n",
    "\n",
    "Spot anything significant?\n",
    "\n",
    "\n",
    "<b>Hint</b><br>\n",
    "The expected output is:"
   ]
  },
  {
   "cell_type": "code",
   "execution_count": null,
   "metadata": {},
   "outputs": [],
   "source": [
    "{'inner_nested_function': <function outer_function.<locals>.inner_functon.<locals>.inner_nested_function at 0x7f20d5e7ce18>, 'inner_value': 'inner'}"
   ]
  },
  {
   "cell_type": "markdown",
   "metadata": {},
   "source": [
    "Note the nested <locals> in the value for the 'inner_nested_function' key."
   ]
  },
  {
   "cell_type": "code",
   "execution_count": null,
   "metadata": {},
   "outputs": [],
   "source": [
    "global_variable = 'global'\n",
    " \n",
    "def outer_function():\n",
    "  outer_value = \"outer\"\n",
    " \n",
    "  def inner_function():\n",
    "    inner_value = \"inner\"\n",
    "\n",
    "    def inner_nested_function():\n",
    "      nested_value = 'nested'\n",
    "    inner_nested_function()\n",
    "    # Add locals() below\n",
    "    print(locals())\n",
    "  inner_function()\n",
    " \n",
    "outer_function()"
   ]
  },
  {
   "cell_type": "markdown",
   "metadata": {},
   "source": [
    "## Review\n",
    "\n",
    "\n",
    "Great job! You’ve learned some important concepts in Python regarding namespaces.\n",
    "\n",
    "\n",
    "In this lesson, we’ve covered:\n",
    "\n",
    "\n",
    "- Names as identifiers for objects in Python.\n",
    "- What namespaces are.\n",
    "- The built-in namespace and how to access it using __builtins__.\n",
    "- The global namespace and how to access it using globals().\n",
    "- The local namespace and how to access it using locals().\n",
    "- The enclosing namespace - a special type of local namespace that occurs when working with nested functions.\n",
    "\n",
    "\n",
    "Knowing these concepts allows for a stronger mastery of Python since names are the basis of how our programs store and retrieve information. Keep up the great work!\n",
    "\n",
    "\n",
    "Instructions\n",
    "\n",
    "\n",
    "Take some time to review the namespace structure that was covered in this lesson."
   ]
  }
 ],
 "metadata": {
  "interpreter": {
   "hash": "79435cfcbd76b1528bba00a84eb046d19295a161f953d7f2d2d8d04ffa2592c8"
  },
  "kernelspec": {
   "display_name": "Python 3.10.0 64-bit (windows store)",
   "language": "python",
   "name": "python3"
  },
  "language_info": {
   "name": "python",
   "version": "3.10.0"
  },
  "orig_nbformat": 4
 },
 "nbformat": 4,
 "nbformat_minor": 2
}
