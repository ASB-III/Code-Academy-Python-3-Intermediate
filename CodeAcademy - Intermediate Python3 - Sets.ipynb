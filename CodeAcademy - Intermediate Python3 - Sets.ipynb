{
 "cells": [
  {
   "cell_type": "markdown",
   "metadata": {},
   "source": [
    "# Introduction to Python Sets\n",
    "In Python, a set is a group of elements that are unordered and do not contain duplicates. Although it may seem that the usefulness of this data structure is limited, it can actually be very helpful for organizing items and performing set mathematics.\n",
    "\n",
    "For example, we can imagine two different groups of items that have some similarities and differences. Using set mathematics, we can find the matching items, differences, combine the sets based on different parameters, and more! This is especially helpful when combing very large datasets.\n",
    "\n",
    "Alternatively, there is also an immutable version of a set called a frozenset. A frozenset behaves similarly to a normal set, but it does not include methods that modify the frozenset in any way.\n",
    "\n",
    "In this lesson, well explore:\n",
    "\n",
    "- How to create a set and a frozenset.\n",
    "- How to add to a set (we won’t be able to mutate a frozenset).\n",
    "- How to remove from a set (we won’t be able to mutate a frozenset).\n",
    "- How to find specific elements in a set and a frozenset.\n",
    "- How to perform set operations such as unions, intersections, and more.\n",
    "\n",
    "\n",
    "Let’s jump in!\n",
    "\n",
    "Instructions\n",
    "Examine the sample set visual. Notice that new elements have no trouble getting into a set, but existing elements cannot be added!"
   ]
  },
  {
   "cell_type": "markdown",
   "metadata": {},
   "source": [
    "# Creating a Set\n",
    "In Python, there are multiple ways to create a set. A set object can be created by passing an iterable object into its constructor, using curly braces, or using a set comprehension.\n",
    "\n",
    "Let’s examine the sytnax of these methods:"
   ]
  },
  {
   "cell_type": "code",
   "execution_count": null,
   "metadata": {},
   "outputs": [],
   "source": [
    "# Creating a set with curly braces\n",
    "music_genres = {'country', 'punk', 'rap', 'techno', 'pop', 'latin'}\n",
    " \n",
    "# Creating a set from a list using set()\n",
    "music_genres_2 = set(['country', 'punk', 'rap', 'techno', 'pop', 'latin'])"
   ]
  },
  {
   "cell_type": "markdown",
   "metadata": {},
   "source": [
    "It’s worth noting that creating a set from a list with duplicates produces a set with the duplicates removed. Here is an example:"
   ]
  },
  {
   "cell_type": "code",
   "execution_count": 2,
   "metadata": {},
   "outputs": [
    {
     "name": "stdout",
     "output_type": "stream",
     "text": [
      "{'country', 'rap', 'pop', 'punk'}\n"
     ]
    }
   ],
   "source": [
    "# Creating a set with curly braces\n",
    "music_genres_3 = set(['country', 'punk', 'rap', 'pop', 'pop', 'pop'])\n",
    "print(music_genres_3)"
   ]
  },
  {
   "cell_type": "markdown",
   "metadata": {},
   "source": [
    "Will output:"
   ]
  },
  {
   "cell_type": "code",
   "execution_count": 3,
   "metadata": {},
   "outputs": [
    {
     "data": {
      "text/plain": [
       "{'country', 'pop', 'punk', 'rap'}"
      ]
     },
     "execution_count": 3,
     "metadata": {},
     "output_type": "execute_result"
    }
   ],
   "source": [
    "{'country', 'punk', 'pop', 'rap'}"
   ]
  },
  {
   "cell_type": "markdown",
   "metadata": {},
   "source": [
    "While we use a similar data type in the sets above, sets can actually contain any combination of data types as long as they are unique values. Here is an example:"
   ]
  },
  {
   "cell_type": "code",
   "execution_count": 4,
   "metadata": {},
   "outputs": [],
   "source": [
    "music_different = {70, 'music times', 'categories', True , 'country', 45.7}"
   ]
  },
  {
   "cell_type": "markdown",
   "metadata": {},
   "source": [
    "We can also create an empty set with one specific method:"
   ]
  },
  {
   "cell_type": "code",
   "execution_count": 5,
   "metadata": {},
   "outputs": [],
   "source": [
    "# Creating an empty set using the set() constructor\n",
    "# Doing set = {} will define a dictionary rather than a set.  \n",
    " \n",
    "empty_genres = set()"
   ]
  },
  {
   "cell_type": "markdown",
   "metadata": {},
   "source": [
    "Lastly, similar to list comprehensions, we can create sets using a set comprehension and a data set (such as a list). Here is an example:"
   ]
  },
  {
   "cell_type": "code",
   "execution_count": 6,
   "metadata": {},
   "outputs": [
    {
     "name": "stdout",
     "output_type": "stream",
     "text": [
      "{'pop', 'punk'}\n"
     ]
    }
   ],
   "source": [
    "items = ['country', 'punk', 'rap', 'techno', 'pop', 'latin']\n",
    " \n",
    "music_genres = {category for category in items if category[0] == 'p'}\n",
    "print(music_genres)"
   ]
  },
  {
   "cell_type": "markdown",
   "metadata": {},
   "source": [
    "Would output a set containing all elements from items starting with the letter 'p':"
   ]
  },
  {
   "cell_type": "code",
   "execution_count": 7,
   "metadata": {},
   "outputs": [
    {
     "data": {
      "text/plain": [
       "{'pop', 'punk'}"
      ]
     },
     "execution_count": 7,
     "metadata": {},
     "output_type": "execute_result"
    }
   ],
   "source": [
    "{'punk', 'pop'}"
   ]
  },
  {
   "cell_type": "markdown",
   "metadata": {},
   "source": [
    "Now, let’s practice these methods to get a feel of how to create a set!"
   ]
  },
  {
   "cell_type": "markdown",
   "metadata": {},
   "source": [
    "## Instructions\n",
    "### 1. We have a great idea for an application that allows users to share music that they create with others.\n",
    "\n",
    "One of the features of this application is the ability to tag songs with descriptive tags about the genre, mood, instruments, etc. Our team members have taken a survey of user’s favorite genres of music and provided us with a list of the results.\n",
    "\n",
    "Unfortunately, it seems like there are some duplicates in the collection. For the first step, find all of the genres of music that the users submitted without duplicates by creating a set from genre_results.\n",
    "\n",
    "Store the set in a variable called survey_genres. Finally, print survey_genres to see the new set!\n",
    "\n",
    "\n",
    "<b>Hint</b><br>\n",
    "Remember that you can create a set using the constructor set(). You can pass data into the constructor to create a set from it.\n",
    "\n",
    "### 2. You want to test if it is plausible to use abbreviated tags for describing music.\n",
    "\n",
    "For this step, use a set comprehension to create a new set called survey_abbreviated which stores the first three letters of each genre found in the survey results without duplication.\n",
    "\n",
    "Print survey_abbreviated to see the result!\n",
    "\n",
    "\n",
    "<b>Hint</b><br>\n",
    "set comprehension occurs within a set of curly braces {}. Use a for loop to iterate through each element in the survey results.\n",
    "\n",
    "To get the first three letters of the genres, you can use: genre[0:3]."
   ]
  },
  {
   "cell_type": "code",
   "execution_count": 8,
   "metadata": {},
   "outputs": [
    {
     "name": "stdout",
     "output_type": "stream",
     "text": [
      "{'country', 'rap', 'k-pop', 'pop', 'rock', 'classical', 'latin'}\n",
      "{'k-p', 'cla', 'rap', 'cou', 'pop', 'lat', 'roc'}\n"
     ]
    }
   ],
   "source": [
    "genre_results = ['rap', 'classical', 'rock', 'rock', 'country', 'rap', 'rock', 'latin', 'country', 'k-pop', 'pop', 'rap', 'rock', 'k-pop',  'rap', 'k-pop', 'rock', 'rap', 'latin', 'pop', 'pop', 'classical', 'pop', 'country', 'rock', 'classical', 'country', 'pop', 'rap', 'latin']\n",
    "\n",
    "# Write your code below!\n",
    "survey_genres = set(genre_results)\n",
    "\n",
    "print(survey_genres)\n",
    "\n",
    "survey_abbreviated = {genre[0:3] for genre in genre_results\n",
    "}\n",
    "print(survey_abbreviated)"
   ]
  },
  {
   "cell_type": "markdown",
   "metadata": {},
   "source": [
    "# Creating a Frozenset\n",
    "Unlike a normal set, you can only create a frozenset using its constructor. Remember that using a frozenset means that you cannot modify the elements inside of it.\n",
    "\n",
    "Creating a frozenset using its constructor looks like this:"
   ]
  },
  {
   "cell_type": "code",
   "execution_count": 9,
   "metadata": {},
   "outputs": [],
   "source": [
    "# Creating a frozenset from a list\n",
    "frozen_music_genres = frozenset(['country', 'punk', 'rap', 'techno', 'pop', 'latin'])"
   ]
  },
  {
   "cell_type": "markdown",
   "metadata": {},
   "source": [
    "We can also create an empty frozenset:"
   ]
  },
  {
   "cell_type": "code",
   "execution_count": 10,
   "metadata": {},
   "outputs": [],
   "source": [
    "empty_frozen_music_genres = frozenset()"
   ]
  },
  {
   "cell_type": "markdown",
   "metadata": {},
   "source": [
    "Let’s practice creating a frozenset in our music application!\n",
    "\n",
    "## Instructions\n",
    "### 1. After calculating the results for the top music genres from the survey, your teammates have sent you a list containing the top three results.\n",
    "\n",
    "In order to preserve this data and prevent it from being modified, create a frozenset called frozen_top_genres from the top_genres data. Print our frozen_top_genres to see it!\n",
    "\n",
    "\n",
    "<b>Hint</b><br>\n",
    "Remember to create a frozenset using the frozenset() constructor. You can pass data into the constructor to create a frozenset from it."
   ]
  },
  {
   "cell_type": "code",
   "execution_count": 11,
   "metadata": {},
   "outputs": [
    {
     "name": "stdout",
     "output_type": "stream",
     "text": [
      "frozenset({'pop', 'rap', 'rock'})\n"
     ]
    }
   ],
   "source": [
    "top_genres = ['rap', 'rock', 'pop']\n",
    "\n",
    "# Write your code below!\n",
    "\n",
    "frozen_top_genres = frozenset(top_genres)\n",
    "print(frozen_top_genres)"
   ]
  },
  {
   "cell_type": "markdown",
   "metadata": {},
   "source": [
    "# Adding to a Set\n",
    "There are two different ways to add elements to a set:\n",
    "\n",
    "1. The .add() method can add a single element to the set."
   ]
  },
  {
   "cell_type": "code",
   "execution_count": 12,
   "metadata": {},
   "outputs": [
    {
     "name": "stdout",
     "output_type": "stream",
     "text": [
      "{'country', 'folk', 'acoustic', 'guitar'}\n"
     ]
    }
   ],
   "source": [
    "# Create a set to hold the song tags\n",
    "song_tags = {'country', 'folk', 'acoustic'}\n",
    " \n",
    "# Add a new tag to the set and try to add a duplicate.\n",
    "song_tags.add('guitar')\n",
    "song_tags.add('country')\n",
    " \n",
    "print(song_tags)"
   ]
  },
  {
   "cell_type": "markdown",
   "metadata": {},
   "source": [
    "Would output:"
   ]
  },
  {
   "cell_type": "code",
   "execution_count": 13,
   "metadata": {},
   "outputs": [
    {
     "data": {
      "text/plain": [
       "{'acoustic', 'country', 'folk', 'guitar'}"
      ]
     },
     "execution_count": 13,
     "metadata": {},
     "output_type": "execute_result"
    }
   ],
   "source": [
    "{'country', 'acoustic', 'guitar', 'folk'}"
   ]
  },
  {
   "cell_type": "markdown",
   "metadata": {},
   "source": [
    "2. The .update() method can add multiple elements."
   ]
  },
  {
   "cell_type": "code",
   "execution_count": 14,
   "metadata": {},
   "outputs": [
    {
     "name": "stdout",
     "output_type": "stream",
     "text": [
      "{'country', 'folk', 'live', 'acoustic', 'blues'}\n"
     ]
    }
   ],
   "source": [
    "# Create a set to hold the song tags\n",
    "song_tags = {'country', 'folk', 'acoustic'}\n",
    " \n",
    "# Add more tags using a hashable object (such as a list of elements)\n",
    "other_tags = ['live', 'blues', 'acoustic']\n",
    "song_tags.update(other_tags)\n",
    " \n",
    "print(song_tags)"
   ]
  },
  {
   "cell_type": "markdown",
   "metadata": {},
   "source": [
    "Would output:"
   ]
  },
  {
   "cell_type": "code",
   "execution_count": 15,
   "metadata": {},
   "outputs": [
    {
     "data": {
      "text/plain": [
       "{'acoustic', 'blues', 'country', 'folk', 'live'}"
      ]
     },
     "execution_count": 15,
     "metadata": {},
     "output_type": "execute_result"
    }
   ],
   "source": [
    "{'acoustic', 'folk', 'country', 'live', 'blues'}"
   ]
  },
  {
   "cell_type": "markdown",
   "metadata": {},
   "source": [
    "There are a few things to note about adding to a set:\n",
    "\n",
    "- Neither of these methods will add a duplicate item to a set.\n",
    "\n",
    "- A frozenset can not have any items added to it and so neither of these methods will work.\n",
    "\n",
    "- Notice that when the elements are printed, they are not printed in the same order in which they entered the set. This is because set and frozenset containers are unordered.\n",
    "\n",
    "Let’s practice adding to a set!"
   ]
  },
  {
   "cell_type": "markdown",
   "metadata": {},
   "source": [
    "## Instructions\n",
    "### 1. In our application, we have a section for upcoming artists to upload their own music. When uploading songs, the artists add their own tags, but other users can add tags to the songs later on.\n",
    "\n",
    "For this version of the app, we are provided a song_data dictionary as well as a few tags from users in the form of strings.\n",
    "\n",
    "For the first step, create a new set called tag_set from the original song’s tags located in song_data.\n",
    "\n",
    "\n",
    "<b>Hint</b><br>\n",
    "You can create a set from existing data by passing it into the set() constructor.\n",
    "\n",
    "### 2. Next, add the three user tag strings to tag_set.\n",
    "\n",
    "\n",
    "<b>Hint</b><br>\n",
    "You can .update() the set if you store the tags in a list or other hashable object. You could also .add() each tag individually.\n",
    "\n",
    "### 3. Finally, update song_data so that the value of the key, 'Retro Words' is equal to the updated tag set.\n",
    "\n",
    "\n",
    "<b>Hint</b><br>\n",
    "Remember that you can update a value in a dictionary using the format: data[key] = new_value."
   ]
  },
  {
   "cell_type": "code",
   "execution_count": 16,
   "metadata": {},
   "outputs": [],
   "source": [
    "song_data = {'Retro Words': ['pop', 'warm', 'happy', 'electric']}\n",
    "\n",
    "user_tag_1 = 'warm'\n",
    "user_tag_2 = 'exciting'\n",
    "user_tag_3 = 'electric'\n",
    "\n",
    "user_tags123 = ['warm', 'exciting', 'electric']\n",
    "# Write your code below!\n",
    "tag_set = set(song_data['Retro Words'])\n",
    "\n",
    "tag_set.update(user_tags123)\n",
    "\n",
    "song_data['Retro Words'] = tag_set"
   ]
  },
  {
   "cell_type": "markdown",
   "metadata": {},
   "source": [
    "# Removing From a Set\n",
    "There are two methods for removing specific elements from a set:\n",
    "\n",
    "1. The .remove() method searches for an element within the set and removes it if it exists, otherwise, a KeyError is thrown."
   ]
  },
  {
   "cell_type": "code",
   "execution_count": null,
   "metadata": {},
   "outputs": [],
   "source": [
    "# Given a list of song tags\n",
    "song_tags = {'guitar', 'acoustic', 'folk', 'country', 'live', 'blues'}\n",
    " \n",
    "# Remove an existing element\n",
    "song_tags.remove('folk')\n",
    "print(song_tags)\n",
    " \n",
    "# Try removing a non-existent element\n",
    "song_tags.remove('fiddle')"
   ]
  },
  {
   "cell_type": "markdown",
   "metadata": {},
   "source": [
    "Would output:"
   ]
  },
  {
   "cell_type": "code",
   "execution_count": null,
   "metadata": {},
   "outputs": [],
   "source": [
    "{'blues', 'acoustic', 'country', 'guitar', 'live'}"
   ]
  },
  {
   "cell_type": "markdown",
   "metadata": {},
   "source": [
    "Followed by:"
   ]
  },
  {
   "cell_type": "code",
   "execution_count": null,
   "metadata": {},
   "outputs": [],
   "source": [
    "Traceback (most recent call last):\n",
    "File \"some_file_name.py\", line 9, in <module>\n",
    " song_tags.remove('fiddle')\n",
    "KeyError: 'fiddle'"
   ]
  },
  {
   "cell_type": "markdown",
   "metadata": {},
   "source": [
    "2. The .discard() method works the same way but does not throw an exception if an element is not present."
   ]
  },
  {
   "cell_type": "code",
   "execution_count": null,
   "metadata": {},
   "outputs": [],
   "source": [
    "# Given a list of song tags\n",
    "song_tags = {'guitar', 'acoustic', 'folk', 'country', 'live', 'blues'}\n",
    " \n",
    "# Try removing a non-existent element but with the discard method\n",
    "song_tags.discard('guitar')\n",
    "print(song_tags)\n",
    " \n",
    "# Try removing a non-existent element but with the discard method\n",
    "song_tags.discard('fiddle')\n",
    "print(song_tags)"
   ]
  },
  {
   "cell_type": "markdown",
   "metadata": {},
   "source": [
    "Would output:"
   ]
  },
  {
   "cell_type": "code",
   "execution_count": null,
   "metadata": {},
   "outputs": [],
   "source": [
    "{'folk', 'acoustic', 'blues', 'live', 'country'}\n",
    "{'folk', 'acoustic', 'blues', 'live', 'country'}"
   ]
  },
  {
   "cell_type": "markdown",
   "metadata": {},
   "source": [
    "Note that items cannot be removed from a frozenset so neither of these methods would work.\n",
    "\n",
    "## Instructions\n",
    "### 1. Some users have created tags that are not related to music, and you’d like to get rid of them. For now, let’s manually remove the incorrect tags.\n",
    "\n",
    "To start off, we need another set for the tag data within song_data_users. Create a set called tag_set and store the tag data for 'Retro Words'.\n",
    "\n",
    "\n",
    "<b>Hint</b><br>\n",
    "You can create a set from existing data by passing it into the set() constructor.\n",
    "\n",
    "### 2. Now we need to remove the tags which are unrelated to music. In this case, remove the tags: 'onion', 'helloworld', and 'spam'.\n",
    "\n",
    "\n",
    "<b>Hint</b><br>\n",
    "You can remove elements from a set with the .remove() method or the .discard() method.\n",
    "\n",
    "### 3. For the last step, replace the value of the key, 'Retro Words' inside of song_data_users so that it is equal to the updated tag set.\n",
    "\n",
    "Print song_data_users to see the results.\n",
    "\n",
    "\n",
    "<b>Hint</b><br>\n",
    "Remember that you can update a value in a dictionary using the format: data[key] = new_value."
   ]
  },
  {
   "cell_type": "code",
   "execution_count": null,
   "metadata": {},
   "outputs": [],
   "source": [
    "song_data_users = {'Retro Words': ['pop', 'onion', 'warm', 'helloworld', 'happy', 'spam', 'electric']}\n",
    "\n",
    "# Write your code below!\n",
    "tag_set = set(song_data_users['Retro Words'])\n",
    "tag_set.discard('onion')\n",
    "tag_set.discard('helloworld')\n",
    "tag_set.discard('spam')\n",
    "\n",
    "song_data_users['Retro Words'] = tag_set\n"
   ]
  },
  {
   "cell_type": "markdown",
   "metadata": {},
   "source": [
    "## Finding Elements in a Set\n",
    "In Python, set and frozenset items cannot be accessed by a specific index. This is due to the fact that both containers are unordered and have no indices. However, like most other Python containers, we can use the in keyword to test if an element is in a set or frozenset.\n",
    "\n",
    "Here are some examples of finding if elements exist in a set and frozenset:"
   ]
  },
  {
   "cell_type": "code",
   "execution_count": null,
   "metadata": {},
   "outputs": [],
   "source": [
    "# Given a list of song tags\n",
    "song_tags = {'guitar', 'acoustic', 'folk', 'country', 'live', 'blues'}\n",
    " \n",
    "# Print the result of testing whether 'country' is in the set of tags or not\n",
    "print('country' in song_tags)"
   ]
  },
  {
   "cell_type": "markdown",
   "metadata": {},
   "source": [
    "Would output:"
   ]
  },
  {
   "cell_type": "code",
   "execution_count": null,
   "metadata": {},
   "outputs": [],
   "source": [
    "True"
   ]
  },
  {
   "cell_type": "markdown",
   "metadata": {},
   "source": [
    "This also works for frozenset:"
   ]
  },
  {
   "cell_type": "code",
   "execution_count": null,
   "metadata": {},
   "outputs": [],
   "source": [
    "song_tags = {'guitar', 'acoustic', 'folk', 'country', 'live', 'blues'}\n",
    " \n",
    "frozen_tags = frozenset(song_tags)\n",
    "print('rock' in frozen_tags)"
   ]
  },
  {
   "cell_type": "markdown",
   "metadata": {},
   "source": [
    "Would output:"
   ]
  },
  {
   "cell_type": "code",
   "execution_count": null,
   "metadata": {},
   "outputs": [],
   "source": [
    "False"
   ]
  },
  {
   "cell_type": "markdown",
   "metadata": {},
   "source": [
    "Let’s use the in keyword to work with more user tags in our music application!"
   ]
  },
  {
   "cell_type": "markdown",
   "metadata": {},
   "source": [
    "## Instructions\n",
    "### 1. Now that we have learned about the using the in keyword for set containers, we have decided to update the tagging system by automatically removing unrelated tags.\n",
    "\n",
    "Our team members are working on a CSV file containing all allowed keywords, but for now, we will be using a list of allowed words when programming your logic.\n",
    "\n",
    "To start, store the tag data from song_data_users into a set called tag_set.\n",
    "\n",
    "\n",
    "<b>Hint</b><br>\n",
    "You can create a set from existing data by passing it into the set() constructor.\n",
    "\n",
    "### 2. Next, we want to capture all of the tags in tag_set that don’t belong.\n",
    "\n",
    "Create a list called bad_tags. Then, iterate through each element of tag_set, adding tags to bad_tags that don’t belong.\n",
    "\n",
    "\n",
    "<b>Hint</b><br>\n",
    "Use a for loop to test if each tag is not in the allowed_tags. If they are not allowed then add them to the list bad_tags.\n",
    "\n",
    "### 3. Now, let’s remove all the incorrect tags from tag_set.\n",
    "\n",
    "Using the collected bad_tags, write another loop to iterate over each of the tags in bad_tags, and remove the elements from tag_set so we have only the allowed tags.\n",
    "\n",
    "\n",
    "<b>Hint</b><br>\n",
    "For every item in the bad tag list, use .remove() to remove the tag from tag_set.\n",
    "\n",
    "### 4. Finally, replace the value of the key, 'Retro Words' inside of song_data_users so that it is equal to the updated tag set.\n",
    "\n",
    "Print song_data_users to see the result.\n",
    "\n",
    "\n",
    "<b>Hint</b><br>\n",
    "Remember that you can update a value in a dictionary using the format: data[key] = new_value."
   ]
  },
  {
   "cell_type": "code",
   "execution_count": null,
   "metadata": {},
   "outputs": [],
   "source": [
    "allowed_tags = ['pop', 'hip-hop', 'rap', 'dance', 'electronic', 'latin', 'indie', 'alternative rock', 'classical', 'k-pop', 'country', 'rock', 'metal', 'jazz', 'exciting', 'sad', 'happy', 'upbeat', 'party', 'synth', 'rhythmic', 'emotional', 'relationship', 'warm', 'guitar', 'fiddle', 'romance', 'chill', 'swing']\n",
    "\n",
    "song_data_users = {'Retro Words': ['pop', 'explosion', 'hammer', 'bomb', 'warm', 'due', 'writer', 'happy', 'horrible', 'electric', 'mushroom', 'shed']}\n",
    "\n",
    "# Write your code below!\n",
    "tag_set = set(song_data_users['Retro Words'])\n",
    "\n",
    "\n",
    "bad_tags = []\n",
    "\n",
    "for tags in tag_set:\n",
    "  if tags not in allowed_tags:\n",
    "    bad_tags.append(tags)\n",
    "\n",
    "for tags in bad_tags:\n",
    "  if tags == tags in tag_set:\n",
    "    tag_set.remove(tags)\n",
    "\n",
    "song_data_users['Retro Words'] = tag_set\n",
    "print(song_data_users['Retro Words'])\n"
   ]
  },
  {
   "cell_type": "markdown",
   "metadata": {},
   "source": [
    "## Introduction to Set Operations\n",
    "A lot of the usefulness of a set container comes from the set operations. These allow you to combine sets, find the difference and intersections of sets, and more! You can combine these operations to perform complex logic problems on multiple sets. This can be useful for filtering items, categorizing, combining, as well as many other uses.\n",
    "\n",
    "The operations which we will be looking at are:\n",
    "\n",
    "- Unions\n",
    "- Intersections (and Intersection Updates)\n",
    "- Differences (and Difference Updates)\n",
    "- Symmetric Differences (and Symmetric Difference Updates)\n",
    "\n",
    "\n",
    "Additional operations will not be covered in this lesson, such as finding subsets and supersets. Information about these operations can be found in the Python documentation.\n",
    "\n",
    "\n",
    "## Instructions\n",
    "Look over the venn diagrams for different set operations using a set A and set B. We will be covering all four in the next exercises!\n",
    "\n",
    "![](https://static-assets.codecademy.com/Courses/Intermediate-Python/Set%20Operations.svg)"
   ]
  },
  {
   "cell_type": "markdown",
   "metadata": {},
   "source": [
    "# Set Union\n",
    "When working with set or frozenset container, one of the most common operations we can perform is a merge. To do this, we can return the union of two sets using the .union() method or | operator. Doing so will return a new set or frozenset containing all elements from both sets without duplicates.\n",
    "\n",
    "Take a look at the Venn diagram representing a union of set A and set B:\n",
    "\n",
    "![](https://static-assets.codecademy.com/Courses/Intermediate-Python/Union.svg)"
   ]
  },
  {
   "cell_type": "markdown",
   "metadata": {},
   "source": [
    "Notice the resulting set contains all the elements in both set A and set B as well as elements they have in common (minus the duplicates). In this case we are only looking at merging two sets but it’s also common to perform the operation on as many as we need!\n",
    "\n",
    "Let’s look at two examples of creating a union:\n",
    "\n",
    "1. Using union():"
   ]
  },
  {
   "cell_type": "code",
   "execution_count": null,
   "metadata": {},
   "outputs": [],
   "source": [
    "# Given a set and frozenset of song tags for two python related hits\n",
    "prepare_to_py = {'rock', 'heavy metal', 'electric guitar', 'synth'}\n",
    " \n",
    "py_and_dry = frozenset({'classic', 'rock', 'electric guitar', 'rock and roll'})\n",
    " \n",
    "# Get the union using the .union() method\n",
    "combined_tags = prepare_to_py.union(py_and_dry)\n",
    "print(combined_tags)"
   ]
  },
  {
   "cell_type": "markdown",
   "metadata": {},
   "source": [
    "Would output:"
   ]
  },
  {
   "cell_type": "code",
   "execution_count": null,
   "metadata": {},
   "outputs": [],
   "source": [
    "{'electric guitar', 'classic', 'heavy metal', 'rock and roll', 'rock', 'synth'}"
   ]
  },
  {
   "cell_type": "markdown",
   "metadata": {},
   "source": [
    "Using |:"
   ]
  },
  {
   "cell_type": "code",
   "execution_count": null,
   "metadata": {},
   "outputs": [],
   "source": [
    "# Get the union using the | operator\n",
    "frozen_combined_tags = py_and_dry | prepare_to_py\n",
    "print(frozen_combined_tags)"
   ]
  },
  {
   "cell_type": "markdown",
   "metadata": {},
   "source": [
    "Would output:"
   ]
  },
  {
   "cell_type": "code",
   "execution_count": null,
   "metadata": {},
   "outputs": [],
   "source": [
    "frozenset({'electric guitar', 'rock and roll', 'rock', 'synth', 'heavy metal', 'classic'})"
   ]
  },
  {
   "cell_type": "markdown",
   "metadata": {},
   "source": [
    "## Instructions\n",
    "### 1. To improve the logic for adding user tags to songs in the app, we can use the union of tag sets! Our team has provided us two dictionaries.\n",
    "\n",
    "The first dictionary (song_data) contains song data including tags from the original artists, while the second dictionary (user_tag_data) includes tags that have been added by users. Let’s attempt to merge the tag sets together so we have a full collection of tags.\n",
    "\n",
    "First, create an empty dictionary called new_song_data which will hold the merged tag data.\n",
    "\n",
    "\n",
    "<b>Hint</b><br>\n",
    "You can create an empty dictionary with curly braces {}.\n",
    "\n",
    "### 2. Our goal now is to consolidate the tags into one dictionary for each category. To accomplish this we need to:\n",
    "\n",
    "Loop over song_data.items() (all the items in song_data)\n",
    "\n",
    "On each iteration of the loop, create a set for each category of tags. This will require creating two new sets, one for song_data and one for user_tag_data.\n",
    "\n",
    "In addition to creating the sets on each iteration, create a new key inside of new_song_data for each category and set the value to be a union of the two new sets.\n",
    "\n",
    "Print new_song_data to see the result!\n",
    "\n",
    "\n",
    "<b>Hint</b><br>\n",
    "The base structure of the for loop should be the following:"
   ]
  },
  {
   "cell_type": "code",
   "execution_count": null,
   "metadata": {},
   "outputs": [],
   "source": [
    "for key, val in song_data.items():\n",
    "  # some code.."
   ]
  },
  {
   "cell_type": "markdown",
   "metadata": {},
   "source": [
    "Use key and val to create both new sets. Try to fill in the missing pieces:"
   ]
  },
  {
   "cell_type": "code",
   "execution_count": null,
   "metadata": {},
   "outputs": [],
   "source": [
    "for key, val in song_data.items():\n",
    "  song_tag_set = < set of val > \n",
    "  user_tag_set = < set of user_tags for a specific key > \n",
    "  new_song_data[key] = < union of both sets >"
   ]
  },
  {
   "cell_type": "code",
   "execution_count": 20,
   "metadata": {},
   "outputs": [
    {
     "name": "stdout",
     "output_type": "stream",
     "text": [
      "{'Retro Words': {'happy', 'fun', 'pop', 'warm', 'exciting', 'electronic'}, 'Wait For Limit': {'rap', 'rhythmic', 'chill', 'romance', 'upbeat'}, 'Stomping Cue': {'country', 'swing', 'instrumental', 'party', 'fiddle'}, 'Lowkey Space': {'fast', 'party', 'dance', 'synth', 'electronic', 'upbeat'}}\n"
     ]
    }
   ],
   "source": [
    "song_data = {'Retro Words': ['pop', 'warm', 'happy', 'electronic'],\n",
    "             'Wait For Limit': ['rap', 'upbeat', 'romance'],\n",
    "             'Stomping Cue': ['country', 'fiddle', 'party'],\n",
    "             'Lowkey Space': ['electronic', 'dance', 'synth']}\n",
    "\n",
    "user_tag_data = {'Lowkey Space': ['party', 'synth', 'fast', 'upbeat'],\n",
    "                 'Retro Words': ['happy', 'electronic', 'fun', 'exciting'],\n",
    "                 'Wait For Limit': ['romance', 'chill', 'rap', 'rhythmic'], \n",
    "                 'Stomping Cue': ['country', 'swing', 'party', 'instrumental']}\n",
    "\n",
    "# Write your code below!\n",
    "new_song_data = {}\n",
    "\n",
    "for key, val in song_data.items():\n",
    "  song_tag_set = set(val)\n",
    "  user_tag_set = set(user_tag_data[key])\n",
    "  new_song_data[key] = song_tag_set | user_tag_set\n",
    "print(new_song_data)"
   ]
  },
  {
   "cell_type": "markdown",
   "metadata": {},
   "source": [
    "## Set Intersection\n",
    "Let’s say that we have two or more sets, and we want to find which items both sets have in common. The set container has a method called .intersection() which returns a new set or frozenset consisting of those elements. An intersection can also be performed on multiple sets using the & operator.\n",
    "\n",
    "Similar to the other operations, the type of the first operand (a set or frozenset on the left side of the operator or method) determines if a set or frozenset is returned when finding the intersection.\n",
    "\n",
    "Take a look at the Venn diagram representing an intersection of set A and set B:\n",
    "\n",
    "![](https://static-assets.codecademy.com/Courses/Intermediate-Python/Intersection.svg)\n",
    "\n",
    "Here is what an intersection looks like in Python:"
   ]
  },
  {
   "cell_type": "code",
   "execution_count": null,
   "metadata": {},
   "outputs": [],
   "source": [
    "# Given a set and frozenset of song tags for two python related hits\n",
    "prepare_to_py = {'rock', 'heavy metal', 'electric guitar', 'synth'}\n",
    " \n",
    "py_and_dry = frozenset({'classic', 'rock', 'electric guitar', 'rock and roll'})\n",
    " \n",
    "# Find the intersection between them while providing the `frozenset` first.\n",
    "frozen_intersected_tags = py_and_dry.intersection(prepare_to_py)\n",
    "print(frozen_intersected_tags)"
   ]
  },
  {
   "cell_type": "markdown",
   "metadata": {},
   "source": [
    "Would output:"
   ]
  },
  {
   "cell_type": "code",
   "execution_count": null,
   "metadata": {},
   "outputs": [],
   "source": [
    "frozenset({'electric guitar', 'rock'})"
   ]
  },
  {
   "cell_type": "markdown",
   "metadata": {},
   "source": [
    "And here it is with the & operator:"
   ]
  },
  {
   "cell_type": "code",
   "execution_count": null,
   "metadata": {},
   "outputs": [],
   "source": [
    "# Find the intersection using the operator `&` and providing the normal set first\n",
    "intersected_tags = prepare_to_py & py_and_dry\n",
    "print(intersected_tags)"
   ]
  },
  {
   "cell_type": "markdown",
   "metadata": {},
   "source": [
    "Would output:"
   ]
  },
  {
   "cell_type": "code",
   "execution_count": null,
   "metadata": {},
   "outputs": [],
   "source": [
    "{'rock', 'electric guitar'}"
   ]
  },
  {
   "cell_type": "markdown",
   "metadata": {},
   "source": [
    "In addition to a regular intersection, the set container can also use a method called .intersection_update(). Instead of returning a new set, the original set is updated to contain the result of the intersection.\n",
    "\n",
    "Let’s see how we can use the intersection operation to create a recommendation feature for our music application!"
   ]
  },
  {
   "cell_type": "markdown",
   "metadata": {},
   "source": [
    "Instructions\n",
    "### 1. We want to add a feature to our app which will recommend songs based on the most recent songs a user has listened to. One way we can do this is by using the intersection of the recent song tags. Let’s use the intersection of these tags to find which other songs are similar.\n",
    "\n",
    "First, create a variable called tags_int that stores the intersection between the tags for the user_recent_songs two recent songs 'Retro Words' and 'Lowkey Space'. Remember to convert each list into a set to perform the operation.\n",
    "\n",
    "We will be using these common tags as a basis for finding a recommended song in song_data.\n",
    "\n",
    "\n",
    "<b>Hint</b><br>\n",
    "Remember to pass the tags from each recent song into the set() constructor. After doing this, use .intersect() or & to find the intersection.\n",
    "\n",
    "### 2. Now, let’s find the recommended songs based on the common tags we found in the previous step.\n",
    "\n",
    "Find all other songs in song_data which have these tags. Store the songs which have any matching tags into a dictionary called recommended_songs. Make sure that you do not add any songs which the user has listened to recently!\n",
    "\n",
    "Print recommended_songs to see the result!\n",
    "\n",
    "\n",
    "<b>Hint</b><br>\n",
    "One approach to this problem is to create a nested for loop structure:"
   ]
  },
  {
   "cell_type": "code",
   "execution_count": null,
   "metadata": {},
   "outputs": [],
   "source": [
    "<loop through each song in song_data> \n",
    "  <loop through each tag in song_data for a specific song>\n",
    "   < if the tag is inside of of the specific song> \n",
    "     < if the user has not listened to the specific song> \n",
    "        <Add the song and associated tags to recommended_songs>\n",
    "        "
   ]
  },
  {
   "cell_type": "code",
   "execution_count": null,
   "metadata": {},
   "outputs": [],
   "source": [
    "song_data = {'Retro Words': ['pop', 'warm', 'happy', 'electronic', 'synth'],\n",
    "             'Wait For Limit': ['rap', 'upbeat', 'romance'],\n",
    "             'Stomping Cue': ['country', 'fiddle', 'party'],\n",
    "             'Lowkey Space': ['electronic', 'dance', 'synth', 'upbeat'],\n",
    "             'Back To Art': ['pop', 'sad', 'emotional', 'relationship'],\n",
    "             'Blinding Era': ['rap', 'intense', 'moving', 'fast'],\n",
    "             'Down To Green Hills': ['country', 'relaxing', 'vocal', 'emotional'],\n",
    "             'Double Lights': ['electronic', 'chill', 'relaxing', 'piano', 'synth']}\n",
    "\n",
    "user_recent_songs = {'Retro Words': ['pop', 'warm', 'happy', 'electronic', 'synth'],\n",
    "                     'Lowkey Space': ['electronic', 'dance', 'synth', 'upbeat']}\n",
    "\n",
    "# Write your code below!\n",
    "tags_int = set(user_recent_songs['Retro Words']) & set(user_recent_songs['Lowkey Space'])\n",
    "\n",
    "recommended_songs = {}\n",
    "#loop through each song in song_data\n",
    "for key, val in song_data.items():\n",
    "  #loop through each tag in song_data for a specific song\n",
    "  for tag in val:\n",
    "    #if the tag is inside of the specific song\n",
    "    if tag in tags_int:\n",
    "      #if the user has not listened to the specific song\n",
    "      if key not in user_recent_songs:\n",
    "        #Add the song and associated tags to recommended_songs\n",
    "        recommended_songs[key] = val\n",
    "\n",
    "print(recommended_songs)\n",
    "        "
   ]
  },
  {
   "cell_type": "markdown",
   "metadata": {},
   "source": [
    "# Set Difference\n",
    "Similar to how we can find elements in common between sets, we can also find unique elements in one set. To do so, the set or frozenset use the .difference() method or the - operator. This returns a set or frozenset, which contains only the elements from the first set which are not found in the second set. Similar to the other operations, the type of the first operand (a set or frozenset on the left side of the operator or method) determines if a set or frozenset is returned when finding the difference.\n",
    "\n",
    "Take a look at the Venn diagram representing a difference operation that captures elements that are unique to set A:\n",
    "\n",
    "\n",
    "![](https://static-assets.codecademy.com/Courses/Intermediate-Python/Difference.svg)\n",
    "\n",
    "\n",
    "Here is what finding a set difference looks like in Python:"
   ]
  },
  {
   "cell_type": "code",
   "execution_count": null,
   "metadata": {},
   "outputs": [],
   "source": [
    "# Given a set and frozenset of song tags for two python related hits\n",
    "prepare_to_py = {'rock', 'heavy metal', 'electric guitar', 'synth'}\n",
    " \n",
    "py_and_dry = frozenset({'classic', 'rock', 'electric guitar', 'rock and roll'})\n",
    " \n",
    "# Find the elements which are only in prepare_to_py\n",
    "only_in_prepare_to_py = prepare_to_py.difference(py_and_dry)\n",
    "print(only_in_prepare_to_py)"
   ]
  },
  {
   "cell_type": "markdown",
   "metadata": {},
   "source": [
    "Would Output:"
   ]
  },
  {
   "cell_type": "code",
   "execution_count": null,
   "metadata": {},
   "outputs": [],
   "source": [
    "{'heavy metal', 'synth'}"
   ]
  },
  {
   "cell_type": "markdown",
   "metadata": {},
   "source": [
    "Alternativly, we can use the - operator:"
   ]
  },
  {
   "cell_type": "code",
   "execution_count": null,
   "metadata": {},
   "outputs": [],
   "source": [
    "# Find the elements which are only in py_and_dry\n",
    "only_in_py_and_dry = py_and_dry - prepare_to_py\n",
    "print(only_in_py_and_dry)"
   ]
  },
  {
   "cell_type": "markdown",
   "metadata": {},
   "source": [
    "Would output:"
   ]
  },
  {
   "cell_type": "code",
   "execution_count": null,
   "metadata": {},
   "outputs": [],
   "source": [
    "frozenset({'rock and roll', 'classic'})"
   ]
  },
  {
   "cell_type": "markdown",
   "metadata": {},
   "source": [
    "This operation also supports an updating version of the method. You can use .difference_update() to update the original set with the result instead of returning a new set or frozenset object.\n",
    "\n",
    "Let’s see how we can apply this operation to our music application!"
   ]
  },
  {
   "cell_type": "markdown",
   "metadata": {},
   "source": [
    "## Instructions\n",
    "### 1. In order to try and increase the accuracy of your app’s song recommendations, we have decided to add some logic that will find the differences between liked and disliked songs. We will create another recommended dictionary of songs based on these differences.\n",
    "\n",
    "Create a new variable called tag_diff that is the set difference between the tags inside of the one song of user_liked_song and the one song of user_disliked_song. Don’t forget to convert the list of tags into a set to perform this operation!\n",
    "\n",
    "\n",
    "<b>Hint</b><br>\n",
    "You can find the difference between two set containers using the .difference() method or -.\n",
    "\n",
    "### 2. Now that you know the difference in tags between the liked song and disliked song, use those tags to find any songs from song_data which contain them.\n",
    "\n",
    "Make sure not to include the liked and disliked songs. Store the newly found songs into a dictionary called recommended_songs.\n",
    "\n",
    "Print recommended_songs to see the result!\n",
    "\n",
    "\n",
    "<b>Hint</b><br>\n",
    "One approach to this problem is to create a nested for loop structure:"
   ]
  },
  {
   "cell_type": "code",
   "execution_count": null,
   "metadata": {},
   "outputs": [],
   "source": [
    "<loop through each song in song_data> \n",
    " <loop through each tag in song_data for a specific song>\n",
    "  <if the tag is inside of tag_diff> \n",
    "   <check if the user has not listened to the specific song in user_liked_song or user_disliked_song> \n",
    "        <add the song and associated tags to recommended_songs>"
   ]
  },
  {
   "cell_type": "code",
   "execution_count": null,
   "metadata": {},
   "outputs": [],
   "source": [
    "song_data = {'Retro Words': ['pop', 'warm', 'happy', 'electronic', 'synth'],\n",
    "             'Wait For Limit': ['rap', 'upbeat', 'romance', 'relationship'],\n",
    "             'Stomping Cue': ['country', 'fiddle', 'party'],\n",
    "             'Lowkey Space': ['electronic', 'dance', 'synth', 'upbeat'],\n",
    "             'Back To Art': ['pop', 'sad', 'emotional', 'relationship'],\n",
    "             'Blinding Era': ['rap', 'intense', 'moving', 'fast'],\n",
    "             'Down To Green Hills': ['country', 'relaxing', 'vocal', 'emotional'],\n",
    "             'Double Lights': ['electronic', 'chill', 'relaxing', 'piano', 'synth']}\n",
    "\n",
    "user_liked_song = {'Back To Art': ['pop', 'sad', 'emotional', 'relationship']}\n",
    "user_disliked_song = {'Retro Words': ['pop', 'warm', 'happy', 'electronic', 'synth']}\n",
    "\n",
    "# Write your code below!\n",
    "tag_diff = set(user_liked_song['Back To Art']) - set(user_disliked_song['Retro Words'])\n",
    "\n",
    "recommended_songs = {}\n",
    "for key, val in song_data.items():\n",
    "  for tag in val:\n",
    "    if tag in tag_diff:\n",
    "      if key not in user_liked_song and key not in user_disliked_song:\n",
    "        recommended_songs[key] = val\n",
    "print(recommended_songs)"
   ]
  },
  {
   "cell_type": "markdown",
   "metadata": {},
   "source": [
    "# Symmetric Difference\n",
    "The last operation we will be looking at is the symmetric difference. We can think of this operation as the opposite of the intersection operation. A resulting set will include all elements from the sets which are in one or the other, but not both. In other words, elements that are unique to each set.\n",
    "\n",
    "To perform this operation on the set or frozenset containers, we can use the .symmetric_difference() method or the ^ operator. Like the other operators, the type of the first operand (a set or frozenset on the left side of the operator or method) determines if a set or frozenset is returned when finding the symmetric difference.\n",
    "\n",
    "Take a look at the Venn diagram that represents a symmetric difference between set A and set B:\n",
    "\n",
    "\n",
    "![](https://static-assets.codecademy.com/Courses/Intermediate-Python/Symmetric%20Difference.svg)\n",
    "\n",
    "\n",
    "Here is what the symmetric difference looks like in Python:"
   ]
  },
  {
   "cell_type": "code",
   "execution_count": null,
   "metadata": {},
   "outputs": [],
   "source": [
    "# Given a set and frozenset of song tags for two python related hits\n",
    "prepare_to_py = {'rock', 'heavy metal', 'electric guitar', 'synth'}\n",
    " \n",
    "py_and_dry = frozenset({'classic', 'rock', 'electric guitar', 'rock and roll'})\n",
    " \n",
    "# Find the elements which are exclusive to each song and not shared using the method\n",
    "exclusive_tags = prepare_to_py.symmetric_difference(py_and_dry)\n",
    "print(exclusive_tags)"
   ]
  },
  {
   "cell_type": "markdown",
   "metadata": {},
   "source": [
    "Would output:"
   ]
  },
  {
   "cell_type": "code",
   "execution_count": null,
   "metadata": {},
   "outputs": [],
   "source": [
    "{'heavy metal', 'synth', 'rock and roll', 'classic'}"
   ]
  },
  {
   "cell_type": "markdown",
   "metadata": {},
   "source": [
    "Alternatively, we can use the ^ operator:"
   ]
  },
  {
   "cell_type": "code",
   "execution_count": null,
   "metadata": {},
   "outputs": [],
   "source": [
    "# Find the elements which are exclusive to each song and not shared using the operator\n",
    "frozen_exclusive_tags = py_and_dry ^ prepare_to_py\n",
    "print(frozen_exclusive_tags)"
   ]
  },
  {
   "cell_type": "markdown",
   "metadata": {},
   "source": [
    "Would output:"
   ]
  },
  {
   "cell_type": "code",
   "execution_count": null,
   "metadata": {},
   "outputs": [],
   "source": [
    "frozenset({'synth', 'rock and roll', 'heavy metal', 'classic'})"
   ]
  },
  {
   "cell_type": "markdown",
   "metadata": {},
   "source": [
    "We can also update the original set using this operation by using the .symmetric_difference_update() method to update the original set with the result instead of returning a new set or frozenset object.\n",
    "\n",
    "Let’s create a symmetric difference in our music application!"
   ]
  },
  {
   "cell_type": "markdown",
   "metadata": {},
   "source": [
    "## Instructions\n",
    "### 1. The users of our app would like to be able to see which tags are unique between them and their friends. This means that the tags which are not shared between the user and their friend are shown. In order to find this, we can use the symmetric difference.\n",
    "\n",
    "First, create a set called user_tags.\n",
    "\n",
    "Use a loop to populate the set to contain all of the tags from the songs in user_song_history.\n",
    "\n",
    "\n",
    "<b>Hint</b><br>\n",
    "To accomplish this, you can use a loop to extract the list of tags from each song, convert it to a set and update the user_tags with it.\n",
    "\n",
    "### 2. Next, repeat the same logic in order to collect all of the tags from the friend_song_history and store it in a set called friend_tags.\n",
    "\n",
    "\n",
    "<b>Hint</b><br>\n",
    "To accomplish this, you can use a loop to extract the list of tags from each song, convert it to a set and update the friend_tags with it.\n",
    "\n",
    "### 3. Finally, find the unique tags by getting the symmetric difference between user_tags and friend_tags.\n",
    "\n",
    "Store the result in a set called unique_tags and then print it!\n",
    "\n",
    "\n",
    "<b>Hint</b><br>\n",
    "You can find the symmetric difference using the .symmetric_difference() method or the ^ operator."
   ]
  },
  {
   "cell_type": "code",
   "execution_count": null,
   "metadata": {},
   "outputs": [],
   "source": [
    "user_song_history = {'Retro Words': ['pop', 'warm', 'happy', 'electronic', 'synth'],\n",
    "                     'Stomping Cue': ['country', 'fiddle', 'party'],\n",
    "                     'Back To Art': ['pop', 'sad', 'emotional', 'relationship'],\n",
    "                     'Double Lights': ['electronic', 'chill', 'relaxing', 'piano', 'synth']}\n",
    "\n",
    "friend_song_history = {'Lowkey Space': ['electronic', 'dance', 'synth', 'upbeat'],\n",
    "                     'Blinding Era': ['rap', 'intense', 'moving', 'fast'],\n",
    "                     'Wait For Limit': ['rap', 'upbeat', 'romance', 'relationship'],\n",
    "                     'Double Lights': ['electronic', 'chill', 'relaxing', 'piano', 'synth']}\n",
    "\n",
    "# Write your code below!\n",
    "user_tags = set()\n",
    "for key, val in user_song_history.items():\n",
    "  user_tags.update(set(val))\n",
    "\n",
    "friend_tags = set()\n",
    "for key, val in friend_song_history.items():\n",
    "  friend_tags.update(set(val)) \n",
    "\n",
    "unique_tags = user_tags.symmetric_difference(friend_tags)\n",
    "print(unique_tags)"
   ]
  },
  {
   "cell_type": "markdown",
   "metadata": {},
   "source": [
    "# Sets Review\n",
    "Great Job! You have learned about the many of the different ways to work with set and frozenset containers! We looked at:\n",
    "\n",
    "Creating a set or frozenset:\n",
    "\n",
    "- For set containers, we can use curly braces {}, the set() constructor, or set comprehension.\n",
    "- For frozenset containers, we can only use the frozenset() constructor.\n",
    "\n",
    "\n",
    "Adding items to a set:\n",
    "\n",
    "\n",
    "- We can add items to a set individually using the .add() method.\n",
    "- We can add multiple items at once using the .update() method.\n",
    "\n",
    "\n",
    "Removing items from a set:\n",
    "\n",
    "\n",
    "- The .remove() method is used to remove elements from a set.\n",
    "- The .discard() method can also be used to remove elements from a set. It does not throw a KeyError if the element is not found.\n",
    "\n",
    "\n",
    "Finding Elements:\n",
    "\n",
    " \n",
    "- The in keyword can be used with set and frozenset containers to test if an element exists inside of them.\n",
    "Union:\n",
    "\n",
    "- A union can be found using set or frozenset containers with the .union() method or | operator.\n",
    "\n",
    "\n",
    "Intersection:\n",
    "\n",
    "- An intersection can be found using set or frozenset containers with the .intersection() method or & operator.\n",
    "\n",
    "\n",
    "Difference:\n",
    "\n",
    "\n",
    "- The difference can be found using set or frozenset containers with the .difference() method or - operator.\n",
    "\n",
    "\n",
    "Symmetric Difference:\n",
    "\n",
    "- The symmetric difference can be found using set or frozenset containers with the .symmetric_difference() method or ^ operator.\n",
    "Want to learn more about sets? Check out everything about sets including additional methods, testing for superclass and subclasses, and more from the Python documentation."
   ]
  },
  {
   "cell_type": "code",
   "execution_count": null,
   "metadata": {},
   "outputs": [],
   "source": [
    "music_tags = {'pop', 'warm', 'happy', 'electronic', 'synth', 'dance', 'upbeat'}\n",
    "\n",
    "# Write your code below!\n",
    "my_tags = frozenset(['pop', 'electronic', 'relaxing', 'slow', 'synth'])\n",
    "\n",
    "frozen_tag_union = my_tags | music_tags\n",
    "print(frozen_tag_union)\n",
    "\n",
    "regular_tag_intersect = music_tags.intersection(my_tags)\n",
    "print(regular_tag_intersect)\n",
    "\n",
    "frozen_tag_difference = my_tags.difference(music_tags)\n",
    "print(frozen_tag_difference)\n",
    "\n",
    "regular_tag_sd = music_tags.symmetric_difference(my_tags)\n",
    "print(regular_tag_sd)"
   ]
  }
 ],
 "metadata": {
  "interpreter": {
   "hash": "126de395fc5ab05c9b404d5156ac230f2dc2d73638f7037ba66d30fa539ce6ef"
  },
  "kernelspec": {
   "display_name": "Python 3.10.1 64-bit",
   "language": "python",
   "name": "python3"
  },
  "language_info": {
   "codemirror_mode": {
    "name": "ipython",
    "version": 3
   },
   "file_extension": ".py",
   "mimetype": "text/x-python",
   "name": "python",
   "nbconvert_exporter": "python",
   "pygments_lexer": "ipython3",
   "version": "3.10.1"
  },
  "orig_nbformat": 4
 },
 "nbformat": 4,
 "nbformat_minor": 2
}
