{
 "cells": [
  {
   "cell_type": "markdown",
   "metadata": {},
   "source": [
    "# SCOPE\n",
    "## Introduction to Scope\n",
    "Recall, in Python, namespaces are the backbone of how our programs are stored and retrieved. However, knowing about namespace mechanism isn’t enough to explain the following behavior:"
   ]
  },
  {
   "cell_type": "code",
   "execution_count": null,
   "metadata": {},
   "outputs": [],
   "source": [
    "def printColor():\n",
    "  color = 'red'\n",
    " \n",
    "print(color)"
   ]
  },
  {
   "cell_type": "markdown",
   "metadata": {},
   "source": [
    "If we run this code, our output would give us:"
   ]
  },
  {
   "cell_type": "code",
   "execution_count": null,
   "metadata": {},
   "outputs": [],
   "source": [
    "NameError: name 'color' is not defined"
   ]
  },
  {
   "cell_type": "markdown",
   "metadata": {},
   "source": [
    "Well, that’s puzzling. We can see that there clearly exists a name called color, and we know anytime we define a variable it gets added to a namespace, yet we can’t seem to access it! What gives?\n",
    "\n",
    "Well, this is where a concept called scope comes into play. Scope defines which namespaces our program will look into (to check names) and in what order. While multiple namespaces usually exist at once, this does not mean we can access all of them in different parts of our program! Exploring the concept of scope will allow us to start recognizing when and where certain objects may or may not be accessed.\n",
    "\n",
    "Similar to namespaces, there are four different levels of scope. These levels are:\n",
    "\n",
    "1. Built-in Scope (We will skip talking about this scope)\n",
    "2. Global Scope\n",
    "3. Enclosing Scope\n",
    "4. Local Scope\n",
    "Those four scope names should look very familiar since those are also the four namespaces we talked about! Each of these scopes has a different level of access to the namespaces our programs generate. In the next few exercises, we will examine each of these scopes.\n",
    "\n",
    "Note: As we explore the ideas around scope, there may be some confusion between what distinguishes the concept of scope and namespaces. While both concepts are interlinked and work together, namespaces are simply the mechanism for storing name-object pairs, while scope will serve as a rule system on where (which point in our code) we can retrieve those names.\n",
    "\n",
    "Instructions\n",
    "Take some time to review the structure of the scope in Python. Note any similarities you notice compared to the namespace structure that was covered in the previous lesson."
   ]
  },
  {
   "cell_type": "markdown",
   "metadata": {},
   "source": [
    "## Local Scope\n",
    "Let’s return to our puzzling example from the previous exercise:"
   ]
  },
  {
   "cell_type": "code",
   "execution_count": null,
   "metadata": {},
   "outputs": [],
   "source": [
    "def favorite_color(): \n",
    "  color = 'Red'\n",
    " \n",
    "print(color) "
   ]
  },
  {
   "cell_type": "markdown",
   "metadata": {},
   "source": [
    "Whenever we decide to call a function, a new local scope will be generated. Each subsequent function call will generate a new local scope. Since the local scope is the deepest level of the four scopes, names in a local scope cannot be accessed or modified by any code called in outer scopes. As a rule of thumb, any names created in a local namespace are usually also locally scoped.\n",
    "\n",
    "In this case, the name of color is scoped locally to the function favorite_color(). Since the statement print(color) is called outside of the function, it has no access to the local scope (and thus the local namespace) inside of favorite_color() and returns an error.\n",
    "\n",
    "However, if we were to refactor our code:"
   ]
  },
  {
   "cell_type": "code",
   "execution_count": 1,
   "metadata": {},
   "outputs": [
    {
     "name": "stdout",
     "output_type": "stream",
     "text": [
      "Red\n"
     ]
    }
   ],
   "source": [
    "def favorite_color(): \n",
    "  color = 'Red'\n",
    "  print(color) \n",
    " \n",
    "favorite_color()"
   ]
  },
  {
   "cell_type": "markdown",
   "metadata": {},
   "source": [
    "Then, we wouldn’t have trouble accessing the name of color since now the print() function is scoped locally, and our output would return 'Red'.\n",
    "\n",
    "Let’s take some time to practice the basics of local scope!\n",
    "\n",
    "Instructions\n",
    "#### 1. Our close friend Jiho wants to start a painting business. In order to help, we have created a small painting application that will print out the required colors for a specific painting.\n",
    "\n",
    "Take some time to examine the code provided, and run it to see an error come up! Why are we getting a NameError?\n",
    "\n",
    "\n",
    "<B>Hint</B><BR>\n",
    "The NameError occurs because we are trying to access a variable (painting_statement) that is locally scoped to the painting() function.\n",
    "\n",
    "We can always double-check the local scope by using the handy locals() built-in function to see the local namespace.\n",
    "\n",
    "#### 2. Let’s fix the scoping error by moving the print statement right above the for loop defined in the painting() function. This will put the function call in the correct local scope to be able to access painting_statement.\n",
    "\n",
    "\n",
    "<B>Hint</B><BR>\n",
    "The expected output is:"
   ]
  },
  {
   "cell_type": "code",
   "execution_count": null,
   "metadata": {},
   "outputs": [],
   "source": [
    "To paint the Indian Flag we need the following colors: \n",
    "Orange\n",
    "White\n",
    "Green"
   ]
  },
  {
   "cell_type": "code",
   "execution_count": null,
   "metadata": {},
   "outputs": [],
   "source": [
    "def painting(paint_colors, picture):\n",
    "  painting_statement = \"To paint the \" + picture + \" we need the following colors: \"\n",
    "  print(painting_statement)\n",
    "  for color in paint_colors:\n",
    "      print(color)\n",
    "\n",
    "painting(['Orange', 'White', 'Green'], 'Indian Flag')"
   ]
  },
  {
   "cell_type": "markdown",
   "metadata": {},
   "source": [
    "## Enclosing/Nonlocal Scope\n",
    "Similar to how nested functions form a unique namespace within their enclosing functions (the enclosing namespace), there also exist special rules that apply for accessing nested values. These rules make up the enclosing scope (also known as nonlocal scope). Let’s take a look at a nested function to see the scope in action:"
   ]
  },
  {
   "cell_type": "code",
   "execution_count": null,
   "metadata": {},
   "outputs": [],
   "source": [
    "def outer_function():\n",
    "  enclosing_value = 'Enclosing Value'\n",
    " \n",
    "  def nested_function():\n",
    "    nested_value = 'Nested Value'\n",
    "    print(enclosing_value)\n",
    " \n",
    "  nested_function()\n",
    " \n",
    "outer_function()"
   ]
  },
  {
   "cell_type": "markdown",
   "metadata": {},
   "source": [
    "Our output would be:\n",
    "\n"
   ]
  },
  {
   "cell_type": "code",
   "execution_count": null,
   "metadata": {},
   "outputs": [],
   "source": [
    "Enclosing Value"
   ]
  },
  {
   "cell_type": "markdown",
   "metadata": {},
   "source": [
    "Enclosing scope allows any value defined in an enclosing function to be accessed in nested functions below it. We can observe this scope since nested_function() can access a variable defined one level above in the enclosing function (outer_function()).\n",
    "\n",
    "We can also observe this scoping rule further if we nested a function one level deeper:"
   ]
  },
  {
   "cell_type": "code",
   "execution_count": null,
   "metadata": {},
   "outputs": [],
   "source": [
    "def outer_function():\n",
    "  enclosing_value = 'Enclosing Value'\n",
    " \n",
    "  def nested_function():\n",
    "    nested_value = 'Nested Value'\n",
    " \n",
    "    def second_nested():\n",
    "       print(enclosing_value)\n",
    "       print(nested_value)\n",
    " \n",
    "     second_nested() \n",
    " \n",
    "  nested_function()\n",
    " \n",
    "outer_function()"
   ]
  },
  {
   "cell_type": "markdown",
   "metadata": {},
   "source": [
    "Would output:"
   ]
  },
  {
   "cell_type": "code",
   "execution_count": null,
   "metadata": {},
   "outputs": [],
   "source": [
    "Enclosing Value\n",
    "Nested Value"
   ]
  },
  {
   "cell_type": "markdown",
   "metadata": {},
   "source": [
    "There are two caveats to be aware of with enclosing scope:\n",
    "\n",
    "- The flow of scope access only flows upwards. This means that the deepest level has access to every enclosing namespace above it, but not the other way around. For example, if we tried to access nested_value from one level above where it was defined:"
   ]
  },
  {
   "cell_type": "code",
   "execution_count": null,
   "metadata": {},
   "outputs": [],
   "source": [
    "def outer_function():\n",
    "  enclosing_value = 'Enclosing Value'\n",
    "  print(nested_value)\n",
    " \n",
    "  def nested_function():\n",
    "    nested_value = 'Nested Value'\n",
    " \n",
    "  nested_function()\n",
    " \n",
    "outer_function()"
   ]
  },
  {
   "cell_type": "markdown",
   "metadata": {},
   "source": [
    "The program would produce an error:"
   ]
  },
  {
   "cell_type": "code",
   "execution_count": null,
   "metadata": {},
   "outputs": [],
   "source": [
    "NameError: name 'nested_value' is not defined"
   ]
  },
  {
   "cell_type": "markdown",
   "metadata": {},
   "source": [
    "- Immutable objects, such as strings or numbers, can be accessed in nested functions, but cannot be modified. Let’s try to change enclosing_value to see this restriction in action:"
   ]
  },
  {
   "cell_type": "code",
   "execution_count": null,
   "metadata": {},
   "outputs": [],
   "source": [
    "def outer_function():\n",
    "  enclosing_value = 'Enclosing Value'\n",
    " \n",
    "  def nested_function():\n",
    "    enclosing_value += 'changed'\n",
    " \n",
    "  nested_function()\n",
    "  print(enclosing_value)\n",
    " \n",
    "outer_function()"
   ]
  },
  {
   "cell_type": "markdown",
   "metadata": {},
   "source": [
    "Would output:"
   ]
  },
  {
   "cell_type": "code",
   "execution_count": null,
   "metadata": {},
   "outputs": [],
   "source": [
    "UnboundLocalError: local variable 'enclosing_value' referenced before assignment"
   ]
  },
  {
   "cell_type": "markdown",
   "metadata": {},
   "source": [
    "Let’s now practice accessing values in the enclosing scope!\n",
    "\n",
    "Instructions\n",
    "#### 1. A new addition to our painting application that we are building for Jiho will be a function that calculates the amount of paint needed to cover a surface.\n",
    "\n",
    "Typically, a gallon of paint can cover about 400 square feet. Using that knowledge, we can use the width and height of a surface to determine how much paint is needed!\n",
    "\n",
    "Throughout these exercises we will use nested functions to add more utility to the calc_paint_amount() function. Remember, this now makes calc_paint_amount() an enclosing function.\n",
    "\n",
    "Run the code to move to the next exercise.\n",
    "\n",
    "#### 2. First inside of calc_paint_amount():\n",
    "\n",
    "Define a nested function called calc_gallons() that has no parameters.\n",
    "Then inside of calc_gallons(), use enclosing scope to access the variable square_feet from the calc_gallons() function.\n",
    "\n",
    "Return the result of square_feet divided by 400.\n",
    "\n",
    "<b>Hint</b><br>\n",
    "Don’t forget to define the function using def and to indent the function definition inside of calc_paint_amount().\n",
    "\n",
    "You can return the number of gallons using: return square_feet / 400 inside of the calc_gallons() function.\n",
    "\n",
    "#### 3. Finally, in the calc_paint_amount() function, call the calc_gallons() function and return the result. Run the code and take a look at the result!\n",
    "\n",
    "\n",
    "<b>Hint</b><br>\n",
    "Call calc_gallons() inside of the calc_paint_amount() function, after calc_gallons() has been defined. Make sure it is indented at the same level as the function definition of calc_gallons()."
   ]
  },
  {
   "cell_type": "code",
   "execution_count": null,
   "metadata": {},
   "outputs": [],
   "source": [
    "def calc_paint_amount(width, height):\n",
    "\n",
    "  square_feet = width * height\n",
    "\n",
    "  # Checkpoint #2\n",
    "  def calc_gallons():\n",
    "      return square_feet / 400\n",
    "\n",
    "  # Checkpoint #3\n",
    "  return calc_gallons()\n",
    "\n",
    "print('Number of paint gallons needed: ')\n",
    "print(str(calc_paint_amount(30,20)))"
   ]
  },
  {
   "cell_type": "markdown",
   "metadata": {},
   "source": [
    "## Modifying Scope Behavior: nonlocal Statement\n",
    "We just witnessed that we can access names from the enclosing scope with nested functions, but we cannot modify them. Python does however provide a way for us to modify names in the enclosing scope, by using the nonlocal statement.\n",
    "\n",
    "Given the following enclosing and nested function, there is a variable defined in the enclosing scope, which is not modifiable from within the nested function."
   ]
  },
  {
   "cell_type": "code",
   "execution_count": null,
   "metadata": {},
   "outputs": [],
   "source": [
    "def enclosing_function():\n",
    "  var = \"value\"\n",
    " \n",
    "  def nested_function():\n",
    "    var = \"new_value\"\n",
    " \n",
    "  nested_function()\n",
    " \n",
    "  print(var)\n",
    " \n",
    "enclosing_function()"
   ]
  },
  {
   "cell_type": "markdown",
   "metadata": {},
   "source": [
    "The output would be:"
   ]
  },
  {
   "cell_type": "code",
   "execution_count": null,
   "metadata": {},
   "outputs": [],
   "source": [
    "value"
   ]
  },
  {
   "cell_type": "markdown",
   "metadata": {},
   "source": [
    "as the value of var was not modified by the nested function. After using the nonlocal statement, the variable is now modifiable from the local scope."
   ]
  },
  {
   "cell_type": "code",
   "execution_count": null,
   "metadata": {},
   "outputs": [],
   "source": [
    "def enclosing_function():\n",
    "  var = \"value\"\n",
    " \n",
    "  def nested_function():\n",
    "    nonlocal var\n",
    "    var = \"new_value\"\n",
    " \n",
    "  nested_function()\n",
    "  print(var)\n",
    " \n",
    "enclosing_function()"
   ]
  },
  {
   "cell_type": "markdown",
   "metadata": {},
   "source": [
    "The output would now be:"
   ]
  },
  {
   "cell_type": "code",
   "execution_count": null,
   "metadata": {},
   "outputs": [],
   "source": [
    "new_value"
   ]
  },
  {
   "cell_type": "markdown",
   "metadata": {},
   "source": [
    "Let’s practice modifying variables in a nested context in our painting application for Jiho!"
   ]
  },
  {
   "cell_type": "markdown",
   "metadata": {},
   "source": [
    "#### 1. The users of our applications have requested that we add a way of calculating the amount of paint needed for multiple rooms. To accomplish this the function calc_paint_amount() now accepts a single parameter wall_measurements which should be a list of tuples containing the width and height of each wall.\n",
    "\n",
    "The nested function calc_square_feet() has been added to iterate through the list and add up the square footage. This function is then called within calc_paint_amount().\n",
    "\n",
    "Run the code and notice the UnboundLocalError regarding the variable square_feet. Move to the next task to fix this.\n",
    "\n",
    "#### 2. Since we need to modify square_feet in an enclosing scope, make sure to mark the variable as nonlocal in the appropriate place.\n",
    "\n",
    "\n",
    "<B>Hint</b><br>\n",
    "Apply nonlocal to square_feet at the top of calc_square_feet()."
   ]
  },
  {
   "cell_type": "code",
   "execution_count": null,
   "metadata": {},
   "outputs": [],
   "source": [
    "walls = [(20, 9), (25, 9), (20, 9), (25, 9)]\n",
    "\n",
    "\n",
    "def calc_paint_amount(wall_measurements):\n",
    "\n",
    "  square_feet = 0\n",
    "\n",
    "  def calc_square_feet():\n",
    "    nonlocal square_feet\n",
    "    for width, height in wall_measurements:\n",
    "      square_feet += width * height\n",
    "\n",
    "  def calc_gallons():\n",
    "    return square_feet / 400\n",
    "\n",
    "  calc_square_feet()\n",
    "\n",
    "  return calc_gallons()\n",
    "\n",
    "\n",
    "print('Number of paint gallons needed: ')\n",
    "print(str(calc_paint_amount(walls)))"
   ]
  },
  {
   "cell_type": "markdown",
   "metadata": {},
   "source": [
    "##  Global Scope\n",
    "At the highest level of access, we have the global scope. Names defined in the global namespace will automatically be globally scoped and can be accessed anywhere in our program.\n",
    "\n",
    "For example:"
   ]
  },
  {
   "cell_type": "code",
   "execution_count": null,
   "metadata": {},
   "outputs": [],
   "source": [
    "# global scope variable\n",
    "gravity = 9.8\n",
    " \n",
    "def get_force(mass):\n",
    "  return mass * gravity\n",
    " \n",
    "print(get_force(60))"
   ]
  },
  {
   "cell_type": "markdown",
   "metadata": {},
   "source": [
    "Would output:"
   ]
  },
  {
   "cell_type": "code",
   "execution_count": null,
   "metadata": {},
   "outputs": [],
   "source": [
    "588.0"
   ]
  },
  {
   "cell_type": "markdown",
   "metadata": {},
   "source": [
    "However, similar to local scope, values can only be accessed but not modified. For example, if we tried to manipulate the value of \n",
    "\n",
    "gravity:"
   ]
  },
  {
   "cell_type": "code",
   "execution_count": null,
   "metadata": {},
   "outputs": [],
   "source": [
    "# global scope variable\n",
    "gravity = 9.8\n",
    " \n",
    "def get_force(mass):\n",
    "  gravity += 100\n",
    "  return mass * gravity\n",
    " \n",
    "print(get_force(60))"
   ]
  },
  {
   "cell_type": "markdown",
   "metadata": {},
   "source": [
    "Would output:"
   ]
  },
  {
   "cell_type": "code",
   "execution_count": null,
   "metadata": {},
   "outputs": [],
   "source": [
    "UnboundLocalError: local variable 'gravity' referenced before assignment"
   ]
  },
  {
   "cell_type": "markdown",
   "metadata": {},
   "source": [
    "We probably shouldn’t be manipulating gravity anyway! Let’s practice accessing values in the global scope to get a hang of it.\n",
    "\n",
    "Instructions\n",
    "#### 1. Take a look at the two functions defined. One function named print_available() prints the number of gallons we have available for a specific color. The other function named print_all_colors_available() simply prints all available colors!\n",
    "\n",
    "Ponder what might happen when we run the script and then run it to find out!\n",
    "\n",
    "\n",
    "<b>Hint</b><br>\n",
    "What scope does paint_gallons_available have? Will its scope cause any issues?\n",
    "\n",
    "#### 2. Whoops! Looks like we have an error with accessing paint_gallons_available in our print_all_colors_available() function. This is because the dictionary is locally scoped.\n",
    "\n",
    "Fix the issue by moving paint_gallons_available into the global scope.\n",
    "\n",
    "\n",
    "<b>Hint</b><br>\n",
    "To make paint_gallons_available a global variable, you need to move it outside of all other functions. You can place it at the top of your code with no indention."
   ]
  },
  {
   "cell_type": "code",
   "execution_count": null,
   "metadata": {},
   "outputs": [],
   "source": [
    "paint_gallons_available = {\n",
    "    'red': 50,\n",
    "    'blue': 72,\n",
    "    'green': 99,\n",
    "    'yellow': 33\n",
    "}\n",
    "\n",
    "def print_available(color):\n",
    "  \n",
    "  print('There are ' + str(paint_gallons_available[color]) + ' gallons available of ' + color + ' paint.')\n",
    "\n",
    "\n",
    "def print_all_colors_available():\n",
    "  for color in paint_gallons_available:\n",
    "    print(color)\n",
    "\n",
    "print_available('red')\n",
    "print_all_colors_available()\n",
    "  "
   ]
  },
  {
   "cell_type": "markdown",
   "metadata": {},
   "source": [
    "## Modifying Scope Behavior: global Statement\n",
    "Sometimes, we want to modify a global name from within a local scope. How do we go about doing this?"
   ]
  },
  {
   "cell_type": "code",
   "execution_count": null,
   "metadata": {},
   "outputs": [],
   "source": [
    "global_var = 10\n",
    " \n",
    "def some_function():\n",
    "  global_var = 20\n",
    " \n",
    "some_function()\n",
    " \n",
    "print(global_var)"
   ]
  },
  {
   "cell_type": "markdown",
   "metadata": {},
   "source": [
    "The output would be:"
   ]
  },
  {
   "cell_type": "code",
   "execution_count": null,
   "metadata": {},
   "outputs": [],
   "source": [
    "10"
   ]
  },
  {
   "cell_type": "markdown",
   "metadata": {},
   "source": [
    "In the above example, the value of global_var remains 10 because global_var = 20 is in a local scope.\n",
    "\n",
    "Similar to the nonlocal statement, Python provides the global statement to allow the modification of global names from a local scope."
   ]
  },
  {
   "cell_type": "code",
   "execution_count": null,
   "metadata": {},
   "outputs": [],
   "source": [
    "global_var = 10\n",
    " \n",
    "def some_function():\n",
    "  global global_var\n",
    "  global_var = 20\n",
    " \n",
    "some_function()\n",
    " \n",
    "print(global_var)"
   ]
  },
  {
   "cell_type": "markdown",
   "metadata": {},
   "source": [
    "The output would now be:\n",
    "\n"
   ]
  },
  {
   "cell_type": "code",
   "execution_count": null,
   "metadata": {},
   "outputs": [],
   "source": [
    "20"
   ]
  },
  {
   "cell_type": "markdown",
   "metadata": {},
   "source": [
    "In addition, the global statement can be used even if the name has not been defined in the global namespace. Using the global statement would create the new variable in the global namespace."
   ]
  },
  {
   "cell_type": "code",
   "execution_count": null,
   "metadata": {},
   "outputs": [],
   "source": [
    "def some_function():\n",
    "  global x\n",
    "  x = 30\n",
    " \n",
    "some_function()\n",
    "print(x)"
   ]
  },
  {
   "cell_type": "markdown",
   "metadata": {},
   "source": [
    "This would output:"
   ]
  },
  {
   "cell_type": "code",
   "execution_count": null,
   "metadata": {},
   "outputs": [],
   "source": [
    "30"
   ]
  },
  {
   "cell_type": "markdown",
   "metadata": {},
   "source": [
    "In summary, the global keyword is used within a local scope to associate a variable name with a name in the global namespace. This association is only valid within the local scope global is used.\n",
    "\n",
    "Instructions\n",
    "#### 1. This exercise starts the same as the last with paint_gallons_available declared inside the local scope of the function, print_available(). The difference now is that paint_gallons_available is now being accessed by a for loop in the global scope. This will result in an error.\n",
    "\n",
    "Run the code to confirm the NameError on paint_gallons_available.\n",
    "\n",
    "#### 2. Associate the paint_gallons_available declaration to the global namespace by adding a line to the top of the print_available() function.\n",
    "\n",
    "This will allow paint_gallons_available to be used within the global scope and no NameError will occur.\n",
    "\n",
    "\n",
    "<b>Hint</b><br>\n",
    "Use the global keyword with paint_gallons_available in the first line of print_available()."
   ]
  },
  {
   "cell_type": "code",
   "execution_count": null,
   "metadata": {},
   "outputs": [],
   "source": [
    "def print_available(color):\n",
    "  global paint_gallons_available\n",
    "  paint_gallons_available = {\n",
    "    'red': 50,\n",
    "    'blue': 72,\n",
    "    'green': 99,\n",
    "    'yellow': 33\n",
    "  }\n",
    "  print('There are ' + str(paint_gallons_available[color]) + ' gallons available of ' + color + ' paint.')\n",
    "\n",
    "print_available('red')\n",
    "for color in paint_gallons_available:\n",
    "  print(color)"
   ]
  },
  {
   "cell_type": "markdown",
   "metadata": {},
   "source": [
    "## Scope Resolution: The LEGB Rule\n",
    "While most of our focus so far has been around where we can access namespaces, to truly get a full picture of scoping rules, we must also examine how Python handles scope resolution.\n",
    "\n",
    "Scope resolution is a term used to describe a search procedure for a name in the various namespaces. A set of rules dictates the order that the search needs to follow.\n",
    "\n",
    "In Python, the unofficial rule (often referred to in literature but does not exist in the official documentation) is known as the LEGB rule.\n",
    "\n",
    "LEGB stands for Local, Enclosing, Global, and Built-in. These four letters represent the order of namespaces Python will check to see if a name exists. Here is a visualization of the order:\n",
    "\n",
    "LEGB Rule\n",
    "\n",
    "To see this rule in action, let’s take a look at two specific scenarios where Python is searching for a name. The first scenario is a nested function that wants to print a variable called age:"
   ]
  },
  {
   "cell_type": "code",
   "execution_count": null,
   "metadata": {},
   "outputs": [],
   "source": [
    "age = 27 \n",
    " \n",
    "def func(): \n",
    " \n",
    "  def inner_func():\n",
    "    print(age)\n",
    "  inner_func()\n",
    " \n",
    "func()"
   ]
  },
  {
   "cell_type": "markdown",
   "metadata": {},
   "source": [
    "Would output:"
   ]
  },
  {
   "cell_type": "code",
   "execution_count": null,
   "metadata": {},
   "outputs": [],
   "source": [
    "27"
   ]
  },
  {
   "cell_type": "markdown",
   "metadata": {},
   "source": [
    "So what exactly happened here in terms of scope resolution? It went a bit like this:\n",
    "\n",
    "- First, Python looked in the local (The L of LEGB) scope that existed inside of inner_func(). This is the lowest level of the LEGB rule and thus where Python starts the search for a name that is trying to be called (in this case via a print()). Python then realized the name of age isn’t in the local namespace and continues the search to the upper levels of scope.\n",
    "\n",
    "- The second level Python examined is the enclosing scope (The E of LEGB) of func(). Unfortunately, again the name of age doesn’t exist in the enclosing namespace, and Python moves upwards to higher scopes.\n",
    "\n",
    "- Next, Python arrives at the global scope and finds the name of age in the global namespace. The search is finished, and the result is returned.\n",
    "\n",
    "This process of scope resolution is crucial to understanding how programs are able to access names in different scopes. Keep in mind the order that Python searches always start at the lowest level (the local level) and always flows upward to the higher scopes.\n",
    "\n",
    "The second scenario to examine is seeing what happens when we have two of the same name in different namespaces.\n",
    "\n",
    "Let’s examine the same script but with a slight modification that creates a second name called age in a different namespace. Here is what it looks like:"
   ]
  },
  {
   "cell_type": "code",
   "execution_count": null,
   "metadata": {},
   "outputs": [],
   "source": [
    "age = 27 \n",
    " \n",
    "def func(): \n",
    "  age = 42\n",
    " \n",
    "  def inner_func():\n",
    "    print(age)\n",
    " \n",
    "  inner_func() \n",
    " \n",
    "func()"
   ]
  },
  {
   "cell_type": "markdown",
   "metadata": {},
   "source": [
    "Here the output will be 42 because Python could find a name (age) in the enclosing scope and did not continue to search for the value up into the global scope. If Python cannot find a name in any of the four scopes it searches, it will return a NameError exception.\n",
    "\n",
    "Instructions\n",
    "#### 1. Using the LEGB rule, we are going to try and correct this function to behave how we expect it to. It should replace the color with a new provided color and print out the old and new colors. Try running the code to see what the first issue is.\n",
    "\n",
    "#### 2. The LEGB rule starts with “Local”. Let’s take a look at any local variable issues that we could be running into. Looking at each of the local variables, we can see that to_update is local to the function disp_color(), but we attempt to access it from change_color().\n",
    "\n",
    "Move the initialization of to_update so that the scope is local to change_color(). Try running the code now and see what happens.\n",
    "\n",
    "\n",
    "<b>Hint</b><br>\n",
    "Place the line to_update = new_color inside of change_color before the line color = to_update.\n",
    "\n",
    "#### 3. Now we are not getting any errors, but the output is not correct. There doesn’t seem to be any encompassing scope issues, but there is an issue with the global variable color.\n",
    "\n",
    "We are using the global keyword to allow color to be modified in order to print the new color. If we look at the order of operations, we modify the global variable before calling disp_color().\n",
    "\n",
    "To fix this, move the change to the variable color to after disp_color() is called but before the new color is output.\n",
    "\n",
    "Run the code and see that happens!\n",
    "\n",
    "\n",
    "<b>Hint</b><br>\n",
    "Make sure to move the definition of disp_color() and the call to it both before the line color = to_update."
   ]
  },
  {
   "cell_type": "code",
   "execution_count": null,
   "metadata": {},
   "outputs": [],
   "source": [
    "color = 'green'\n",
    "\n",
    "def change_color(new_color):\n",
    "  global color\n",
    "  # Checkpoint #2\n",
    "  to_update = new_color\n",
    "  \n",
    "  def disp_color():\n",
    "    print('The original color was: ' + color)\n",
    "\n",
    "  disp_color()\n",
    "  # Checkpoint #3\n",
    "  color = to_update\n",
    "  print('The new color is: ' + color)\n",
    "\n",
    "change_color('blue')"
   ]
  },
  {
   "cell_type": "markdown",
   "metadata": {},
   "source": [
    "## Review\n",
    "Great job! You’ve learned some important concepts in Python regarding scope.\n",
    "\n",
    "In this lesson, we’ve covered:\n",
    "\n",
    "- The concept of scope and the LEGB rule.\n",
    "- What the local scope is.\n",
    "- What a nested function is and the enclosing/nonlocal scope.\n",
    "- What the global scope is.\n",
    "- How to modify behavior using the global statement.\n",
    "- How to modify behavior using the nonlocal statement.\n",
    "Knowing these concepts allows for a stronger mastery of Python when working with names in programs and taking into consideration what parts of the programs they can be accessed or modified.\n",
    "\n",
    "Keep up the great work!\n",
    "\n",
    "Instructions\n",
    "#### 1. The code in the workspace declares function1 which has a nested function function2. Within each function body variables are declared and the global and nonlocal keywords are used.\n",
    "\n",
    "Inside the function2 body the globals() and locals() namespaces are printed.\n",
    "\n",
    "Before you run the code, can you guess which namespace each variable will be in?\n",
    "\n",
    "\n",
    "<b>Hint</b><br>\n",
    "Both var1 and var3 are associated with the global namespace before they are declared so they can be accessed within the global scope.\n",
    "\n",
    "var2 uses the nonlocal keyword, is in the local namespace, and is accessible within the local scope of function1."
   ]
  },
  {
   "cell_type": "code",
   "execution_count": null,
   "metadata": {},
   "outputs": [],
   "source": [
    "# Outer function\n",
    "def function1():\n",
    "  global var1\n",
    "  var1 = 1\n",
    "  var2 = 2\n",
    "  # Inner function\n",
    "  def function2():\n",
    "    nonlocal var2\n",
    "    global var3\n",
    "    var2 += 1\n",
    "    var3 = 3\n",
    "    print(globals())\n",
    "    print(locals())\n",
    "  \n",
    "  # Call inner function\n",
    "  function2()\n",
    "\n",
    "# Call outer function\n",
    "function1()\n"
   ]
  }
 ],
 "metadata": {
  "interpreter": {
   "hash": "79435cfcbd76b1528bba00a84eb046d19295a161f953d7f2d2d8d04ffa2592c8"
  },
  "kernelspec": {
   "display_name": "Python 3.10.0 64-bit (windows store)",
   "language": "python",
   "name": "python3"
  },
  "language_info": {
   "codemirror_mode": {
    "name": "ipython",
    "version": 3
   },
   "file_extension": ".py",
   "mimetype": "text/x-python",
   "name": "python",
   "nbconvert_exporter": "python",
   "pygments_lexer": "ipython3",
   "version": "3.10.0"
  },
  "orig_nbformat": 4
 },
 "nbformat": 4,
 "nbformat_minor": 2
}
