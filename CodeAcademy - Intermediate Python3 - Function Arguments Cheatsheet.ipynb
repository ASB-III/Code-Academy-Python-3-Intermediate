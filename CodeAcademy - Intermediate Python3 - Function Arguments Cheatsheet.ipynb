{
 "cells": [
  {
   "cell_type": "markdown",
   "metadata": {},
   "source": [
    "# Function Arguments Cheatsheet\n",
    "\n",
    "## Mutable Default Arguments\n",
    "Python’s default arguments are evaluated only once when the function is defined, not each time the function is called. This means that if a mutable default argument is used and is mutated, it is mutated for all future calls to the function as well. This leads to buggy behaviour as the programmer expects the default value of that argument in each function call."
   ]
  },
  {
   "cell_type": "code",
   "execution_count": null,
   "metadata": {},
   "outputs": [],
   "source": [
    "# Here, an empty list is used as a default argument of the function.\n",
    "def append(number, number_list=[]):\n",
    "  number_list.append(number)\n",
    "  print(number_list)\n",
    "  return number_list\n",
    " \n",
    "# Below are 3 calls to the `append` function and their expected and actual outputs:\n",
    "append(5) # expecting: [5], actual: [5]\n",
    "append(7) # expecting: [7], actual: [5, 7]\n",
    "append(2) # expecting: [2], actual: [5, 7, 2]"
   ]
  },
  {
   "cell_type": "markdown",
   "metadata": {},
   "source": [
    "## Default argument is fallback value\n",
    "In Python, a default parameter is defined with a fallback value as a default argument. Such parameters are optional during a function call. If no argument is provided, the default value is used, and if an argument is provided, it will overwrite the default value.\n"
   ]
  },
  {
   "cell_type": "code",
   "execution_count": null,
   "metadata": {},
   "outputs": [],
   "source": [
    "def greet(name, msg=\"How do you do?\"):\n",
    "  print(\"Hello \", name + ', ' + msg)\n",
    " \n",
    "greet(\"Ankit\")\n",
    "greet(\"Ankit\", \"How do you do?\")\n",
    " \n",
    "\"\"\"\n",
    "this code will print the following for both the calls -\n",
    "`Hello  Ankit, How do you do?`\n",
    "\"\"\""
   ]
  },
  {
   "cell_type": "markdown",
   "metadata": {},
   "source": [
    "## Function Keyword Arguments\n",
    "Python functions can be defined with named arguments which may have default values provided. When function arguments are passed using their names, they are referred to as keyword arguments. The use of keyword arguments when calling a function allows the arguments to be passed in any order — not just the order that they were defined in the function. If the function is invoked without a value for a specific argument, the default value will be used.\n",
    "\n"
   ]
  },
  {
   "cell_type": "code",
   "execution_count": null,
   "metadata": {},
   "outputs": [],
   "source": [
    "def findvolume(length=1, width=1, depth=1):\n",
    "  print(\"Length = \" + str(length))\n",
    "  print(\"Width = \" + str(width))\n",
    "  print(\"Depth = \" + str(depth))\n",
    "  return length * width * depth;\n",
    " \n",
    "findvolume(1, 2, 3)\n",
    "findvolume(length=5, depth=2, width=4)\n",
    "findvolume(2, depth=3, width=4)\n"
   ]
  }
 ],
 "metadata": {
  "interpreter": {
   "hash": "79435cfcbd76b1528bba00a84eb046d19295a161f953d7f2d2d8d04ffa2592c8"
  },
  "kernelspec": {
   "display_name": "Python 3.10.0 64-bit (windows store)",
   "language": "python",
   "name": "python3"
  },
  "language_info": {
   "name": "python",
   "version": "3.10.0"
  },
  "orig_nbformat": 4
 },
 "nbformat": 4,
 "nbformat_minor": 2
}
