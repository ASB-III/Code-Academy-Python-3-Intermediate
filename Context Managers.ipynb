{
 "cells": [
  {
   "cell_type": "markdown",
   "metadata": {},
   "source": [
    "# CONTEXT MANAGERS\n",
    "Introduction to Resource Management\n",
    "When we use a computer, we tend to interact with its various resources. Similar to how we need to manage resources in our daily lives like our time and energy, resources on a computer also need to be managed.\n",
    "\n",
    "For computers, the resources we manage usually come in the form of memory, storage, or power. Since all resources are limited, if they are not managed well, it can lead to the computer running out of memory, space, and even cause crashes. So how do we manage these resources? Well, one of the easiest ways (and one we already started to explore) is through the use of context managers.\n",
    "\n",
    "A context manager is an object that takes care of the assigning and releasing of resources (files, database connections, etc). Learning to properly use context managers will give our software benefits such as:\n",
    "\n",
    "- Preventing resource leaks\n",
    "- Preventing crashes\n",
    "- Decreasing the vulnerability of our data\n",
    "- Preventing program slow-down.\n",
    "\n",
    "Before we dive into context managers, let’s examine what happens when we don’t manage our resources properly.\n",
    "\n",
    "Instructions\n",
    "Take a look at the with statement in the code editor! This is an example of a context manager! It should look familiar from when we worked with files earlier. If not, it might be a good time to review the module in Learn Python 3.\n",
    "\n",
    "Click Next to move on to learn about context managers!"
   ]
  },
  {
   "cell_type": "code",
   "execution_count": null,
   "metadata": {},
   "outputs": [],
   "source": [
    "with open(\"file_name.txt\", \"w\") as file:\n",
    "   file.write(\"How you gonna win when you ain't right within?\")"
   ]
  },
  {
   "cell_type": "markdown",
   "metadata": {},
   "source": [
    "Here is what is happening in our small script:\n",
    "\n",
    "\n",
    "1. The with statement calls the built-in open() function on \"file_name.txt\" with a mode of \"w\" which represents write mode.\n",
    "2. The as clause assigns the object opened (the file) to a target variable called file to using inside of the context manager.\n",
    "3. file.write() writes a sentence to \"file_name.txt\"\n",
    "\n",
    "\n",
    "But, what exactly does this have to do with resource management? In order to answer this question, we need to take a peek behind the curtain and examine what our code looks like without a with statement. Here is what the same code would look like without the use of a context manager like with      \n"
   ]
  },
  {
   "cell_type": "code",
   "execution_count": null,
   "metadata": {},
   "outputs": [],
   "source": [
    "file = open(\"file_name.txt\", \"w\")\n",
    "try:\n",
    "   file.write(\"How you gonna win when you ain't right within?\")\n",
    "finally:\n",
    "   file.close()"
   ]
  },
  {
   "cell_type": "markdown",
   "metadata": {},
   "source": [
    "The alternative to using with would require us to manually open (using open()) and close (using close()) the file we are working on. By using the with statement in the first example, it serves as a context manager where files are automatically closed after script completion and we don’t ever have to worry about the possibility of forgetting to close a resource. Remember, leaving our resources open will hog up our finite computer resources. We are never guaranteed that Python will close the file for us if we happen to forget to do it!\n",
    "\n",
    "In the next exercise, we’ll dive deeper into how context managers like the with statement are built. For now, let’s start using it and seeing its power compared to the alternative try/finally clauses."
   ]
  },
  {
   "cell_type": "markdown",
   "metadata": {},
   "source": [
    "## Instructions\n",
    "#### 1. Take a look at the code in the text editor. Notice that the file ('file_name.txt') was opened but never closed. This is bad practice and could lead to errors down the road.\n",
    "\n",
    "Update this script by:\n",
    "\n",
    "Putting the code that opens the file inside a try block\n",
    "Closing open_file in a finally block using .close()\n",
    "\n",
    "<b>Hint</b><br>\n",
    "The general syntax of our program should look like this:"
   ]
  },
  {
   "cell_type": "code",
   "execution_count": null,
   "metadata": {},
   "outputs": [],
   "source": [
    "try:\n",
    "  # Open file code\n",
    "  # Print file contents\n",
    "finally:\n",
    "  # Close the file"
   ]
  },
  {
   "cell_type": "markdown",
   "metadata": {},
   "source": [
    "### 2. Now rewrite this script in with statement form using open_file as the target variable. Use the \"r\" mode for read permissions.\n",
    "\n",
    "\n",
    "<b>Hint</b><br>\n",
    "To implement this with statement, our syntax would like:"
   ]
  },
  {
   "cell_type": "markdown",
   "metadata": {},
   "source": [
    "with open(<'file_name'>, <'mode'>) as <target variable>:\n",
    "         CODEBLOCK"
   ]
  },
  {
   "cell_type": "code",
   "execution_count": null,
   "metadata": {},
   "outputs": [],
   "source": [
    "try:\n",
    "  open_file = open('file_name.txt', 'r')\n",
    "  print(open_file.read())\n",
    "finally:\n",
    "  open_file.close()\n",
    "\n",
    "with open('file_name.txt', 'r') as open_file:\n",
    "  print(open_file.read())"
   ]
  },
  {
   "cell_type": "markdown",
   "metadata": {},
   "source": [
    "# Class Based Context Managers\n",
    "Now that we have an understanding of why we need context managers and the power of the with statement, it is essential for us to know what’s happening under the hood to gain a much deeper understanding of the concept. The best way to see the internal workings of a context manager (such as the with statement) is by creating our own!\n",
    "\n",
    "One of the two approaches of creating context managers is referred to as the class-based approach. The class-based approach of writing context managers requires explicitly defining and implementing the following two methods inside of a class:\n",
    "\n",
    "- An __enter__ method\n",
    "\n",
    "    - The __enter__ method allows for the setup of context managers. This method commonly takes care of opening resources (like files). This method also begins what is known as the runtime context - the period of time in which a script runs. In our previous examples, it was the time in which the code passed into the with statement code block was executed (basically everything under the with statement).\n",
    "- An __exit__ method\n",
    "\n",
    "    - The __exit__ ensures the breakdown of the context manager. This method commonly takes care of closing open resources that are no longer in use.\n",
    "    \n",
    "To visualize these methods and the approach, let’s take a look at a custom class-based context manager below:"
   ]
  },
  {
   "cell_type": "code",
   "execution_count": null,
   "metadata": {},
   "outputs": [],
   "source": [
    "class ContextManager:\n",
    "  def __init__(self):\n",
    "    print('Initializing class...')\n",
    " \n",
    "  def __enter__(self):\n",
    "    print('Entering context...')\n",
    " \n",
    "  def __exit__(self, *exc):\n",
    "    print('Exiting context...')"
   ]
  },
  {
   "cell_type": "markdown",
   "metadata": {},
   "source": [
    "Here, we defined a new class called ContextManager (to be extra explicit) and implemented the required methods. By defining these two methods, we are implementing the context management protocol - a guideline for the required methods for a context manager. Don’t get too caught up in the arguments passed to each method, we will talk through them in the next exercises, but they are required to not experience an error.\n",
    "\n",
    "Implementing the context management protocol allows us to immediately invoke the class using the with statement as shown below:"
   ]
  },
  {
   "cell_type": "code",
   "execution_count": null,
   "metadata": {},
   "outputs": [],
   "source": [
    "with ContextManager() as cm:\n",
    "  print('Code inside with statement')"
   ]
  },
  {
   "cell_type": "markdown",
   "metadata": {},
   "source": [
    "Here we invoke the ContextManager class with a with statement.\n",
    "\n",
    "After running the code, our output of this context manager would be:"
   ]
  },
  {
   "cell_type": "code",
   "execution_count": null,
   "metadata": {},
   "outputs": [],
   "source": [
    "Initializing class...\n",
    "Entering context...\n",
    "Code inside with statement\n",
    "Exiting context..."
   ]
  },
  {
   "cell_type": "markdown",
   "metadata": {},
   "source": [
    "The above shows that our context manager class is executed in the following sequence:\n",
    "\n",
    "1. __init__ method\n",
    "2. __enter__ method\n",
    "3. The code in the with statement block\n",
    "4. __exit__ method\n",
    "\n",
    "Let’s practice getting down the basics of writing a class-based context manager in addition to the execution flow before diving deeper into the __enter__ and __exit__ methods.y"
   ]
  },
  {
   "cell_type": "markdown",
   "metadata": {},
   "source": [
    "## Instructions\n",
    "### 1. Let’s create a context manager that will work with files filled with creative poems. While we won’t directly work with a file in this exercise, make sure to note the order of method execution in a context manager. Don’t worry, we’ll work with an actual file soon! For now, we are just going to get comfortable with the basics.\n",
    "\n",
    "Create a class called PoemFiles. For now, give it a single pass statement so it won’t create an error when run.\n",
    "\n",
    "### 2. Next, remove the pass statement and create an __init__ method inside of the PoemFiles class that prints 'Creating Poems!'"
   ]
  },
  {
   "cell_type": "markdown",
   "metadata": {},
   "source": [
    "Hint\n",
    "Syntax of an __init__ method looks like this:"
   ]
  },
  {
   "cell_type": "code",
   "execution_count": null,
   "metadata": {},
   "outputs": [],
   "source": [
    "def __init__(self):\n",
    "  # some code..."
   ]
  },
  {
   "cell_type": "markdown",
   "metadata": {},
   "source": [
    "### 3. Let’s implement the __enter__ method. Have the method print 'Opening poem file'.\n",
    "\n",
    "\n",
    "<b>Hint</b><br>\n",
    "Syntax of an __enter__ method looks like this:"
   ]
  },
  {
   "cell_type": "code",
   "execution_count": null,
   "metadata": {},
   "outputs": [],
   "source": [
    "def __enter__(self):\n",
    "  print('How are you World?')"
   ]
  },
  {
   "cell_type": "markdown",
   "metadata": {},
   "source": [
    "### 4. Lastly, create an __exit__ method that prints 'Closing poem file'.\n",
    "\n",
    "\n",
    "<b>Hint</b><br>\n",
    "Syntax of an __exit__ method looks like this:"
   ]
  },
  {
   "cell_type": "code",
   "execution_count": null,
   "metadata": {},
   "outputs": [],
   "source": [
    "def __exit__(self, *exc):\n",
    "  print('Goodbye World!')"
   ]
  },
  {
   "cell_type": "markdown",
   "metadata": {},
   "source": [
    "### 5. Awesome! Now we have our very own context manager! Let’s see it in action by calling it with a with statement.\n",
    "\n",
    "Have the with statement save the invoked class to a variable called manager and have it print a famous line from the poet Emily Dickinson: 'Hope is the thing with feathers'.\n",
    "\n",
    "\n",
    "<b>Hint</b><br>\n",
    "Here is the general structure of using a with statement with a custom context manager class:"
   ]
  },
  {
   "cell_type": "code",
   "execution_count": null,
   "metadata": {},
   "outputs": [],
   "source": [
    "with < Context Manager Class Invoked > as < Variable to save as >:\n",
    "   CODE BLOCK "
   ]
  },
  {
   "cell_type": "code",
   "execution_count": null,
   "metadata": {},
   "outputs": [],
   "source": [
    "class PoemFiles:\n",
    "  # Checkpoint 1\n",
    "  def __init__(self):\n",
    "    print('Creating Poems!')\n",
    "  \n",
    "  # Checkpoint 2\n",
    "  def __enter__(self):\n",
    "    print('Opening poem file')\n",
    "  \n",
    "  # Checkpoint 3\n",
    "  def __exit__(self, *exc):\n",
    "    print('Closing poem file')\n",
    "\n",
    "# Checkpoint 4\n",
    "with PoemFiles() as manager:\n",
    "  print('Hope is the thing with feathers')"
   ]
  },
  {
   "cell_type": "markdown",
   "metadata": {},
   "source": [
    "# Class Based Context Managers II\n",
    "Now that we know the structure of implementing our own class-based context manager. Let’s walk through a context manager that manages actual files as well as explore each of the methods we saw earlier. Here is what our context manager will look like:"
   ]
  },
  {
   "cell_type": "code",
   "execution_count": null,
   "metadata": {},
   "outputs": [],
   "source": [
    "class WorkWithFile:\n",
    "  def __init__(self, file, mode):\n",
    "    self.file = file\n",
    "    self.mode = mode\n",
    " \n",
    "  def __enter__(self):\n",
    "    self.opened_file = open(self.file, self.mode)\n",
    "    return self.opened_file\n",
    " \n",
    "  def __exit__(self, *exc):\n",
    "    self.opened_file.close()"
   ]
  },
  {
   "cell_type": "markdown",
   "metadata": {},
   "source": [
    "We have written a class-based context manager called WorkWithFile! Let’s break down each method and what happens inside of it.\n",
    "\n",
    "- The __init__ method:\n",
    "\n",
    "This method is standard across most classes, even ones that are not context managers themselves. In this case, we have three parameters:\n",
    "\n",
    "- self: This is standard for any class we work with and allows us to work with methods and properties we assign to an instance of a class.\n",
    "- file: Since we are working with files, we need to be able to take in a file argument when we call the class with a with statement.\n",
    "- mode: Lastly, we need to provide the file a mode. This allows us to manage what our context manager will actually be doing, such as reading, writing, or both!\n",
    "\n",
    "Both file and mode arguments allow us to accomplish the following syntax:"
   ]
  },
  {
   "cell_type": "code",
   "execution_count": null,
   "metadata": {},
   "outputs": [],
   "source": [
    "with WorkWithFile('file.txt', 'r')"
   ]
  },
  {
   "cell_type": "markdown",
   "metadata": {},
   "source": [
    "- The __enter__ method:\n",
    "\n",
    "This is where we deal with opening the file we want to work on. Since any new instance of our context manager will have a file and mode property, we can pass them into the open() function to open a specific file with a specific mode. Then, we save it as a variable called self.open_file, and return it.\n",
    "\n",
    "By returning self.open_file, the file will be passed into the variable we define when we call it with the with statement. So for example:"
   ]
  },
  {
   "cell_type": "code",
   "execution_count": null,
   "metadata": {},
   "outputs": [],
   "source": [
    "with WorkWithFile('file.txt', 'r') as file"
   ]
  },
  {
   "cell_type": "markdown",
   "metadata": {},
   "source": [
    "Will assign the open file 'file.text' to the variable called file that follows the as clause and thus allowing us to use it in the with statement code block (which we will look at shortly).\n",
    "\n",
    "\n",
    "- The __exit__ method:\n",
    "\n",
    "Lastly, but one of the most important steps, we have to close the file we work on. Here we are still taking in a *exc argument, but we won’t touch on that until the next exercise. For now, this method is solely responsible for closing the resource we opened in __enter__.\n",
    "\n",
    "\n",
    "Now that we created our context manager, we can now use it in a with statement like so:"
   ]
  },
  {
   "cell_type": "code",
   "execution_count": null,
   "metadata": {},
   "outputs": [],
   "source": [
    "with WorkWithFile(\"file.txt\", \"r\") as file:\n",
    "  print(file.read())"
   ]
  },
  {
   "cell_type": "markdown",
   "metadata": {},
   "source": [
    "Open this for a step by step breakdown of the above code!\n",
    "\n",
    "Phew, these context managers are a handful! Take some time to let it all sink in, then let’s create our own context manager that works on poem files!"
   ]
  },
  {
   "cell_type": "markdown",
   "metadata": {},
   "source": [
    "# Instructions\n",
    "### 1. Let’s build our poem context manager from earlier again! This time we will allow it to work on files. By the end of these exercises, we will have a custom context manager that has written to a file!\n",
    "\n",
    "Create a class called PoemFiles and give it a __init__ method that defines a self, poem_file, and mode parameter.\n",
    "\n",
    "Inside the method, print 'Starting up a poem context manager'\n",
    "\n",
    "\n",
    "### 2. Next, let’s built the properties of the class via __init__. Remember this is so we can pass a file name and a mode when we call the context manager with the with statement.\n",
    "\n",
    "Inside of the __init_ method and under the print statement, assign two properties to the class:\n",
    "\n",
    "file that is equal to the poem_file parameter\n",
    "mode that is equal to the mode parameter\n",
    "Checkpoint 3 Passed\n",
    "\n",
    "<b>Hint</b><br>\n",
    "Remember, to assign a new property in a class, we must use self. In this case, we want to assign it to a parameter value. Here is an example of how we would do so:"
   ]
  },
  {
   "cell_type": "code",
   "execution_count": null,
   "metadata": {},
   "outputs": [],
   "source": [
    "class MyClass\n",
    " \n",
    "  def init(self, param1):\n",
    "    self.property_name = param1\n",
    " \n",
    "# some more code..."
   ]
  },
  {
   "cell_type": "markdown",
   "metadata": {},
   "source": [
    "### 3. Next, let’s work on the __enter__ method to set up what happens when we want to start working on a file.\n",
    "\n",
    "Create an __enter__ method. Have the method print 'Opening poem file'.\n",
    "\n",
    "\n",
    "### 4. In the __enter__ method, we will need to open the file we want to work on and return it! This way, it will be assigned to the variable we declare when we work with the with statement.\n",
    "\n",
    "Inside __enter__ method give the class a new property called opened_poem_file and assign it to a call of the open() function that takes two arguments:\n",
    "\n",
    "self.file: our classes file property\n",
    "self.mode: our classes mode property\n",
    "Lastly, return the opened_poem_file property!\n",
    "\n",
    "\n",
    "\n",
    "<b>Hint</b><br>\n",
    "First, we need to create a new property that is equal to the call of the open() function with our file and mode properties as arguments. Remember, to declare a new property in any method of a class, we need to use self. Take a look at this example and in our code, try to fill in the values for <new property name> and <value>:"
   ]
  },
  {
   "cell_type": "code",
   "execution_count": null,
   "metadata": {},
   "outputs": [],
   "source": [
    "class MyClass\n",
    " \n",
    "  def __enter__(self):\n",
    "    self.<new property name> = <value>\n",
    " \n",
    "# some more code..."
   ]
  },
  {
   "cell_type": "markdown",
   "metadata": {},
   "source": [
    "### 5. Lastly, we need to create an __exit__ method.\n",
    "\n",
    "Write a __exit__ method that defines a self parameter and a *exc parameter. Make the method print 'Closing poem file'.\n",
    "\n",
    "\n",
    "### 6. We need to make sure we close our file in the __exit__ method so we properly manage our resources.\n",
    "\n",
    "In the __exit__ method, under the print statement, call the .close() built-in function on the opened_poem_file property of the class.\n",
    "\n",
    "\n",
    "\n",
    "<b>Hint</b><br>\n",
    "Remember, to access a property of a class, it must be prefaced with self.\n",
    "\n",
    "### 7. Uncomment the with statement and run the code. Check out poem.txt to see if the poem has been added!\n",
    "\n",
    "Note: in reality, we wouldn’t have to create a context manager that opens a file because there’s already an open() built-in function that you can run with a with statement that will open and close a file. However, open() has its limitations, and knowing this base structure will allow us to create our own custom and more advanced context managers that can do much more than open()!\n",
    "\n",
    "\n",
    "<b>Hint</b><br>\n",
    "To uncomment, remove the # symbols."
   ]
  },
  {
   "cell_type": "code",
   "execution_count": null,
   "metadata": {},
   "outputs": [],
   "source": [
    "# Write your code below:\n",
    "class PoemFiles:\n",
    "\n",
    "  def __init__(self, poem_file, mode):\n",
    "    print('Starting up a poem context manager')\n",
    "    self.file = poem_file\n",
    "    self.mode = mode\n",
    "\n",
    "  def __enter__(self):\n",
    "    print('Opening poem file')\n",
    "    self.opened_poem_file = open(self.file, self.mode)\n",
    "    return self.opened_poem_file\n",
    "#print('Starting up a poem context manager')\n",
    "  \n",
    "\n",
    "  def __exit__(self,*exc):\n",
    "    print('Closing poem file')\n",
    "    self.opened_poem_file.close()\n",
    "\n",
    "\n",
    "\n",
    "\n",
    "\n",
    "with PoemFiles('poem.txt', 'w') as open_poem_file:\n",
    "    open_poem_file.write('Hope is the thing with feathers')"
   ]
  },
  {
   "cell_type": "markdown",
   "metadata": {},
   "source": [
    "# Handling Exceptions I\n",
    "Remember this?"
   ]
  },
  {
   "cell_type": "code",
   "execution_count": null,
   "metadata": {},
   "outputs": [],
   "source": [
    "def __exit__(self, *exc):"
   ]
  },
  {
   "cell_type": "markdown",
   "metadata": {},
   "source": [
    "It’s time to address the big mystery. What in the world is the *exc parameter in the __exit__ method we have been writing so far?\n",
    "\n",
    "Well, context managers play an important role in handling exceptions. Recall exceptions are errors that happen within the runtime of a code, terminating it before its completion. Within a context manager, the __exit__ method is responsible for dealing with any exceptions. It can implement how to close the file and any other operations we want to perform if an exception occurs.\n",
    "\n",
    "So far, we have been using *exc to fill in the argument requirements for our context managers __exit__ method. If we went back and wrote this instead:"
   ]
  },
  {
   "cell_type": "code",
   "execution_count": null,
   "metadata": {},
   "outputs": [],
   "source": [
    "def __exit__(self):"
   ]
  },
  {
   "cell_type": "markdown",
   "metadata": {},
   "source": [
    "We would have been met with a puzzling error:"
   ]
  },
  {
   "cell_type": "code",
   "execution_count": null,
   "metadata": {},
   "outputs": [],
   "source": [
    "__exit__() takes 1 positional argument but 4 were given."
   ]
  },
  {
   "cell_type": "markdown",
   "metadata": {},
   "source": [
    "This is because the __exit__ method needs four total arguments! In the past exercises, we ignored this requirement by using the * operator to tell the method we will pass a variable number of arguments even though we never did. It was a good way to put the above error on hold, but now let’s dive into what these required arguments are and how to use them so that we can master the __exit__ method.\n",
    "\n",
    "The __exit__ method has three required arguments (in addition to self):\n",
    "\n",
    "1. An exception type: which indicates the class of exception (i.e. AttributeError class, or NameError class)\n",
    "2. An exception value: the actual value of the error\n",
    "3. A traceback: a report detailing the sequence of steps that caused the error and all the details needed to fix the error.\n",
    "\n",
    "Let’s take a look at an example context manager that deals with exceptions in its __exit__ method:"
   ]
  },
  {
   "cell_type": "code",
   "execution_count": null,
   "metadata": {},
   "outputs": [],
   "source": [
    "class OpenFile:\n",
    " \n",
    " def __init__(self, file, mode):\n",
    "   self.file = file\n",
    "   self.mode = mode\n",
    " \n",
    " def __enter__(self):\n",
    "   self.opened_file = open(self.file, self.mode)\n",
    "   return self.opened_file\n",
    " \n",
    " def __exit__(self, exc_type, exc_val, traceback):\n",
    "   print(exc_type)\n",
    "   print(exc_val)\n",
    "   print(traceback)\n",
    "   self.opened_file.close()"
   ]
  },
  {
   "cell_type": "markdown",
   "metadata": {},
   "source": [
    "In this __exit__ method, we are dealing with exceptions by adding a script that prints the exception values to the console. We can see the outcome of our simple exception handling when we run our with statement with an intentional failure:"
   ]
  },
  {
   "cell_type": "code",
   "execution_count": null,
   "metadata": {},
   "outputs": [],
   "source": [
    "with OpenFile(\"file.txt\", \"r\") as file:\n",
    "  # .see() is not a real method\n",
    "  print(file.see())"
   ]
  },
  {
   "cell_type": "markdown",
   "metadata": {},
   "source": [
    "Would output:"
   ]
  },
  {
   "cell_type": "code",
   "execution_count": null,
   "metadata": {},
   "outputs": [],
   "source": [
    "<class 'AttributeError'>\n",
    "'_io.TextIOWrapper' object has no attribute 'see'\n",
    "<traceback object at 0x7f08dcfb5040>"
   ]
  },
  {
   "cell_type": "code",
   "execution_count": null,
   "metadata": {},
   "outputs": [],
   "source": [
    "Traceback (most recent call last):\n",
    "  File \"script.py\", line 14, in <module>\n",
    "    print(file.see())\n",
    "AttributeError: '_io.TextIOWrapper' object has no attribute 'see'"
   ]
  },
  {
   "cell_type": "markdown",
   "metadata": {},
   "source": [
    "Once the with statement is run, we get the above error message that tells us that we have an AttributeError, that our object has no attribute 'see', and provides a traceback object. When an error occurs, the code stops, and resources (i.e., file in our earlier example) are still closed. The values of these three arguments are then thrown or suppressed.\n",
    "\n",
    "In contrast, if no error occurs in the with statement above, the __exit__ method would have printed:"
   ]
  },
  {
   "cell_type": "code",
   "execution_count": null,
   "metadata": {},
   "outputs": [],
   "source": [
    "None\n",
    "None\n",
    "None"
   ]
  },
  {
   "cell_type": "markdown",
   "metadata": {},
   "source": [
    "Note that exc_type, exc_value, and traceback are completely arbitrary names. We can use any name we want for these parameters as long as it does not hinder the readability of our code. In general, it’s best practice to be as descriptive as possible!\n",
    "\n",
    "Now, let’s experience exceptions in context managers for ourselves."
   ]
  },
  {
   "cell_type": "markdown",
   "metadata": {},
   "source": [
    "# Instructions\n",
    "### 1. Let’s return to our trusty PoemFiles context manager. Unfortunately, it’s missing an __exit__ method. Now that we have seen how to set up the method to capture exception data, let’s build it out.\n",
    "\n",
    "Create an __exit__ method, and add the 4 necessary arguments: self, exc_type, exc_value, traceback. Have the method use 3 different print statements to print each exception argument. This will help us visualize the exceptions when we run into them!\n",
    "\n",
    "\n",
    "### 2. As the last part of our __exit__ method, use the .close() built-in function to close the opened_poem_file property.\n",
    "\n",
    "\n",
    "<B>Hint</b><br>\n",
    "Remember to access the opened_poem_file property, it must be prefaced with a self.!\n",
    "\n",
    "### 3. Looks like our context manager is complete. Time to see it in action!\n",
    "\n",
    "Uncomment the first (marked #First) commented out with call that attempts to print the contents of our poem.txt file in all uppercase.\n",
    "\n",
    "Run the code and observe the exception data that comes up! Can you spot the error?\n",
    "\n",
    "\n",
    "<B>Hint</b><br>\n",
    "Where does the .uppercasewords() method come from?\n",
    "\n",
    "### 4. Looks like we ran into a small error in the last step! In particular, we ran into an AttributeError because .uppercasewords() isn’t a real method.\n",
    "\n",
    "Now let’s see what happens in our program when we don’t run into an error. Comment out the first with statement we just ran and uncomment the second one (marked # Second).\n",
    "\n",
    "Run the code and observe the exception data that comes up! In the next exercises, we’ll learn how to customize our exception handling to better work with errors that appear in our code."
   ]
  },
  {
   "cell_type": "code",
   "execution_count": null,
   "metadata": {},
   "outputs": [],
   "source": [
    "class PoemFiles:\n",
    "\n",
    "  def __init__(self, poem_file, mode):\n",
    "    print(' \\n -- Starting up a poem context manager -- \\n ')\n",
    "    self.file = poem_file\n",
    "    self.mode = mode\n",
    "\n",
    "  def __enter__(self):\n",
    "    print('Opening poem file')\n",
    "    self.opened_poem_file = open(self.file, self.mode)\n",
    "    return self.opened_poem_file\n",
    "\n",
    "  # Create your __exit__ method here:\n",
    "  def __exit__(self, exc_type, exc_value, traceback):\n",
    "    print(exc_type)\n",
    "    print(exc_value)\n",
    "    print(traceback)\n",
    "    self.opened_poem_file.close()\n",
    "\n",
    "# First\n",
    "#with PoemFiles('poem.txt', 'r') as file:\n",
    "#  print(\"---- Exception data below ----\")\n",
    "#  print(file.uppercasewords())\n",
    "\n",
    "# Second\n",
    "with PoemFiles('poem.txt', 'r') as file2:\n",
    "  print(file2.read())\n",
    "  print(\"---- Exception data below ----\")"
   ]
  },
  {
   "cell_type": "markdown",
   "metadata": {},
   "source": [
    "# Handling Exceptions II\n",
    "Printing exceptions isn’t the only way we can handle them in the __exit__ method. An exception that occurs in a context manager can be handled in two ways:\n",
    "\n",
    "- If we want to throw an error when an error occurs, we can either:\n",
    "\n",
    "    - Return False after the .close() method\n",
    "    - Do nothing\n",
    "- If we want to suppress the error, we can:\n",
    "    - Return True after the .close() method\n",
    "\n",
    "    \n",
    "Using a script similar to our earlier example, we can examine how this works:"
   ]
  },
  {
   "cell_type": "code",
   "execution_count": null,
   "metadata": {},
   "outputs": [],
   "source": [
    "class OpenFile:\n",
    " \n",
    " def __init__(self, file, mode):\n",
    "   self.file = file\n",
    "   self.mode = mode\n",
    " \n",
    " def __enter__(self):\n",
    "   self.opened_file = open(self.file, self.mode)\n",
    "   return self.opened_file\n",
    " \n",
    " def __exit__(self, exc_type, exc_val, traceback):\n",
    "   print(exc_type, exc_val, traceback)\n",
    "   print(\"The exception has been handled\")\n",
    "   self.file.close()\n",
    "   return True"
   ]
  },
  {
   "cell_type": "markdown",
   "metadata": {},
   "source": [
    "Notice above that nothing changed except for the adding of return True to implement the suppression of an error. To see this in action, we’ll call two with statements using this context manager; One that will throw an exception and another that will not. Let’s observe the behavior:"
   ]
  },
  {
   "cell_type": "code",
   "execution_count": null,
   "metadata": {},
   "outputs": [],
   "source": [
    "with OpenFile(\"file.txt\", \"r\") as file:\n",
    " # .see is not a real method\n",
    " print(file.see())\n",
    " \n",
    "with OpenFile(\"file.txt\", \"r\") as file:\n",
    " print(file.read())"
   ]
  },
  {
   "cell_type": "markdown",
   "metadata": {},
   "source": [
    "When we run this code, our output is as follows:"
   ]
  },
  {
   "cell_type": "code",
   "execution_count": null,
   "metadata": {},
   "outputs": [],
   "source": [
    "<class 'AttributeError'> '_io.TextIOWrapper' object has no attribute 'see' <traceback object at 0x7fedf822d180>\n",
    " \n",
    "The exception has been handled\n",
    " \n",
    "None None None"
   ]
  },
  {
   "cell_type": "markdown",
   "metadata": {},
   "source": [
    "Here we see that:\n",
    "\n",
    "The error message we manually coded is printed but there is no automatic error message thrown by the program.\n",
    "Both with statements ran.\n",
    "If we did not return True, the second (and all proceeding) with statements would not have run since an exception would be hit.\n",
    "\n",
    "Additionally, we can choose to handle a specific exception, while also suppressing it! This is useful if we want our context manager to not block the execution of other code, but also customize the output if a certain exception occurs. Here is an example of working with a TypeError:"
   ]
  },
  {
   "cell_type": "code",
   "execution_count": null,
   "metadata": {},
   "outputs": [],
   "source": [
    "class OpenFile:\n",
    " \n",
    " def __init__(self, file, mode):\n",
    "   self.file = file\n",
    "   self.mode = mode\n",
    " \n",
    " def __enter__(self):\n",
    "   self.opened_file = open(self.file, self.mode)\n",
    "   return self.opened_file\n",
    " \n",
    " def __exit__(self, exc_type, exc_val, traceback):\n",
    " \n",
    "   if isinstance(exc_value, TypeError):\n",
    "      # Handle TypeError here...\n",
    "      print(\"The exception has been handled\")\n",
    "      return True\n",
    " \n",
    "   self.file.close()\n",
    "   "
   ]
  },
  {
   "cell_type": "markdown",
   "metadata": {},
   "source": [
    "Notice the if statement that compares exc_value to a specific exception we are trying to catch. Anything we want to happen for this specific exception can occur in the conditional code block. Lastly, we return True to make sure we suppress the exception from arising and stopping the rest of our code from running.\n",
    "\n",
    "Let’s return to our poem context manager from earlier and implement some exception handling!"
   ]
  },
  {
   "cell_type": "markdown",
   "metadata": {},
   "source": [
    "## Instructions\n",
    "### 1. We are back with our PoemFiles context manager!\n",
    "\n",
    "There are currently two with calls. Run the code to see what exception occurs. In the next step, we will try to handle it!\n",
    "\n",
    "\n",
    "### 2. Looks like our AttributeError is back in our first with call.\n",
    "\n",
    "Inside of the __exit__ method, write a conditional using the isinstance() function to check if the exception is an AttributeError. If it is, close the file and return True!\n",
    "\n",
    "\n",
    "<B>Hint</b><br>\n",
    "To catch a specific exception we can use the following syntax:"
   ]
  },
  {
   "cell_type": "code",
   "execution_count": null,
   "metadata": {},
   "outputs": [],
   "source": [
    "if isinstance(<value to compare>, <exception>):"
   ]
  },
  {
   "cell_type": "markdown",
   "metadata": {},
   "source": [
    "Remember to suppress the error we need to return True and not forget to close the file!"
   ]
  },
  {
   "cell_type": "code",
   "execution_count": null,
   "metadata": {},
   "outputs": [],
   "source": [
    "# Checkpoint 1\n",
    "class PoemFiles:\n",
    "\n",
    "  def __init__(self, poem_file, mode):\n",
    "    print(' \\n -- Starting up a poem context manager -- \\n')\n",
    "    self.file = poem_file\n",
    "    self.mode = mode\n",
    "\n",
    "  def __enter__(self):\n",
    "    print(' \\n --  Opening poem file -- \\n')\n",
    "    self.opened_poem_file = open(self.file, self.mode)\n",
    "    return self.opened_poem_file\n",
    "\n",
    "  def __exit__(self, exc_type, exc_value, traceback):\n",
    "    print(exc_type, exc_value, traceback, '\\n')\n",
    "    # Checkpoint 2\n",
    "    if isinstance(exc_value, AttributeError):\n",
    "      self.opened_poem_file.close()\n",
    "      return True\n",
    "\n",
    "with PoemFiles('poem.txt', 'r') as file:\n",
    "  print(\"---- Exception data below ---- \\n \")\n",
    "  print(file.uppercasewords())\n",
    "\n",
    "with PoemFiles('poem.txt', 'r') as file2:\n",
    "  print(file2.read())\n",
    "  print(\" \\n ---- Exception data below ---- \\n \")\n",
    "\n"
   ]
  },
  {
   "cell_type": "markdown",
   "metadata": {},
   "source": [
    "# Introduction to Contextlib\n",
    "We’ve learned that we can create our own context managers using the class-based method, but there’s an even simpler way of creating context managers. We can use a built-in Python module called contextlib!\n",
    "\n",
    "The contextlib module allows for the creation of a context manager with the use of a generator function (a function that uses yield instead of return) and the contexlib decorator - @contextmanager. Instead of creating a class and definining __enter__ and __exit__ methods, we can use a simple function!\n",
    "\n",
    "There are a few steps in the setup so let’s take it slow and break down each step. First, we will need to import the built-in module into our script and grab the @contextmanager decorator:"
   ]
  },
  {
   "cell_type": "code",
   "execution_count": null,
   "metadata": {},
   "outputs": [],
   "source": [
    "from contextlib import contextmanager"
   ]
  },
  {
   "cell_type": "markdown",
   "metadata": {},
   "source": [
    "Once we have successfully imported the module, we can automatically use the @contextmanager decorator to wrap a simple generator function:"
   ]
  },
  {
   "cell_type": "code",
   "execution_count": null,
   "metadata": {},
   "outputs": [],
   "source": [
    "from contextlib import contextmanager\n",
    " \n",
    "@contextmanager\n",
    "def open_file_contextlib(file, mode):\n",
    "  opened_file = open(file, mode)\n",
    " try:\n",
    "   yield opened_file\n",
    " finally:\n",
    "   opened_file.close()"
   ]
  },
  {
   "cell_type": "markdown",
   "metadata": {},
   "source": [
    "We are doing a few things here:\n",
    "\n",
    "1. We have written a generator function called open_file_contextlib with the expectation that it takes in a file as a single argument.\n",
    "2. We then use the built-in open() function to open the file (that we received as an argument) and save it to a variable called open_file.\n",
    "3. The function then will attempt (via a try statement) to yield the opened file and complete whatever code we pass when we use it in conjunction with the with statement. More on this in a bit!\n",
    "4. Lastly the resource (file) will be closed once all the code is done being executed.\n",
    "\n",
    "\n",
    "If we think about this structure in sections relative to the class-based approach, it essentially breaks down into this:"
   ]
  },
  {
   "cell_type": "code",
   "execution_count": null,
   "metadata": {},
   "outputs": [],
   "source": [
    "@contextmanager\n",
    "def generator_function(<parameters>):\n",
    "    <setup section - equivalent to __enter__ >\n",
    "    try:\n",
    "        yield <value>\n",
    "    finally:\n",
    "        <cleanup section - equivalent to __exit__ >"
   ]
  },
  {
   "cell_type": "markdown",
   "metadata": {},
   "source": [
    "Once we have created this function and denoted it as a context manager using the @contextmanager decorator, we can immediately use it like before in a with statement:"
   ]
  },
  {
   "cell_type": "code",
   "execution_count": null,
   "metadata": {},
   "outputs": [],
   "source": [
    "with open_file_contextlib('file.txt', 'w') as opened_file:\n",
    " opened_file.write('We just made a context manager using contexlib')"
   ]
  },
  {
   "cell_type": "markdown",
   "metadata": {},
   "source": [
    "Following this pattern of creating context managers allows us to quickly convert generator functions to become context managers without the need to create any extra classes. Now, let’s remake our poem context manager following this pattern!"
   ]
  },
  {
   "cell_type": "markdown",
   "metadata": {},
   "source": [
    "## Instructions\n",
    "### 1. Let’s create our PoemFiles context manager from previous exercises. First, import contextmanager from contextlib.\n",
    "\n",
    "\n",
    "<B>Hint</b><br>\n",
    "To import a tool from a library, the syntax is as followed:"
   ]
  },
  {
   "cell_type": "code",
   "execution_count": null,
   "metadata": {},
   "outputs": [],
   "source": [
    "from `library` import `tool`"
   ]
  },
  {
   "cell_type": "markdown",
   "metadata": {},
   "source": [
    "### 2. Now, let’s create a generator function called poem_files that has two parameters file and mode. The function should do two things:\n",
    "\n",
    "1. Print 'Opening File'\n",
    "2. Open the file using open() with the file and mode parameters, and save the result to a variable called open_poem_file.\n",
    "\n",
    "\n",
    "Don’t forget to decorate it with the @contextmanager decorator.\n",
    "\n",
    "\n",
    "<B>Hint</b><Br>\n",
    "The base syntax would like this:"
   ]
  },
  {
   "cell_type": "code",
   "execution_count": 1,
   "metadata": {},
   "outputs": [
    {
     "ename": "NameError",
     "evalue": "name 'decorator' is not defined",
     "output_type": "error",
     "traceback": [
      "\u001b[1;31m---------------------------------------------------------------------------\u001b[0m",
      "\u001b[1;31mNameError\u001b[0m                                 Traceback (most recent call last)",
      "\u001b[1;32m~\\AppData\\Local\\Temp/ipykernel_22784/2265907850.py\u001b[0m in \u001b[0;36m<module>\u001b[1;34m\u001b[0m\n\u001b[1;32m----> 1\u001b[1;33m \u001b[1;33m@\u001b[0m\u001b[0mdecorator\u001b[0m\u001b[1;33m\u001b[0m\u001b[1;33m\u001b[0m\u001b[0m\n\u001b[0m\u001b[0;32m      2\u001b[0m \u001b[1;32mdef\u001b[0m \u001b[0mfunction_name\u001b[0m\u001b[1;33m(\u001b[0m\u001b[0mfile\u001b[0m\u001b[1;33m,\u001b[0m \u001b[0mmode\u001b[0m\u001b[1;33m)\u001b[0m\u001b[1;33m:\u001b[0m\u001b[1;33m\u001b[0m\u001b[1;33m\u001b[0m\u001b[0m\n\u001b[0;32m      3\u001b[0m   \u001b[0mvariable\u001b[0m \u001b[1;33m=\u001b[0m \u001b[0mopen\u001b[0m\u001b[1;33m(\u001b[0m\u001b[0mfile\u001b[0m\u001b[1;33m,\u001b[0m \u001b[0mmode\u001b[0m\u001b[1;33m)\u001b[0m\u001b[1;33m\u001b[0m\u001b[1;33m\u001b[0m\u001b[0m\n",
      "\u001b[1;31mNameError\u001b[0m: name 'decorator' is not defined"
     ]
    }
   ],
   "source": [
    "@decorator\n",
    "def function_name(file, mode):\n",
    "  variable = open(file, mode)"
   ]
  },
  {
   "cell_type": "markdown",
   "metadata": {},
   "source": [
    "### 3. Next, we will have to create the try/finally structure. Inside of the function write the try clause, and inside of it use the yield keyword to yield the open_poem_file variable.\n",
    "\n",
    "\n",
    "<B>Hint</b><br>\n",
    "The syntax would like this:"
   ]
  },
  {
   "cell_type": "code",
   "execution_count": null,
   "metadata": {},
   "outputs": [],
   "source": [
    "try:\n",
    "  yield file"
   ]
  },
  {
   "cell_type": "markdown",
   "metadata": {},
   "source": [
    "### 4. Now, let’s finish the try/finally block by writing a finally clause that does two things:\n",
    "\n",
    "Print 'Closing File'\n",
    "Call close() on the open_poem_file variable.\n",
    "\n",
    "<b>Hint</b><br>\n",
    "The .close() method closes files.\n",
    "\n",
    "### 5. Uncomment and run the with statement below your script.\n",
    "\n",
    "\n",
    "<B>Hint</b><br>\n",
    "You can uncomment the code by removing the preceding # marks"
   ]
  },
  {
   "cell_type": "code",
   "execution_count": null,
   "metadata": {},
   "outputs": [],
   "source": [
    "# Write your code below:\n",
    "from contextlib import contextmanager\n",
    "\n",
    "@contextmanager\n",
    "def poem_files(file, mode):\n",
    "  print('Opening File')\n",
    "  open_poem_file = open(file, mode)\n",
    "  try:\n",
    "    yield open_poem_file\n",
    "  finally:\n",
    "    print('Closing File')\n",
    "    open_poem_file.close()\n",
    "\n",
    "\n",
    "with poem_files('poem.txt', 'a') as opened_file:\n",
    "  print('Inside yield')\n",
    "  opened_file.write('Rose is beautiful, Just like you.')\n",
    "\n"
   ]
  },
  {
   "cell_type": "markdown",
   "metadata": {},
   "source": [
    "# Contextlib Error Handling\n",
    "In the previous exercise, we explored how to create a context manager using the contextlib module. However, we did not go over how to deal with errors just as we did with the class-based approach. Like any other pattern, you may run into errors when invoking your context manager using the @contextmanager decorator.\n",
    "\n",
    "\n",
    "For the class-based context manager, the __exit__ method dealt with exceptions. For the decorator method, errors are most commonly dealt with within an except block. We will build on top of our try/finally block by incorporating an except. There are two main ways to deal with errors:\n",
    "\n",
    "\n",
    "- To throw an error and stop the execution of our entire program, we can:\n",
    "    - Simply do nothing by excluding an except block\n",
    "- To catch errors and continue the execution of our program, we can:\n",
    "    - Handle the exception via an except block.\n",
    "\n",
    "\n",
    "Let’s look at an example of what a decorator based context manager that catches errors can look like:"
   ]
  },
  {
   "cell_type": "code",
   "execution_count": null,
   "metadata": {},
   "outputs": [],
   "source": [
    "from contextlib import contextmanager\n",
    " \n",
    "@contextmanager\n",
    "def open_file_contextlib(file, mode):\n",
    "  open_file = open(file, mode)\n",
    " \n",
    "try:\n",
    "   yield open_file\n",
    " \n",
    " # Exception Handling\n",
    " except Exception as exception:\n",
    "   print('We hit an error: ' + str(exception))\n",
    " \n",
    " finally:\n",
    "   open_file.close()\n",
    " \n",
    "with open_file_contextlib('file.txt', 'w') as opened_file:\n",
    " opened_file.sign('We just made a context manager using contexlib')"
   ]
  },
  {
   "cell_type": "markdown",
   "metadata": {},
   "source": [
    " Notice:\n",
    "\n",
    "- The inclusion of the except clause\n",
    "- The except attempts to catch a generic Exception and, if it is hit, saves it to a variable exception.\n",
    "    - Note: we can use any exception object, not just a generic one, if we know the specific exception we are trying to catch.\n",
    "- The handler then prints out the error\n",
    "When this context manager is called in the with statement above, it will hit the exception block because .sign() is not a file method. The output would look like this:"
   ]
  },
  {
   "cell_type": "code",
   "execution_count": null,
   "metadata": {},
   "outputs": [],
   "source": [
    "We hit an error: '_io.TextIOWrapper' object has no attribute 'sign'"
   ]
  },
  {
   "cell_type": "markdown",
   "metadata": {},
   "source": [
    "This tells us what our error is, so we know what to fix. Now, let’s practice upgrading our poem_files context manager to catch exceptions."
   ]
  },
  {
   "cell_type": "markdown",
   "metadata": {},
   "source": [
    "# Instructions\n",
    "### 1. Let’s add an except clause to the poem_files context manager so that it catches an AttributeError exception, saves it as a variable called e.\n",
    "\n",
    "Print e inside of the except block.\n",
    "\n",
    "\n",
    "<b>Hint</b><br>\n",
    "The base syntax for catching an exception looks like this:"
   ]
  },
  {
   "cell_type": "code",
   "execution_count": null,
   "metadata": {},
   "outputs": [],
   "source": [
    "except <exception> as <variable>:\n",
    "  print(<variable>)"
   ]
  },
  {
   "cell_type": "markdown",
   "metadata": {},
   "source": [
    "### 2. Let’s see our exception handling in action! Uncomment the with statement block and run code.\n",
    "\n",
    "\n",
    "<B>Hint</b><br>\n",
    "The output should contain: '_io.TextIOWrapper' object has no attribute 'sign'"
   ]
  },
  {
   "cell_type": "code",
   "execution_count": null,
   "metadata": {},
   "outputs": [],
   "source": [
    "from contextlib import contextmanager\n",
    " \n",
    "@contextmanager\n",
    "def poem_files(file, mode):\n",
    "  print('Opening File')\n",
    "  open_poem_file = open(file, mode)\n",
    "  try:\n",
    "    yield open_poem_file\n",
    "  #Write your code below: \n",
    "  except AttributeError as e:\n",
    "    print(e)\n",
    "\n",
    "  finally:\n",
    "    print('Closing File')\n",
    "    open_poem_file.close()\n",
    "\n",
    "with poem_files('poem.txt', 'a') as opened_file:\n",
    "    print('Inside yield')\n",
    "    opened_file.sign('Buzz is big city. big city is buzz.')\n"
   ]
  },
  {
   "cell_type": "markdown",
   "metadata": {},
   "source": [
    "# Nested Context Managers\n",
    "So far, we’ve only been using context managers within the context (Ha! Get it?) of one file. In most programs, there might be a need to use context managers for a couple of different scenarios that include working with multiple files! For example, we might want to:\n",
    "\n",
    "- Work with information from multiple files.\n",
    "- Copy the same information to multiple files.\n",
    "- Copy information from one file to another.\n",
    "\n",
    "\n",
    "To accomplish this goal of working with multiple resources at once, context managers can be nested together in a with statement to manage multiple resources simultaneously.\n",
    "\n",
    "\n",
    "Let’s imagine we have two files: a teacher.txt file and a student.txt. We want to copy all the information on the student file to the teachers. Our code might look like this:"
   ]
  },
  {
   "cell_type": "code",
   "execution_count": null,
   "metadata": {},
   "outputs": [],
   "source": [
    "with open('teacher.txt', 'w') as teacher, open('student.txt', 'r') as student:\n",
    " teacher.write(student.read())"
   ]
  },
  {
   "cell_type": "markdown",
   "metadata": {},
   "source": [
    "Notice:\n",
    "\n",
    "- The with statement is being called once but invoking two context managers. This is a single-line nested with statement.\n",
    "- Each context manager is separated by a comma and has its own target variable.\n",
    "- Our teacher.txt file is being opened in write mode because it will be written into and our student.txt is opened in read mode because we are attempting to copy the text into the teacher’s file\n",
    "- The resulting teacher.txt file will now include everything that was in the student.txt file.\n",
    "- Here we have chosen to use the open() built-in function rather than a custom context manager. It is entirely possible to use our own in place of the open() function.\n",
    "\n",
    "\n",
    "We can also write the above nested context managers in a slightly different way:"
   ]
  },
  {
   "cell_type": "code",
   "execution_count": null,
   "metadata": {},
   "outputs": [],
   "source": [
    "with open(\"teacher.txt\", \"w\") as teacher:\n",
    "   with open(\"student.txt\", \"r\") as student:\n",
    "     teacher.write(student.read())"
   ]
  },
  {
   "cell_type": "markdown",
   "metadata": {},
   "source": [
    "Notice that this syntax is almost similar to the first method. However, here are some differences to note:\n",
    "\n",
    "- The with statement is being called twice\n",
    "- The proceeding with statement is nested in the code block of the proceeding with statement\n",
    "- This method, though slightly longer gives a clearer visual of nesting and is preferable when working with more than two context managers.\n",
    "\n",
    "\n",
    "Let’s practice nesting context manager with our poem_files decorator-based context manager from earlier!"
   ]
  },
  {
   "cell_type": "markdown",
   "metadata": {},
   "source": [
    "## Instructions\n",
    "### 1. Let’s return to our poem context manager. This time, we want to start transferring poems from a poem.txt file to a card.txt file. We plan to create some poem greeting cards for all our friends!\n",
    "\n",
    "\n",
    "Write a nested context manager that uses the poem_files context manager to open poem.txt in read mode and saves it to a variable called poem\n",
    "\n",
    "\n",
    "Nested inside, use the card_files context manager to open the card.txt file in write mode and saves it to a variable called card.\n",
    "\n",
    "\n",
    "Print poem and card to confirm we can access both files.\n",
    "\n",
    "\n",
    "<b>Hint</b><br>\n",
    "Our structure should take this form:"
   ]
  },
  {
   "cell_type": "code",
   "execution_count": null,
   "metadata": {},
   "outputs": [],
   "source": [
    "with <context manager> as < target variable> :\n",
    "   with <context manager> as <target variable> :\n",
    "     # some code we want to execute"
   ]
  },
  {
   "cell_type": "markdown",
   "metadata": {},
   "source": [
    "### 2. Finally, inside of our nested context managers, and under our print statements, write to card.txt the contents of poem.txt.\n",
    "\n",
    "\n",
    "<B>Hint</b><br>\n",
    "Use the built-in write() and read() functions to write to card.txt the contents of poem.txt."
   ]
  },
  {
   "cell_type": "code",
   "execution_count": null,
   "metadata": {},
   "outputs": [],
   "source": [
    "from contextlib import contextmanager\n",
    " \n",
    "@contextmanager\n",
    "def poem_files(file, mode):\n",
    "  print('Opening File')\n",
    "  open_poem_file = open(file, mode)\n",
    "  try:\n",
    "    yield open_poem_file\n",
    "  finally:\n",
    "    print('Closing File')\n",
    "    open_poem_file.close()\n",
    "\n",
    "\n",
    "@contextmanager\n",
    "def card_files(file, mode):\n",
    "  print('Opening File')\n",
    "  open_card_file = open(file, mode)\n",
    "  try:\n",
    "    yield open_card_file\n",
    "  finally:\n",
    "    print('Closing File')\n",
    "    open_card_file.close()\n",
    "\n",
    "# Write your code below: \n",
    "with poem_files('poem.txt', 'r') as poem:\n",
    "  with card_files('card.txt', 'w') as card:\n",
    "    print(poem, card)\n",
    "    card.write(poem.read())"
   ]
  },
  {
   "cell_type": "markdown",
   "metadata": {},
   "source": [
    "# Review\n",
    "Congratulations! We have reached the end of the context managers lesson. Making it this far means that we have explored many of the core concepts behind context managers. Let’s recap:\n",
    "\n",
    "### Context Managers:\n",
    "\n",
    "- Context managers are a form of resource management in python invoked by the with statement.\n",
    "- They ensure that resources are closed/released after usage regardless of whether or not an error occurs.\n",
    "- They can be created from scratch using either the class-based method or the contextlib decorator-based method.\n",
    "- Behind every context manager, there’s an __enter__ and __exit__ method taking place.\n",
    "- Context managers can be nested together to work with resources simultaneously.\n",
    "\n",
    "\n",
    "<b>Class-Based Context Managers</b>\n",
    "\n",
    "\n",
    "- They can be created from scratch with the manual implementation of the __enter__ and __exit__ method.\n",
    "- The __exit__ method takes three arguments: An exception type, exception value, and a \n",
    "traceback. The method can then handle exceptions.\n",
    "\n",
    "\n",
    "<B>Decorator Based Context Managers</b>\n",
    "\n",
    "\n",
    "- They can be created from scratch using the contextlib contextmanager decorator on a generator function\n",
    "- In the contextlib method, the except block handles exception’s code block"
   ]
  },
  {
   "cell_type": "markdown",
   "metadata": {},
   "source": [
    "## Instructions\n",
    "To explore context managers further check out the Python Documentation."
   ]
  },
  {
   "cell_type": "markdown",
   "metadata": {},
   "source": [
    "https://docs.python.org/3/library/contextlib.html#module-contextlib"
   ]
  }
 ],
 "metadata": {
  "interpreter": {
   "hash": "126de395fc5ab05c9b404d5156ac230f2dc2d73638f7037ba66d30fa539ce6ef"
  },
  "kernelspec": {
   "display_name": "Python 3.10.1 64-bit",
   "language": "python",
   "name": "python3"
  },
  "language_info": {
   "codemirror_mode": {
    "name": "ipython",
    "version": 3
   },
   "file_extension": ".py",
   "mimetype": "text/x-python",
   "name": "python",
   "nbconvert_exporter": "python",
   "pygments_lexer": "ipython3",
   "version": "3.10.1"
  },
  "orig_nbformat": 4
 },
 "nbformat": 4,
 "nbformat_minor": 2
}
