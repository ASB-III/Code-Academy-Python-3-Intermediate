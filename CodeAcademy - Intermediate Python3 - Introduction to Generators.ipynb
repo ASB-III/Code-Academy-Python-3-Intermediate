{
 "cells": [
  {
   "cell_type": "markdown",
   "metadata": {},
   "source": [
    "# Introduction to Generators"
   ]
  },
  {
   "cell_type": "markdown",
   "metadata": {},
   "source": [
    "In Python, a generator allows for the creation of iterators without having to implement __iter__() and __next__() methods. Generators improve code readability, save memory by allowing for iterative access of elements, and allow for the traversal of infinite streams of data.\n",
    "\n",
    "\n",
    "There are two types of generators in Python:\n",
    "\n",
    "\n",
    "1. Generator functions\n",
    "\n",
    "2. Generator Expressions\n",
    "\n",
    "\n",
    "Both of these return a generator object that can be looped over similar to a list, but unlike a list, the contents of the generator object are not stored in memory, allowing for complex and even infinite iteration of data.\n",
    "\n",
    "\n",
    "Defining a generator function will resemble how we already define regular functions, except for a few key components that we will dive into in the following exercises.\n",
    "\n",
    "\n",
    "### Instructions\n",
    "\n",
    "\n",
    "Review the image to your right to see what topics will be covered to learn about Python generators.\n",
    "\n",
    "https://static-assets.codecademy.com/Courses/Intermediate-Python/image2vector.svg"
   ]
  },
  {
   "cell_type": "markdown",
   "metadata": {},
   "source": [
    "## yield vs return\n",
    "Generator functions are similar to regular functions except that they must return an iterator. But instead of using a return statement, generator functions use an expression called yield.\n",
    "\n",
    "So how does yield differ from a return statement? Well, any code that is written after a yield expression will execute on the next iteration of the iterator. Code written after a return statement will not execute.\n",
    "\n",
    "The following example shows how the yield expression is used within a generator function:"
   ]
  },
  {
   "cell_type": "code",
   "execution_count": null,
   "metadata": {},
   "outputs": [],
   "source": [
    "def course_generator():\n",
    "  yield 'Computer Science'\n",
    "  yield 'Art'\n",
    "  yield 'Business'"
   ]
  },
  {
   "cell_type": "markdown",
   "metadata": {},
   "source": [
    "This function will return an iterator that contains the string values ‘Computer Science’, ‘Art’, and ‘Business’. On each iteration of the iterator, each yield will return its corresponding course value."
   ]
  },
  {
   "cell_type": "code",
   "execution_count": null,
   "metadata": {},
   "outputs": [],
   "source": [
    "courses = course_generator()\n",
    "for course in courses:\n",
    "    print(course)"
   ]
  },
  {
   "cell_type": "markdown",
   "metadata": {},
   "source": [
    "Would print out:"
   ]
  },
  {
   "cell_type": "code",
   "execution_count": null,
   "metadata": {},
   "outputs": [],
   "source": [
    "Computer Science\n",
    "Art\n",
    "Business"
   ]
  },
  {
   "cell_type": "markdown",
   "metadata": {},
   "source": [
    "Another key difference between yield and return is that the yield expression will suspend the execution of the function and preserve any local variables that exist within the function. The return statement will terminate the function immediately and return the result(s) to the caller.\n",
    "\n",
    "Like all objects, the iterator object returned by a generator function can be stored in a variable to be used later. It can then be iterated through as needed.\n",
    "\n",
    "Let’s utilize the yield keyword to write our own generator function!\n",
    "\n",
    "### Instructions\n",
    "#### 1. We want to create a generator that will generate values of class standings: 'Freshman', 'Sophomore', 'Junior', and 'Senior'. The generator function should be named class_standing_generator.\n",
    "\n",
    "\n",
    "<B>Hint</B><BR>\n",
    "Create a generator function that utilizes yield for each class standing.\n",
    "\n",
    "#### 2. Initialize an iterator object called class_standings from calling class_standing_generator().\n",
    "\n",
    "\n",
    "<B>Hint</B><BR>\n",
    "Call the class_standing_generator() function and set it to a variable named class_standings.\n",
    "\n",
    "#### 3. Use a for loop to iterate through the class_standings iterator to print out each class standing value.\n",
    "\n",
    "\n",
    "<B>Hint</B><BR>\n",
    "Use print(variable) to print out the variable value."
   ]
  },
  {
   "cell_type": "code",
   "execution_count": null,
   "metadata": {},
   "outputs": [],
   "source": [
    "# Checkpoint 1\n",
    "def class_standing_generator():\n",
    "  yield 'Freshman'\n",
    "  yield 'Sophomore'\n",
    "  yield 'Junior'\n",
    "  yield 'Senior'\n",
    "\n",
    "# Checkpoint 2\n",
    "class_standings = class_standing_generator()\n",
    "\n",
    "# Checkpoint 3\n",
    "for standing in class_standings:\n",
    "  print(standing)"
   ]
  },
  {
   "cell_type": "markdown",
   "metadata": {},
   "source": [
    "## next() and StopIteration\n",
    "Generator functions return an iterator object that contains traversable values. To retrieve the next value from a generator object, we can use the Python built-in function next() which will cause the generator function to resume its execution until the next yield expression is found. After the next yield expression is found, the function will pause execution again.\n",
    "\n",
    "If no additional yield expressions are found in a generator function, that means the code has finished and a StopIteration is raised.\n",
    "\n",
    "Generator functions are not limited to just single yield statements. They can also include loops where the yield occurs.\n",
    "\n",
    "To see this in action, imagine we have a dictionary of students and their student ID numbers. We want to hold a raffle where every student whose student ID is a multiple of 3 wins prize A and every student whose ID is a multiple of 5 wins prize B. Any student whose ID is both a multiple of 3 and 5 wins prize C.\n",
    "\n",
    "Here is what it might look like:"
   ]
  },
  {
   "cell_type": "code",
   "execution_count": null,
   "metadata": {},
   "outputs": [],
   "source": [
    "def prize_generator():\n",
    "  student_info = {\n",
    "    \"Joan Stark\": 355,\n",
    "    \"Billy Mars\": 45,\n",
    "    \"Tori Rivers\": 18,\n",
    "    \"Kyle Newman\": 25\n",
    "  }\n",
    " \n",
    "  for student in student_info:\n",
    "    name = student\n",
    "    id = student_info[name]\n",
    "    if id % 3 == 0 and id % 5 == 0:\n",
    "      yield student + \" gets prize C\"\n",
    "    elif id % 3 == 0:\n",
    "      yield student + \" gets prize A\"\n",
    "    elif id % 5 == 0:\n",
    "      yield student + \" gets prize B\""
   ]
  },
  {
   "cell_type": "markdown",
   "metadata": {},
   "source": [
    "Since this is a generator function, the local variable dictionary, student_info is preserved while the function executes with each next() call. We can see this by creating a variable prizes that calls the prize_generator() function and then calling next() on it. Let’s have a look:"
   ]
  },
  {
   "cell_type": "code",
   "execution_count": null,
   "metadata": {},
   "outputs": [],
   "source": [
    "prizes = prize_generator()\n",
    "print(next(prizes))\n",
    "print(next(prizes))\n",
    "print(next(prizes))\n",
    "print(next(prizes))"
   ]
  },
  {
   "cell_type": "markdown",
   "metadata": {},
   "source": [
    "Running this code will produce the following output:"
   ]
  },
  {
   "cell_type": "code",
   "execution_count": null,
   "metadata": {},
   "outputs": [],
   "source": [
    "Joan Stark gets prize B\n",
    "Billy Mars gets prize C\n",
    "Tori Rivers gets prize A\n",
    "Kyle Newman gets prize B"
   ]
  },
  {
   "cell_type": "markdown",
   "metadata": {},
   "source": [
    "If we were to call next() one additional time, we would see a StopIteration exception raised since the student_info dictionary will have been exhausted:"
   ]
  },
  {
   "cell_type": "code",
   "execution_count": null,
   "metadata": {},
   "outputs": [],
   "source": [
    "print(next(prizes))"
   ]
  },
  {
   "cell_type": "markdown",
   "metadata": {},
   "source": [
    "Running this code will produce the following output:"
   ]
  },
  {
   "cell_type": "code",
   "execution_count": null,
   "metadata": {},
   "outputs": [],
   "source": [
    "StopIteration"
   ]
  },
  {
   "cell_type": "markdown",
   "metadata": {},
   "source": [
    "Now, let’s practice retrieving values from a generator object!\n",
    "\n",
    "\n",
    "### Instructions\n",
    "#### 1. A list student_standings of four student’s class standings is inside the generator function student_standing_generator().\n",
    "\n",
    "\n",
    "Finish the function by adding a for loop that traverses through the student_standings list and yields 500 for each 'Freshman' value.\n",
    "\n",
    "\n",
    "<b>Hint</b><br>\n",
    "The if statement should check if the for loop variable equals 'Freshman'.\n",
    "\n",
    "\n",
    "#### 2. Outside the function, retrieve the iterator object by calling student_standing_generator() and set it to a variable called standing_values.\n",
    "\n",
    "\n",
    "<b>Hint</b><br>\n",
    "Call the student_standing_generator() function and set it to a variable named standing_values.\n",
    "\n",
    "\n",
    "#### 3. Print out the values within the returned standing_values generator using the Python built-in function next().\n",
    "\n",
    "\n",
    "Two values of 500 should be retrieved since our student_standings list contained two 'Freshman' values.\n",
    "\n",
    "\n",
    "<b>Hint</b><br>\n",
    "Use the built-in function next() twice to print out each value\n",
    "\n",
    "\n",
    "#### 4. Use next() one more time on the generator object. What occurs?\n",
    "\n",
    "\n",
    "<b>Hint</b><br>\n",
    "A StopIteration error should be raised."
   ]
  },
  {
   "cell_type": "code",
   "execution_count": null,
   "metadata": {},
   "outputs": [],
   "source": [
    "def student_standing_generator():\n",
    "  student_standings = ['Freshman','Senior', 'Junior', 'Freshman']\n",
    "  # Write your code below:\n",
    "  for standings in student_standings:\n",
    "    if standings == 'Freshman':\n",
    "      yield 500\n",
    "\n",
    "standing_values = student_standing_generator()  \n",
    "\n",
    "print(next(standing_values))\n",
    "print(next(standing_values))\n",
    "print(next(standing_values))"
   ]
  },
  {
   "cell_type": "markdown",
   "metadata": {},
   "source": [
    "## Generator Expressions\n",
    "Generator expressions allow for a clean, single-line definition and creation of an iterator. By using a generator expression, there is no need to define a full generator function as we covered in the previous exercises.\n",
    "\n",
    "Generator expressions resemble the syntax of list comprehensions. However, they do differ in the following ways:"
   ]
  },
  {
   "cell_type": "markdown",
   "metadata": {},
   "source": [
    "| Generator Expressions\t| List Comprehensions |\n",
    "|-----|-----|\n",
    "| Returns a newly defined iterator | Returns a new list |\n",
    "| Uses parentheses | Uses brackets"
   ]
  },
  {
   "cell_type": "markdown",
   "metadata": {},
   "source": [
    "Let’s look at an example of how the two compare:"
   ]
  },
  {
   "cell_type": "code",
   "execution_count": null,
   "metadata": {},
   "outputs": [],
   "source": [
    "# List comprehension\n",
    "a_list = [i*i for i in range(4)]\n",
    " \n",
    "# Generator comprehension\n",
    "a_generator = (i*i for i in range(4))"
   ]
  },
  {
   "cell_type": "markdown",
   "metadata": {},
   "source": [
    "In this code above, a_list will be a list object containing the values [0, 1, 4, 9]. The object a_generator will be a generator object that cannot be accessed directly like a_list. It will need to be traversed to retrieve the values it contains. To show this further, we can print out a_list and a_generator and see what is returned:"
   ]
  },
  {
   "cell_type": "code",
   "execution_count": null,
   "metadata": {},
   "outputs": [],
   "source": [
    "print(a_list)\n",
    "print(a_generator)"
   ]
  },
  {
   "cell_type": "markdown",
   "metadata": {},
   "source": [
    "Running this code will produce the following output:"
   ]
  },
  {
   "cell_type": "code",
   "execution_count": null,
   "metadata": {},
   "outputs": [],
   "source": [
    "[0, 1, 4, 9]\n",
    "<generator object <genexpr> at 0x7f82e0e4d4c0>"
   ]
  },
  {
   "cell_type": "markdown",
   "metadata": {},
   "source": [
    "Since our generator expression returns an iterator object, we can loop through to obtain the values within it:"
   ]
  },
  {
   "cell_type": "code",
   "execution_count": null,
   "metadata": {},
   "outputs": [],
   "source": [
    "for i in a_generator:\n",
    "    print(i)"
   ]
  },
  {
   "cell_type": "markdown",
   "metadata": {},
   "source": [
    "Which produces the following output:"
   ]
  },
  {
   "cell_type": "code",
   "execution_count": null,
   "metadata": {},
   "outputs": [],
   "source": [
    "0\n",
    "1\n",
    "4\n",
    "9"
   ]
  },
  {
   "cell_type": "markdown",
   "metadata": {},
   "source": [
    "We can practice more with generator expressions by using them to create some new college courses!"
   ]
  },
  {
   "cell_type": "markdown",
   "metadata": {},
   "source": [
    "### Instructions\n",
    "#### 1. Given the defined generator function cs_generator(), retrieve a generator object by calling cs_generator() and set it to a variable called cs_courses. Print out the values within the iterator using a for loop.\n",
    "\n",
    "\n",
    "<b>Hint</b><br>\n",
    "The syntax should resemble:"
   ]
  },
  {
   "cell_type": "code",
   "execution_count": null,
   "metadata": {},
   "outputs": [],
   "source": [
    "cs_courses = cs_generator()"
   ]
  },
  {
   "cell_type": "markdown",
   "metadata": {},
   "source": [
    "#### 2. After the for loop, create an iterator using a generator expression and put it in a variable called cs_generator_exp. The iterator should produce the same output as cs_generator().\n",
    "\n",
    "\n",
    "<b>Hint</b><br>\n",
    "Use range(1,5) within the generator expression to generate the course number.\n",
    "\n",
    "#### 3. Print out the values of the cs_generator_exp iterator object using a for loop. The output should match the for loop print output of iterating over cs_courses.\n",
    "\n",
    "\n",
    "<b>Hint</b><br>\n",
    "Use the print() statement to print each item in the generator."
   ]
  },
  {
   "cell_type": "code",
   "execution_count": null,
   "metadata": {},
   "outputs": [],
   "source": [
    "ef cs_generator():\n",
    "  for i in range(1,5):\n",
    "    yield \"Computer Science \" + str(i)\n",
    "\n",
    "# Write your code below:\n",
    "\n",
    "cs_courses = cs_generator()\n",
    "for i in cs_courses:\n",
    "  print(i)\n",
    "\n",
    "cs_generator_exp = (\"Computer Science {}\".format(i) for i in range(1,5))\n",
    "\n",
    "for i in cs_generator_exp:\n",
    "  print(i)"
   ]
  },
  {
   "cell_type": "markdown",
   "metadata": {},
   "source": [
    "## Generator Methods: send()\n",
    "Python provides a few special methods to manipulate generators!\n",
    "\n",
    "The .send() method allows us to send a value to a generator using the yield expression. If you assign yield to a variable the argument passed to the .send() method will be assigned to that variable. Calling .send() will also cause the generator to perform an iteration.\n",
    "\n",
    "Look at the following example to see the behavior of the .send() method:"
   ]
  },
  {
   "cell_type": "code",
   "execution_count": null,
   "metadata": {},
   "outputs": [],
   "source": [
    "def count_generator():\n",
    "  while True:\n",
    "    n = yield\n",
    "    print(n)\n",
    " \n",
    "my_generator = count_generator()\n",
    "next(my_generator) # 1st Iteration Output: \n",
    "next(my_generator) # 2nd Iteration Output: None\n",
    "my_generator.send(3) # 3rd Iteration Output: 3\n",
    "next(my_generator) # 4th Iteration Output: None"
   ]
  },
  {
   "cell_type": "markdown",
   "metadata": {},
   "source": [
    "In the code example above, the generator definition contains the line n = yield. This assigns the value in yield to n which will be None unless a value is passed using .send().\n",
    "\n",
    "\n",
    "The last 4 lines in the code are 4 iterations, 3 using next() and one using the .send() method:\n",
    "\n",
    "\n",
    "- The 1st iteration creates no output since the execution stops at n = yield which is before print(n).\n",
    "- The 2nd iteration assigns None to n through the n = yield expression. None is printed.\n",
    "- The 3rd iteration is caused by my_generator.send(3). The value 3 is passed through yield and assigned to n. 3 is printed.\n",
    "- The last, and 4th, iteration, assigns None to n. None is printed.\n",
    "\n",
    "\n",
    "The .send() method can control the value of the generator when a second variable is introduced. One variable holds the iteration value and the other holds the value passed through yield."
   ]
  },
  {
   "cell_type": "code",
   "execution_count": null,
   "metadata": {},
   "outputs": [],
   "source": [
    "def generator():\n",
    "  count = 0\n",
    "  while True:\n",
    "    n = yield count\n",
    "    if n is not None:\n",
    "      count = n\n",
    "    count += 1\n",
    " \n",
    "my_generator = generator()\n",
    "print(next(my_generator)) # Output: 0\n",
    "print(next(my_generator)) # Output: 1\n",
    "print(my_generator.send(3)) # Output: 4\n",
    "print(next(my_generator)) # Output: 5"
   ]
  },
  {
   "cell_type": "markdown",
   "metadata": {},
   "source": [
    "In the above example, the generator function defines count = 0 as the iteration value. n is used to hold the value provided by yield. Just like next(), the .send() method returns the value of the recent iteration. In this example, the return values are printed using print().\n",
    "\n",
    "\n",
    "The updated line, n = yield count, has 2 behaviors:\n",
    "\n",
    "\n",
    "- At the start of each iteration the value provided by yield is assigned to n. This value will be None when next() causes an iteration or it will be equal to the value passed using .send()\n",
    "- At the end of each iteration, the value stored in count is returned by the generator.\n",
    "\n",
    "\n",
    "If n is not None the value stored in n can be assigned to the iterator variable, count. This allows the iterator to only change the value of count when the .send() method is called."
   ]
  },
  {
   "cell_type": "markdown",
   "metadata": {},
   "source": [
    "### Instructions\n",
    "\n",
    "\n",
    "#### 1. You are a teacher with a roster of 50 students. You have created a generator, get_student_ids(), that outputs each student’s id which you then use for assignment grading.\n",
    "\n",
    "Things to note about the code in the workspace:\n",
    "\n",
    "MAX_STUDENTS is set to 50 and is used in the while loop condition to cutoff the iteration.\n",
    "student_id is initialized to 1 and is incremented at the bottom of the while loop.\n",
    "The generator currently uses yield to return student_id at the end of each iteration.\n",
    "A for loop at the bottom of the code iterates through the generator object student_id_generator and outputs each id.\n",
    "Run the code to see all 50 ids printed.\n",
    "\n",
    "\n",
    "<b>Hint</b><br>\n",
    "Run the code to move to the next task!\n",
    "\n",
    "#### 2. When you are interrupted while grading, you need to pick up where you left off! This requires you to start the id generation at a number higher than 1. One way to solve this problem is to change the generator to support the .send() method.\n",
    "\n",
    "Inside get_student_ids():\n",
    "\n",
    "Change the yield expression so the value from yield is assigned to n.\n",
    "Just below the yield expression check that n is not equal to None. If they are not equal, assign the value of n to student_id.\n",
    "Still inside the if statement, stop student_id from incrementing by skipping the rest of the iteration.\n",
    "When you run the code, you should see no change.\n",
    "\n",
    "\n",
    "<b>Hint</b><br>\n",
    "Use the following syntax:"
   ]
  },
  {
   "cell_type": "code",
   "execution_count": null,
   "metadata": {},
   "outputs": [],
   "source": [
    "send_value = yield iterator_value\n",
    "if send_value is not None:\n",
    "  iterator_value = send_value"
   ]
  },
  {
   "cell_type": "markdown",
   "metadata": {},
   "source": [
    "#### 3. To start the iteration at a different id, you want to send the generator a new value during the first iteration.\n",
    "\n",
    "Inside the for loop and before print(i):\n",
    "\n",
    "Check if i is equal to the first id number, 1.\n",
    "If so, set i to the return value of the student_id_generator.send() method.\n",
    "Set the argument for the .send() method so the output starts at 25.\n",
    "\n",
    "<b>Hint</b><br>\n",
    "Use the following syntax:"
   ]
  },
  {
   "cell_type": "code",
   "execution_count": null,
   "metadata": {},
   "outputs": [],
   "source": [
    "if loop_variable == id_number:\n",
    "    loop_variable = generator.send(start_value)"
   ]
  },
  {
   "cell_type": "code",
   "execution_count": null,
   "metadata": {},
   "outputs": [],
   "source": [
    "MAX_STUDENTS = 50\n",
    "\n",
    "def get_student_ids():\n",
    "  student_id = 1\n",
    "  while student_id <= MAX_STUDENTS:\n",
    "    # Write your code below\n",
    "    n = yield student_id\n",
    "    if n is not None:\n",
    "      student_id = n\n",
    "      continue\n",
    "    student_id += 1\n",
    "\n",
    "student_id_generator = get_student_ids()\n",
    "for i in student_id_generator:\n",
    "  # Write your code below\n",
    "  if i == 1:\n",
    "    i = student_id_generator.send(25)\n",
    "  \n",
    "  print(i)"
   ]
  },
  {
   "cell_type": "markdown",
   "metadata": {},
   "source": [
    "## Generator Methods: throw()\n",
    "The generator method throw() provides the ability to throw an exception inside the generator from the caller point. This can be useful if we need to end the generator once it reaches a certain value or meets a particular condition.\n",
    "\n",
    "Using the throw() method looks like the following:"
   ]
  },
  {
   "cell_type": "code",
   "execution_count": null,
   "metadata": {},
   "outputs": [],
   "source": [
    "def generator():\n",
    "  i = 0\n",
    "  while True:\n",
    "    yield i\n",
    "    i += 1\n",
    " \n",
    "my_generator = generator()\n",
    "for item in my_generator:\n",
    "    if item == 3:\n",
    "        my_generator.throw(ValueError, \"Bad value given\")\n",
    "        "
   ]
  },
  {
   "cell_type": "markdown",
   "metadata": {},
   "source": [
    "To see how the throw() method can be used in a real-world scenario, let’s practice using it some more.\n",
    "\n",
    "### Instructions\n",
    "#### 1. We have a collection of 5,000 students.\n",
    "\n",
    "We only want to retrieve information on the first 100 students. Use the throw() method to throw a ValueError of “Invalid student ID” if the iterated student ID goes over 100. Insert your code before the print(student_id) line.\n",
    "\n",
    "\n",
    "<b>Hint</b><br>\n",
    "To interrupt the student id output past 100 use the .throw() method to throw a ValueError. Use the following syntax:"
   ]
  },
  {
   "cell_type": "code",
   "execution_count": null,
   "metadata": {},
   "outputs": [],
   "source": [
    "for loop_variable in generator_object:\n",
    "  if test_condition:\n",
    "    generator_object.throw(ValueError)\n",
    "  print(loop_variable)"
   ]
  },
  {
   "cell_type": "markdown",
   "metadata": {},
   "source": [
    "You can pass a String as a second parameter to the .throw() method."
   ]
  },
  {
   "cell_type": "code",
   "execution_count": null,
   "metadata": {},
   "outputs": [],
   "source": [
    "def student_counter():\n",
    "  for i in range(1,5001):\n",
    "    yield i\n",
    "\n",
    "student_generator = student_counter()\n",
    "for student_id in student_generator:\n",
    "  # Write your code below:\n",
    "  if student_id >= 100:\n",
    "    student_generator.throw(ValueError, 'Invalid student ID')\n",
    "  print(student_id)"
   ]
  },
  {
   "cell_type": "markdown",
   "metadata": {},
   "source": [
    "## Generator Methods: close()\n",
    "The generator method .close() is used to terminate a generator early. Once the .close() method is called the generator is finished just like the end of a for loop. Any further iteration attempts will raise a StopIteration exception."
   ]
  },
  {
   "cell_type": "code",
   "execution_count": null,
   "metadata": {},
   "outputs": [],
   "source": [
    "def generator():\n",
    "  i = 0\n",
    "  while True:\n",
    "    yield i\n",
    "    i += 1\n",
    " \n",
    "my_generator = generator()\n",
    "next(my_generator)\n",
    "next(my_generator)\n",
    "my_generator.close()\n",
    "next(my_generator) # raises StopGenerator exception"
   ]
  },
  {
   "cell_type": "markdown",
   "metadata": {},
   "source": [
    "In the above example, my_generator() holds an an infinite generator object. After a couple next(my_generator) calls, my_generator.close() is called. When we attempt to call next(my_generator) again, a StopIteration exception is raised.\n",
    "\n",
    "The .close() method works by raising a GeneratorExit exception inside the generator function. The exception is generally ignored but can be handled using try and except."
   ]
  },
  {
   "cell_type": "code",
   "execution_count": null,
   "metadata": {},
   "outputs": [],
   "source": [
    "def generator():\n",
    "  i = 0\n",
    "  while True: \n",
    "    try:\n",
    "      yield i\n",
    "    except GeneratorExit:\n",
    "      print(\"Early exit, BYE!\")\n",
    "      break\n",
    "    i += 1\n",
    " \n",
    "my_generator = generator()\n",
    "for item in my_generator:\n",
    "  print(item)\n",
    "  if item == 1:\n",
    "    my_generator.close()"
   ]
  },
  {
   "cell_type": "code",
   "execution_count": null,
   "metadata": {},
   "outputs": [],
   "source": [
    "0\n",
    "1\n",
    "Early exit, BYE!"
   ]
  },
  {
   "cell_type": "markdown",
   "metadata": {},
   "source": [
    "Putting the yield expression in a try block we can handle the GeneratorExit exception. In this case, we simply print out a message. Because we interrupted the automatic behavior of the .close() method, we must also use a break to exit the loop or else a RuntimeError will occur.\n",
    "\n",
    "To practice this further, we can attempt to use the .close() method on our student generator.\n",
    "\n",
    "### Instructions\n",
    "#### 1. We have a collection of 5,000 students. We only want to retrieve information on the first 100 students. Use the close() method to terminate the generator after 100 students.\n",
    "\n",
    "\n",
    "<b>Hint</b><br>\n",
    "Since close() will not terminate the for loop, a break must be added within the conditional if statement to terminate the loop after the 100th ID is printed."
   ]
  },
  {
   "cell_type": "code",
   "execution_count": null,
   "metadata": {},
   "outputs": [],
   "source": [
    "def student_counter():\n",
    "  for i in range(1,5001):\n",
    "    yield i\n",
    "\n",
    "student_generator = student_counter()\n",
    "for student_id in student_generator:\n",
    "  print(student_id)\n",
    "  # Write your code below:\n",
    "  if student_id >= 100:\n",
    "    student_generator.close()"
   ]
  },
  {
   "cell_type": "markdown",
   "metadata": {},
   "source": [
    "## Connecting Generators\n",
    "There are some cases where it is useful to connect multiple generators into one. This allows us to delegate the operations of one generator to another sub-generator. Connecting generators is similar to using the itertools chain() function to combine iterators into a single iterator.\n",
    "\n",
    "In order to connect generators, we use the yield from statement. An example of how it is used is below:"
   ]
  },
  {
   "cell_type": "code",
   "execution_count": null,
   "metadata": {},
   "outputs": [],
   "source": [
    "def cs_courses():\n",
    "    yield 'Computer Science'\n",
    "    yield 'Artificial Intelligence'\n",
    " \n",
    "def art_courses():\n",
    "    yield 'Intro to Art'\n",
    "    yield 'Selecting Mediums'\n",
    " \n",
    " \n",
    "def all_courses():\n",
    "    yield from cs_courses()\n",
    "    yield from art_courses()\n",
    " \n",
    "combined_generator = all_courses()"
   ]
  },
  {
   "cell_type": "markdown",
   "metadata": {},
   "source": [
    "Let’s break down this example:\n",
    "\n",
    "- We have a generator function called cs_courses() that yields two results, 'Computer Science' and 'Artificial Intelligence'.\n",
    "- We have another generator function called art_courses() that will yield two separate results, 'Intro to Art' and 'Selecting Mediums'.\n",
    "- Our all_courses() generator function will yield results from both cs_courses() and art_courses() to create one combined generator with all four string values representing the courses.\n",
    "If we iterate through each value within combined_generator using print() and next(), we can see that yield from retrieves each individual yield item at a time in the order that the yields are called within the generator functions."
   ]
  },
  {
   "cell_type": "code",
   "execution_count": null,
   "metadata": {},
   "outputs": [],
   "source": [
    "print(next(combined_generator))\n",
    "print(next(combined_generator))\n",
    "print(next(combined_generator))\n",
    "print(next(combined_generator))"
   ]
  },
  {
   "cell_type": "markdown",
   "metadata": {},
   "source": [
    "Our printouts will look like the following:"
   ]
  },
  {
   "cell_type": "code",
   "execution_count": null,
   "metadata": {},
   "outputs": [],
   "source": [
    "Computer Science\n",
    "Artificial Intelligence\n",
    "Intro to Art\n",
    "Selecting Mediums"
   ]
  },
  {
   "cell_type": "markdown",
   "metadata": {},
   "source": [
    "Let’s practice more examples of how to connect generators.\n",
    "\n",
    "### Instructions\n",
    "#### 1. We have a generator function called science students(x) that yields science major students with student IDs 1 to x. We have another generator function, non_science_students(x,y), that yields non-science major students with student IDs y-z. We want to retrieve student ids in the following order:\n",
    "\n",
    "\n",
    "- Science students with IDs 1-5\n",
    "- Non-science students with IDs 10-15\n",
    "- Non-science students with IDs 25-30\n",
    "\n",
    "\n",
    "Use a connected generator function called combined_students that uses yield from statements to achieve this.\n",
    "\n",
    "\n",
    "<b>Hint</b><br>\n",
    "Use the following syntax:"
   ]
  },
  {
   "cell_type": "code",
   "execution_count": null,
   "metadata": {},
   "outputs": [],
   "source": [
    "combined_generators():\n",
    "  yield from generator1(arg1)\n",
    "  yield from generator2(arg2, arg3)\n",
    "  yield from generator2(arg4, arg5)"
   ]
  },
  {
   "cell_type": "markdown",
   "metadata": {},
   "source": [
    "#### 2. Call the combined_students() combined generator function and set it to a variable named student_generator. Print out the results using a for loop.\n",
    "\n",
    "\n",
    "<b>Hint</b><br>\n",
    "To create the combined generator object, use the following syntax:"
   ]
  },
  {
   "cell_type": "code",
   "execution_count": null,
   "metadata": {},
   "outputs": [],
   "source": [
    "generator_object = combined_generators()"
   ]
  },
  {
   "cell_type": "code",
   "execution_count": null,
   "metadata": {},
   "outputs": [],
   "source": [
    "def science_students(x):\n",
    "  for i in range(1,x+1):\n",
    "    yield i\n",
    "\n",
    "def non_science_students(x,y):\n",
    "  for i in range(x,y+1):\n",
    "    yield i\n",
    "  \n",
    "# Write your code below\n",
    "def combined_students():\n",
    "  yield from science_students(5)\n",
    "  yield from non_science_students(10,15)\n",
    "  yield from non_science_students(25,30)\n",
    "\n",
    "student_generator = combined_students()\n",
    "for students in student_generator:\n",
    "  print(students)"
   ]
  },
  {
   "cell_type": "markdown",
   "metadata": {},
   "source": [
    "## Generator Pipelines\n",
    "Generator pipelines allow us to use multiple generators to perform a series of operations all within one expression. We can break down complex operations into smaller, more manageable parts where they can then be pipelined together to achieve the desired output.\n",
    "\n",
    "To pipeline generators, the output of one generator function can be the input of another generator function. That resulting generator can then be used as input for another generator function, and so on.\n",
    "\n",
    "Pipeline generators are also often referred to as nested generators. We can use a pipelined generator like in the following example:"
   ]
  },
  {
   "cell_type": "code",
   "execution_count": null,
   "metadata": {},
   "outputs": [],
   "source": [
    "def number_generator():\n",
    "  i = 0\n",
    "  while True:\n",
    "    yield i\n",
    "    i += 1\n",
    " \n",
    "def even_number_generator(numbers):\n",
    "  for n in numbers:\n",
    "    if n % 2 == 0:\n",
    "      yield n\n",
    " \n",
    "even_numbers = even_number_generator(number_generator())\n",
    " \n",
    "for e in even_numbers:\n",
    "  print(e)\n",
    "  if e == 100:\n",
    "    break"
   ]
  },
  {
   "cell_type": "markdown",
   "metadata": {},
   "source": [
    "The above example contains:\n",
    "\n",
    "- The infinite generator number_generator() that yields numbers incrementing by 1\n",
    "- The infinite generator even_number_generator() which takes a generator as a parameter, iterates through that generator and only yields even numbers.\n",
    "- The even_numbers variable which holds an even_number_generator() object with number_generator() as its argument.\n",
    "\n",
    "\n",
    "When we iterate over even_numbers only even numbers are output. The even_number_generator() iterates over all numbers using number_generator(). When an even number occurs, that number is returned by even_number_generator().\n",
    "\n",
    "Let’s practice more with generator pipelines!"
   ]
  },
  {
   "cell_type": "markdown",
   "metadata": {},
   "source": [
    "### Instructions\n",
    "#### 1. We have three courses:\n",
    "\n",
    "- Computer Science which has 5 students\n",
    "- Art which has 10 students\n",
    "- Business which has 15 students\n",
    "First, complete the generator function called course_generator that can yield tuples of (Course name, Number students) for the above courses and the corresponding number of students. The first tuple for Computer Science has been provided.\n",
    "\n",
    "\n",
    "\n",
    "<b>Hint</b><br>\n",
    "There will be 3 separate yield statements within the generator function, one for each course tuple.\n",
    "\n",
    "\n",
    "2.\n",
    "We need to add 5 students to each course. Create a generator function called add_five_students that takes in an input variable called courses. This courses object contains tuples of (Course name, Number of students). The add_five_students generator function should loop through the courses input object.\n",
    "\n",
    "\n",
    "On each iteration, it should yield a tuple containing the course name and number of students plus 5. The resulting generator that is yielded should have the following values:\n",
    "\n",
    "\n",
    "- Computer Science with 10 students\n",
    "- Art with 15 students\n",
    "- Business with 20 students.\n",
    "\n",
    "\n",
    "<b>Hint</b><br>\n",
    "The course and number of students can be retrieved within the for loop using the following syntax:"
   ]
  },
  {
   "cell_type": "code",
   "execution_count": null,
   "metadata": {},
   "outputs": [],
   "source": [
    "for course, num_students in courses:"
   ]
  },
  {
   "cell_type": "markdown",
   "metadata": {},
   "source": [
    "#### 3. Use a pipeline generator (nested generator) to get the resulting generator that has the 5 added students to each course. Set it to a variable called increased_courses.\n",
    "\n",
    "\n",
    "Print out each course tuple in the resulting increased_courses generator using a for loop.\n",
    "\n",
    "\n",
    "<b>Hint</b><br>\n",
    "The input to add_five_students should be the output of course_generator."
   ]
  },
  {
   "cell_type": "code",
   "execution_count": null,
   "metadata": {},
   "outputs": [],
   "source": [
    "def course_generator():\n",
    "    yield (\"Computer Science\", 5)\n",
    "    yield ('Art', 10)\n",
    "    yield ('Business', 15)\n",
    "\n",
    "    # Write your code below:\n",
    "def add_five_students(courses):\n",
    "  for course, num_students in courses:\n",
    "    yield (course, num_students + 5)\n",
    "\n",
    "\n",
    "increased_courses = add_five_students(course_generator())\n",
    "for course in increased_courses:\n",
    "  print(course)"
   ]
  },
  {
   "cell_type": "markdown",
   "metadata": {},
   "source": [
    "## Review\n",
    "Congratulations! You have completed the Generators lesson!\n",
    "\n",
    "\n",
    "In this lesson, you learned how to:\n",
    "\n",
    "\n",
    "- Create generator functions using yield\n",
    "- Implement generator expressions\n",
    "- Use built-in generator methods like .send(), .throw(), and .close()\n",
    "- Connect generators into single generators\n",
    "- Use nested or pipelined generators\n",
    "\n",
    "\n",
    "Let’s review these topics one final time.\n",
    "\n",
    "### Instructions\n",
    "\n",
    "\n",
    "#### 1. Create a generator function called graduation_countdown() that will countdown the number of days left before student graduation. It should take in as input days and yield one less day on each next() call until 0 is reached. Use a while loop for yielding and decrementing the day.\n",
    "\n",
    "\n",
    "<b>Hint</b><br>\n",
    "To get descending order, days should be decremented by one on each iteration.\n",
    "\n",
    "#### 2. Create an equivalent generator expression called countdown_generator for the graduation_countdown generator function. It should generate the days in a descending order starting from the provided days value. Place the code after the days = 25 line.\n",
    "\n",
    "\n",
    "<b>Hint</b><br>\n",
    "Use the range(days, -1, -1) function to generate the values in a descending order.\n",
    "\n",
    "#### 3. Modify the graduation_countdown() generator function to accept values sent using send(). Use a local variable called days_left to store sent values. Use an if/else statement to check for sent values.\n",
    "\n",
    "\n",
    "<b>Hint</b><br>\n",
    "An if statement can check if days_left is None. If it is not None, that means a value has been sent to the generator via send() and we can replace our days variable with this value.\n",
    "\n",
    "#### 4. Call the graduation_countdown() function and set it to a variable called grad_days.\n",
    "\n",
    "Iterate through grad_days generator to print the number of days left with a string of “Days Left: x” where x represents the countdown value.\n",
    "\n",
    "On the 15th day of the graduation countdown, the school president announces that graduation will be moved up 5 days. Send a value of 10 to the grad_days generator when the 15th day in the countdown is reached.\n",
    "\n",
    "\n",
    "<b>Hint</b><br>\n",
    "Use a for loop to iterate through grad_days. On the 15th day, send a value of 10 using the send() method.\n",
    "\n",
    "#### 5. It’s our lucky day! The school president announces that graduation will now occur on the 3rd day left of the countdown. Modify the for loop so that when the countdown day is 3, the generator will close. Insert the condition check and close() before the “Days Left” printout.\n",
    "\n",
    "\n",
    "<b>Hint</b><br>\n",
    "elif can be used after the first if statement condition check to check if the countdown day equals 3.\n",
    "\n",
    "#### 6. We have three honors achievements to assign to students that are defined within the summa(), magna(), and cum_laude() generator functions. Each honor is assigned based on a given GPA range listed below. Given a list of input GPAs, create a generator function called honors_generator that takes in 1 input argument named gpas that represents the list of GPAs from the variable gpas. The function should use yield from on each input GPA to determine the honors assignment.\n",
    "\n",
    "Honors Assignment\tGPA\n",
    "Summa Cum Laude \t> 3.9\n",
    "Magna Cum Laude\t    > 3.7\n",
    "Cum Laude\t        > 3.5\n",
    "\n",
    "<b>Hint</b><br>\n",
    "Use a for loop to loop through each GPA. Check if the GPA falls within the honors range and if it does, use yield from on the respective honors generator function.\n",
    "\n",
    "#### 7. Call the connected generator function honors_generator with the gpas list and set it to a variable called honors. Loop through the honors generator and print out each honor_label value to see which honors labels will be generated given the gpas list.\n",
    "\n",
    "\n",
    "<b>Hint</b><br>\n",
    "The print out results should be:"
   ]
  },
  {
   "cell_type": "code",
   "execution_count": null,
   "metadata": {},
   "outputs": [],
   "source": [
    "Summa Cum Laude\n",
    "Cum Laude"
   ]
  },
  {
   "cell_type": "code",
   "execution_count": null,
   "metadata": {},
   "outputs": [],
   "source": [
    "def summa():\n",
    "    yield 'Summa Cum Laude'\n",
    "\n",
    "def magna():\n",
    "    yield 'Magna Cum Laude' \n",
    "\n",
    "def cum_laude():\n",
    "    yield 'Cum Laude'\n",
    "\n",
    "gpas = [3.2, 4.0, 3.6, 2.9]\n",
    "def honors_generator(gpas):\n",
    "  for gpa in gpas:\n",
    "    if gpa > 3.9:\n",
    "      yield from summa()\n",
    "    elif gpa > 3.7:\n",
    "      yield from magna()\n",
    "    elif gpa > 3.5:\n",
    "      yield from cum_laude()\n",
    "\n",
    "honors = honors_generator(gpas)\n",
    "for honor_label in honors:\n",
    "  print(honor_label)\n",
    "\n",
    "\n",
    "days = 25\n",
    "def graduation_countdown(days):\n",
    "  while days > 0:\n",
    "    days_left = yield days\n",
    "    if days_left != None:\n",
    "      days = days_left\n",
    "    else:\n",
    "      days -= 1\n",
    "\n",
    "countdown_generator = (day for day in range(days, -1,-1))\n",
    "grad_days = graduation_countdown(days)\n",
    "for day in grad_days:\n",
    "  if day == 15:\n",
    "    grad_days.send(10)\n",
    "  elif day == 3:\n",
    "    grad_days.close()\n",
    "  print(\"Days Left: \" + str(day))"
   ]
  }
 ],
 "metadata": {
  "interpreter": {
   "hash": "126de395fc5ab05c9b404d5156ac230f2dc2d73638f7037ba66d30fa539ce6ef"
  },
  "kernelspec": {
   "display_name": "Python 3.10.1 64-bit",
   "language": "python",
   "name": "python3"
  },
  "language_info": {
   "codemirror_mode": {
    "name": "ipython",
    "version": 3
   },
   "file_extension": ".py",
   "mimetype": "text/x-python",
   "name": "python",
   "nbconvert_exporter": "python",
   "pygments_lexer": "ipython3",
   "version": "3.10.1"
  },
  "orig_nbformat": 4
 },
 "nbformat": 4,
 "nbformat_minor": 2
}
