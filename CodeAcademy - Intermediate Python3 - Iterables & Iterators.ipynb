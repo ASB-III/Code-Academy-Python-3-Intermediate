{
 "cells": [
  {
   "cell_type": "markdown",
   "metadata": {},
   "source": [
    "# ITERABLES & ITERATORS\n",
    "## Introduction to Iterables\n",
    "In Python, an iterable is an object that is capable of being looped through one element at a time. We commonly use iterables to perform the process of iteration and it is the backbone for how we perform consistent operations on sets of data.\n",
    "\n",
    "While these may be new terminologies, we have actually been using iterables frequently. Dictionaries, lists, tuples, and sets are all classified as iterables! We have even performed the process of iteration anytime we used looping mechanisms such as for loops. In this lesson, we are going to dive deeper into how looping (iteration) works under the hood and the role iterables play in it!\n",
    "\n",
    "Before we dive into the details, let’s imagine we are the new owners of a pet store and need to keep track of certain inventory such as bags of food and their quantities. We can accomplish this using a dictionary.\n",
    "\n",
    "Suppose we have the following information we need to store:\n",
    "\n",
    "**Dog Food Brand** | **Quantity**\n",
    "-------------: | -------------:\n",
    "Great Dane Foods | 4 bags\n",
    "Min Pip Pup Foods | 10 bags\n",
    "Pawsome Foods | 8 bags\n",
    "\n",
    "\n",
    "Using a dictionary, our data would take this form:"
   ]
  },
  {
   "cell_type": "code",
   "execution_count": null,
   "metadata": {},
   "outputs": [],
   "source": [
    "dog_foods = {\n",
    "    \"Great Dane Foods\": 4,\n",
    "    \"Min Pin Pup Foods\": 10,\n",
    "    \"Pawsome Pups Foods\": 8\n",
    "}"
   ]
  },
  {
   "cell_type": "markdown",
   "metadata": {},
   "source": [
    "Now if we wanted to display all the dog brands and their respective quantities, we could use a common loop such as the for loop to accomplish this goal. Our program might look something like this:"
   ]
  },
  {
   "cell_type": "code",
   "execution_count": null,
   "metadata": {},
   "outputs": [],
   "source": [
    "for food_brand in dog_foods:\n",
    "    print(food_brand + \" has \" + str(dog_foods[food_brand]) + \" bags\")"
   ]
  },
  {
   "cell_type": "markdown",
   "metadata": {},
   "source": [
    "In this case, our iterable is the dictionary called dog_foods and the for loop performs the process of iteration that allows us to access each element. It looks a bit like magic, but what is actually happening under the hood here? How does the for loop iterate over each dictionary member and know when to stop iterating once the end is reached?\n",
    "\n",
    "In the next sections, we will dive into answering these questions. For now, observe a high-level overview of the inner workings of our food_dogs loop.\n",
    "\n",
    "### Instructions\n",
    "Review the image to see how our dog food for loop executes under the hood. Note the three core components that comprise the loop process. In the next sections we will explore:\n",
    "\n",
    "- The iter() function that creates an iterator object out of iterables (such as our dictionary).\n",
    "- The next() function that captures each individual value during the iteration process.\n",
    "- The StopIteration exception that forces our loop to stop where there are no elements remaining."
   ]
  },
  {
   "cell_type": "markdown",
   "metadata": {},
   "source": [
    "## Iterator Objects: __iter__() and iter()\n",
    "Let’s return to our for loop from before:"
   ]
  },
  {
   "cell_type": "code",
   "execution_count": null,
   "metadata": {},
   "outputs": [],
   "source": [
    "for food_brand in dog_foods:\n",
    "    print(food_brand + \" has \" + str(dog_foods[food_brand]) + \" bags\")"
   ]
  },
  {
   "cell_type": "markdown",
   "metadata": {},
   "source": [
    "Under the hood, the first step that the for loop has to do is to convert our dictionary (the iterable) of dog_foods to an iterator object. An iterator object is a special object that represents a stream of data that we can operate on. To accomplish this, it uses a built-in function called iter():"
   ]
  },
  {
   "cell_type": "code",
   "execution_count": null,
   "metadata": {},
   "outputs": [],
   "source": [
    "dog_food_iterator = iter(dog_foods)"
   ]
  },
  {
   "cell_type": "markdown",
   "metadata": {},
   "source": [
    "We can see the new object by printing it:"
   ]
  },
  {
   "cell_type": "code",
   "execution_count": null,
   "metadata": {},
   "outputs": [],
   "source": [
    "print(dog_food_iterator)"
   ]
  },
  {
   "cell_type": "markdown",
   "metadata": {},
   "source": [
    "This would output our new iterator object:"
   ]
  },
  {
   "cell_type": "markdown",
   "metadata": {},
   "source": [
    "<dict_keyiterator object at 0x....> \n",
    " \n",
    "#Note: The memory address is omitted since it varies on the system you run the script on. "
   ]
  },
  {
   "cell_type": "markdown",
   "metadata": {},
   "source": [
    "To go behind the scenes even further, iter(dog_foods) is actually calling a method defined within the iterable called __iter__(). All iterables have this __iter__() method defined. We can even use the Python built-in function dir() to show that our dog_foods dictionary (iterable) has a defined method called __iter__()."
   ]
  },
  {
   "cell_type": "code",
   "execution_count": null,
   "metadata": {},
   "outputs": [],
   "source": [
    "print(dir(dog_foods))"
   ]
  },
  {
   "cell_type": "markdown",
   "metadata": {},
   "source": [
    "If we examined the output (shortened for brevity), we can spot the __iter__ property"
   ]
  },
  {
   "cell_type": "markdown",
   "metadata": {},
   "source": [
    "['__class__', '__contains__', '__delattr__', '__delitem__', '__dir__', '__doc__', '__eq__', '__format__', '__ge__', '__getattribute__', '__getitem__', '__gt__', '__hash__', '__init__', '__init_subclass__', '__iter__'...<----- iter method"
   ]
  },
  {
   "cell_type": "markdown",
   "metadata": {},
   "source": [
    "In summary, the __iter__() method simply returns the iterator object that allows us to iterate over the iterable. Calling dog_foods.__iter__() will retrieve the same iterator object as calling iter(dog_foods). This means that the built-in function iter() and the iterable’s method __iter__() can be used interchangeably. While the object itself might not seem super useful just yet, we’ll see how to manipulate the stream of data inside of it in the next exercises.\n",
    "\n",
    "Now that we have taken a peek under the hood, let’s practice creating our own iterator objects from iterables using iter() and __iter__()."
   ]
  },
  {
   "cell_type": "markdown",
   "metadata": {},
   "source": [
    "### Instructions\n",
    "#### 1. Suppose we have a list of SKUs (stock-keeping units) for products in our pet shop. Let’s examine the internal methods of the iterable sku_list.\n",
    "\n",
    "Use dir() on sku_list and print out the result. Can you spot __iter__ in the list of methods that are printed?\n",
    "\n",
    "\n",
    "<b>Hint<br>\n",
    "Wrap print() around the call of dir(sku_list).</b>"
   ]
  },
  {
   "cell_type": "markdown",
   "metadata": {},
   "source": [
    "#### 2. Let’s access the internal __iter__() method from sku_list to create our iterator object.\n",
    "\n",
    "Create a variable called sku_iterator_object_one that is equal to calling .__iter__() on sku_list.\n",
    "\n",
    "Lastly, print sku_iterator_object_one!\n",
    "\n",
    "Checkpoint 3 Passed\n",
    "\n",
    "<b>Hint<br>\n",
    "Our final structure should look like this:</b>"
   ]
  },
  {
   "cell_type": "code",
   "execution_count": null,
   "metadata": {},
   "outputs": [],
   "source": [
    "<variable> = <iterable>.__iter__()"
   ]
  },
  {
   "cell_type": "markdown",
   "metadata": {},
   "source": [
    "<B>What values should we fill in for <variable> and <iterable>?"
   ]
  },
  {
   "cell_type": "markdown",
   "metadata": {},
   "source": [
    "#### 3. Finally, let’s use the alternative iter() function to create an iterator object from sku_list\n",
    "\n",
    "Create a variable called sku_iterator_object_two that is equal to calling iter() on sku_list.\n",
    "\n",
    "Lastly, print sku_iterator_object_two!\n",
    "\n",
    "Observe that both methods will be able to retrieve an iterator object but it’s always helpful to know that iter() uses __iter__ under the hood.\n",
    "\n",
    "Checkpoint 4 Passed\n",
    "\n",
    "<b>Hint<br>\n",
    "Our final structure should look like this:\n",
    "\n"
   ]
  },
  {
   "cell_type": "code",
   "execution_count": null,
   "metadata": {},
   "outputs": [],
   "source": [
    "<variable> = iter( <iterable> )"
   ]
  },
  {
   "cell_type": "markdown",
   "metadata": {},
   "source": [
    "What values should we fill in for variable and iterable ?"
   ]
  },
  {
   "cell_type": "code",
   "execution_count": null,
   "metadata": {},
   "outputs": [],
   "source": [
    "sku_list = [7046538, 8289407, 9056375, 2308597]\n",
    "\n",
    "# Write your code below:\n",
    "print(dir(sku_list))\n",
    "\n",
    "sku_iterator_object_one = sku_list.__iter__()\n",
    "print(sku_iterator_object_one)\n",
    "\n",
    "sku_iterator_object_two = iter(sku_list)\n",
    "print(sku_iterator_object_two)"
   ]
  },
  {
   "cell_type": "markdown",
   "metadata": {},
   "source": [
    "## Iterator Objects:__next__() and next()\n",
    "Now that we used an iterator’s __iter__() method to create an iterator object, how does our for loop know which value to retrieve on each iteration?\n",
    "\n",
    "Well, the iterator object has a method called __next__(), which retrieves the iterator’s next value. Let’s take a look using our SKU iterable for our shop:"
   ]
  },
  {
   "cell_type": "code",
   "execution_count": null,
   "metadata": {},
   "outputs": [],
   "source": [
    "sku_list = [7046538, 8289407, 9056375, 2308597]\n",
    "sku_iterator = iter(sku_list)\n",
    "next_sku = sku_iterator.__next__()\n",
    "print(next_sku)"
   ]
  },
  {
   "cell_type": "markdown",
   "metadata": {},
   "source": [
    "Running this code would produce the following result for next_sku:"
   ]
  },
  {
   "cell_type": "markdown",
   "metadata": {},
   "source": [
    "7046538"
   ]
  },
  {
   "cell_type": "markdown",
   "metadata": {},
   "source": [
    "Similarly to __iter__() and iter(), there is a Python built-in function called next() that we can use in place of calling the __next__() method. Calling next() simply calls the iterator object’s __next__() method. Here is the same script but using next():"
   ]
  },
  {
   "cell_type": "code",
   "execution_count": null,
   "metadata": {},
   "outputs": [],
   "source": [
    "sku_list = [7046538, 8289407, 9056375, 2308597]\n",
    "sku_iterator = iter(sku_list)\n",
    "next_sku = next(sku_iterator)\n",
    "print(next_sku)"
   ]
  },
  {
   "cell_type": "markdown",
   "metadata": {},
   "source": [
    "Running this code is exactly the same as running the code above using the __next__() method and produces the same next_sku result:"
   ]
  },
  {
   "cell_type": "code",
   "execution_count": null,
   "metadata": {},
   "outputs": [],
   "source": [
    "7046538"
   ]
  },
  {
   "cell_type": "markdown",
   "metadata": {},
   "source": [
    "But how does the iterator object know when to stop retrieving values? Does it keep calling __next__() forever? Well, luckily __next__() method will raise an exception called StopIteration when all items have been iterated through.\n",
    "\n",
    "If we call __next__() a total of 5 times, one more than the total number of SKUs in our list, we will see the StopIteration exception raise on the last __next__() call:"
   ]
  },
  {
   "cell_type": "code",
   "execution_count": null,
   "metadata": {},
   "outputs": [],
   "source": [
    "sku_list = [7046538, 8289407, 9056375, 2308597]\n",
    "sku_iterator = iter(sku_list)\n",
    "for i in range(5):\n",
    "  next_sku = sku_iterator.__next__()\n",
    "  print(next_sku)"
   ]
  },
  {
   "cell_type": "markdown",
   "metadata": {},
   "source": [
    "Running this code is exactly the same as running the code above using the __next__() method and produces the same next_sku result:"
   ]
  },
  {
   "cell_type": "code",
   "execution_count": null,
   "metadata": {},
   "outputs": [],
   "source": [
    "7046538"
   ]
  },
  {
   "cell_type": "markdown",
   "metadata": {},
   "source": [
    "But how does the iterator object know when to stop retrieving values? Does it keep calling __next__() forever? Well, luckily __next__() method will raise an exception called StopIteration when all items have been iterated through.\n",
    "\n",
    "If we call __next__() a total of 5 times, one more than the total number of SKUs in our list, we will see the StopIteration exception raise on the last __next__() call:"
   ]
  },
  {
   "cell_type": "code",
   "execution_count": null,
   "metadata": {},
   "outputs": [],
   "source": [
    "sku_list = [7046538, 8289407, 9056375, 2308597]\n",
    "sku_iterator = iter(sku_list)\n",
    "for i in range(5):\n",
    "  next_sku = sku_iterator.__next__()\n",
    "  print(next_sku)"
   ]
  },
  {
   "cell_type": "markdown",
   "metadata": {},
   "source": [
    "Running this code will produce the following output:"
   ]
  },
  {
   "cell_type": "code",
   "execution_count": null,
   "metadata": {},
   "outputs": [],
   "source": [
    "7046538\n",
    "8289407\n",
    "9056375\n",
    "2308597"
   ]
  },
  {
   "cell_type": "markdown",
   "metadata": {},
   "source": [
    "Followed by:"
   ]
  },
  {
   "cell_type": "markdown",
   "metadata": {},
   "source": [
    "Traceback (most recent call last):\n",
    "  File \"main.py\", line 24, in <module>\n",
    "    next_sku = sku_iterator.__next__()\n",
    "StopIteration"
   ]
  },
  {
   "cell_type": "markdown",
   "metadata": {},
   "source": [
    "In summary, we can finally see why we needed to create the iterator object in the previous exercise. Creating it, allows us to utilize next() or __next__ to work with the stream of data one piece at a time.\n",
    "\n",
    "\n",
    "Now, let’s practice getting the hang of retrieving individual iterator object values!"
   ]
  },
  {
   "cell_type": "markdown",
   "metadata": {},
   "source": [
    "### Instructions\n",
    "#### 1. Using our dog food dictionary called dog_foods, create a variable called dog_food_iterator that stores the value of calling iter() on our iterable dog_foods.\n",
    "\n",
    "\n",
    "<b>Hint</b><br>\n",
    "Call iter() with the dog_foods iterable object (dictionary).\n",
    "\n",
    "#### 2. Retrieve the first value of the dog_food_iterator using the built-in function next() and set it to a variable called next_dog_food1.\n",
    "\n",
    "Print next_dog_food1 to see the result.\n",
    "\n",
    "\n",
    "<b>Hint</b><br>\n",
    "Call next() on the dog_food_iterator object.\n",
    "\n",
    "#### 3. Retrieve the next two values of the dog_food_iterator using the __next__() method and set them to the variables next_dog_food2 and next_dog_food3.\n",
    "\n",
    "Print both variables to see the results!\n",
    "\n",
    "\n",
    "<b>Hint</b><br>\n",
    "Call the dog_food_iterator object method __next__() twice, setting the values to the specified variables.\n",
    "\n",
    "#### 4. Uncomment the following line: next(dog_food_iterator)\n",
    "\n",
    "This will call next() on the dog_food_iterator object one more time. What should we expect to see in the output? Run the code to find out!\n",
    "\n",
    "\n",
    "<b>Hint</b><br>\n",
    "What happens when we call next() or .__next__() after the last value of an iterator object has been evaluated?"
   ]
  },
  {
   "cell_type": "code",
   "execution_count": null,
   "metadata": {},
   "outputs": [],
   "source": [
    "dog_foods = {\n",
    "  \"Great Dane Foods\": 4,\n",
    "  \"Min Pip Pup Foods\": 10,\n",
    "  \"Pawsome Pup Foods\": 8\n",
    "}\n",
    "\n",
    "# Write your code below:\n",
    "dog_food_iterator = iter(dog_foods)\n",
    "next_dog_food1 = next(dog_food_iterator)\n",
    "print(next_dog_food1)\n",
    "\n",
    "next_dog_food2 = next(dog_food_iterator)\n",
    "print(next_dog_food2)\n",
    "\n",
    "next_dog_food3 = next(dog_food_iterator)\n",
    "print(next_dog_food3)\n",
    "\n",
    "next(dog_food_iterator)"
   ]
  },
  {
   "cell_type": "markdown",
   "metadata": {},
   "source": [
    "## Iterators and For Loops\n",
    "Now that we understand how iterators work under the hood, we have all the pieces to put the big picture together. Let’s look back at the following dog_foods dictionary and the for loop that performs the iteration:"
   ]
  },
  {
   "cell_type": "code",
   "execution_count": null,
   "metadata": {},
   "outputs": [],
   "source": [
    "dog_foods = {\n",
    "  \"Great Dane Foods\": 4,\n",
    "  \"Min Pip Pup Foods\": 10,\n",
    "  \"Pawsome Pup Foods\": 8\n",
    "}\n",
    "for food_brand in dog_foods:\n",
    "  print (food_brand + \" has \" + str(dog_foods[food_brand]) + \" bags\")"
   ]
  },
  {
   "cell_type": "markdown",
   "metadata": {},
   "source": [
    "To summarize, the three main steps are:\n",
    "\n",
    "1. The for loop will first retrieve an iterator object for the dog_foods dictionary using iter().\n",
    "\n",
    "2. Then, next() is called on each iteration of the for loop to retrieve the next value. This value is set to the for loop’s variable, food_brand.\n",
    "\n",
    "3. On each for loop iteration, the print statement is executed, until finally, the for loop executes a call to next() that raises the StopIteration exception. The for loop then exits and is finished iterating.\n",
    "\n",
    "Let’s review the process in a visual format, before moving on to learn about creating our very own custom iterators!"
   ]
  },
  {
   "cell_type": "markdown",
   "metadata": {},
   "source": [
    "Review the diagram to review the entire process of how for loops use iterators under the hood."
   ]
  },
  {
   "cell_type": "markdown",
   "metadata": {},
   "source": [
    "## Custom Iterators I\n",
    "We have seen that the methods __iter__() and __next__() must be implemented for an object to be an iterator object. The implementation of these methods is known as the iterator protocol.\n",
    "\n",
    "If we desire to create our own custom iterator class, we must implement the iterator protocol, meaning we need to have a class that defines at minimum the __iter__() and __next__() methods.\n",
    "\n",
    "To look at a scenario where we might require our own custom iterator, imagine we are receiving a shipment of new fish that we can now sell in our pet store. We don’t have any classes to manage our fish inventory, so we need to create a custom class to do so. If we wanted to track the available fish inventory, our custom class initializer may look something like this:"
   ]
  },
  {
   "cell_type": "code",
   "execution_count": null,
   "metadata": {},
   "outputs": [],
   "source": [
    "class FishInventory:\n",
    "  def __init__(self, fishList):\n",
    "      self.available_fish = fishList"
   ]
  },
  {
   "cell_type": "markdown",
   "metadata": {},
   "source": [
    "By default, custom classes are not iterable. We can’t just go around plugging our custom classes into for loops and expecting any results! This presents a problem if the class we are working with needs the ability to iterate.\n",
    "\n",
    "When we create a FishInventory class object, we want to iterate over all the fish available within self.available_fish. If we attempt to directly iterate over our custom FishInventory class object, we will receive an error because we have not yet implemented the iterator protocol for this custom class. To make the FishInventory class iterable, we can simply define __iter__() and __next__() methods.\n",
    "\n",
    "Defining these methods is discussed in the next exercise, but first, let’s see what happens if we attempt to iterate our FishInventory class object directly."
   ]
  },
  {
   "cell_type": "markdown",
   "metadata": {},
   "source": [
    "### Instructions\n",
    "#### 1. Try and iterate over our FishInventory class object, fish_inventory_cls, to see all the available fish we have.\n",
    "\n",
    "Create a for loop to iterate over the fish_inventory_cls object and run the code.\n",
    "\n",
    "\n",
    "<b>Hint<br>\n",
    "A TypeError should raise."
   ]
  },
  {
   "cell_type": "code",
   "execution_count": null,
   "metadata": {},
   "outputs": [],
   "source": [
    "class FishInventory:\n",
    "  def __init__(self, fishList):\n",
    "      self.available_fish = fishList\n",
    "\n",
    "fish_inventory_cls = FishInventory([\"Bubbles\", \"Finley\", \"Moby\"])\n",
    "# Your code below\n",
    "for fish in fish_inventory_cls:\n",
    "  print(fish)"
   ]
  },
  {
   "cell_type": "markdown",
   "metadata": {},
   "source": [
    "## Custom Iterators II\n",
    "To iterate over a custom class we must implement the iterator protocol by defining the __iter__() and __next__() methods. In most cases the two methods can do the following:\n",
    "\n",
    "- The __iter__() method must always return the iterator object itself. Typically, this is accomplished by returning self. It can also include some class member initializing.\n",
    "\n",
    "- The __next__() method must either return the next value available or raise the StopIteration exception. It can also include any number of operations.\n",
    "\n",
    "Let’s return to our custom FishInventory class:"
   ]
  },
  {
   "cell_type": "code",
   "execution_count": null,
   "metadata": {},
   "outputs": [],
   "source": [
    "class FishInventory:\n",
    "  def __init__(self, fishList):\n",
    "      self.available_fish = fishList"
   ]
  },
  {
   "cell_type": "markdown",
   "metadata": {},
   "source": [
    "We want to make the FishInventory class iterable to see all the available fish. To make it iterable, we first define the __iter__() method. We can initialize a class member within the __iter__() method called index that will help us track the current position we’re in within the self.available_fish list."
   ]
  },
  {
   "cell_type": "code",
   "execution_count": null,
   "metadata": {},
   "outputs": [],
   "source": [
    "class FishInventory:\n",
    "  def __init__(self, fishList):\n",
    "      self.available_fish = fishList\n",
    " \n",
    "  def __iter__(self):\n",
    "    self.index = 0\n",
    "    return self"
   ]
  },
  {
   "cell_type": "markdown",
   "metadata": {},
   "source": [
    "Notice that the __iter__() method returns itself since this class will be an iterator object. The __iter__() method can return other iterator objects, but typically the object itself is returned here by using return self.\n",
    "\n",
    "Then, we define the __next__() method. Recall that we can perform operations inside this method, like incrementing class members or traversing a for loop for instance."
   ]
  },
  {
   "cell_type": "code",
   "execution_count": null,
   "metadata": {},
   "outputs": [],
   "source": [
    "class FishInventory:\n",
    "  def __init__(self, fishList):\n",
    "      self.available_fish = fishList\n",
    " \n",
    "  def __iter__(self):\n",
    "    self.index = 0\n",
    "    return self\n",
    " \n",
    "  def __next__(self):\n",
    "    fish_status = self.available_fish[self.index] + \" is available!\"\n",
    "    self.index += 1\n",
    "    return fish_status"
   ]
  },
  {
   "cell_type": "markdown",
   "metadata": {},
   "source": [
    "We return the next available fish status within a string value and increment our class member index by 1.\n",
    "\n",
    "Iterating over this class object will eventually error out since we fail to do any checking of our index value against the length of the self.available_fish list. We can avoid this and cleanly stop the iterator by raising the StopIteration exception in our __next__() method. Here, we’ll modify our __next__() method to raise StopIteration if index exceeds the length of available_fish."
   ]
  },
  {
   "cell_type": "code",
   "execution_count": null,
   "metadata": {},
   "outputs": [],
   "source": [
    "class FishInventory:\n",
    "  def __init__(self, fishList):\n",
    "      self.available_fish = fishList\n",
    " \n",
    "  def __iter__(self):\n",
    "    self.index = 0\n",
    "    return self\n",
    " \n",
    "  def __next__(self):\n",
    "    if self.index < len(self.available_fish):\n",
    "      fish_status = self.available_fish[self.index] + \" is available!\"\n",
    "      self.index += 1\n",
    "      return fish_status\n",
    "    else:\n",
    "      raise StopIteration"
   ]
  },
  {
   "cell_type": "markdown",
   "metadata": {},
   "source": [
    "Let’s practice implementing the iterator protocol in a custom class!\n",
    "\n",
    "Instructions\n",
    "#### 1. Imagine we have a custom class called CustomerCounter that counts the number of customers in the store. Make this class iterable by first defining the __iter__() method. Within this method, initialize a class member called self.count that will keep count of the number of customers in the store.\n",
    "\n",
    "\n",
    "<b>Hint<br>\n",
    "The self.count value should be initialized to 0. The __iter__() method should also return itself.</b>\n",
    "\n",
    "#### 2. Next, define the __next__() method. Only 1 customer will enter at a time each time this __next__() method is called.\n",
    "\n",
    "\n",
    "<b>Hint<br>\n",
    "Since only 1 customer will enter at a time, increment self.count by 1.</b>\n",
    "\n",
    "#### 3. Create a class instance customer_counter from the CustomerCounter class.\n",
    "\n",
    "\n",
    "<b>Hint<br>\n",
    "To set a variable to a instance of a custom class object, use the following syntax:</b>\n",
    "\n",
    "variable = CustomClass()\n",
    "#### 4. If we were to iterate through the customer_counter object using a for loop now, we would get an infinite loop since our __next__() method has not raised a StopIteration exception.\n",
    "\n",
    "Let’s fix this by moving on to Step 5 where we can raise this exception and prevent an infinite loop from occurring!\n",
    "\n",
    "#### 5. Modify the __next__() method to raise a StopIteration exception when our customer count is greater than 100.\n",
    "\n",
    "\n",
    "<b>Hint<br>\n",
    "Add an if statement to the __next__() method after self.count is incremented to check if self.count is greater than 100.</b>\n",
    "\n",
    "Use self.count > 100.\n",
    "\n",
    "#### 6. Create a for loop to iterate through our CustomerCounter class object customer_counter. Print out each customer count value on each loop iteration.\n",
    "\n",
    "\n",
    "<b>Hint<br>\n",
    "The numbers 1-100 should be printed out.</b>"
   ]
  },
  {
   "cell_type": "code",
   "execution_count": null,
   "metadata": {},
   "outputs": [],
   "source": [
    "class CustomerCounter:\n",
    "  # Checkpoint 1\n",
    "  def __iter__(self): \n",
    "    self.count = 0\n",
    "    return self\n",
    "  # Checkpoint 2\n",
    "  def __next__(self):\n",
    "    self.count +=1 \n",
    "    # Checkpoint 4 & 5\n",
    "    if self.count > 100:\n",
    "      raise StopIteration\n",
    "    return self.count\n",
    "\n",
    "# Checkpoint 3\n",
    "customer_counter = CustomerCounter()\n",
    "\n",
    "# Checkpoint 6\n",
    "for customer_count in customer_counter:\n",
    "  print(customer_count)"
   ]
  },
  {
   "cell_type": "markdown",
   "metadata": {},
   "source": [
    "## Python’s Itertools: Built-in Iterators\n",
    "While building our own custom iterator classes can be useful, Python offers a convenient, built-in module named itertools that provides the ability to create complex iterator manipulations. These iterator operations can input either a single iterable or a combination of them.\n",
    "\n",
    "\n",
    "There are three categories of itertool iterators:\n",
    "\n",
    "\n",
    "- Infinite: Infinite iterators will repeat an infinite number of times. They will not raise a StopIteration exception and will require some type of stop condition to exit from.\n",
    "- Finite: Finite iterators are terminated by the input iterable(s) sequence length. This means that the smallest length iterable used in a finite iterator will terminate the iterator.\n",
    "- Combinatoric: Combinatoric iterators are iterators that are combinational, where mathematical functions are performed on the input iterable(s).\n",
    "\n",
    "\n",
    "We can use the itertools module by simply supplying an import statement at the top of the module like this:"
   ]
  },
  {
   "cell_type": "code",
   "execution_count": null,
   "metadata": {},
   "outputs": [],
   "source": [
    "import itertools"
   ]
  },
  {
   "cell_type": "markdown",
   "metadata": {},
   "source": [
    "While we will only cover specific itertools for each three of these itertool types, the full list of itertools can be found in the official Python documentation.\n",
    "\n",
    "\n",
    "Instructions\n",
    "\n",
    "\n",
    "Review the diagram to the right that compares the different types of itertools.\n",
    "\n",
    "https://static-assets.codecademy.com/Courses/Intermediate-Python/Built-in%20Iterators-final.svg"
   ]
  },
  {
   "cell_type": "markdown",
   "metadata": {},
   "source": [
    "## Infinite Iterator: Count\n",
    "An infinite iterator will repeat an infinite number of times with no endpoint and no StopIteration exception raised. Infinite iterators are useful when we have unbounded streams of data to process.\n",
    "\n",
    "A useful itertool that is an infinite iterator is the count() itertool. This infinite iterator will count from a first value until we provide some type of stop condition. The base syntax of the function looks like this:"
   ]
  },
  {
   "cell_type": "code",
   "execution_count": null,
   "metadata": {},
   "outputs": [],
   "source": [
    "count(start,[step])"
   ]
  },
  {
   "cell_type": "markdown",
   "metadata": {},
   "source": [
    "The first argument of count() is the value where we start counting from. The second argument is an optional step that will return current value + step. The step value can be positive, negative, and an integer or float number. It will always default to 1 if not provided.\n",
    "\n",
    "To show how it’s used in a scenario, suppose we want to quickly count up and print all even numbers from 0 to 20.\n",
    "\n",
    "We first import our itertools module and then create a loop (this can be a while loop or a for loop), that will iterate through our count() iterator:"
   ]
  },
  {
   "cell_type": "code",
   "execution_count": null,
   "metadata": {},
   "outputs": [],
   "source": [
    "import itertools\n",
    " \n",
    "for i in itertools.count(start=0, step=2):\n",
    "  print(i)\n",
    "  if i >= 20:\n",
    "    break"
   ]
  },
  {
   "cell_type": "markdown",
   "metadata": {},
   "source": [
    "Here is what happens in the script:\n",
    "\n",
    "- We set our start argument to 0 so that we start counting from 0.\n",
    "\n",
    "- We set our step argument to 2 so that way we increment +2 on each iteration.\n",
    "\n",
    "- We create a stop condition, which is i >= 20, otherwise this for loop would continue printing forever!\n",
    "\n",
    "And our output becomes:"
   ]
  },
  {
   "cell_type": "code",
   "execution_count": null,
   "metadata": {},
   "outputs": [],
   "source": [
    "0\n",
    "2\n",
    "4\n",
    "6\n",
    "8\n",
    "10\n",
    "12\n",
    "14\n",
    "16\n",
    "18\n",
    "20"
   ]
  },
  {
   "cell_type": "markdown",
   "metadata": {},
   "source": [
    "Let’s use the count() itertool to manage our pet store!"
   ]
  },
  {
   "cell_type": "code",
   "execution_count": null,
   "metadata": {},
   "outputs": [],
   "source": [
    "#Write your code below:\n",
    "import itertools\n",
    "max_capacity = 1000\n",
    "num_bags = 0\n",
    "\n",
    "for bags in itertools.count(start=13.5, step=13.5):\n",
    "  if bags >= max_capacity:\n",
    "    break\n",
    "  num_bags += 1\n",
    "\n",
    "  print(num_bags)"
   ]
  },
  {
   "cell_type": "markdown",
   "metadata": {},
   "source": [
    "Finite Iterator: Chain\n",
    "A finite iterator will terminate based on the length of one or more input values. Finite iterators are great for working with and modifying existing iterators.\n",
    "\n",
    "\n",
    "A useful itertool that is a finite iterator is the chain() itertool. This finite iterator will take in one or more iterables and combine them into a single iterator. Here is what the base syntax looks like:"
   ]
  },
  {
   "cell_type": "code",
   "execution_count": null,
   "metadata": {},
   "outputs": [],
   "source": [
    "chain(*iterables)"
   ]
  },
  {
   "cell_type": "markdown",
   "metadata": {},
   "source": [
    "The input value of chain() is one or more iterables of the same or varying iterable types. For example, we could use the chain() itertool to combine a list and a set into one iterator.\n",
    "\n",
    "\n",
    "To show how it’s used in a scenario, suppose we want to combine a list containing odd numbers and a set containing even numbers:"
   ]
  },
  {
   "cell_type": "code",
   "execution_count": null,
   "metadata": {},
   "outputs": [],
   "source": [
    "import itertools\n",
    " \n",
    "odd = [5, 7, 9]\n",
    "even = {6, 8, 10}\n",
    " \n",
    "all_numbers = itertools.chain(odd, even)\n",
    " \n",
    "for number in all_numbers:\n",
    "  print(number)"
   ]
  },
  {
   "cell_type": "markdown",
   "metadata": {},
   "source": [
    "The above example:\n",
    "\n",
    "- Imports the itertools module.\n",
    "- Sets all_numbers to the iterator returned by the itertool chain().\n",
    "- Uses the list iterable odd and the set iterable even as the arguments to chain().\n",
    "- Implements a for loop using the iterator in all_numbers\n",
    "- Prints the results, which will be:"
   ]
  },
  {
   "cell_type": "code",
   "execution_count": null,
   "metadata": {},
   "outputs": [],
   "source": [
    "5\n",
    "7\n",
    "9\n",
    "8\n",
    "10\n",
    "6"
   ]
  },
  {
   "cell_type": "markdown",
   "metadata": {},
   "source": [
    "The output is finite since the input iterables, odd and even are also finite. Note that Python sets are not ordered so the last 3 numbers in this example’s output will not always be in the initialized order.\n",
    "\n",
    "\n",
    "Let’s use chain() to work with SKU iterables in our pet store!"
   ]
  },
  {
   "cell_type": "markdown",
   "metadata": {},
   "source": [
    "### Instructions\n",
    "\n",
    "#### 1. We have separate lists of SKUs for each bag of dog food per brand. Obtain a master list of SKU numbers for all bags of dog food, regardless of brand.\n",
    "\n",
    "Use the chain() itertool set to a variable named all_skus_iterator to combine the SKU lists.\n",
    "\n",
    "\n",
    "<B>Hint</b><br>\n",
    "The syntax for using chain() resembles:\n",
    "\n",
    "itertools.chain(iterable1, iterable2....)\n",
    "\n",
    "#### 2. Using all_skus_iterator implement a for loop to output each SKU.\n",
    "\n",
    "\n",
    "<B>Hint</b><br>\n",
    "Use the following syntax:"
   ]
  },
  {
   "cell_type": "code",
   "execution_count": null,
   "metadata": {},
   "outputs": [],
   "source": [
    "for loop_variable in iterator:\n",
    "  print(loop_variable)"
   ]
  },
  {
   "cell_type": "code",
   "execution_count": null,
   "metadata": {},
   "outputs": [],
   "source": [
    "import itertools\n",
    "\n",
    "great_dane_foods = [2439176, 3174521, 3560031]\n",
    "min_pin_pup_foods = [6821904, 3302083]\n",
    "pawsome_pup_foods = [9664865]\n",
    "\n",
    "# Write your code below: \n",
    "\n",
    "all_skus_iterator = itertools.chain(great_dane_foods, min_pin_pup_foods, pawsome_pup_foods)\n",
    "\n",
    "for SKUs in all_skus_iterator:\n",
    "  print(SKUs)"
   ]
  },
  {
   "cell_type": "markdown",
   "metadata": {},
   "source": [
    "## Combinatoric Iterator: Combinations\n",
    "A combinatoric iterator will perform a set of statistical or mathematical operations on an input iterable.\n",
    "\n",
    "A useful itertool that is a combinatoric iterator is the combinations() itertool. This itertool will produce an iterator of tuples that contain combinations of all elements in the input."
   ]
  },
  {
   "cell_type": "code",
   "execution_count": null,
   "metadata": {},
   "outputs": [],
   "source": [
    "combinations(iterable, r)"
   ]
  },
  {
   "cell_type": "markdown",
   "metadata": {},
   "source": [
    "The combinations() itertool takes in two inputs, the first is an iterable, and the second is a value r that represents the length of each combination tuple.\n",
    "\n",
    "The return type of combinations() is an iterator that can be used in a for loop or can be converted into an iterable type using list() or a set().\n",
    "\n",
    "To show how it’s used, suppose we have a list of even numbers and we want all possible combinations of 2 even numbers:"
   ]
  },
  {
   "cell_type": "code",
   "execution_count": null,
   "metadata": {},
   "outputs": [],
   "source": [
    "import itertools\n",
    "even = [2, 4, 6]\n",
    "even_combinations = list(itertools.combinations(even, 2))\n",
    "print(even_combinations)"
   ]
  },
  {
   "cell_type": "markdown",
   "metadata": {},
   "source": [
    "Here we:\n",
    "\n",
    "- Import the module itertools.\n",
    "- Create an iterator using combinations() with the list of even numbers as the first argument and 2 as the second argument.\n",
    "- Set even_combinations equal to a list of the elements in the iterator returned from combinations().\n",
    "- Print even_combinations. The resulting list of 2 member tuples are the combinations of all 3 members of even:"
   ]
  },
  {
   "cell_type": "code",
   "execution_count": null,
   "metadata": {},
   "outputs": [],
   "source": [
    "[(2, 4), (2, 6), (4, 6)]"
   ]
  },
  {
   "cell_type": "markdown",
   "metadata": {},
   "source": [
    "Now, let’s try using a combinations itertool within our pet store!"
   ]
  },
  {
   "cell_type": "markdown",
   "metadata": {},
   "source": [
    "### Instructions\n",
    "#### 1. We have another shelving unit to display by the register that can only hold 3 collars. We have a list of collars of varying colors and sizes.\n",
    "\n",
    "We want to know how many different combinations exist to display a set of 3 collars. Use the combinations() itertool to do this. Set the returned iterator to a variable named collar_combo_iterator.\n",
    "\n",
    "\n",
    "<B>Hint</b><br>\n",
    "Since we only have space for 3 collars on the shelf, the r length should be 3.\n",
    "\n",
    "#### 2. Using a for loop, print each item in collar_combo_iterator to see all the possible collar combinations.\n",
    "\n",
    "\n",
    "<B>Hint</b><br>\n",
    "Use the following syntax:"
   ]
  },
  {
   "cell_type": "code",
   "execution_count": null,
   "metadata": {},
   "outputs": [],
   "source": [
    "import itertools\n",
    "\n",
    "collars = [\"Red-S\",\"Red-M\", \"Blue-XS\", \"Green-L\", \"Green-XL\", \"Yellow-M\"]\n",
    "\n",
    "# Write your code below: \n",
    "collar_combo_iterator = itertools.combinations(collars, 3)\n",
    "\n",
    "for combinations in collar_combo_iterator:\n",
    "  print(combinations)"
   ]
  },
  {
   "cell_type": "markdown",
   "metadata": {},
   "source": [
    "Review\n",
    "Good job! In this lesson, we covered:\n",
    "\n",
    "- Iterables and iterators and how they differ.\n",
    "- Using the iter() funtion to create an iterator.\n",
    "- Using the next() function to manually iterate over an iterator.\n",
    "- How for loops use iterables and iterators.\n",
    "- How to write custom iterators by implementing the __iter__() and __next__() methods.\n",
    "- How to use built-in itertools including count(), chain() and combinations().\n",
    "\n",
    "\n",
    "There is much more to discover about iterators, iterables, and itertools! Click the respective links to read more.\n",
    "\n",
    "\n",
    "Let’s practice these concepts some more!\n",
    "\n",
    "\n",
    "### Instructions\n",
    "#### 1. Create a list iterable that contains tuples of (cat_toy, price). The list should be called cat_toys. The tuple should consist of the cat toy name and price following the values in the table:\n",
    "\n",
    "| Toy | Price |\n",
    "|-----|-------|\n",
    "| laser | 1.99 | \n",
    "| fountain | 5.99 | \n",
    "| scratcher | 10.99 |\n",
    "| catnip | 15.99 |\n",
    "\n",
    "\n",
    "<B>Hint</b><br>\n",
    "Each tuple should be in the format (string, float) which all are within a list. The syntax will look like the following:"
   ]
  },
  {
   "cell_type": "code",
   "execution_count": null,
   "metadata": {},
   "outputs": [],
   "source": [
    "cat_toys = [(\"item1\", price1), (\"item2\", price2), etc]"
   ]
  },
  {
   "cell_type": "markdown",
   "metadata": {},
   "source": [
    "#### 2. Using iter(), create an iterator called cat_toy_iterator that retrieves the iterator for cat_toys.\n",
    "\n",
    "\n",
    "<B>Hint</b><br>\n",
    "The syntax for using the built-in iter() function resembles:"
   ]
  },
  {
   "cell_type": "code",
   "execution_count": null,
   "metadata": {},
   "outputs": [],
   "source": [
    "my_iterator = iter(my_iterable)"
   ]
  },
  {
   "cell_type": "markdown",
   "metadata": {},
   "source": [
    "#### 3. Using four next() statements, print out each value in cat_toy_iterator.\n",
    "\n",
    "\n",
    "<B>Hint</b><br>\n",
    "The syntax to retrieve the next value and print it at the same time resembles:"
   ]
  },
  {
   "cell_type": "code",
   "execution_count": null,
   "metadata": {},
   "outputs": [],
   "source": [
    "print(next(my_iterator))"
   ]
  },
  {
   "cell_type": "markdown",
   "metadata": {},
   "source": [
    "#### 4. A customer enters and only has $15 to spend on exactly 2 cat toys. They want to know how many combinations of the available toys they can afford, while only getting 2 of them total.\n",
    "\n",
    "First, import itertools at the top of the module.\n",
    "\n",
    "\n",
    "<B>Hint</b><br>\n",
    "The syntax to import a module resembles:"
   ]
  },
  {
   "cell_type": "code",
   "execution_count": null,
   "metadata": {},
   "outputs": [],
   "source": [
    "import module"
   ]
  },
  {
   "cell_type": "markdown",
   "metadata": {},
   "source": [
    "Next, above the commented out for loop, create a combinations() iterator called toy_combos to retrieve all combinations of 2 total toys from the cat_toys list.\n",
    "\n",
    "\n",
    "<B>Hint</b><br>\n",
    "Use itertools.combinations() with cat_toys and an r length of 2.\n",
    "\n",
    "#### 6. Uncomment all lines of the for loop.\n",
    "\n",
    "Each iteration of the for loop gives a tuple that is within toy_combos. The variable toy1 represents index 0 of the tuple (the toy name) and cost_of_toy1 represents index 1 of the tuple (the toy cost). We repeat this to store the toy name and price of toy 2 via variables toy2 and cost_of_toy2.\n",
    "\n",
    "After the final line within the for loop, check if the price of cost_of_toy1 and cost_of_toy2 is less than or equal to max_money which is the max $15 the customer has to spend. If it is, add the tuple to the options list.\n",
    "\n",
    "\n",
    "Stuck? Get a hint\n",
    "#### 7. Print the final options list to see what toy combinations the customer can buy with $15.\n",
    "\n",
    "\n",
    "<B>Hint</b><br>\n",
    "The print syntax resembles:"
   ]
  },
  {
   "cell_type": "code",
   "execution_count": null,
   "metadata": {},
   "outputs": [],
   "source": [
    "print(variable)"
   ]
  },
  {
   "cell_type": "code",
   "execution_count": null,
   "metadata": {},
   "outputs": [],
   "source": [
    "# Checkpoint 4\n",
    "import itertools\n",
    "max_money = 15\n",
    "options = []\n",
    "\n",
    "# Checkpoint 1\n",
    "cat_toys = [(\"laser\", 1.99), (\"scratcher\", 10.99), (\"fountain\", 5.99), (\"catnip\", 15.99)]\n",
    "\n",
    "# Checkpoint 2\n",
    "cat_toy_iterator = iter(cat_toys)\n",
    "\n",
    "# Checkpoint 3\n",
    "print(next(cat_toy_iterator))\n",
    "print(next(cat_toy_iterator))\n",
    "print(next(cat_toy_iterator))\n",
    "print(next(cat_toy_iterator))\n",
    "\n",
    "# Checkpoint 5\n",
    "toy_combos = itertools.combinations(cat_toys, 2)\n",
    "\n",
    "# Checkpoint 6\n",
    "for combo in toy_combos:\n",
    "    toy1 = combo[0]\n",
    "    cost_of_toy1 = toy1[1]\n",
    "    toy2 = combo[1]\n",
    "    cost_of_toy2 = toy2[1]\n",
    "    if cost_of_toy1 + cost_of_toy2 <= max_money:\n",
    "      options.append(combo)\n",
    "      \n",
    "# Checkpoint 7\n",
    "print(options)"
   ]
  }
 ],
 "metadata": {
  "interpreter": {
   "hash": "126de395fc5ab05c9b404d5156ac230f2dc2d73638f7037ba66d30fa539ce6ef"
  },
  "kernelspec": {
   "display_name": "Python 3.10.1 64-bit",
   "language": "python",
   "name": "python3"
  },
  "language_info": {
   "name": "python",
   "version": "3.10.1"
  },
  "orig_nbformat": 4
 },
 "nbformat": 4,
 "nbformat_minor": 2
}
