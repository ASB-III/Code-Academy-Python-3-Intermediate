{
 "cells": [
  {
   "cell_type": "markdown",
   "metadata": {},
   "source": [
    "# Aisha's Greetings\n",
    "You are a part of Aisha’s Greetings - a card printing company that prints greeting cards with a hint of personalization! You want to help Aisha create a system that generates cards based on customers’ requests.\n",
    "\n",
    "\n",
    "You have been provided with two pre-filled card types:\n",
    "\n",
    "\n",
    "- happy_bday.txt: a card with a birthday message\n",
    "- thankyou_card.txt: a card file with a thank you message\n",
    "\n",
    "\n",
    "Click through the files on your right and see what’s in them! If you get stuck, you can look at a sample solution of the project by looking at greetings_solutions.py - but try it out on your own first.\n",
    "\n",
    "Let’s start printing!"
   ]
  },
  {
   "cell_type": "markdown",
   "metadata": {},
   "source": [
    "## Tasks\n",
    "\n",
    "Mark the tasks as complete by checking them off\n",
    "Setting Up Custom Greeting Cards\n",
    "### 1. Aisha, the owner of Aisha’s Greetings, wants to create a program that will automatically generate pre-filled orders, using her custom greeting messages. Use your knowledge of context managers to accomplish this goal!\n",
    "\n",
    "First, import the contextlib modules @contextmanager decorator, and create a decorated function named generic that takes in card type, sender’s name, and recipient arguments.\n",
    "\n",
    "\n",
    "<B>Hint</b><br>\n",
    "To import a built-in module, we can use the following syntax:"
   ]
  },
  {
   "cell_type": "code",
   "execution_count": null,
   "metadata": {},
   "outputs": [],
   "source": [
    "from <module> import <specific part of module>"
   ]
  },
  {
   "cell_type": "markdown",
   "metadata": {},
   "source": [
    "In our case, we want to import the @contextmanager decorator so that way we can decorate a function to become a context manager. Here is how we decorate a function:"
   ]
  },
  {
   "cell_type": "code",
   "execution_count": null,
   "metadata": {},
   "outputs": [],
   "source": [
    "@decorator\n",
    "def function_name(): "
   ]
  },
  {
   "cell_type": "markdown",
   "metadata": {},
   "source": [
    "### 2. The generic() function will serve the purpose of opening a specific generic card type (Thank you card or Birthday card) so that it can be used as the base template for a more customized card.\n",
    "\n",
    "Inside the function create the following:\n",
    "\n",
    "A variable to store a call of the open() built-in function that opens up a generic card type based on the card type parameter in read mode. You can assume the store will receive either a birthday card request or a thank you card request.\n",
    "\n",
    "A variable to store a call of the open() built-in function that creates (and opens) a new card named with the following pattern: < sender_name >_generic.txt.\n",
    "\n",
    "Use the sender name parameter from the function definition. Open the file in write mode since we will need to write a new card to the file.\n",
    "\n",
    "\n",
    "<B>Hint</b><br>\n",
    "Use an “f” string method to incorporate the sender name into the file!"
   ]
  },
  {
   "cell_type": "code",
   "execution_count": null,
   "metadata": {},
   "outputs": [],
   "source": [
    "some_variable = 'xyz'\n",
    "open(f\"{some_variable}_file_name.txt\", 'w')"
   ]
  },
  {
   "cell_type": "markdown",
   "metadata": {},
   "source": [
    "Here we would produce a file named 'xyz_file_name.txt'\n",
    "\n",
    "### 3. Now, you need to make sure the context manager correctly creates a customized card from the generic template. Inside the generic() context manager use the try clause to yield a file so that it creates the following template custom card:"
   ]
  },
  {
   "cell_type": "code",
   "execution_count": null,
   "metadata": {},
   "outputs": [],
   "source": [
    "Dear < receiver >\n",
    "< text from the generic template card > \n",
    "Sincerely, < sender >"
   ]
  },
  {
   "cell_type": "markdown",
   "metadata": {},
   "source": [
    "Make sure to use '\\n' to create line breaks!\n",
    "\n",
    "\n",
    "<B>Hint</b><br>\n",
    "Here, you will need to use the new generic card we created in the last step as well as the template card. Remember, you saved both to a variable and can use them in the try clause. There are three steps involved here:\n",
    "\n",
    "A call using the built-in function write() to create \"Dear < receiver >\". We can use the receiver from our generic() functions definition.\n",
    "\n",
    "A call using the built-in function write() to create \"< text from the generic template card >\". Here we will need to capture the text from the generic card using the built-in function read().\n",
    "\n",
    "A call using the built-in function write() to create \"Sincerely, < sender >\". We can use the sender from our generic() function definition.\n",
    "\n",
    "Don’t forget to lastly, yield the file you are working on, otherwise it won’t work with the with statement.\n",
    "\n",
    "### 4. Finally, make sure to close both files after usage!\n",
    "\n",
    "\n",
    "<B>Hint</b><br>\n",
    "Use the finally clause to make sure files are closed after use. Make sure to close both the new file and the template file!\n",
    "\n",
    "### 5. It’s time for a test run! Aisha’s Greetings just got a customer ‘Mwenda’ who requested an order for a generic Thank you card for her friend ‘Amanda’.\n",
    "\n",
    "Use a with statement to generate this order. Have the with statement confirm the card is created by printing 'Card Generated!'.\n",
    "\n",
    "\n",
    "<B>Hint</b><br>\n",
    "Here is how we can call a with statement with a decorator-based context manager:"
   ]
  },
  {
   "cell_type": "code",
   "execution_count": null,
   "metadata": {},
   "outputs": [],
   "source": [
    "with decorator_context_manager(arg1, arg2) as file:\n",
    "  print('Some message')"
   ]
  },
  {
   "cell_type": "markdown",
   "metadata": {},
   "source": [
    "### 6. We want to verify whether or not the correct order was printed in the file. Use a with statement to open and read the file you just created in the last step.\n",
    "\n",
    "\n",
    "<B>Hint</b><br>\n",
    "Your code should look something like this:"
   ]
  },
  {
   "cell_type": "code",
   "execution_count": null,
   "metadata": {},
   "outputs": [],
   "source": [
    "with open(\"name_generic.txt\", \"r\") as first_order:\n",
    " print(first_order.read())"
   ]
  },
  {
   "cell_type": "markdown",
   "metadata": {},
   "source": [
    "Setting Up Personalized Greeting Cards\n",
    "### 7. Aisha’s Greetings also wants to print personalized cards! This means that customers can tell Aisha’s Greetings the words they want in their card and we can print them.\n",
    "\n",
    "For personalized cards, let’s create a class-based context manager. First, create a class called personalized.\n",
    "\n",
    "\n",
    "<B>Hint</b><br>\n",
    "You create a class like this: class < CapWordsClass >:\n",
    "\n",
    "### 8. Next, write a __init__ method that takes the sender’s and receiver’s names and saves them as attributes.\n",
    "\n",
    "Add one more attribute that stores a newly opened (or created) file in write mode with the format < sender_name >_personalized.txt. This is the file we will be working on!\n",
    "\n",
    "\n",
    "<B>Hint</b><br>\n",
    "Remember, to create a class attribute we must preface the name with self.. Here is an example of a __init__ method that creates an attribute from the methods defined parameter:"
   ]
  },
  {
   "cell_type": "code",
   "execution_count": null,
   "metadata": {},
   "outputs": [],
   "source": [
    " def __init__(self, param1):\n",
    "   self.attribute = param1"
   ]
  },
  {
   "cell_type": "markdown",
   "metadata": {},
   "source": [
    "### 9. Now, let’s set up what should happen when any new files are created and the context is started.\n",
    "\n",
    "Make an __enter__ method that writes the receiver’s name to the opened file and returns that file. The format we write to the file should look like this: Dear < receiver>\n",
    "\n",
    "\n",
    "<B>Hint</b><br>\n",
    "The base syntax could look like this:"
   ]
  },
  {
   "cell_type": "code",
   "execution_count": null,
   "metadata": {},
   "outputs": [],
   "source": [
    "def __enter__(self):\n",
    "   # some operation...\n",
    "   return self.file"
   ]
  },
  {
   "cell_type": "markdown",
   "metadata": {},
   "source": [
    "### 10. Lastly, let’s set up the final pieces of the customized card.\n",
    "\n",
    "Create an __exit__ method that writes \"Sincerely\" followed by the sender’s name on the open file and then closes the file!\n",
    "\n",
    "\n",
    "<B>Hint</b><br>\n",
    "Your code should look something like this:"
   ]
  },
  {
   "cell_type": "code",
   "execution_count": null,
   "metadata": {},
   "outputs": [],
   "source": [
    "def __exit__(self, exc_type, exc_value, Traceback):\n",
    "   # some operation...\n",
    "   self.file.close()"
   ]
  },
  {
   "cell_type": "markdown",
   "metadata": {},
   "source": [
    "### 11. Time to give our custom card generator a test run!\n",
    "\n",
    "Aisha’s shop just got a customer 'John' who requested an order for a personalized card for his close friend 'Michael'.\n",
    "\n",
    "John wants the body of the letter to say \"I am so proud of you! Being your friend for all these years has been nothing but a blessing. I don’t say it often but I just wanted to let you know that you inspire me and I love you! All the best. Always.\"\n",
    "\n",
    "Use the context manager with a with statement to generate this order.\n",
    "\n",
    "\n",
    "<B>Hint</b><br>\n",
    "Your code should look something like this:"
   ]
  },
  {
   "cell_type": "code",
   "execution_count": null,
   "metadata": {},
   "outputs": [],
   "source": [
    "with personalized( < arguments > ) as card:\n",
    " card.write( < message > )"
   ]
  },
  {
   "cell_type": "markdown",
   "metadata": {},
   "source": [
    "## Aisha’s Greetings: Picking up speed!\n",
    "### 12. Aisha’s Greetings just got two orders from a customer named 'Josiah'.\n",
    "\n",
    "He wants to get a generic birthday card for a colleague named 'Remy' and a personalized card for his sister 'Esther' that says:\n",
    "\n",
    "\"Happy Birthday!! I love you to the moon and back. Even though you’re a pain sometimes, you’re a pain I can't live without. I am incredibly proud of you and grateful to have you as a sister. Cheers to 25!! You’re getting old!“\n",
    "\n",
    "Create a nested with statement that generates these orders in one call.\n",
    "\n",
    "\n",
    "<B>Hint</b><br>\n",
    "A with statement can be nested in two ways:"
   ]
  },
  {
   "cell_type": "code",
   "execution_count": null,
   "metadata": {},
   "outputs": [],
   "source": [
    "with ContextManagerA() as A, ContextManagerB() as B:\n",
    "  # code here....\n",
    "with ContextManagerA() as A:\n",
    "  with ContextManagerB() as B:\n",
    "    # code here...."
   ]
  },
  {
   "cell_type": "markdown",
   "metadata": {},
   "source": [
    "### 13. Congrats! You were able to help Aisha’s Greetings create a system that generates cards quicker and smoother using the knowledge you gained about context managers!\n",
    "\n",
    "Take some time to check out the great cards you created!"
   ]
  },
  {
   "cell_type": "code",
   "execution_count": null,
   "metadata": {},
   "outputs": [],
   "source": [
    "# Write your code below: \n",
    "from contextlib import contextmanager\n",
    "\n",
    "\n",
    "@contextmanager\n",
    "def generic(card_type, sender, receiver):\n",
    "  card_file = open(card_type, \"r\")\n",
    "  order = open(f\"{sender}_generic.txt\", \"w\")\n",
    "\n",
    "  try:\n",
    "    order.write(f\"Dear {receiver}, \\n\")\n",
    "    order.write(card_file.read())\n",
    "    order.write(f\"\\n \\nSincerely, \\n{sender}\")\n",
    "    yield order\n",
    "\n",
    "  finally: \n",
    "    card_file.close()\n",
    "    order.close()\n",
    "\n",
    "  \n",
    "# Uncomment to run Test\n",
    "with generic(\"thankyou_card.txt\", \"Mwenda\", \"Amanda\") as order1:\n",
    "  print(\"Card Generated! \\n\")\n",
    "\n",
    "with open(\"Mwenda_generic.txt\", \"r\") as first_order:\n",
    "  print(first_order.read())\n",
    "\n",
    "\n",
    "class personalized:\n",
    "  def __init__(self, sender, receiver):\n",
    "    self.file = open(f\"{sender}_personalized.txt\", \"w\")\n",
    "    self.sender = sender\n",
    "    self.receiver = receiver\n",
    "  \n",
    "  def __enter__(self):\n",
    "    self.file.write(f\"Dear {self.receiver}, \\n \\n\")\n",
    "    return self.file\n",
    "\n",
    "  def __exit__(self, exc_type, exc_value, Traceback):\n",
    "    self.file.write(f\"\\n \\n Sincerely, \\n {self.sender}\")\n",
    "    self.file.close()\n",
    "\n",
    "with personalized(\"John\", \"Michael\") as card:\n",
    "    card.write(\"I am so proud of you! Being your friend for all these years has been nothing but a blessing. I don’t say it often but I just wanted to let you know that you inspire me and I love you! All the best. Always.\")\n",
    "\n",
    "with generic(\"happy_bday.txt\", \"Josiah\", \"Remy\") as card:\n",
    "  with personalized(\"Josiah\", \"Esther\") as card2:\n",
    "    card2.write(\"Happy Birthday!! I love you to the moon and back. Even though you’re a pain sometimes, you’re a pain I can't live without. I am incredibly proud of you and grateful to have you as a sister. Cheers to 25!! You’re getting old!\")\n"
   ]
  }
 ],
 "metadata": {
  "interpreter": {
   "hash": "126de395fc5ab05c9b404d5156ac230f2dc2d73638f7037ba66d30fa539ce6ef"
  },
  "kernelspec": {
   "display_name": "Python 3.10.1 64-bit",
   "language": "python",
   "name": "python3"
  },
  "language_info": {
   "codemirror_mode": {
    "name": "ipython",
    "version": 3
   },
   "file_extension": ".py",
   "mimetype": "text/x-python",
   "name": "python",
   "nbconvert_exporter": "python",
   "pygments_lexer": "ipython3",
   "version": "3.10.1"
  },
  "orig_nbformat": 4
 },
 "nbformat": 4,
 "nbformat_minor": 2
}
