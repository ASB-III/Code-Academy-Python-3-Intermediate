{
 "cells": [
  {
   "cell_type": "markdown",
   "metadata": {},
   "source": [
    "# Lambda Functions\n",
    "## Learn how to define a Python function in one line!\n",
    "\n",
    "In Python, a lambda function (also commonly called an anonymous function) is a one-line shorthand for function. Let’s start by examining how lambda functions compare to the normal functions we have already been writing.\n",
    "\n",
    "Take for example, a function called add_two():"
   ]
  },
  {
   "cell_type": "code",
   "execution_count": null,
   "metadata": {},
   "outputs": [],
   "source": [
    "def add_two(my_input):\n",
    "  return my_input + 2"
   ]
  },
  {
   "cell_type": "markdown",
   "metadata": {},
   "source": [
    "The same function could be written as a lambda function:"
   ]
  },
  {
   "cell_type": "code",
   "execution_count": null,
   "metadata": {},
   "outputs": [],
   "source": [
    "add_two = lambda my_input: my_input + 2"
   ]
  },
  {
   "cell_type": "markdown",
   "metadata": {},
   "source": [
    "So this code using the above lambda function:"
   ]
  },
  {
   "cell_type": "code",
   "execution_count": null,
   "metadata": {},
   "outputs": [],
   "source": [
    "print(add_two(3))\n",
    "print(add_two(100))\n",
    "print(add_two(-2))"
   ]
  },
  {
   "cell_type": "markdown",
   "metadata": {},
   "source": [
    "Would output:"
   ]
  },
  {
   "cell_type": "code",
   "execution_count": null,
   "metadata": {},
   "outputs": [],
   "source": [
    "5\n",
    "102\n",
    "0"
   ]
  },
  {
   "cell_type": "markdown",
   "metadata": {},
   "source": [
    "Let’s break this syntax down:\n",
    "\n",
    "1. The function is stored in a variable called add_two.\n",
    "2. The lambda keyword declares that this is a lambda function (similar to how we use def to declare a normal function).\n",
    "3. my_input is a parameter used to hold the value passed to add_two.\n",
    "4. In the lambda function version, we are returning my_input + 2 without the use of a return keyword (the normal Python function explicitly uses the keyword return).\n",
    "Let’s practice identifying a conversion from a normal function to a lambda function!\n",
    "\n",
    "Multiple Choice Question\n",
    "Which of the following is a proper conversion of the function below into a lambda function?"
   ]
  },
  {
   "cell_type": "code",
   "execution_count": null,
   "metadata": {},
   "outputs": [],
   "source": [
    "def add_bang(sentence):\n",
    "  print(sentence + '!')\n"
   ]
  },
  {
   "cell_type": "code",
   "execution_count": null,
   "metadata": {},
   "outputs": [],
   "source": [
    "add_bang = lambda string: print(string + '!')"
   ]
  },
  {
   "cell_type": "markdown",
   "metadata": {},
   "source": [
    "Our lambda functions can be more complex than the above example. For instance, let’s say we want a function that will perform differently based on different inputs.\n",
    "\n",
    "Let’s say that we have a function check_if_A_grade that outputs 'Got an A!' if a grade is at least 90, and otherwise says you 'Did not get an A.'. So, the code:"
   ]
  },
  {
   "cell_type": "code",
   "execution_count": null,
   "metadata": {},
   "outputs": [],
   "source": [
    "print(check_if_A_grade(91))\n",
    "print(check_if_A_grade(70))\n",
    "print(check_if_A_grade(20))"
   ]
  },
  {
   "cell_type": "markdown",
   "metadata": {},
   "source": [
    "Would output:"
   ]
  },
  {
   "cell_type": "code",
   "execution_count": null,
   "metadata": {},
   "outputs": [],
   "source": [
    "'Got an A!'\n",
    "'Did not get an A.'\n",
    "'Did not get an A.'"
   ]
  },
  {
   "cell_type": "markdown",
   "metadata": {},
   "source": [
    "We can do this using a conditional if statement in a lambda function, with syntax that looks like this:"
   ]
  },
  {
   "cell_type": "code",
   "execution_count": null,
   "metadata": {},
   "outputs": [],
   "source": [
    "check_if_A_grade = lambda grade: 'Got an A!' if grade >= 90 else 'Did not get an A.'"
   ]
  },
  {
   "cell_type": "markdown",
   "metadata": {},
   "source": [
    "This is what our line of code does:\n",
    "\n",
    "lambda grade: declares a lambda function with the parameter grade\n",
    "Return 'Got an A!' if this statement is true:"
   ]
  },
  {
   "cell_type": "code",
   "execution_count": null,
   "metadata": {},
   "outputs": [],
   "source": [
    "grade >= 90"
   ]
  },
  {
   "cell_type": "markdown",
   "metadata": {},
   "source": [
    "Otherwise, return 'Did not get an A.'\n",
    "Lambda functions are the preferred way of creating one-line functions. The reduced syntax assists code readability and the functions can be implemented where code reuse is not the primary objective. If we wanted our function complexity to extend beyond one line, we would opt for a regular function since making our function longer would impair readability.\n",
    "\n",
    "Now we can make simple Python functions in one line! Let’s get some practice in!\n",
    "\n",
    "Fill in the Code\n",
    "Fill in the blanks to complete a lambda function named double_or_zero that takes an integer named num. If num is greater than 10, return double the value of num. Otherwise, return 0."
   ]
  },
  {
   "cell_type": "code",
   "execution_count": null,
   "metadata": {},
   "outputs": [],
   "source": [
    "double_or_zero = lambda num: num * 2 if num > 10 else 0"
   ]
  }
 ],
 "metadata": {
  "interpreter": {
   "hash": "79435cfcbd76b1528bba00a84eb046d19295a161f953d7f2d2d8d04ffa2592c8"
  },
  "kernelspec": {
   "display_name": "Python 3.10.0 64-bit (windows store)",
   "language": "python",
   "name": "python3"
  },
  "language_info": {
   "name": "python",
   "version": "3.10.0"
  },
  "orig_nbformat": 4
 },
 "nbformat": 4,
 "nbformat_minor": 2
}
