{
 "cells": [
  {
   "cell_type": "markdown",
   "metadata": {},
   "source": [
    "## Event Coordinator\n",
    "You are starting up your own event coordination business and want to create a Python application using generators to help manage your events.\n",
    "\n",
    "This project will help you practice and further master the learned material from the Generators lesson by utilizing the information learned to manage and coordinate customer events."
   ]
  },
  {
   "cell_type": "markdown",
   "metadata": {},
   "source": [
    "## Generator Functions & Expressions\n",
    "### 1. You are managing your first customer event! You’ve been provided a guestlist of names and their ages that are within the file guest_list.txt.\n",
    "\n",
    "Within the file script.py, there is a defined function called read_guestlist() that will read in the guestlist file line by line. This function will separate the name and age values and store them into variables named name and age respectively.\n",
    "\n",
    "Modify this function to be a generator function that will yield each read line so that each guest name is yielded each time for the generator.\n",
    "\n",
    "Using a for loop, iterate through the generator object that is retrieved by calling the generator function read_guestlist() and print out the first 10 guests on the guestlist.\n",
    "\n",
    "\n",
    "<b>Hint</b><br>\n",
    "The following syntax will turn a normal function into a generator function:"
   ]
  },
  {
   "cell_type": "code",
   "execution_count": null,
   "metadata": {},
   "outputs": [],
   "source": [
    "yield value"
   ]
  },
  {
   "cell_type": "markdown",
   "metadata": {},
   "source": [
    "### 2. We’ve printed out our first 10 guests when our phone rings! It’s our customer who has another guest to add to the guestlist.\n",
    "\n",
    "She wants to add a guest with the information: “Jane,35”. Use one of the three generator methods we have learned to accomplish this.\n",
    "\n",
    "\n",
    "<b>Hint</b><br>\n",
    "The send() method will allow us to send the string “Jane,35” to the generator.\n",
    "\n",
    "### 3. We can now finish yielding the rest of the names on the guestlist file to our generator by adding numerous next() calls on the generator object until a StopIteration exception is reached. This can also be accomplished by using a for loop on the generator object to automatically make the appropriate amount of next() calls.\n",
    "\n",
    "\n",
    "<b>Hint</b><br>\n",
    "The syntax for calling next() on the generator object is below:"
   ]
  },
  {
   "cell_type": "code",
   "execution_count": null,
   "metadata": {},
   "outputs": [],
   "source": [
    "next(generator_object)"
   ]
  },
  {
   "cell_type": "markdown",
   "metadata": {},
   "source": [
    "### 4. Now that we have all our guests, we want to see which guests are aged 21 and over so that we can inform the bartending vendor.\n",
    "\n",
    "Define a generator expression that will use the guests dictionary to retrieve a generator of names of all guests over 21 years of age.\n",
    "\n",
    "We should see our newly added guest, Jane on this list as well!\n",
    "\n",
    "\n",
    "<b>Hint</b><br>\n",
    "The generator expression should contain an if statement to check the age of the guest.\n",
    "\n",
    "Connected Generators & Generator Pipelines\n",
    "### 5. Now it’s time to assign meals to each table and the seats at the tables. Our event will have 3 tables with 5 seats at each.\n",
    "\n",
    "Create 3 separate generator functions, one for each table, that will yield tuples of (“Food Name”, “Table X”, “Seat Y”) for each of the 5 seats at each table.\n",
    "\n",
    "You may use the following foods for the tables: Chicken, Beef, Fish.\n",
    "\n",
    "\n",
    "<b>Hint</b><br>\n",
    "The generator function for each table should use the range() function to yield the food name, table number, seat number tuple.\n",
    "\n",
    "### 6. Finally, we want to assign a table and seat number with meal selection to each guest. Create another generator function that will take in as input our guests dictionary and the connected generator seating/food selection we created in the previous step. This function should yield a tuple of the guest name and the next value from the connected generator.\n",
    "\n",
    "\n",
    "<b>Hint</b><br>\n",
    "The next() function can be called within the yield statement similar to the following:"
   ]
  },
  {
   "cell_type": "code",
   "execution_count": null,
   "metadata": {},
   "outputs": [],
   "source": [
    "yield (name, next(another_generator))"
   ]
  },
  {
   "cell_type": "markdown",
   "metadata": {},
   "source": [
    "### Finishing Up\n",
    "### 7. Congratulations, you were able to successfully plan and coordinate your first event!\n",
    "\n",
    "Through this project, you were able to reinforce what generators are, how they can be created, manipulated, and connected together to perform complex generator operations."
   ]
  },
  {
   "cell_type": "code",
   "execution_count": null,
   "metadata": {},
   "outputs": [],
   "source": [
    "#guests list.txt\n",
    "\n",
    "Tim,22\n",
    "Tonya,45\n",
    "Mary,12\n",
    "Ann,32\n",
    "Beth,20\n",
    "Sam,5\n",
    "Manny,76\n",
    "Kenton,15\n",
    "Kenny,27\n",
    "Dixie,46\n",
    "Mallory,32\n",
    "Julian,4\n",
    "Edward,71\n",
    "Rose,65"
   ]
  },
  {
   "cell_type": "code",
   "execution_count": 1,
   "metadata": {},
   "outputs": [
    {
     "ename": "FileNotFoundError",
     "evalue": "[Errno 2] No such file or directory: 'guest_list.txt'",
     "output_type": "error",
     "traceback": [
      "\u001b[1;31m---------------------------------------------------------------------------\u001b[0m",
      "\u001b[1;31mFileNotFoundError\u001b[0m                         Traceback (most recent call last)",
      "\u001b[1;32m~\\AppData\\Local\\Temp/ipykernel_19284/248692810.py\u001b[0m in \u001b[0;36m<module>\u001b[1;34m\u001b[0m\n\u001b[0;32m     23\u001b[0m \u001b[0mguest_list_generator\u001b[0m \u001b[1;33m=\u001b[0m \u001b[0mread_guestlist\u001b[0m\u001b[1;33m(\u001b[0m\u001b[1;34m'guest_list.txt'\u001b[0m\u001b[1;33m)\u001b[0m\u001b[1;33m\u001b[0m\u001b[1;33m\u001b[0m\u001b[0m\n\u001b[0;32m     24\u001b[0m \u001b[1;32mfor\u001b[0m \u001b[0mi\u001b[0m \u001b[1;32min\u001b[0m \u001b[0mrange\u001b[0m\u001b[1;33m(\u001b[0m\u001b[1;36m1\u001b[0m\u001b[1;33m,\u001b[0m \u001b[1;36m11\u001b[0m\u001b[1;33m)\u001b[0m\u001b[1;33m:\u001b[0m\u001b[1;33m\u001b[0m\u001b[1;33m\u001b[0m\u001b[0m\n\u001b[1;32m---> 25\u001b[1;33m   \u001b[0mprint\u001b[0m\u001b[1;33m(\u001b[0m\u001b[0mnext\u001b[0m\u001b[1;33m(\u001b[0m\u001b[0mguest_list_generator\u001b[0m\u001b[1;33m)\u001b[0m\u001b[1;33m)\u001b[0m\u001b[1;33m\u001b[0m\u001b[1;33m\u001b[0m\u001b[0m\n\u001b[0m\u001b[0;32m     26\u001b[0m \u001b[1;33m\u001b[0m\u001b[0m\n\u001b[0;32m     27\u001b[0m \u001b[0mprint\u001b[0m\u001b[1;33m(\u001b[0m\u001b[0mguest_list_generator\u001b[0m\u001b[1;33m.\u001b[0m\u001b[0msend\u001b[0m\u001b[1;33m(\u001b[0m\u001b[1;34m'Jane,35'\u001b[0m\u001b[1;33m)\u001b[0m\u001b[1;33m)\u001b[0m\u001b[1;33m\u001b[0m\u001b[1;33m\u001b[0m\u001b[0m\n",
      "\u001b[1;32m~\\AppData\\Local\\Temp/ipykernel_19284/248692810.py\u001b[0m in \u001b[0;36mread_guestlist\u001b[1;34m(file_name)\u001b[0m\n\u001b[0;32m      3\u001b[0m \u001b[0mguests\u001b[0m \u001b[1;33m=\u001b[0m \u001b[1;33m{\u001b[0m\u001b[1;33m}\u001b[0m\u001b[1;33m\u001b[0m\u001b[1;33m\u001b[0m\u001b[0m\n\u001b[0;32m      4\u001b[0m \u001b[1;32mdef\u001b[0m \u001b[0mread_guestlist\u001b[0m\u001b[1;33m(\u001b[0m\u001b[0mfile_name\u001b[0m\u001b[1;33m)\u001b[0m\u001b[1;33m:\u001b[0m\u001b[1;33m\u001b[0m\u001b[1;33m\u001b[0m\u001b[0m\n\u001b[1;32m----> 5\u001b[1;33m   \u001b[0mtext_file\u001b[0m \u001b[1;33m=\u001b[0m \u001b[0mopen\u001b[0m\u001b[1;33m(\u001b[0m\u001b[0mfile_name\u001b[0m\u001b[1;33m,\u001b[0m\u001b[1;34m'r'\u001b[0m\u001b[1;33m)\u001b[0m\u001b[1;33m\u001b[0m\u001b[1;33m\u001b[0m\u001b[0m\n\u001b[0m\u001b[0;32m      6\u001b[0m   \u001b[0mval\u001b[0m \u001b[1;33m=\u001b[0m \u001b[1;32mNone\u001b[0m\u001b[1;33m\u001b[0m\u001b[1;33m\u001b[0m\u001b[0m\n\u001b[0;32m      7\u001b[0m   \u001b[1;32mwhile\u001b[0m \u001b[1;32mTrue\u001b[0m\u001b[1;33m:\u001b[0m\u001b[1;33m\u001b[0m\u001b[1;33m\u001b[0m\u001b[0m\n",
      "\u001b[1;31mFileNotFoundError\u001b[0m: [Errno 2] No such file or directory: 'guest_list.txt'"
     ]
    }
   ],
   "source": [
    "#script.py\n",
    "\n",
    "guests = {}\n",
    "def read_guestlist(file_name):\n",
    "  text_file = open(file_name,'r')\n",
    "  val = None\n",
    "  while True:\n",
    "    if val is not None:\n",
    "      line_data = val.strip().split(\",\")\n",
    "    else:\n",
    "      line_data = text_file.readline().strip().split(\",\")\n",
    "    if len(line_data) < 2:\n",
    "    # If no more lines, close file\n",
    "      text_file.close()\n",
    "      break\n",
    "    name = line_data[0]\n",
    "    age = int(line_data[1])\n",
    "    guests[name] = age\n",
    "    #Task 1\n",
    "    val = yield name \n",
    "\n",
    "#Task 1\n",
    "guest_list_generator = read_guestlist('guest_list.txt')\n",
    "for i in range(1, 11):\n",
    "  print(next(guest_list_generator))\n",
    "\n",
    "print(guest_list_generator.send('Jane,35'))\n",
    "for guest in guest_list_generator:\n",
    "  print(guest)\n",
    "print(\"\\n\")\n",
    "\n",
    "def guest_age(guest_dict):\n",
    "  for key,val in guest_dict.items():\n",
    "    if val >= 21:\n",
    "      yield key\n",
    "guest_age_iter = guest_age(guests)\n",
    "\n",
    "for age in guest_age_iter:\n",
    "  print(age)\n",
    "\n",
    "def table_one():\n",
    "  for i in range(1,6):\n",
    "    yield (\"Chicken\", \"Table 1\", \"Seat {}\".format(i))\n",
    "\n",
    "def table_two():\n",
    "  for i in range(1,6):\n",
    "    yield (\"Beef\", \"Table 2\", \"Seat {}\".format(i))\n",
    "\n",
    "def table_three():\n",
    "  for i in range(1,6):\n",
    "    yield (\"Fish\", \"Table 3\", \"Seat {}\".format(i))\n",
    "\n",
    "def combined_tables():\n",
    "  yield from table_one()\n",
    "  yield from table_two()\n",
    "  yield from table_three()\n",
    "\n",
    "table_assignment = combined_tables()\n",
    "\n",
    "def assign_tables(list_of_guests):\n",
    "  for name in list_of_guests:\n",
    "    yield(name, next(table_assignment))\n",
    "\n",
    "guest_assignment = assign_tables(guests)\n",
    "for person in guest_assignment:\n",
    "  print(person)\n",
    "  \n",
    "guest_assignment = assign_tables(guests)\n"
   ]
  }
 ],
 "metadata": {
  "interpreter": {
   "hash": "126de395fc5ab05c9b404d5156ac230f2dc2d73638f7037ba66d30fa539ce6ef"
  },
  "kernelspec": {
   "display_name": "Python 3.10.1 64-bit",
   "language": "python",
   "name": "python3"
  },
  "language_info": {
   "codemirror_mode": {
    "name": "ipython",
    "version": 3
   },
   "file_extension": ".py",
   "mimetype": "text/x-python",
   "name": "python",
   "nbconvert_exporter": "python",
   "pygments_lexer": "ipython3",
   "version": "3.10.1"
  },
  "orig_nbformat": 4
 },
 "nbformat": 4,
 "nbformat_minor": 2
}
