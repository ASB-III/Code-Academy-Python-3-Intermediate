{
 "cells": [
  {
   "cell_type": "markdown",
   "metadata": {},
   "source": [
    "# The @property Decorator\n",
    "Learn about the most pythonic way of using getters, setters, and deleters!\n",
    "\n",
    "## Introduction\n",
    "In this article, we’ll explore the @property decorator - a more pythonic way to use getters and setters in our object-oriented programs! Before we dive in, let’s briefly review the concept of getters and setters.\n",
    "\n",
    "Let’s recall that getters and setters are useful tools for achieving encapsulation (a way to prevent data from direct modification). We can define a private attribute and then use getters and setters to expose a public means of reading and modifying a class attribute value. Further, getters and setter methods allow us to create complex behavior such as limiting access under certain conditions or imposing restrictions on allowable ranges of values for an attribute.\n",
    "\n",
    "Let’s start by looking at an example class called Box with one attribute called weight. In this case, weight will be a private attribute with a getter and a setter (getWeight() and setWeight())."
   ]
  },
  {
   "cell_type": "code",
   "execution_count": null,
   "metadata": {},
   "outputs": [],
   "source": [
    "class Box:\n",
    "  def __init__(self, weight):\n",
    "    self.__weight = weight\n",
    " \n",
    "  def getWeight(self):\n",
    "    return self.__weight\n",
    " \n",
    "  def setWeight(self, weight):\n",
    "    if weight >= 0:\n",
    "      self.__weight = weight"
   ]
  },
  {
   "cell_type": "markdown",
   "metadata": {},
   "source": [
    "Notice two things:\n",
    "\n",
    "We want to follow best practices by denoting weight as a private attribute using __ (dunder) notation. This, however, does not make an attribute private, and we can still manipulate it directly.\n",
    "\n",
    "We are also posing some restrictions on our setter so that the weight of an instance of the Box class can only be set to values greater than zero. We can see if this we try to manipulate an instance:"
   ]
  },
  {
   "cell_type": "code",
   "execution_count": null,
   "metadata": {},
   "outputs": [],
   "source": [
    "box = Box(10)\n",
    " \n",
    "box.setWeight(-5) \n",
    "print(box.getWeight())\n",
    " \n",
    "box.setWeight(5)\n",
    "print(box.getWeight())"
   ]
  },
  {
   "cell_type": "markdown",
   "metadata": {},
   "source": [
    "That our box weight was unchanged on the first call:"
   ]
  },
  {
   "cell_type": "code",
   "execution_count": null,
   "metadata": {},
   "outputs": [],
   "source": [
    "10 \n",
    "5"
   ]
  },
  {
   "cell_type": "markdown",
   "metadata": {},
   "source": [
    "Notice that we need to call the methods instead of directly interacting with the weight attribute. What if we could have the best of both worlds? That is, a way to directly interact with the weight attribute but still benefit from the complex behavior of methods such as the weight restriction. This is where the built-in function property() comes in.\n",
    "\n",
    "## The built-in property() function\n",
    "The Python built-in property() function accepts four optional arguments: fget, fset, fdel, and doc. The first three represent getter, setter, and deleter methods, respectively, and the last one is a docstring for the attribute.\n",
    "\n",
    "Let’s take a look at the advantages by refactoring our Box class:"
   ]
  },
  {
   "cell_type": "code",
   "execution_count": null,
   "metadata": {},
   "outputs": [],
   "source": [
    "class Box:\n",
    "  def __init__(self, weight):\n",
    "    self.__weight = weight\n",
    " \n",
    "  def getWeight(self):\n",
    "    return self.__weight\n",
    " \n",
    "  def setWeight(self, weight):\n",
    "    if weight >= 0:\n",
    "      self.__weight = weight\n",
    " \n",
    "  def delWeight(self):\n",
    "    del self.__weight\n",
    " \n",
    "  weight = property(getWeight, setWeight, delWeight, \"Docstring for the 'weight' property\")"
   ]
  },
  {
   "cell_type": "markdown",
   "metadata": {},
   "source": [
    "Notice we have added one additional method to our class called delWeight() to serve as a deleter for the property. While it is not strictly required, we will add it to show the full potential of the property() function. We then call the property() function and pass the getter, setter, and deleter in as arguments. This will immediately allow us to use the following syntax for our class:"
   ]
  },
  {
   "cell_type": "code",
   "execution_count": null,
   "metadata": {},
   "outputs": [],
   "source": [
    "box = Box(10)\n",
    " \n",
    "print(box.weight) #this calls .getWeight()\n",
    " \n",
    "box.weight = 5 #this called .setWeight()\n",
    " \n",
    "del box.weight #this calls .delWeight()\n",
    " \n",
    "box.weight = -5 #box.__weight is unchanged "
   ]
  },
  {
   "cell_type": "markdown",
   "metadata": {},
   "source": [
    "With this change, our program gains some immediate benefits:\n",
    "\n",
    "\n",
    "\n",
    "- We can now use the weight attribute as if it was public. We no longer have to call the setters, getters, and deleter methods directly and thus giving our program a simpler syntax.\n",
    "- Even though we no longer call the methods directly, we still can maintain constraints such as the weight limit in setWeight(). It’s the best of both worlds!\n",
    "- If we had a huge codebase that used our methods multiple times in multiple places, a single change to the method name would seriously mess up our program since we would have to change it everywhere! We no longer have this issue using the property() method since we never call it directly.\n",
    "\n",
    "\n",
    "While this is a big advantage for our programs to be more “pythonic”, we can go even further by using the decorator pattern to replace the need to call the property() function altogether.\n",
    "\n",
    "## @property Decorator\n",
    "The most pythonic way to define getters, setters, and deleters is by using the @property decorator. This decorator is syntactic sugar for using the property() function and helps our code look much cleaner. Let’s take a look:"
   ]
  },
  {
   "cell_type": "code",
   "execution_count": null,
   "metadata": {},
   "outputs": [],
   "source": [
    "class Box:\n",
    " def __init__(self, weight):\n",
    "   self.__weight = weight\n",
    " \n",
    " @property\n",
    " def weight(self):\n",
    "   \"\"\"Docstring for the 'weight' property\"\"\"\n",
    "   return self.__weight\n",
    " \n",
    " \n",
    " @weight.setter\n",
    " def weight(self, weight):\n",
    "   if weight >= 0:\n",
    "     self.__weight = weight\n",
    " \n",
    " @weight.deleter\n",
    " def weight(self):\n",
    "   del self.__weight"
   ]
  },
  {
   "cell_type": "markdown",
   "metadata": {},
   "source": [
    "Let’s break this down:\n",
    "\n",
    "First, we have renamed all of our methods to simply be weight().\n",
    "Then we denoted our getter with a @property. This marks the property to be used as a prefix for decorating the setter and deleter methods.\n",
    "Lastly, we use @weight.setter and @weight.deleter to define our setter and deleter methods, respectively.\n",
    "This is the equivalent of doing:"
   ]
  },
  {
   "cell_type": "code",
   "execution_count": null,
   "metadata": {},
   "outputs": [],
   "source": [
    "weight = property(getWeight, setWeight, delWeight,  \"Docstring for the 'weight' property\")"
   ]
  },
  {
   "cell_type": "markdown",
   "metadata": {},
   "source": [
    "And thus giving us the same syntactical advantage as before:"
   ]
  },
  {
   "cell_type": "code",
   "execution_count": null,
   "metadata": {},
   "outputs": [],
   "source": [
    "box = Box(10)\n",
    " \n",
    "box.weight = 5\n",
    " \n",
    "del box.weight"
   ]
  },
  {
   "cell_type": "markdown",
   "metadata": {},
   "source": [
    "## Wrap up\n",
    "To summarize, we learned:\n",
    "\n",
    "- The limitations of using regular setter and getter methods.\n",
    "- How to use the property() function to create cleaner getters, setters, and deleters.\n",
    "- The @property decorator is the most “pythonic” way to use the property() function.\n",
    "When using the decorator, remember three rules:\n",
    "\n",
    "- All three methods must use the same member name (ex. weight).\n",
    "- The first method must be the getter and is identified using @property.\n",
    "- The decorators for the setter and deleter are defined by the name of the method @property is used with.\n",
    "Keep the @property decorator in mind when approaching any object-oriented program! It will save time and keep code cleaner and more maintainable."
   ]
  }
 ],
 "metadata": {
  "interpreter": {
   "hash": "126de395fc5ab05c9b404d5156ac230f2dc2d73638f7037ba66d30fa539ce6ef"
  },
  "kernelspec": {
   "display_name": "Python 3.10.1 64-bit",
   "language": "python",
   "name": "python3"
  },
  "language_info": {
   "codemirror_mode": {
    "name": "ipython",
    "version": 3
   },
   "file_extension": ".py",
   "mimetype": "text/x-python",
   "name": "python",
   "nbconvert_exporter": "python",
   "pygments_lexer": "ipython3",
   "version": "3.10.1"
  },
  "orig_nbformat": 4
 },
 "nbformat": 4,
 "nbformat_minor": 2
}
